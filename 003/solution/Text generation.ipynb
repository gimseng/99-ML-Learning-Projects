{
  "nbformat": 4,
  "nbformat_minor": 0,
  "metadata": {
    "colab": {
      "name": "NLP/AM.ipynb",
      "provenance": []
    },
    "kernelspec": {
      "name": "python3",
      "display_name": "Python 3"
    }
  },
  "cells": [
    {
      "cell_type": "code",
      "metadata": {
        "id": "vCeuItMueCwD",
        "colab_type": "code",
        "colab": {}
      },
      "source": [
        "from tensorflow.keras.preprocessing.sequence import pad_sequences\n",
        "from tensorflow.keras.layers import Embedding, LSTM, Dense, Dropout, Bidirectional\n",
        "from tensorflow.keras.preprocessing.text import Tokenizer\n",
        "from tensorflow.keras.models import Sequential\n",
        "from tensorflow.keras.optimizers import Adam\n",
        "from tensorflow.keras import regularizers\n",
        "import tensorflow.keras.utils as ku \n",
        "import numpy as np "
      ],
      "execution_count": null,
      "outputs": []
    },
    {
      "cell_type": "code",
      "metadata": {
        "id": "qmt0becXfOaN",
        "colab_type": "code",
        "colab": {}
      },
      "source": [
        "tokenizer = Tokenizer()\n",
        "\n",
        "data = open('AM.txt').read()\n",
        "\n",
        "corpus = data.lower().split(\"\\n\")\n",
        "\n",
        "\n",
        "tokenizer.fit_on_texts(corpus)\n",
        "total_words = len(tokenizer.word_index) + 1\n",
        "\n",
        "# create input sequences using list of tokens\n",
        "input_sequences = []\n",
        "for line in corpus:\n",
        "\ttoken_list = tokenizer.texts_to_sequences([line])[0]\n",
        "\tfor i in range(1, len(token_list)):\n",
        "\t\tn_gram_sequence = token_list[:i+1]\n",
        "\t\tinput_sequences.append(n_gram_sequence)\n",
        "\n",
        "\n",
        "# pad sequences \n",
        "max_sequence_len = max([len(x) for x in input_sequences])\n",
        "input_sequences = np.array(pad_sequences(input_sequences, maxlen=max_sequence_len, padding='pre'))\n",
        "\n",
        "# create predictors and label\n",
        "predictors, label = input_sequences[:,:-1],input_sequences[:,-1]\n",
        "\n",
        "label = ku.to_categorical(label, num_classes=total_words)"
      ],
      "execution_count": null,
      "outputs": []
    },
    {
      "cell_type": "code",
      "metadata": {
        "id": "J_bT2rDsmoPj",
        "colab_type": "code",
        "colab": {
          "base_uri": "https://localhost:8080/",
          "height": 374
        },
        "outputId": "2897de10-dbf6-4317-a573-4182d13d3c34"
      },
      "source": [
        "model = Sequential()\n",
        "model.add(Embedding(total_words, 100, input_length=max_sequence_len-1))\n",
        "model.add(Bidirectional(LSTM(150, return_sequences = True)))\n",
        "model.add(Dropout(0.2))\n",
        "model.add(LSTM(100))\n",
        "model.add(Dense(total_words/2, activation='relu', kernel_regularizer=regularizers.l2(0.01)))\n",
        "model.add(Dense(total_words, activation='softmax'))\n",
        "model.compile(loss='categorical_crossentropy', optimizer='adam', metrics=['accuracy'])\n",
        "print(model.summary())\n"
      ],
      "execution_count": null,
      "outputs": [
        {
          "output_type": "stream",
          "text": [
            "Model: \"sequential\"\n",
            "_________________________________________________________________\n",
            "Layer (type)                 Output Shape              Param #   \n",
            "=================================================================\n",
            "embedding (Embedding)        (None, 16, 100)           136400    \n",
            "_________________________________________________________________\n",
            "bidirectional (Bidirectional (None, 16, 300)           301200    \n",
            "_________________________________________________________________\n",
            "dropout (Dropout)            (None, 16, 300)           0         \n",
            "_________________________________________________________________\n",
            "lstm_1 (LSTM)                (None, 100)               160400    \n",
            "_________________________________________________________________\n",
            "dense (Dense)                (None, 682)               68882     \n",
            "_________________________________________________________________\n",
            "dense_1 (Dense)              (None, 1364)              931612    \n",
            "=================================================================\n",
            "Total params: 1,598,494\n",
            "Trainable params: 1,598,494\n",
            "Non-trainable params: 0\n",
            "_________________________________________________________________\n",
            "None\n"
          ],
          "name": "stdout"
        }
      ]
    },
    {
      "cell_type": "code",
      "metadata": {
        "id": "CzQjTiHEmsIH",
        "colab_type": "code",
        "colab": {
          "base_uri": "https://localhost:8080/",
          "height": 1000
        },
        "outputId": "38ee0ba9-ea57-45c3-f9bc-ad55f623eefc"
      },
      "source": [
        " history = model.fit(predictors, label, epochs=100, verbose=1)"
      ],
      "execution_count": null,
      "outputs": [
        {
          "output_type": "stream",
          "text": [
            "Epoch 1/100\n",
            "192/192 [==============================] - 17s 86ms/step - loss: 5.1828 - accuracy: 0.0774\n",
            "Epoch 2/100\n",
            "192/192 [==============================] - 16s 86ms/step - loss: 5.0570 - accuracy: 0.0822\n",
            "Epoch 3/100\n",
            "192/192 [==============================] - 17s 86ms/step - loss: 4.9510 - accuracy: 0.0913\n",
            "Epoch 4/100\n",
            "192/192 [==============================] - 17s 87ms/step - loss: 4.8663 - accuracy: 0.0937\n",
            "Epoch 5/100\n",
            "192/192 [==============================] - 16s 86ms/step - loss: 4.7793 - accuracy: 0.0980\n",
            "Epoch 6/100\n",
            "192/192 [==============================] - 16s 86ms/step - loss: 4.6987 - accuracy: 0.1009\n",
            "Epoch 7/100\n",
            "192/192 [==============================] - 17s 87ms/step - loss: 4.6328 - accuracy: 0.1068\n",
            "Epoch 8/100\n",
            "192/192 [==============================] - 16s 86ms/step - loss: 4.5563 - accuracy: 0.1100\n",
            "Epoch 9/100\n",
            "192/192 [==============================] - 17s 86ms/step - loss: 4.4846 - accuracy: 0.1175\n",
            "Epoch 10/100\n",
            "192/192 [==============================] - 16s 86ms/step - loss: 4.4149 - accuracy: 0.1237\n",
            "Epoch 11/100\n",
            "192/192 [==============================] - 17s 86ms/step - loss: 4.3428 - accuracy: 0.1276\n",
            "Epoch 12/100\n",
            "192/192 [==============================] - 17s 86ms/step - loss: 4.2673 - accuracy: 0.1373\n",
            "Epoch 13/100\n",
            "192/192 [==============================] - 16s 86ms/step - loss: 4.2045 - accuracy: 0.1396\n",
            "Epoch 14/100\n",
            "192/192 [==============================] - 17s 86ms/step - loss: 4.1234 - accuracy: 0.1555\n",
            "Epoch 15/100\n",
            "192/192 [==============================] - 17s 86ms/step - loss: 4.0475 - accuracy: 0.1599\n",
            "Epoch 16/100\n",
            "192/192 [==============================] - 16s 86ms/step - loss: 3.9793 - accuracy: 0.1678\n",
            "Epoch 17/100\n",
            "192/192 [==============================] - 17s 86ms/step - loss: 3.9229 - accuracy: 0.1775\n",
            "Epoch 18/100\n",
            "192/192 [==============================] - 16s 86ms/step - loss: 3.8363 - accuracy: 0.1919\n",
            "Epoch 19/100\n",
            "192/192 [==============================] - 17s 86ms/step - loss: 3.7698 - accuracy: 0.2075\n",
            "Epoch 20/100\n",
            "192/192 [==============================] - 17s 86ms/step - loss: 3.6995 - accuracy: 0.2147\n",
            "Epoch 21/100\n",
            "192/192 [==============================] - 16s 86ms/step - loss: 3.6667 - accuracy: 0.2222\n",
            "Epoch 22/100\n",
            "192/192 [==============================] - 16s 86ms/step - loss: 3.5764 - accuracy: 0.2400\n",
            "Epoch 23/100\n",
            "192/192 [==============================] - 17s 87ms/step - loss: 3.4994 - accuracy: 0.2543\n",
            "Epoch 24/100\n",
            "192/192 [==============================] - 17s 89ms/step - loss: 3.4221 - accuracy: 0.2682\n",
            "Epoch 25/100\n",
            "192/192 [==============================] - 17s 89ms/step - loss: 3.3579 - accuracy: 0.2828\n",
            "Epoch 26/100\n",
            "192/192 [==============================] - 17s 90ms/step - loss: 3.2877 - accuracy: 0.2926\n",
            "Epoch 27/100\n",
            "192/192 [==============================] - 17s 89ms/step - loss: 3.2190 - accuracy: 0.3122\n",
            "Epoch 28/100\n",
            "192/192 [==============================] - 17s 90ms/step - loss: 3.1549 - accuracy: 0.3316\n",
            "Epoch 29/100\n",
            "192/192 [==============================] - 17s 91ms/step - loss: 3.0945 - accuracy: 0.3459\n",
            "Epoch 30/100\n",
            "192/192 [==============================] - 18s 91ms/step - loss: 3.0194 - accuracy: 0.3604\n",
            "Epoch 31/100\n",
            "192/192 [==============================] - 18s 91ms/step - loss: 2.9583 - accuracy: 0.3714\n",
            "Epoch 32/100\n",
            "192/192 [==============================] - 18s 92ms/step - loss: 2.9045 - accuracy: 0.3854\n",
            "Epoch 33/100\n",
            "192/192 [==============================] - 17s 91ms/step - loss: 2.8367 - accuracy: 0.3988\n",
            "Epoch 34/100\n",
            "192/192 [==============================] - 17s 90ms/step - loss: 2.7816 - accuracy: 0.4108\n",
            "Epoch 35/100\n",
            "192/192 [==============================] - 17s 91ms/step - loss: 2.7388 - accuracy: 0.4206\n",
            "Epoch 36/100\n",
            "192/192 [==============================] - 17s 91ms/step - loss: 2.6883 - accuracy: 0.4381\n",
            "Epoch 37/100\n",
            "192/192 [==============================] - 17s 90ms/step - loss: 2.6265 - accuracy: 0.4441\n",
            "Epoch 38/100\n",
            "192/192 [==============================] - 17s 90ms/step - loss: 2.5706 - accuracy: 0.4636\n",
            "Epoch 39/100\n",
            "192/192 [==============================] - 17s 89ms/step - loss: 2.5250 - accuracy: 0.4790\n",
            "Epoch 40/100\n",
            "192/192 [==============================] - 17s 90ms/step - loss: 2.4793 - accuracy: 0.4865\n",
            "Epoch 41/100\n",
            "192/192 [==============================] - 17s 89ms/step - loss: 2.4252 - accuracy: 0.5018\n",
            "Epoch 42/100\n",
            "192/192 [==============================] - 17s 90ms/step - loss: 2.3796 - accuracy: 0.5101\n",
            "Epoch 43/100\n",
            "192/192 [==============================] - 17s 90ms/step - loss: 2.3311 - accuracy: 0.5204\n",
            "Epoch 44/100\n",
            "192/192 [==============================] - 17s 89ms/step - loss: 2.2916 - accuracy: 0.5316\n",
            "Epoch 45/100\n",
            "192/192 [==============================] - 17s 90ms/step - loss: 2.2396 - accuracy: 0.5419\n",
            "Epoch 46/100\n",
            "192/192 [==============================] - 17s 90ms/step - loss: 2.1984 - accuracy: 0.5553\n",
            "Epoch 47/100\n",
            "192/192 [==============================] - 17s 89ms/step - loss: 2.1550 - accuracy: 0.5701\n",
            "Epoch 48/100\n",
            "192/192 [==============================] - 17s 89ms/step - loss: 2.1075 - accuracy: 0.5815\n",
            "Epoch 49/100\n",
            "192/192 [==============================] - 17s 90ms/step - loss: 2.0673 - accuracy: 0.5890\n",
            "Epoch 50/100\n",
            "192/192 [==============================] - 17s 90ms/step - loss: 2.0442 - accuracy: 0.5915\n",
            "Epoch 51/100\n",
            "192/192 [==============================] - 17s 89ms/step - loss: 2.0094 - accuracy: 0.5998\n",
            "Epoch 52/100\n",
            "192/192 [==============================] - 17s 90ms/step - loss: 1.9653 - accuracy: 0.6115\n",
            "Epoch 53/100\n",
            "192/192 [==============================] - 17s 90ms/step - loss: 1.9246 - accuracy: 0.6281\n",
            "Epoch 54/100\n",
            "192/192 [==============================] - 17s 90ms/step - loss: 1.8867 - accuracy: 0.6325\n",
            "Epoch 55/100\n",
            "192/192 [==============================] - 17s 90ms/step - loss: 1.8422 - accuracy: 0.6477\n",
            "Epoch 56/100\n",
            "192/192 [==============================] - 17s 91ms/step - loss: 1.8286 - accuracy: 0.6485\n",
            "Epoch 57/100\n",
            "192/192 [==============================] - 17s 90ms/step - loss: 1.7826 - accuracy: 0.6567\n",
            "Epoch 58/100\n",
            "192/192 [==============================] - 17s 90ms/step - loss: 1.7652 - accuracy: 0.6648\n",
            "Epoch 59/100\n",
            "192/192 [==============================] - 17s 90ms/step - loss: 1.7341 - accuracy: 0.6712\n",
            "Epoch 60/100\n",
            "192/192 [==============================] - 17s 90ms/step - loss: 1.7101 - accuracy: 0.6725\n",
            "Epoch 61/100\n",
            "192/192 [==============================] - 17s 90ms/step - loss: 1.6627 - accuracy: 0.6886\n",
            "Epoch 62/100\n",
            "192/192 [==============================] - 17s 90ms/step - loss: 1.6396 - accuracy: 0.6971\n",
            "Epoch 63/100\n",
            "192/192 [==============================] - 17s 89ms/step - loss: 1.6186 - accuracy: 0.6992\n",
            "Epoch 64/100\n",
            "192/192 [==============================] - 17s 90ms/step - loss: 1.5928 - accuracy: 0.7085\n",
            "Epoch 65/100\n",
            "192/192 [==============================] - 17s 89ms/step - loss: 1.5579 - accuracy: 0.7121\n",
            "Epoch 66/100\n",
            "192/192 [==============================] - 17s 90ms/step - loss: 1.5368 - accuracy: 0.7191\n",
            "Epoch 67/100\n",
            "192/192 [==============================] - 17s 90ms/step - loss: 1.5045 - accuracy: 0.7263\n",
            "Epoch 68/100\n",
            "192/192 [==============================] - 17s 90ms/step - loss: 1.4956 - accuracy: 0.7300\n",
            "Epoch 69/100\n",
            "192/192 [==============================] - 17s 90ms/step - loss: 1.4762 - accuracy: 0.7357\n",
            "Epoch 70/100\n",
            "192/192 [==============================] - 17s 90ms/step - loss: 1.4507 - accuracy: 0.7375\n",
            "Epoch 71/100\n",
            "192/192 [==============================] - 17s 89ms/step - loss: 1.4269 - accuracy: 0.7427\n",
            "Epoch 72/100\n",
            "192/192 [==============================] - 17s 90ms/step - loss: 1.3969 - accuracy: 0.7529\n",
            "Epoch 73/100\n",
            "192/192 [==============================] - 17s 91ms/step - loss: 1.3759 - accuracy: 0.7556\n",
            "Epoch 74/100\n",
            "192/192 [==============================] - 17s 90ms/step - loss: 1.3573 - accuracy: 0.7592\n",
            "Epoch 75/100\n",
            "192/192 [==============================] - 17s 90ms/step - loss: 1.3484 - accuracy: 0.7607\n",
            "Epoch 76/100\n",
            "192/192 [==============================] - 17s 90ms/step - loss: 1.3463 - accuracy: 0.7546\n",
            "Epoch 77/100\n",
            "192/192 [==============================] - 17s 91ms/step - loss: 1.3184 - accuracy: 0.7709\n",
            "Epoch 78/100\n",
            "192/192 [==============================] - 17s 91ms/step - loss: 1.2901 - accuracy: 0.7732\n",
            "Epoch 79/100\n",
            "192/192 [==============================] - 18s 91ms/step - loss: 1.2754 - accuracy: 0.7757\n",
            "Epoch 80/100\n",
            "192/192 [==============================] - 18s 91ms/step - loss: 1.2615 - accuracy: 0.7776\n",
            "Epoch 81/100\n",
            "192/192 [==============================] - 17s 91ms/step - loss: 1.2481 - accuracy: 0.7804\n",
            "Epoch 82/100\n",
            "192/192 [==============================] - 17s 90ms/step - loss: 1.2264 - accuracy: 0.7830\n",
            "Epoch 83/100\n",
            "192/192 [==============================] - 17s 91ms/step - loss: 1.2147 - accuracy: 0.7874\n",
            "Epoch 84/100\n",
            "192/192 [==============================] - 17s 91ms/step - loss: 1.1994 - accuracy: 0.7894\n",
            "Epoch 85/100\n",
            "192/192 [==============================] - 17s 90ms/step - loss: 1.1802 - accuracy: 0.7952\n",
            "Epoch 86/100\n",
            "192/192 [==============================] - 17s 90ms/step - loss: 1.1677 - accuracy: 0.7988\n",
            "Epoch 87/100\n",
            "192/192 [==============================] - 17s 90ms/step - loss: 1.1553 - accuracy: 0.7978\n",
            "Epoch 88/100\n",
            "192/192 [==============================] - 17s 90ms/step - loss: 1.1423 - accuracy: 0.7988\n",
            "Epoch 89/100\n",
            "192/192 [==============================] - 17s 90ms/step - loss: 1.1337 - accuracy: 0.7980\n",
            "Epoch 90/100\n",
            "192/192 [==============================] - 17s 90ms/step - loss: 1.1251 - accuracy: 0.8044\n",
            "Epoch 91/100\n",
            "192/192 [==============================] - 17s 90ms/step - loss: 1.1028 - accuracy: 0.8097\n",
            "Epoch 92/100\n",
            "192/192 [==============================] - 17s 90ms/step - loss: 1.0899 - accuracy: 0.8070\n",
            "Epoch 93/100\n",
            "192/192 [==============================] - 17s 90ms/step - loss: 1.0757 - accuracy: 0.8140\n",
            "Epoch 94/100\n",
            "192/192 [==============================] - 17s 91ms/step - loss: 1.0714 - accuracy: 0.8084\n",
            "Epoch 95/100\n",
            "192/192 [==============================] - 17s 90ms/step - loss: 1.0588 - accuracy: 0.8177\n",
            "Epoch 96/100\n",
            "192/192 [==============================] - 17s 90ms/step - loss: 1.0554 - accuracy: 0.8164\n",
            "Epoch 97/100\n",
            "192/192 [==============================] - 17s 91ms/step - loss: 1.0388 - accuracy: 0.8186\n",
            "Epoch 98/100\n",
            "192/192 [==============================] - 17s 90ms/step - loss: 1.0370 - accuracy: 0.8150\n",
            "Epoch 99/100\n",
            "192/192 [==============================] - 17s 89ms/step - loss: 1.0231 - accuracy: 0.8210\n",
            "Epoch 100/100\n",
            "192/192 [==============================] - 17s 86ms/step - loss: 1.0051 - accuracy: 0.8230\n"
          ],
          "name": "stdout"
        }
      ]
    },
    {
      "cell_type": "code",
      "metadata": {
        "id": "MTcSinokmzih",
        "colab_type": "code",
        "colab": {
          "base_uri": "https://localhost:8080/",
          "height": 545
        },
        "outputId": "37eb2319-b4a8-4284-f80e-26ebe13cfda2"
      },
      "source": [
        "import matplotlib.pyplot as plt\n",
        "acc = history.history['accuracy']\n",
        "loss = history.history['loss']\n",
        "\n",
        "epochs = range(len(acc))\n",
        "\n",
        "plt.plot(epochs, acc, 'b', label='Training accuracy')\n",
        "plt.title('Training accuracy')\n",
        "\n",
        "plt.figure()\n",
        "\n",
        "plt.plot(epochs, loss, 'b', label='Training Loss')\n",
        "plt.title('Training loss')\n",
        "plt.legend()\n",
        "\n",
        "plt.show()"
      ],
      "execution_count": 13,
      "outputs": [
        {
          "output_type": "display_data",
          "data": {
            "image/png": "[encoded data removed]",
            "text/plain": [
              "<Figure size 432x288 with 1 Axes>"
            ]
          },
          "metadata": {
            "tags": [],
            "needs_background": "light"
          }
        },
        {
          "output_type": "display_data",
          "data": {
            "image/png": "[encoded data removed]",
            "text/plain": [
              "<Figure size 432x288 with 1 Axes>"
            ]
          },
          "metadata": {
            "tags": [],
            "needs_background": "light"
          }
        }
      ]
    },
    {
      "cell_type": "code",
      "metadata": {
        "id": "sbEwEyOom0Ku",
        "colab_type": "code",
        "colab": {
          "base_uri": "https://localhost:8080/",
          "height": 54
        },
        "outputId": "f10c0603-20fd-48db-ce61-4fa786f84fdf"
      },
      "source": [
        "seed_text = \"I really like the Arctic Monkeys and \"\n",
        "next_words = 100\n",
        "  \n",
        "for _ in range(next_words):\n",
        "\ttoken_list = tokenizer.texts_to_sequences([seed_text])[0]\n",
        "\ttoken_list = pad_sequences([token_list], maxlen=max_sequence_len-1, padding='pre')\n",
        "\tpredicted = model.predict_classes(token_list, verbose=0)\n",
        "\toutput_word = \"\"\n",
        "\tfor word, index in tokenizer.word_index.items():\n",
        "\t\tif index == predicted:\n",
        "\t\t\toutput_word = word\n",
        "\t\t\tbreak\n",
        "\tseed_text += \" \" + output_word\n",
        "print(seed_text)"
      ],
      "execution_count": 14,
      "outputs": [
        {
          "output_type": "stream",
          "text": [
            "I really like the Arctic Monkeys and  at me just been me so around there's lover i'll fall long long time round but you know if you want to tell there slippers of stay with against the wall end action lined up popping up up up and stay with your hands around your head around my neck gets lotion i sit and talk to me on the floor with in the day round but i said i want to tell settling down or giving up in wicker chair and you imagined i could imagined i could want to you found the place on of stay with the\n"
          ],
          "name": "stdout"
        }
      ]
    }
  ]
}