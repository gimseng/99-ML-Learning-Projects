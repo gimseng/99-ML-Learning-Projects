{
 "cells": [
  {
   "cell_type": "markdown",
   "metadata": {},
   "source": [
    "# MNIST HANDWRITTEN DIGIT RECOGNITION\n",
    "\n",
    "- The dataset was constructed from a number of scanned document dataset available from the National Institute of Standards and Technology (NIST). This is where the name for the dataset comes from, as the Modified NIST or MNIST dataset.\n",
    "\n",
    "- Images of digits were taken from a variety of scanned documents, normalized in size and centered. This makes it an excellent dataset for evaluating models, allowing the developer to focus on the machine learning with very little data cleaning or preparation required.\n",
    "\n",
    "- Each image is a 28 by 28 pixel square (784 pixels total). A standard split of the dataset is used to evaluate and compare models, where 60,000 images are used to train a model and a separate set of 10,000 images are used to test it.\n",
    "\n",
    "- It is a digit recognition task. As such there are 10 digits (0 to 9) or 10 classes to predict. Results are reported using prediction error, which is nothing more than the inverted classification accuracy.\n",
    "\n",
    "#### In this notebook you will learn the MNIST handwritten digit recognition problem and deep learning models developed in Python using the Keras library that are capable of achieving excellent results.\n",
    "\n",
    "#### Working through this tutorial you will learn:\n",
    "\n",
    "- How to load the MNIST dataset in Keras and generate plots of the dataset.\n",
    "- How to reshape the MNIST dataset and develop a simple but well performing multi-layer perceptron model on the problem.\n",
    "- How to use Keras to create convolutional neural network models for MNIST.\n",
    "- How to develop and evaluate larger CNN models for MNIST capable of near world class results."
   ]
  },
  {
   "cell_type": "markdown",
   "metadata": {},
   "source": [
    "## Artificial Neural Network (ANN)\n",
    "\n",
    "An artificial neural network is a mathematical model that converts a set of inputs to a set of outputs through a number of hidden layers. An ANN works with hidden layers, each of which is a transient form associated with a probability. In a typical neural network, each node of a layer takes all nodes of the previous layer as input. A model may have one or more hidden layers.\n",
    "\n",
    "![NN structure](images/ANN.jpg)\n",
    "\n",
    "ANNs receive an input layer to transform it through hidden layers. An ANN is initialized by assigning random weights and biases to each node of the hidden layers. As the training data is fed into the model, it modifies these weights and biases using the errors generated at each step. Hence, our model “learns” the pattern when going through the training data."
   ]
  },
  {
   "cell_type": "code",
   "execution_count": 1,
   "metadata": {},
   "outputs": [],
   "source": [
    "import numpy as np\n",
    "import pandas as pd\n",
    "\n",
    "import matplotlib.pyplot as plt\n",
    "import seaborn as sns\n",
    "%matplotlib inline\n",
    "\n",
    "%reload_ext autoreload\n",
    "%autoreload 2\n",
    "\n",
    "import warnings\n",
    "warnings.filterwarnings('ignore')\n",
    "warnings.simplefilter('ignore')\n"
   ]
  },
  {
   "cell_type": "code",
   "execution_count": 2,
   "metadata": {},
   "outputs": [
    {
     "name": "stderr",
     "output_type": "stream",
     "text": [
      "Using TensorFlow backend.\n"
     ]
    }
   ],
   "source": [
    "from keras.models import Sequential\n",
    "from keras.layers import Dense\n",
    "from keras.layers import Dropout\n",
    "from keras.layers import Flatten\n",
    "from keras.layers import BatchNormalization\n",
    "from keras.layers.convolutional import Conv2D\n",
    "from keras.layers.convolutional import MaxPooling2D\n",
    "from keras.utils import np_utils"
   ]
  },
  {
   "cell_type": "markdown",
   "metadata": {},
   "source": [
    "### We'll use the keras library for training the model in this tutorial. Keras is a high-level library in Python that is a wrapper over TensorFlow, CNTK and Theano. By default, Keras uses a TensorFlow backend by default, and we’ll use the same to train our model."
   ]
  },
  {
   "cell_type": "code",
   "execution_count": 3,
   "metadata": {},
   "outputs": [],
   "source": [
    "from keras.datasets import mnist\n",
    "\n",
    "(x_train, y_train), (x_test, y_test) = mnist.load_data()"
   ]
  },
  {
   "cell_type": "code",
   "execution_count": 4,
   "metadata": {},
   "outputs": [
    {
     "data": {
      "image/png": "[encoded data removed]",
      "text/plain": [
       "<Figure size 432x288 with 4 Axes>"
      ]
     },
     "metadata": {
      "needs_background": "light"
     },
     "output_type": "display_data"
    }
   ],
   "source": [
    "# plot 4 images as gray scale\n",
    "plt.subplot(221)\n",
    "plt.imshow(x_train[0], cmap=plt.get_cmap('gray'))\n",
    "plt.subplot(222)\n",
    "plt.imshow(x_train[1], cmap=plt.get_cmap('gray'))\n",
    "plt.subplot(223)\n",
    "plt.imshow(x_train[2], cmap=plt.get_cmap('gray'))\n",
    "plt.subplot(224)\n",
    "plt.imshow(x_train[3], cmap=plt.get_cmap('gray'))\n",
    "# show the plot\n",
    "plt.show()"
   ]
  },
  {
   "cell_type": "code",
   "execution_count": 5,
   "metadata": {},
   "outputs": [
    {
     "data": {
      "text/plain": [
       "(60000, 28, 28)"
      ]
     },
     "execution_count": 5,
     "metadata": {},
     "output_type": "execute_result"
    }
   ],
   "source": [
    "x_train.shape"
   ]
  },
  {
   "cell_type": "code",
   "execution_count": 6,
   "metadata": {},
   "outputs": [
    {
     "data": {
      "text/plain": [
       "(10000, 28, 28)"
      ]
     },
     "execution_count": 6,
     "metadata": {},
     "output_type": "execute_result"
    }
   ],
   "source": [
    "x_test.shape"
   ]
  },
  {
   "cell_type": "markdown",
   "metadata": {},
   "source": [
    "## Cleaning Data\n",
    "\n",
    "Now that we have seen the structure of the data, we are ready to create the model.\n",
    "To work with the Keras API, we need to reshape each image to the format of (M x N x 1). We’ll use the .reshape() method to perform this action. Finally, normalize the image data by dividing each pixel value by 255 (since RGB value can range from 0 to 255):"
   ]
  },
  {
   "cell_type": "code",
   "execution_count": 7,
   "metadata": {},
   "outputs": [],
   "source": [
    "# input color dimentions\n",
    "img_rows, img_cols = 28, 28\n",
    "\n",
    "num_pixels = img_rows * img_cols\n",
    "\n",
    "x_train = x_train.reshape((x_train.shape[0], num_pixels)).astype(float)\n",
    "x_test = x_test.reshape((x_test.shape[0], num_pixels)).astype(float)\n",
    "\n",
    "# normalize inputs from 0-255 to 0-1\n",
    "x_train /= 255\n",
    "x_test /= 255\n"
   ]
  },
  {
   "cell_type": "markdown",
   "metadata": {},
   "source": [
    "### Let us now convert the label integers into binary class using ``` to_categorical() ``` function"
   ]
  },
  {
   "cell_type": "code",
   "execution_count": 8,
   "metadata": {},
   "outputs": [],
   "source": [
    "# from keras.utils import to_categorical\n",
    "\n",
    "num_classes = 10\n",
    "\n",
    "y_train = np_utils.to_categorical(y_train)\n",
    "y_test = np_utils.to_categorical(y_test)"
   ]
  },
  {
   "cell_type": "markdown",
   "metadata": {},
   "source": [
    "## Designing the model\n",
    "\n",
    "This is the most important step in this notebook as it the accuracy is determined by how well we have defined the model.\n",
    "For this tutorial, we have used [Keras Documentation design](https://keras.io/examples/vision/mnist_convnet/) \n",
    "\n",
    "Keras provides us with two different types of model, first the Sequential model (which we'll be using in this tutorial) and the other being Functional Model.\n",
    "The sequential API allows you to create models layer-by-layer for most problems. Alternatively, the functional API allows you to create models that have a lot more flexibility as you can easily define models where layers connect to more than just the previous and next layers.\n",
    "\n",
    "For further learning purpose : Read [this](https://medium.com/@hanify/sequential-api-vs-functional-api-model-in-keras-266823d7cd5e) & [this](https://www.deeplearningdemystified.com/article/pdl-1) (I personally find this one really interesting and useful)\n"
   ]
  },
  {
   "cell_type": "code",
   "execution_count": 9,
   "metadata": {},
   "outputs": [],
   "source": [
    "# baseline model : Neural Network\n",
    "def nn_model():\n",
    "    \n",
    "    # create model\n",
    "    nn = Sequential()\n",
    "    nn.add(Dense(num_pixels, activation = 'relu', kernel_initializer = 'normal', input_dim = num_pixels))\n",
    "    nn.add(Dense(128, activation = 'relu', kernel_initializer = 'normal'))\n",
    "    nn.add(Dense(num_classes, activation = 'softmax', kernel_initializer = 'normal'))\n",
    "    \n",
    "    # compile model\n",
    "    nn.compile(optimizer = 'adam', loss = 'categorical_crossentropy', metrics = ['accuracy'])\n",
    "    \n",
    "    return nn"
   ]
  },
  {
   "cell_type": "code",
   "execution_count": 10,
   "metadata": {},
   "outputs": [
    {
     "name": "stdout",
     "output_type": "stream",
     "text": [
      "Model: \"sequential\"\n",
      "_________________________________________________________________\n",
      "Layer (type)                 Output Shape              Param #   \n",
      "=================================================================\n",
      "dense (Dense)                (None, 784)               615440    \n",
      "_________________________________________________________________\n",
      "dense_1 (Dense)              (None, 128)               100480    \n",
      "_________________________________________________________________\n",
      "dense_2 (Dense)              (None, 10)                1290      \n",
      "=================================================================\n",
      "Total params: 717,210\n",
      "Trainable params: 717,210\n",
      "Non-trainable params: 0\n",
      "_________________________________________________________________\n",
      "None\n",
      "Epoch 1/10\n",
      "469/469 - 4s - loss: 0.2516 - accuracy: 0.9272 - val_loss: 0.1076 - val_accuracy: 0.9696\n",
      "Epoch 2/10\n",
      "469/469 - 5s - loss: 0.0879 - accuracy: 0.9732 - val_loss: 0.0874 - val_accuracy: 0.9714\n",
      "Epoch 3/10\n",
      "469/469 - 5s - loss: 0.0529 - accuracy: 0.9836 - val_loss: 0.0694 - val_accuracy: 0.9763\n",
      "Epoch 4/10\n",
      "469/469 - 5s - loss: 0.0363 - accuracy: 0.9893 - val_loss: 0.0728 - val_accuracy: 0.9770\n",
      "Epoch 5/10\n",
      "469/469 - 5s - loss: 0.0253 - accuracy: 0.9921 - val_loss: 0.0632 - val_accuracy: 0.9788\n",
      "Epoch 6/10\n",
      "469/469 - 5s - loss: 0.0216 - accuracy: 0.9930 - val_loss: 0.0644 - val_accuracy: 0.9806\n",
      "Epoch 7/10\n",
      "469/469 - 5s - loss: 0.0161 - accuracy: 0.9947 - val_loss: 0.0740 - val_accuracy: 0.9810\n",
      "Epoch 8/10\n",
      "469/469 - 5s - loss: 0.0147 - accuracy: 0.9949 - val_loss: 0.0719 - val_accuracy: 0.9816\n",
      "Epoch 9/10\n",
      "469/469 - 5s - loss: 0.0146 - accuracy: 0.9955 - val_loss: 0.0582 - val_accuracy: 0.9839\n",
      "Epoch 10/10\n",
      "469/469 - 5s - loss: 0.0089 - accuracy: 0.9970 - val_loss: 0.0845 - val_accuracy: 0.9797\n",
      "Test loss: 8.45\n",
      "Test accuracy: 97.97\n"
     ]
    }
   ],
   "source": [
    "batch_size = 128\n",
    "epochs = 10\n",
    "\n",
    "# build the model\n",
    "model = nn_model()\n",
    "\n",
    "print(model.summary())\n",
    "\n",
    "# Fit the model\n",
    "model.fit(x_train, y_train, validation_data=(x_test, y_test), epochs=epochs, batch_size=batch_size, verbose=2)\n",
    "\n",
    "# Final evaluation of the model\n",
    "scores = model.evaluate(x_test, y_test, verbose=0)\n",
    "print('Test loss:', round(scores[0]*100, 2))\n",
    "print('Test accuracy:', round(scores[1]*100, 2))\n",
    "model.save(\"test_nn.h5\")"
   ]
  },
  {
   "cell_type": "markdown",
   "metadata": {},
   "source": [
    "## Convoluted Neural Networks (CNN)\n",
    "\n",
    "In a CNN, the images are represented as 3-D array with the 3rd dimension containing the color(RGB). Consequently, a node of the hidden layer would only be connected to a small region in the vicinity of the corresponding input layer, making the process far more efficient than a traditional neural network. CNNs, therefore, are popular when it comes to working with images and videos.\n",
    "\n",
    "![Basic CNN MNIST Model](images/cnn-procedure.png)\n",
    "\n",
    "The various types of layers in a CNN are as follows:\n",
    "- **convolutional layers** : these run input through certain filters, which identify features in the image\n",
    "- **pooling layers**: these combine convolutional features, helping in feature reduction\n",
    "- **flatten layers**: these convert an N-dimentional layer to a 1D layer\n",
    "- **classification layer**: the final layer, which tells us the final result."
   ]
  },
  {
   "cell_type": "code",
   "execution_count": 11,
   "metadata": {},
   "outputs": [],
   "source": [
    "# load data\n",
    "(X_train, Y_train), (X_test, Y_test) = mnist.load_data()\n",
    "\n",
    "# reshape to be [samples][width][height][channels]\n",
    "X_train = X_train.reshape(X_train.shape[0], img_rows, img_cols, 1).astype('float32')\n",
    "X_test = X_test.reshape(X_test.shape[0], img_rows, img_cols, 1).astype('float32')\n",
    "\n",
    "\n",
    "# normalize inputs from 0-255 to 0-1\n",
    "X_train = X_train / 255\n",
    "X_test = X_test / 255\n",
    "\n",
    "# one hot encode outputs\n",
    "Y_train = np_utils.to_categorical(Y_train)\n",
    "Y_test = np_utils.to_categorical(Y_test)\n",
    "\n",
    "num_classes = 10"
   ]
  },
  {
   "cell_type": "code",
   "execution_count": 12,
   "metadata": {},
   "outputs": [],
   "source": [
    "# define CNN model : Neural network with CNN\n",
    "\n",
    "def cnn_model():\n",
    "    \n",
    "    # create model\n",
    "    cnn = Sequential()\n",
    "    cnn.add(Conv2D(30, (5, 5), input_shape=(img_rows, img_cols, 1), activation='relu'))\n",
    "    cnn.add(MaxPooling2D())\n",
    "    cnn.add(Conv2D(15, (3, 3), activation='relu'))\n",
    "    cnn.add(MaxPooling2D())\n",
    "    cnn.add(Dropout(0.2))\n",
    "    cnn.add(BatchNormalization())\n",
    "    cnn.add(Flatten())\n",
    "    \n",
    "    cnn.add(Dense(128, activation = 'relu'))\n",
    "    cnn.add(Dense(64, activation = 'relu'))\n",
    "    cnn.add(Dense(num_classes, activation='softmax'))\n",
    "    \n",
    "    # compile model\n",
    "    cnn.compile(optimizer = 'adam', loss = 'categorical_crossentropy', metrics = ['accuracy'])\n",
    "    \n",
    "    return cnn"
   ]
  },
  {
   "cell_type": "code",
   "execution_count": 13,
   "metadata": {},
   "outputs": [
    {
     "name": "stdout",
     "output_type": "stream",
     "text": [
      "Model: \"sequential_1\"\n",
      "_________________________________________________________________\n",
      "Layer (type)                 Output Shape              Param #   \n",
      "=================================================================\n",
      "conv2d (Conv2D)              (None, 24, 24, 30)        780       \n",
      "_________________________________________________________________\n",
      "max_pooling2d (MaxPooling2D) (None, 12, 12, 30)        0         \n",
      "_________________________________________________________________\n",
      "conv2d_1 (Conv2D)            (None, 10, 10, 15)        4065      \n",
      "_________________________________________________________________\n",
      "max_pooling2d_1 (MaxPooling2 (None, 5, 5, 15)          0         \n",
      "_________________________________________________________________\n",
      "dropout (Dropout)            (None, 5, 5, 15)          0         \n",
      "_________________________________________________________________\n",
      "batch_normalization (BatchNo (None, 5, 5, 15)          60        \n",
      "_________________________________________________________________\n",
      "flatten (Flatten)            (None, 375)               0         \n",
      "_________________________________________________________________\n",
      "dense_3 (Dense)              (None, 128)               48128     \n",
      "_________________________________________________________________\n",
      "dense_4 (Dense)              (None, 64)                8256      \n",
      "_________________________________________________________________\n",
      "dense_5 (Dense)              (None, 10)                650       \n",
      "=================================================================\n",
      "Total params: 61,939\n",
      "Trainable params: 61,909\n",
      "Non-trainable params: 30\n",
      "_________________________________________________________________\n",
      "None\n",
      "Epoch 1/10\n",
      "469/469 - 29s - loss: 0.1859 - accuracy: 0.9430 - val_loss: 0.0740 - val_accuracy: 0.9790\n",
      "Epoch 2/10\n",
      "469/469 - 26s - loss: 0.0620 - accuracy: 0.9805 - val_loss: 0.0336 - val_accuracy: 0.9888\n",
      "Epoch 3/10\n",
      "469/469 - 30s - loss: 0.0467 - accuracy: 0.9857 - val_loss: 0.0357 - val_accuracy: 0.9883\n",
      "Epoch 4/10\n",
      "469/469 - 26s - loss: 0.0393 - accuracy: 0.9878 - val_loss: 0.0407 - val_accuracy: 0.9866\n",
      "Epoch 5/10\n",
      "469/469 - 29s - loss: 0.0336 - accuracy: 0.9892 - val_loss: 0.0297 - val_accuracy: 0.9897\n",
      "Epoch 6/10\n",
      "469/469 - 31s - loss: 0.0288 - accuracy: 0.9907 - val_loss: 0.0293 - val_accuracy: 0.9908\n",
      "Epoch 7/10\n",
      "469/469 - 28s - loss: 0.0261 - accuracy: 0.9915 - val_loss: 0.0287 - val_accuracy: 0.9908\n",
      "Epoch 8/10\n",
      "469/469 - 28s - loss: 0.0239 - accuracy: 0.9923 - val_loss: 0.0285 - val_accuracy: 0.9914\n",
      "Epoch 9/10\n",
      "469/469 - 27s - loss: 0.0228 - accuracy: 0.9925 - val_loss: 0.0263 - val_accuracy: 0.9922\n",
      "Epoch 10/10\n",
      "469/469 - 26s - loss: 0.0202 - accuracy: 0.9935 - val_loss: 0.0334 - val_accuracy: 0.9910\n",
      "Test loss: 3.34\n",
      "Test accuracy: 99.1\n"
     ]
    }
   ],
   "source": [
    "batch_size = 128\n",
    "epochs = 10\n",
    "\n",
    "# build the model\n",
    "model = cnn_model()\n",
    "\n",
    "print(model.summary())\n",
    "\n",
    "# Fit the model\n",
    "model.fit(X_train, Y_train, validation_data=(X_test, Y_test), epochs=epochs, batch_size=batch_size, verbose=2)\n",
    "\n",
    "# Final evaluation of the model\n",
    "scores = model.evaluate(X_test, Y_test, verbose=0)\n",
    "print('Test loss:', round(scores[0]*100, 2))\n",
    "print('Test accuracy:', round(scores[1]*100, 2))\n",
    "model.save(\"test_cnn.h5\")"
   ]
  },
  {
   "cell_type": "code",
   "execution_count": null,
   "metadata": {},
   "outputs": [],
   "source": []
  },
  {
   "cell_type": "code",
   "execution_count": null,
   "metadata": {},
   "outputs": [],
   "source": []
  }
 ],
 "metadata": {
  "kernelspec": {
   "display_name": "Python3.6Test",
   "language": "python",
   "name": "python3.6test"
  },
  "language_info": {
   "codemirror_mode": {
    "name": "ipython",
    "version": 3
   },
   "file_extension": ".py",
   "mimetype": "text/x-python",
   "name": "python",
   "nbconvert_exporter": "python",
   "pygments_lexer": "ipython3",
   "version": "3.6.5"
  }
 },
 "nbformat": 4,
 "nbformat_minor": 4
}
