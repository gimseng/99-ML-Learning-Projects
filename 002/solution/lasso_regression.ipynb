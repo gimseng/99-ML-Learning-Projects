{
 "cells": [
  {
   "cell_type": "markdown",
   "metadata": {},
   "source": [
    "<table align=\"left\">\n",
    "  <td>\n",
    "    <a target=\"_blank\" href=\"https://colab.research.google.com/github/gimseng/99-ML-Learning-Projects/blob/master/002/solution/linear_regression.ipynb\"><img src=\"https://www.tensorflow.org/images/colab_logo_32px.png\" />Run in Google Colab</a>\n",
    "  </td>\n",
    "</table>"
   ]
  },
  {
   "cell_type": "markdown",
   "metadata": {},
   "source": [
    "# Hi - Welcome to the Lasso Regression excercise\n",
    "\n",
    "## This notebook is based on the Linear Regression notebook\n",
    "\n",
    "## The main task of the assignment is in the second half of the notebook\n",
    "\n",
    "### Run cells below which import all required libraries"
   ]
  },
  {
   "cell_type": "code",
   "execution_count": 182,
   "metadata": {},
   "outputs": [],
   "source": [
    "import numpy as np\n",
    "import pandas as pd\n",
    "import sklearn, sklearn.model_selection\n",
    "import matplotlib.pyplot as plt"
   ]
  },
  {
   "cell_type": "markdown",
   "metadata": {},
   "source": [
    "### The cell below retreives the data and splits it into train_x, train_y, valid_x, valid_y, test_x, test_y"
   ]
  },
  {
   "cell_type": "code",
   "execution_count": 183,
   "metadata": {},
   "outputs": [
    {
     "name": "stdout",
     "output_type": "stream",
     "text": [
      "train size: 876, valid size: 292, test size: 292\n"
     ]
    }
   ],
   "source": [
    "# pick how big the validation/test portion of the data is, currently set to 20% validation, 20% test, and 60% train\n",
    "valid_size = 0.2\n",
    "test_size = 0.2\n",
    "\n",
    "# load the data from the .csv file\n",
    "github_url = 'https://raw.githubusercontent.com/gimseng/99-ML-Learning-Projects/'\n",
    "data_source = 'master/002/data/housing_prices.csv'\n",
    "data = pd.read_csv(github_url+data_source)\n",
    "\n",
    "def train_valid_test_split(data, valid_size, test_size):\n",
    "    # split into train and test\n",
    "    train, test = sklearn.model_selection.train_test_split(data, test_size=test_size)\n",
    "    # further split train into train and validation. (valid_size needs to be recalculated to properly split train)\n",
    "    valid_size = valid_size/(1-test_size)\n",
    "    train, valid = sklearn.model_selection.train_test_split(train, test_size=valid_size)\n",
    "    return train, valid, test\n",
    "\n",
    "train, valid, test = train_valid_test_split(data, valid_size, test_size)\n",
    "train_x, train_y = train.iloc[:, :-1], train.iloc[:, -1:]\n",
    "valid_x, valid_y = valid.iloc[:, :-1], valid.iloc[:, -1:]\n",
    "test_x, test_y = test.iloc[:, :-1], test.iloc[:, -1:]\n",
    "\n",
    "print(f'train size: {len(train_x)}, valid size: {len(valid_x)}, test size: {len(test_x)}')"
   ]
  },
  {
   "cell_type": "markdown",
   "metadata": {},
   "source": [
    "### The cell below helps us view a few of our data points and also view how the selling price varies for different features"
   ]
  },
  {
   "cell_type": "code",
   "execution_count": 184,
   "metadata": {},
   "outputs": [
    {
     "data": {
      "text/html": [
       "<div>\n",
       "<style scoped>\n",
       "    .dataframe tbody tr th:only-of-type {\n",
       "        vertical-align: middle;\n",
       "    }\n",
       "\n",
       "    .dataframe tbody tr th {\n",
       "        vertical-align: top;\n",
       "    }\n",
       "\n",
       "    .dataframe thead th {\n",
       "        text-align: right;\n",
       "    }\n",
       "</style>\n",
       "<table border=\"1\" class=\"dataframe\">\n",
       "  <thead>\n",
       "    <tr style=\"text-align: right;\">\n",
       "      <th></th>\n",
       "      <th>Id</th>\n",
       "      <th>MSSubClass</th>\n",
       "      <th>MSZoning</th>\n",
       "      <th>LotFrontage</th>\n",
       "      <th>LotArea</th>\n",
       "      <th>Street</th>\n",
       "      <th>Alley</th>\n",
       "      <th>LotShape</th>\n",
       "      <th>LandContour</th>\n",
       "      <th>Utilities</th>\n",
       "      <th>...</th>\n",
       "      <th>PoolArea</th>\n",
       "      <th>PoolQC</th>\n",
       "      <th>Fence</th>\n",
       "      <th>MiscFeature</th>\n",
       "      <th>MiscVal</th>\n",
       "      <th>MoSold</th>\n",
       "      <th>YrSold</th>\n",
       "      <th>SaleType</th>\n",
       "      <th>SaleCondition</th>\n",
       "      <th>SalePrice</th>\n",
       "    </tr>\n",
       "  </thead>\n",
       "  <tbody>\n",
       "    <tr>\n",
       "      <th>0</th>\n",
       "      <td>1</td>\n",
       "      <td>60</td>\n",
       "      <td>RL</td>\n",
       "      <td>65.0</td>\n",
       "      <td>8450</td>\n",
       "      <td>Pave</td>\n",
       "      <td>NaN</td>\n",
       "      <td>Reg</td>\n",
       "      <td>Lvl</td>\n",
       "      <td>AllPub</td>\n",
       "      <td>...</td>\n",
       "      <td>0</td>\n",
       "      <td>NaN</td>\n",
       "      <td>NaN</td>\n",
       "      <td>NaN</td>\n",
       "      <td>0</td>\n",
       "      <td>2</td>\n",
       "      <td>2008</td>\n",
       "      <td>WD</td>\n",
       "      <td>Normal</td>\n",
       "      <td>208500</td>\n",
       "    </tr>\n",
       "    <tr>\n",
       "      <th>1</th>\n",
       "      <td>2</td>\n",
       "      <td>20</td>\n",
       "      <td>RL</td>\n",
       "      <td>80.0</td>\n",
       "      <td>9600</td>\n",
       "      <td>Pave</td>\n",
       "      <td>NaN</td>\n",
       "      <td>Reg</td>\n",
       "      <td>Lvl</td>\n",
       "      <td>AllPub</td>\n",
       "      <td>...</td>\n",
       "      <td>0</td>\n",
       "      <td>NaN</td>\n",
       "      <td>NaN</td>\n",
       "      <td>NaN</td>\n",
       "      <td>0</td>\n",
       "      <td>5</td>\n",
       "      <td>2007</td>\n",
       "      <td>WD</td>\n",
       "      <td>Normal</td>\n",
       "      <td>181500</td>\n",
       "    </tr>\n",
       "    <tr>\n",
       "      <th>2</th>\n",
       "      <td>3</td>\n",
       "      <td>60</td>\n",
       "      <td>RL</td>\n",
       "      <td>68.0</td>\n",
       "      <td>11250</td>\n",
       "      <td>Pave</td>\n",
       "      <td>NaN</td>\n",
       "      <td>IR1</td>\n",
       "      <td>Lvl</td>\n",
       "      <td>AllPub</td>\n",
       "      <td>...</td>\n",
       "      <td>0</td>\n",
       "      <td>NaN</td>\n",
       "      <td>NaN</td>\n",
       "      <td>NaN</td>\n",
       "      <td>0</td>\n",
       "      <td>9</td>\n",
       "      <td>2008</td>\n",
       "      <td>WD</td>\n",
       "      <td>Normal</td>\n",
       "      <td>223500</td>\n",
       "    </tr>\n",
       "    <tr>\n",
       "      <th>3</th>\n",
       "      <td>4</td>\n",
       "      <td>70</td>\n",
       "      <td>RL</td>\n",
       "      <td>60.0</td>\n",
       "      <td>9550</td>\n",
       "      <td>Pave</td>\n",
       "      <td>NaN</td>\n",
       "      <td>IR1</td>\n",
       "      <td>Lvl</td>\n",
       "      <td>AllPub</td>\n",
       "      <td>...</td>\n",
       "      <td>0</td>\n",
       "      <td>NaN</td>\n",
       "      <td>NaN</td>\n",
       "      <td>NaN</td>\n",
       "      <td>0</td>\n",
       "      <td>2</td>\n",
       "      <td>2006</td>\n",
       "      <td>WD</td>\n",
       "      <td>Abnorml</td>\n",
       "      <td>140000</td>\n",
       "    </tr>\n",
       "    <tr>\n",
       "      <th>4</th>\n",
       "      <td>5</td>\n",
       "      <td>60</td>\n",
       "      <td>RL</td>\n",
       "      <td>84.0</td>\n",
       "      <td>14260</td>\n",
       "      <td>Pave</td>\n",
       "      <td>NaN</td>\n",
       "      <td>IR1</td>\n",
       "      <td>Lvl</td>\n",
       "      <td>AllPub</td>\n",
       "      <td>...</td>\n",
       "      <td>0</td>\n",
       "      <td>NaN</td>\n",
       "      <td>NaN</td>\n",
       "      <td>NaN</td>\n",
       "      <td>0</td>\n",
       "      <td>12</td>\n",
       "      <td>2008</td>\n",
       "      <td>WD</td>\n",
       "      <td>Normal</td>\n",
       "      <td>250000</td>\n",
       "    </tr>\n",
       "    <tr>\n",
       "      <th>5</th>\n",
       "      <td>6</td>\n",
       "      <td>50</td>\n",
       "      <td>RL</td>\n",
       "      <td>85.0</td>\n",
       "      <td>14115</td>\n",
       "      <td>Pave</td>\n",
       "      <td>NaN</td>\n",
       "      <td>IR1</td>\n",
       "      <td>Lvl</td>\n",
       "      <td>AllPub</td>\n",
       "      <td>...</td>\n",
       "      <td>0</td>\n",
       "      <td>NaN</td>\n",
       "      <td>MnPrv</td>\n",
       "      <td>Shed</td>\n",
       "      <td>700</td>\n",
       "      <td>10</td>\n",
       "      <td>2009</td>\n",
       "      <td>WD</td>\n",
       "      <td>Normal</td>\n",
       "      <td>143000</td>\n",
       "    </tr>\n",
       "    <tr>\n",
       "      <th>6</th>\n",
       "      <td>7</td>\n",
       "      <td>20</td>\n",
       "      <td>RL</td>\n",
       "      <td>75.0</td>\n",
       "      <td>10084</td>\n",
       "      <td>Pave</td>\n",
       "      <td>NaN</td>\n",
       "      <td>Reg</td>\n",
       "      <td>Lvl</td>\n",
       "      <td>AllPub</td>\n",
       "      <td>...</td>\n",
       "      <td>0</td>\n",
       "      <td>NaN</td>\n",
       "      <td>NaN</td>\n",
       "      <td>NaN</td>\n",
       "      <td>0</td>\n",
       "      <td>8</td>\n",
       "      <td>2007</td>\n",
       "      <td>WD</td>\n",
       "      <td>Normal</td>\n",
       "      <td>307000</td>\n",
       "    </tr>\n",
       "    <tr>\n",
       "      <th>7</th>\n",
       "      <td>8</td>\n",
       "      <td>60</td>\n",
       "      <td>RL</td>\n",
       "      <td>NaN</td>\n",
       "      <td>10382</td>\n",
       "      <td>Pave</td>\n",
       "      <td>NaN</td>\n",
       "      <td>IR1</td>\n",
       "      <td>Lvl</td>\n",
       "      <td>AllPub</td>\n",
       "      <td>...</td>\n",
       "      <td>0</td>\n",
       "      <td>NaN</td>\n",
       "      <td>NaN</td>\n",
       "      <td>Shed</td>\n",
       "      <td>350</td>\n",
       "      <td>11</td>\n",
       "      <td>2009</td>\n",
       "      <td>WD</td>\n",
       "      <td>Normal</td>\n",
       "      <td>200000</td>\n",
       "    </tr>\n",
       "    <tr>\n",
       "      <th>8</th>\n",
       "      <td>9</td>\n",
       "      <td>50</td>\n",
       "      <td>RM</td>\n",
       "      <td>51.0</td>\n",
       "      <td>6120</td>\n",
       "      <td>Pave</td>\n",
       "      <td>NaN</td>\n",
       "      <td>Reg</td>\n",
       "      <td>Lvl</td>\n",
       "      <td>AllPub</td>\n",
       "      <td>...</td>\n",
       "      <td>0</td>\n",
       "      <td>NaN</td>\n",
       "      <td>NaN</td>\n",
       "      <td>NaN</td>\n",
       "      <td>0</td>\n",
       "      <td>4</td>\n",
       "      <td>2008</td>\n",
       "      <td>WD</td>\n",
       "      <td>Abnorml</td>\n",
       "      <td>129900</td>\n",
       "    </tr>\n",
       "    <tr>\n",
       "      <th>9</th>\n",
       "      <td>10</td>\n",
       "      <td>190</td>\n",
       "      <td>RL</td>\n",
       "      <td>50.0</td>\n",
       "      <td>7420</td>\n",
       "      <td>Pave</td>\n",
       "      <td>NaN</td>\n",
       "      <td>Reg</td>\n",
       "      <td>Lvl</td>\n",
       "      <td>AllPub</td>\n",
       "      <td>...</td>\n",
       "      <td>0</td>\n",
       "      <td>NaN</td>\n",
       "      <td>NaN</td>\n",
       "      <td>NaN</td>\n",
       "      <td>0</td>\n",
       "      <td>1</td>\n",
       "      <td>2008</td>\n",
       "      <td>WD</td>\n",
       "      <td>Normal</td>\n",
       "      <td>118000</td>\n",
       "    </tr>\n",
       "  </tbody>\n",
       "</table>\n",
       "<p>10 rows × 81 columns</p>\n",
       "</div>"
      ],
      "text/plain": [
       "   Id  MSSubClass MSZoning  LotFrontage  LotArea Street Alley LotShape  \\\n",
       "0   1          60       RL         65.0     8450   Pave   NaN      Reg   \n",
       "1   2          20       RL         80.0     9600   Pave   NaN      Reg   \n",
       "2   3          60       RL         68.0    11250   Pave   NaN      IR1   \n",
       "3   4          70       RL         60.0     9550   Pave   NaN      IR1   \n",
       "4   5          60       RL         84.0    14260   Pave   NaN      IR1   \n",
       "5   6          50       RL         85.0    14115   Pave   NaN      IR1   \n",
       "6   7          20       RL         75.0    10084   Pave   NaN      Reg   \n",
       "7   8          60       RL          NaN    10382   Pave   NaN      IR1   \n",
       "8   9          50       RM         51.0     6120   Pave   NaN      Reg   \n",
       "9  10         190       RL         50.0     7420   Pave   NaN      Reg   \n",
       "\n",
       "  LandContour Utilities  ... PoolArea PoolQC  Fence MiscFeature MiscVal  \\\n",
       "0         Lvl    AllPub  ...        0    NaN    NaN         NaN       0   \n",
       "1         Lvl    AllPub  ...        0    NaN    NaN         NaN       0   \n",
       "2         Lvl    AllPub  ...        0    NaN    NaN         NaN       0   \n",
       "3         Lvl    AllPub  ...        0    NaN    NaN         NaN       0   \n",
       "4         Lvl    AllPub  ...        0    NaN    NaN         NaN       0   \n",
       "5         Lvl    AllPub  ...        0    NaN  MnPrv        Shed     700   \n",
       "6         Lvl    AllPub  ...        0    NaN    NaN         NaN       0   \n",
       "7         Lvl    AllPub  ...        0    NaN    NaN        Shed     350   \n",
       "8         Lvl    AllPub  ...        0    NaN    NaN         NaN       0   \n",
       "9         Lvl    AllPub  ...        0    NaN    NaN         NaN       0   \n",
       "\n",
       "  MoSold YrSold  SaleType  SaleCondition  SalePrice  \n",
       "0      2   2008        WD         Normal     208500  \n",
       "1      5   2007        WD         Normal     181500  \n",
       "2      9   2008        WD         Normal     223500  \n",
       "3      2   2006        WD        Abnorml     140000  \n",
       "4     12   2008        WD         Normal     250000  \n",
       "5     10   2009        WD         Normal     143000  \n",
       "6      8   2007        WD         Normal     307000  \n",
       "7     11   2009        WD         Normal     200000  \n",
       "8      4   2008        WD        Abnorml     129900  \n",
       "9      1   2008        WD         Normal     118000  \n",
       "\n",
       "[10 rows x 81 columns]"
      ]
     },
     "execution_count": 184,
     "metadata": {},
     "output_type": "execute_result"
    }
   ],
   "source": [
    "data.head(10)"
   ]
  },
  {
   "cell_type": "code",
   "execution_count": 185,
   "metadata": {},
   "outputs": [
    {
     "data": {
      "text/plain": [
       "<AxesSubplot:xlabel='Garage car room', ylabel='Sale Price'>"
      ]
     },
     "execution_count": 185,
     "metadata": {},
     "output_type": "execute_result"
    },
    {
     "data": {
      "image/png": "[encoded data removed]",
      "text/plain": [
       "<Figure size 1440x504 with 2 Axes>"
      ]
     },
     "metadata": {
      "needs_background": "light"
     },
     "output_type": "display_data"
    }
   ],
   "source": [
    "fig, axes = plt.subplots(nrows=1, ncols=2)\n",
    "fig=(20,7)\n",
    "data.groupby('YearBuilt').mean()['SalePrice'].plot(ylabel='Sale Price',xlabel='Year Built',ax=axes[0],figsize=fig)\n",
    "data.groupby('GarageCars').mean()['SalePrice'].plot(kind='bar',ylabel='Sale Price',xlabel='Garage car room',ax=axes[1],figsize=fig)"
   ]
  },
  {
   "cell_type": "markdown",
   "metadata": {},
   "source": [
    "### The cell below scales the numeric features using a min_max_scaler (scales them between 0 and 1)"
   ]
  },
  {
   "cell_type": "code",
   "execution_count": 186,
   "metadata": {},
   "outputs": [],
   "source": [
    "numeric_columns = train_x.select_dtypes(include='number').columns\n",
    "# scaler = sklearn.preprocessing.MinMaxScaler()\n",
    "# scaler = sklearn.preprocessing.KBinsDiscretizer(n_bins=10, encode='ordinal')\n",
    "scaler = sklearn.preprocessing.StandardScaler()\n",
    "# train on concatenation of train and validation\n",
    "scaler.fit(pd.concat((train_x[numeric_columns], valid_x[numeric_columns])))\n",
    "# apply on all data\n",
    "train_x[numeric_columns] = scaler.transform(train_x[numeric_columns])\n",
    "valid_x[numeric_columns] = scaler.transform(valid_x[numeric_columns])\n",
    "test_x[numeric_columns] = scaler.transform(test_x[numeric_columns])\n"
   ]
  },
  {
   "cell_type": "markdown",
   "metadata": {},
   "source": [
    "### The cell below one-hot encodes the data"
   ]
  },
  {
   "cell_type": "code",
   "execution_count": 187,
   "metadata": {},
   "outputs": [],
   "source": [
    "def get_dummies_column_keys(dataFrames):\n",
    "    '''returns a column list of get dummies for concatenated dataframes'''\n",
    "    return pd.get_dummies(pd.concat(dataFrames)).columns.tolist()\n",
    "\n",
    "def get_dummies_using_keys(dataFrame, column_keys):\n",
    "    '''returns get dummies result with columns matching column_keys'''\n",
    "    result = pd.get_dummies(dataFrame)\n",
    "    result = result.reindex(columns=column_keys).fillna(0.00)\n",
    "    return result\n",
    "\n",
    "# get the keys for the concatenation of all datasets \n",
    "column_keys = get_dummies_column_keys((train_x, valid_x, test_x))\n",
    "train_x = get_dummies_using_keys(train_x, column_keys)\n",
    "valid_x = get_dummies_using_keys(valid_x, column_keys)\n",
    "test_x = get_dummies_using_keys(test_x, column_keys)"
   ]
  },
  {
   "cell_type": "markdown",
   "metadata": {},
   "source": [
    "### The cell below appends a '1' to all rows by adding a 'Bias' feature with the value of 1 for all rows<br/> This is to simulate a bias without adding any bias functionality to the Linear Regression algorithm "
   ]
  },
  {
   "cell_type": "code",
   "execution_count": 188,
   "metadata": {},
   "outputs": [],
   "source": [
    "train_x['Bias'] = 1\n",
    "valid_x['Bias'] = 1\n",
    "test_x['Bias'] = 1"
   ]
  },
  {
   "cell_type": "markdown",
   "metadata": {},
   "source": [
    "### This last cell gets the numpy arrays that we will work on from the panda dataframes"
   ]
  },
  {
   "cell_type": "code",
   "execution_count": 189,
   "metadata": {},
   "outputs": [],
   "source": [
    "# store the dataframes in df_* variables\n",
    "df_train_x, df_train_y = train_x, train_y\n",
    "df_valid_x, df_valid_y = valid_x, valid_y\n",
    "df_test_x, df_test_y = test_x, test_y\n",
    "\n",
    "# store the numpy arrays in the regular variables\n",
    "train_x, train_y = train_x.values, train_y.values\n",
    "valid_x, valid_y = valid_x.values, valid_y.values\n",
    "test_x, test_y = test_x.values, test_y.values"
   ]
  },
  {
   "cell_type": "markdown",
   "metadata": {},
   "source": [
    "# Proceed with any data analysis in the next cell\n",
    "\n",
    "## (Optional but encouraged)"
   ]
  },
  {
   "cell_type": "code",
   "execution_count": null,
   "metadata": {},
   "outputs": [],
   "source": []
  },
  {
   "cell_type": "markdown",
   "metadata": {},
   "source": [
    "# This is the main task of the exercise\n",
    "\n",
    "## You need to implement the following functions which <br/> implement Linear Regression and all it's required functions"
   ]
  },
  {
   "cell_type": "markdown",
   "metadata": {},
   "source": [
    "### The first major function is the 'predict' function <br/> Remember the Linear Regression equation is\n",
    "$$\\hat{Y} = w_0 + w_1 x_1 + w_2 x_2 + ... + w_m x_m$$\n",
    "\n",
    "### hint: try to implement a 'vectorized' version by using a matrix multiplication<br/> which will massively increase performance"
   ]
  },
  {
   "cell_type": "code",
   "execution_count": 190,
   "metadata": {
    "scrolled": true
   },
   "outputs": [],
   "source": [
    "\n",
    "def predict(w, x):\n",
    "    '''\n",
    "    Return the linear regression prediction from the weights and input features\n",
    "    Args:\n",
    "        w: The weight vector, shape: (features, 1)\n",
    "        x: The input data, shape: (num_samples, features)\n",
    "    Returns:\n",
    "        The prediction of the model, shape: (num_samples, 1)\n",
    "    '''\n",
    "    ### YOUR CODE HERE\n",
    "#     raise NotImplementedError\n",
    "    return x.dot(w)\n",
    "\n",
    "def init_weights(x):\n",
    "    '''\n",
    "    Initialize the weights vector, the data is passed in to know how many weights you need\n",
    "    Args:\n",
    "        x: The input data, shape: (num_samples, features)\n",
    "    Returns:\n",
    "        The initial weight vector of random values, shape: (features, 1)\n",
    "    '''\n",
    "    ### YOUR CODE HERE\n",
    "#     raise NotImplementedError\n",
    "#     rv = np.zeros((x.shape[1], 1)) \n",
    "    return np.random.randn(x.shape[1], 1)/np.sqrt(x.shape[1])"
   ]
  },
  {
   "cell_type": "markdown",
   "metadata": {},
   "source": [
    "### Next you have to implement the Mean Squared Error Loss calculation following the following formula \n",
    "$$LOSS(W)=\\frac{1}{2n} \\sum_{i=1}^{n} (\\hat{y}_i-y_i)^2$$"
   ]
  },
  {
   "cell_type": "code",
   "execution_count": 191,
   "metadata": {},
   "outputs": [],
   "source": [
    "def loss(y_hat, y):\n",
    "    '''\n",
    "    Calculate the Mean Squared Error based on the y_hat (the predicted value) and y (the true values)\n",
    "    Args:\n",
    "        y_hat: the predicted values of the input, shape: (num_samples, 1)\n",
    "        y: the true values of the input, shape: (num_samples, 1)\n",
    "    Returns:\n",
    "        Mean Squared Error, shape: Scaler\n",
    "    '''\n",
    "    ### YOUR CODE HERE\n",
    "#     raise NotImplementedError\n",
    "    n = y.shape[0]\n",
    "    delta = y_hat - y\n",
    "    return ((delta.T @ delta) / (2*n))"
   ]
  },
  {
   "cell_type": "markdown",
   "metadata": {},
   "source": [
    "### Next you have to implement the gradient calculation for the weights accoarding to the formula\n",
    "\n",
    "$$\\frac{\\partial LOSS(W)}{\\partial W_j} \n",
    "= \\sum_{i=1}^{n} (2*(\\hat{y}_i-y_i)*x_{i,j} + \\eta * \\frac{\\lvert{\\partial W_j}\\lvert}{\\partial W_j})$$"
   ]
  },
  {
   "cell_type": "code",
   "execution_count": 192,
   "metadata": {},
   "outputs": [],
   "source": [
    "def get_gradient(w, x, y_hat, y, l1_coeff):\n",
    "    '''\n",
    "    Get the gradient of the weights using the parameters passed \n",
    "    (Note: not all parameters passed have to be used)\n",
    "    Args:\n",
    "        w: The weight vector, shape: (features, 1)\n",
    "        x: The input data, shape: (num_samples, features)\n",
    "        y_hat: the predicted values of the input, shape: (num_samples, 1)\n",
    "        y: the true values of the input, shape: (num_samples, 1)\n",
    "        l1_coeff: L1 regularization coefficient\n",
    "    Returns:\n",
    "        The gradients of the weight vector, shape: (features, 1)\n",
    "    '''\n",
    "    ### YOUR CODE HERE\n",
    "#     raise NotImplementedError\n",
    "# https://towardsdatascience.com/intuitions-on-l1-and-l2-regularisation-235f2db4c261\n",
    "    n = y.shape[0]\n",
    "    delta = y_hat - y\n",
    "    dW = ( (2 * x.T.dot(delta) ) + np.sign(w) * l1_coeff ) / n\n",
    "    return dW"
   ]
  },
  {
   "cell_type": "markdown",
   "metadata": {},
   "source": [
    "### Next you have to implement the gradient descent update for the weights accoarding to the formula\n",
    "\n",
    "$$w_j:=w_j - \\alpha * \\frac{\\partial LOSS(W)}{\\partial W_j} $$"
   ]
  },
  {
   "cell_type": "code",
   "execution_count": 193,
   "metadata": {},
   "outputs": [],
   "source": [
    "def get_updated_weights(w, w_gradients, learning_rate):\n",
    "    '''\n",
    "    Calculate the new value of the weights after applying the gradient descent weight update rule \n",
    "    Args:\n",
    "        w: The weight vector, shape: (features, 1)\n",
    "        w_gradients: The gradients of the weight vector, shape: (features, 1)\n",
    "        learning_rate: The learning rate of the algorithm, shape: Scaler\n",
    "    Returns:\n",
    "        The updated value of the weights, shape: (features, 1)\n",
    "    '''\n",
    "    ### YOUR CODE HERE\n",
    "#     raise NotImplementedError\n",
    "    return w - learning_rate * w_gradients"
   ]
  },
  {
   "cell_type": "markdown",
   "metadata": {},
   "source": [
    "### Finally implement the training loop, this should simply be<br/> a loop that calls the functions you implemented above"
   ]
  },
  {
   "cell_type": "code",
   "execution_count": 194,
   "metadata": {},
   "outputs": [],
   "source": [
    "def train(epochs, x, y, learning_rate=1e-3, initial_weights=None, l1_coeff=0, initial_b=0):\n",
    "    '''\n",
    "    The main train loop for the algorithm. This performs the gradient update step 'epochs' times.\n",
    "    Args:\n",
    "        x: The input data, shape: (num_samples, features)\n",
    "        y: the true values of the input, shape: (num_samples, 1)\n",
    "        learning_rate: The learning rate of the algorithm, shape: Scaler\n",
    "        initial_weights: The initial weight to start training, this should be passed to continue training\n",
    "    Returns:\n",
    "        The final weight values after applying 'epochs' number of updates on 'initial_weights', shape: (features, 1)\n",
    "    '''\n",
    "    if initial_weights is None:\n",
    "        weight = init_weights(x)\n",
    "    else:\n",
    "        weight = initial_weights\n",
    "    \n",
    "    for epoch in range(epochs):\n",
    "        ### YOUR CODE HERE\n",
    "#         raise NotImplementedError\n",
    "        y_hat = predict(weight, train_x).reshape(-1, 1)\n",
    "        \n",
    "        delta = y_hat - y\n",
    "\n",
    "        dW = get_gradient(weight, x, y_hat, y, l1_coeff)\n",
    "#         dW = ( -(2 * x.T.dot(-delta) ) + np.sign(weight) * l1_coeff ) / x.shape[0]\n",
    "        weight = get_updated_weights(weight, dW, learning_rate)\n",
    "#         weight = weight - learning_rate * dW\n",
    "        \n",
    "        delta = delta.reshape(-1)\n",
    "        meanSquareError = delta.dot(delta)/x.shape[1] # Capture MSE - and?\n",
    "\n",
    "    return weight\n"
   ]
  },
  {
   "cell_type": "markdown",
   "metadata": {},
   "source": [
    "### The cell below will run your code\n",
    "\n",
    "### After 200,000 epochs our results were the following: \n",
    "### Train loss:1.9036887e+08<br/> Valid loss: 4.7176443e+08<br/> Test loss: 1.08308357e+09"
   ]
  },
  {
   "cell_type": "code",
   "execution_count": 195,
   "metadata": {},
   "outputs": [
    {
     "name": "stdout",
     "output_type": "stream",
     "text": [
      "epoch: 10000   Train loss: [[2.4804421e+08]]   Valid loss: [[3.34900642e+08]]\n",
      "epoch: 20000   Train loss: [[2.27315727e+08]]   Valid loss: [[3.5796312e+08]]\n",
      "epoch: 30000   Train loss: [[2.16517742e+08]]   Valid loss: [[3.72254317e+08]]\n",
      "epoch: 40000   Train loss: [[2.09689841e+08]]   Valid loss: [[3.83888202e+08]]\n",
      "epoch: 50000   Train loss: [[2.05042711e+08]]   Valid loss: [[3.94172634e+08]]\n",
      "epoch: 60000   Train loss: [[2.01730763e+08]]   Valid loss: [[4.03437126e+08]]\n",
      "epoch: 70000   Train loss: [[1.99288268e+08]]   Valid loss: [[4.11812646e+08]]\n",
      "epoch: 80000   Train loss: [[1.97437495e+08]]   Valid loss: [[4.19391221e+08]]\n",
      "epoch: 90000   Train loss: [[1.96003669e+08]]   Valid loss: [[4.26255866e+08]]\n",
      "epoch: 100000   Train loss: [[1.94872149e+08]]   Valid loss: [[4.32483734e+08]]\n",
      "epoch: 110000   Train loss: [[1.93965135e+08]]   Valid loss: [[4.3814508e+08]]\n",
      "epoch: 120000   Train loss: [[1.93228301e+08]]   Valid loss: [[4.43302553e+08]]\n",
      "epoch: 130000   Train loss: [[1.92622764e+08]]   Valid loss: [[4.48011256e+08]]\n",
      "epoch: 140000   Train loss: [[1.92120095e+08]]   Valid loss: [[4.5231931e+08]]\n",
      "epoch: 150000   Train loss: [[1.91699114e+08]]   Valid loss: [[4.56268633e+08]]\n",
      "epoch: 160000   Train loss: [[1.91343773e+08]]   Valid loss: [[4.59895749e+08]]\n",
      "epoch: 170000   Train loss: [[1.9104173e+08]]   Valid loss: [[4.63232563e+08]]\n",
      "epoch: 180000   Train loss: [[1.90783367e+08]]   Valid loss: [[4.6630703e+08]]\n",
      "epoch: 190000   Train loss: [[1.90561097e+08]]   Valid loss: [[4.69143745e+08]]\n",
      "epoch: 200000   Train loss: [[1.9036887e+08]]   Valid loss: [[4.7176443e+08]]\n",
      "Final Model -- Test loss: [[1.08308357e+09]]\n",
      "CPU times: user 8min 55s, sys: 48.1 s, total: 9min 44s\n",
      "Wall time: 1min 6s\n"
     ]
    }
   ],
   "source": [
    "%%time\n",
    "w = None\n",
    "weights=[]\n",
    "l1_coeff = .0001\n",
    "for i in range(20):\n",
    "    w = train(10000, train_x, train_y, learning_rate=5e-3, l1_coeff=l1_coeff, initial_weights=w)\n",
    "    weights.append(w)\n",
    "    print('epoch:', (i+1)*10000, end='   ')\n",
    "    print('Train loss:', loss(predict(w, train_x), train_y), end='   ')\n",
    "    print('Valid loss:', loss(predict(w, valid_x), valid_y))\n",
    "print('Final Model -- Test loss:', loss(predict(w, test_x), test_y))"
   ]
  },
  {
   "cell_type": "markdown",
   "metadata": {},
   "source": [
    "### The cell below shows us how the prediction improves while training over the span of 200,000 epochs ( By steps of 10000 epochs)"
   ]
  },
  {
   "cell_type": "code",
   "execution_count": 196,
   "metadata": {},
   "outputs": [
    {
     "data": {
      "image/png": "[encoded data removed]",
      "text/plain": [
       "<Figure size 720x576 with 1 Axes>"
      ]
     },
     "metadata": {
      "needs_background": "light"
     },
     "output_type": "display_data"
    }
   ],
   "source": [
    "import IPython\n",
    "for w in weights:   \n",
    "    IPython.display.clear_output(wait=True)\n",
    "    pd.DataFrame({'Actual': train_y.flatten(), 'Predicted': predict(w,train_x).flatten()}).head(15).plot(kind='bar',figsize=(10,8))\n",
    "    plt.show()"
   ]
  },
  {
   "cell_type": "code",
   "execution_count": null,
   "metadata": {},
   "outputs": [],
   "source": []
  }
 ],
 "metadata": {
  "kernelspec": {
   "display_name": "Python 3",
   "language": "python",
   "name": "python3"
  },
  "language_info": {
   "codemirror_mode": {
    "name": "ipython",
    "version": 3
   },
   "file_extension": ".py",
   "mimetype": "text/x-python",
   "name": "python",
   "nbconvert_exporter": "python",
   "pygments_lexer": "ipython3",
   "version": "3.7.4"
  }
 },
 "nbformat": 4,
 "nbformat_minor": 4
}
