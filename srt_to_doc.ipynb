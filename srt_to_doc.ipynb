!pip install pysrt
import pysrt
subs = pysrt.open("input_file.srt")

for sub in subs:
    print(sub.text)
    print()
