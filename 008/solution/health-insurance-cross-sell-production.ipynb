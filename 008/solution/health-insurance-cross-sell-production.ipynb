{
 "cells": [
  {
   "cell_type": "code",
   "execution_count": 1,
   "metadata": {
    "_cell_guid": "b1076dfc-b9ad-4769-8c92-a6c4dae69d19",
    "_uuid": "8f2839f25d086af736a60e9eeb907d3b93b6e0e5",
    "execution": {
     "iopub.execute_input": "2020-09-18T12:19:27.271128Z",
     "iopub.status.busy": "2020-09-18T12:19:27.270513Z",
     "iopub.status.idle": "2020-09-18T12:19:27.280541Z",
     "shell.execute_reply": "2020-09-18T12:19:27.279629Z"
    },
    "papermill": {
     "duration": 0.024267,
     "end_time": "2020-09-18T12:19:27.280734",
     "exception": false,
     "start_time": "2020-09-18T12:19:27.256467",
     "status": "completed"
    },
    "tags": []
   },
   "outputs": [
    {
     "name": "stdout",
     "output_type": "stream",
     "text": [
      "/kaggle/input/health-insurance-cross-sell-prediction/sample_submission.csv\n",
      "/kaggle/input/health-insurance-cross-sell-prediction/test.csv\n",
      "/kaggle/input/health-insurance-cross-sell-prediction/train.csv\n"
     ]
    }
   ],
   "source": [
    "# This Python 3 environment comes with many helpful analytics libraries installed\n",
    "# It is defined by the kaggle/python Docker image: https://github.com/kaggle/docker-python\n",
    "# For example, here's several helpful packages to load\n",
    "\n",
    "import numpy as np # linear algebra\n",
    "import pandas as pd # data processing, CSV file I/O (e.g. pd.read_csv)\n",
    "\n",
    "# Input data files are available in the read-only \"../input/\" directory\n",
    "# For example, running this (by clicking run or pressing Shift+Enter) will list all files under the input directory\n",
    "\n",
    "import os\n",
    "for dirname, _, filenames in os.walk('/kaggle/input'):\n",
    "    for filename in filenames:\n",
    "        print(os.path.join(dirname, filename))\n",
    "\n",
    "# You can write up to 5GB to the current directory (/kaggle/working/) that gets preserved as output when you create a version using \"Save & Run All\" \n",
    "# You can also write temporary files to /kaggle/temp/, but they won't be saved outside of the current session"
   ]
  },
  {
   "cell_type": "code",
   "execution_count": 2,
   "metadata": {
    "_cell_guid": "79c7e3d0-c299-4dcb-8224-4455121ee9b0",
    "_uuid": "d629ff2d2480ee46fbb7e2d37f6b5fab8052498a",
    "execution": {
     "iopub.execute_input": "2020-09-18T12:19:27.309199Z",
     "iopub.status.busy": "2020-09-18T12:19:27.308266Z",
     "iopub.status.idle": "2020-09-18T12:19:28.666788Z",
     "shell.execute_reply": "2020-09-18T12:19:28.666143Z"
    },
    "papermill": {
     "duration": 1.373193,
     "end_time": "2020-09-18T12:19:28.666899",
     "exception": false,
     "start_time": "2020-09-18T12:19:27.293706",
     "status": "completed"
    },
    "tags": []
   },
   "outputs": [],
   "source": [
    "import matplotlib.pyplot as plt\n",
    "import seaborn as sns\n",
    "sns.set_style(\"darkgrid\")\n",
    "plt.style.use('ggplot')\n",
    "from sklearn.model_selection import train_test_split\n",
    "from sklearn.linear_model import LogisticRegression\n",
    "from sklearn.metrics import roc_auc_score"
   ]
  },
  {
   "cell_type": "code",
   "execution_count": 3,
   "metadata": {
    "execution": {
     "iopub.execute_input": "2020-09-18T12:19:28.697232Z",
     "iopub.status.busy": "2020-09-18T12:19:28.696641Z",
     "iopub.status.idle": "2020-09-18T12:19:29.114091Z",
     "shell.execute_reply": "2020-09-18T12:19:29.113571Z"
    },
    "papermill": {
     "duration": 0.435234,
     "end_time": "2020-09-18T12:19:29.114204",
     "exception": false,
     "start_time": "2020-09-18T12:19:28.678970",
     "status": "completed"
    },
    "tags": []
   },
   "outputs": [
    {
     "data": {
      "text/html": [
       "<div>\n",
       "<style scoped>\n",
       "    .dataframe tbody tr th:only-of-type {\n",
       "        vertical-align: middle;\n",
       "    }\n",
       "\n",
       "    .dataframe tbody tr th {\n",
       "        vertical-align: top;\n",
       "    }\n",
       "\n",
       "    .dataframe thead th {\n",
       "        text-align: right;\n",
       "    }\n",
       "</style>\n",
       "<table border=\"1\" class=\"dataframe\">\n",
       "  <thead>\n",
       "    <tr style=\"text-align: right;\">\n",
       "      <th></th>\n",
       "      <th>id</th>\n",
       "      <th>Gender</th>\n",
       "      <th>Age</th>\n",
       "      <th>Driving_License</th>\n",
       "      <th>Region_Code</th>\n",
       "      <th>Previously_Insured</th>\n",
       "      <th>Vehicle_Age</th>\n",
       "      <th>Vehicle_Damage</th>\n",
       "      <th>Annual_Premium</th>\n",
       "      <th>Policy_Sales_Channel</th>\n",
       "      <th>Vintage</th>\n",
       "      <th>Response</th>\n",
       "    </tr>\n",
       "  </thead>\n",
       "  <tbody>\n",
       "    <tr>\n",
       "      <th>0</th>\n",
       "      <td>1</td>\n",
       "      <td>Male</td>\n",
       "      <td>44</td>\n",
       "      <td>1</td>\n",
       "      <td>28.0</td>\n",
       "      <td>0</td>\n",
       "      <td>&gt; 2 Years</td>\n",
       "      <td>Yes</td>\n",
       "      <td>40454.0</td>\n",
       "      <td>26.0</td>\n",
       "      <td>217</td>\n",
       "      <td>1</td>\n",
       "    </tr>\n",
       "    <tr>\n",
       "      <th>1</th>\n",
       "      <td>2</td>\n",
       "      <td>Male</td>\n",
       "      <td>76</td>\n",
       "      <td>1</td>\n",
       "      <td>3.0</td>\n",
       "      <td>0</td>\n",
       "      <td>1-2 Year</td>\n",
       "      <td>No</td>\n",
       "      <td>33536.0</td>\n",
       "      <td>26.0</td>\n",
       "      <td>183</td>\n",
       "      <td>0</td>\n",
       "    </tr>\n",
       "    <tr>\n",
       "      <th>2</th>\n",
       "      <td>3</td>\n",
       "      <td>Male</td>\n",
       "      <td>47</td>\n",
       "      <td>1</td>\n",
       "      <td>28.0</td>\n",
       "      <td>0</td>\n",
       "      <td>&gt; 2 Years</td>\n",
       "      <td>Yes</td>\n",
       "      <td>38294.0</td>\n",
       "      <td>26.0</td>\n",
       "      <td>27</td>\n",
       "      <td>1</td>\n",
       "    </tr>\n",
       "    <tr>\n",
       "      <th>3</th>\n",
       "      <td>4</td>\n",
       "      <td>Male</td>\n",
       "      <td>21</td>\n",
       "      <td>1</td>\n",
       "      <td>11.0</td>\n",
       "      <td>1</td>\n",
       "      <td>&lt; 1 Year</td>\n",
       "      <td>No</td>\n",
       "      <td>28619.0</td>\n",
       "      <td>152.0</td>\n",
       "      <td>203</td>\n",
       "      <td>0</td>\n",
       "    </tr>\n",
       "    <tr>\n",
       "      <th>4</th>\n",
       "      <td>5</td>\n",
       "      <td>Female</td>\n",
       "      <td>29</td>\n",
       "      <td>1</td>\n",
       "      <td>41.0</td>\n",
       "      <td>1</td>\n",
       "      <td>&lt; 1 Year</td>\n",
       "      <td>No</td>\n",
       "      <td>27496.0</td>\n",
       "      <td>152.0</td>\n",
       "      <td>39</td>\n",
       "      <td>0</td>\n",
       "    </tr>\n",
       "  </tbody>\n",
       "</table>\n",
       "</div>"
      ],
      "text/plain": [
       "   id  Gender  Age  Driving_License  Region_Code  Previously_Insured  \\\n",
       "0   1    Male   44                1         28.0                   0   \n",
       "1   2    Male   76                1          3.0                   0   \n",
       "2   3    Male   47                1         28.0                   0   \n",
       "3   4    Male   21                1         11.0                   1   \n",
       "4   5  Female   29                1         41.0                   1   \n",
       "\n",
       "  Vehicle_Age Vehicle_Damage  Annual_Premium  Policy_Sales_Channel  Vintage  \\\n",
       "0   > 2 Years            Yes         40454.0                  26.0      217   \n",
       "1    1-2 Year             No         33536.0                  26.0      183   \n",
       "2   > 2 Years            Yes         38294.0                  26.0       27   \n",
       "3    < 1 Year             No         28619.0                 152.0      203   \n",
       "4    < 1 Year             No         27496.0                 152.0       39   \n",
       "\n",
       "   Response  \n",
       "0         1  \n",
       "1         0  \n",
       "2         1  \n",
       "3         0  \n",
       "4         0  "
      ]
     },
     "execution_count": 3,
     "metadata": {},
     "output_type": "execute_result"
    }
   ],
   "source": [
    "trainData = pd.read_csv('../input/health-insurance-cross-sell-prediction/train.csv')\n",
    "trainData.head()"
   ]
  },
  {
   "cell_type": "code",
   "execution_count": 4,
   "metadata": {
    "execution": {
     "iopub.execute_input": "2020-09-18T12:19:29.144785Z",
     "iopub.status.busy": "2020-09-18T12:19:29.144202Z",
     "iopub.status.idle": "2020-09-18T12:19:29.288244Z",
     "shell.execute_reply": "2020-09-18T12:19:29.287678Z"
    },
    "papermill": {
     "duration": 0.160084,
     "end_time": "2020-09-18T12:19:29.288379",
     "exception": false,
     "start_time": "2020-09-18T12:19:29.128295",
     "status": "completed"
    },
    "tags": []
   },
   "outputs": [
    {
     "data": {
      "text/html": [
       "<div>\n",
       "<style scoped>\n",
       "    .dataframe tbody tr th:only-of-type {\n",
       "        vertical-align: middle;\n",
       "    }\n",
       "\n",
       "    .dataframe tbody tr th {\n",
       "        vertical-align: top;\n",
       "    }\n",
       "\n",
       "    .dataframe thead th {\n",
       "        text-align: right;\n",
       "    }\n",
       "</style>\n",
       "<table border=\"1\" class=\"dataframe\">\n",
       "  <thead>\n",
       "    <tr style=\"text-align: right;\">\n",
       "      <th></th>\n",
       "      <th>id</th>\n",
       "      <th>Gender</th>\n",
       "      <th>Age</th>\n",
       "      <th>Driving_License</th>\n",
       "      <th>Region_Code</th>\n",
       "      <th>Previously_Insured</th>\n",
       "      <th>Vehicle_Age</th>\n",
       "      <th>Vehicle_Damage</th>\n",
       "      <th>Annual_Premium</th>\n",
       "      <th>Policy_Sales_Channel</th>\n",
       "      <th>Vintage</th>\n",
       "    </tr>\n",
       "  </thead>\n",
       "  <tbody>\n",
       "    <tr>\n",
       "      <th>0</th>\n",
       "      <td>381110</td>\n",
       "      <td>Male</td>\n",
       "      <td>25</td>\n",
       "      <td>1</td>\n",
       "      <td>11.0</td>\n",
       "      <td>1</td>\n",
       "      <td>&lt; 1 Year</td>\n",
       "      <td>No</td>\n",
       "      <td>35786.0</td>\n",
       "      <td>152.0</td>\n",
       "      <td>53</td>\n",
       "    </tr>\n",
       "    <tr>\n",
       "      <th>1</th>\n",
       "      <td>381111</td>\n",
       "      <td>Male</td>\n",
       "      <td>40</td>\n",
       "      <td>1</td>\n",
       "      <td>28.0</td>\n",
       "      <td>0</td>\n",
       "      <td>1-2 Year</td>\n",
       "      <td>Yes</td>\n",
       "      <td>33762.0</td>\n",
       "      <td>7.0</td>\n",
       "      <td>111</td>\n",
       "    </tr>\n",
       "    <tr>\n",
       "      <th>2</th>\n",
       "      <td>381112</td>\n",
       "      <td>Male</td>\n",
       "      <td>47</td>\n",
       "      <td>1</td>\n",
       "      <td>28.0</td>\n",
       "      <td>0</td>\n",
       "      <td>1-2 Year</td>\n",
       "      <td>Yes</td>\n",
       "      <td>40050.0</td>\n",
       "      <td>124.0</td>\n",
       "      <td>199</td>\n",
       "    </tr>\n",
       "    <tr>\n",
       "      <th>3</th>\n",
       "      <td>381113</td>\n",
       "      <td>Male</td>\n",
       "      <td>24</td>\n",
       "      <td>1</td>\n",
       "      <td>27.0</td>\n",
       "      <td>1</td>\n",
       "      <td>&lt; 1 Year</td>\n",
       "      <td>Yes</td>\n",
       "      <td>37356.0</td>\n",
       "      <td>152.0</td>\n",
       "      <td>187</td>\n",
       "    </tr>\n",
       "    <tr>\n",
       "      <th>4</th>\n",
       "      <td>381114</td>\n",
       "      <td>Male</td>\n",
       "      <td>27</td>\n",
       "      <td>1</td>\n",
       "      <td>28.0</td>\n",
       "      <td>1</td>\n",
       "      <td>&lt; 1 Year</td>\n",
       "      <td>No</td>\n",
       "      <td>59097.0</td>\n",
       "      <td>152.0</td>\n",
       "      <td>297</td>\n",
       "    </tr>\n",
       "  </tbody>\n",
       "</table>\n",
       "</div>"
      ],
      "text/plain": [
       "       id Gender  Age  Driving_License  Region_Code  Previously_Insured  \\\n",
       "0  381110   Male   25                1         11.0                   1   \n",
       "1  381111   Male   40                1         28.0                   0   \n",
       "2  381112   Male   47                1         28.0                   0   \n",
       "3  381113   Male   24                1         27.0                   1   \n",
       "4  381114   Male   27                1         28.0                   1   \n",
       "\n",
       "  Vehicle_Age Vehicle_Damage  Annual_Premium  Policy_Sales_Channel  Vintage  \n",
       "0    < 1 Year             No         35786.0                 152.0       53  \n",
       "1    1-2 Year            Yes         33762.0                   7.0      111  \n",
       "2    1-2 Year            Yes         40050.0                 124.0      199  \n",
       "3    < 1 Year            Yes         37356.0                 152.0      187  \n",
       "4    < 1 Year             No         59097.0                 152.0      297  "
      ]
     },
     "execution_count": 4,
     "metadata": {},
     "output_type": "execute_result"
    }
   ],
   "source": [
    "testData = pd.read_csv('../input/health-insurance-cross-sell-prediction/test.csv')\n",
    "testData.head()"
   ]
  },
  {
   "cell_type": "code",
   "execution_count": 5,
   "metadata": {
    "execution": {
     "iopub.execute_input": "2020-09-18T12:19:29.320985Z",
     "iopub.status.busy": "2020-09-18T12:19:29.320293Z",
     "iopub.status.idle": "2020-09-18T12:19:29.413588Z",
     "shell.execute_reply": "2020-09-18T12:19:29.412797Z"
    },
    "papermill": {
     "duration": 0.113144,
     "end_time": "2020-09-18T12:19:29.413738",
     "exception": false,
     "start_time": "2020-09-18T12:19:29.300594",
     "status": "completed"
    },
    "tags": []
   },
   "outputs": [
    {
     "name": "stdout",
     "output_type": "stream",
     "text": [
      "<class 'pandas.core.frame.DataFrame'>\n",
      "RangeIndex: 381109 entries, 0 to 381108\n",
      "Data columns (total 11 columns):\n",
      " #   Column                Non-Null Count   Dtype  \n",
      "---  ------                --------------   -----  \n",
      " 0   Gender                381109 non-null  object \n",
      " 1   Age                   381109 non-null  int64  \n",
      " 2   Driving_License       381109 non-null  int64  \n",
      " 3   Region_Code           381109 non-null  float64\n",
      " 4   Previously_Insured    381109 non-null  int64  \n",
      " 5   Vehicle_Age           381109 non-null  object \n",
      " 6   Vehicle_Damage        381109 non-null  object \n",
      " 7   Annual_Premium        381109 non-null  float64\n",
      " 8   Policy_Sales_Channel  381109 non-null  float64\n",
      " 9   Vintage               381109 non-null  int64  \n",
      " 10  Response              381109 non-null  int64  \n",
      "dtypes: float64(3), int64(5), object(3)\n",
      "memory usage: 32.0+ MB\n"
     ]
    }
   ],
   "source": [
    "trainData = trainData.drop(['id'], axis = 1)\n",
    "trainData.info()"
   ]
  },
  {
   "cell_type": "code",
   "execution_count": 6,
   "metadata": {
    "execution": {
     "iopub.execute_input": "2020-09-18T12:19:29.445955Z",
     "iopub.status.busy": "2020-09-18T12:19:29.445373Z",
     "iopub.status.idle": "2020-09-18T12:19:29.479766Z",
     "shell.execute_reply": "2020-09-18T12:19:29.478887Z"
    },
    "papermill": {
     "duration": 0.052434,
     "end_time": "2020-09-18T12:19:29.479952",
     "exception": false,
     "start_time": "2020-09-18T12:19:29.427518",
     "status": "completed"
    },
    "tags": []
   },
   "outputs": [
    {
     "name": "stdout",
     "output_type": "stream",
     "text": [
      "<class 'pandas.core.frame.DataFrame'>\n",
      "RangeIndex: 127037 entries, 0 to 127036\n",
      "Data columns (total 10 columns):\n",
      " #   Column                Non-Null Count   Dtype  \n",
      "---  ------                --------------   -----  \n",
      " 0   Gender                127037 non-null  object \n",
      " 1   Age                   127037 non-null  int64  \n",
      " 2   Driving_License       127037 non-null  int64  \n",
      " 3   Region_Code           127037 non-null  float64\n",
      " 4   Previously_Insured    127037 non-null  int64  \n",
      " 5   Vehicle_Age           127037 non-null  object \n",
      " 6   Vehicle_Damage        127037 non-null  object \n",
      " 7   Annual_Premium        127037 non-null  float64\n",
      " 8   Policy_Sales_Channel  127037 non-null  float64\n",
      " 9   Vintage               127037 non-null  int64  \n",
      "dtypes: float64(3), int64(4), object(3)\n",
      "memory usage: 9.7+ MB\n"
     ]
    }
   ],
   "source": [
    "testData = testData.drop(['id'], axis = 1)\n",
    "testData.info()"
   ]
  },
  {
   "cell_type": "code",
   "execution_count": 7,
   "metadata": {
    "execution": {
     "iopub.execute_input": "2020-09-18T12:19:29.560385Z",
     "iopub.status.busy": "2020-09-18T12:19:29.559175Z",
     "iopub.status.idle": "2020-09-18T12:19:29.599457Z",
     "shell.execute_reply": "2020-09-18T12:19:29.598969Z"
    },
    "papermill": {
     "duration": 0.104814,
     "end_time": "2020-09-18T12:19:29.599561",
     "exception": false,
     "start_time": "2020-09-18T12:19:29.494747",
     "status": "completed"
    },
    "tags": []
   },
   "outputs": [
    {
     "name": "stdout",
     "output_type": "stream",
     "text": [
      "Gender                  0\n",
      "Age                     0\n",
      "Driving_License         0\n",
      "Region_Code             0\n",
      "Previously_Insured      0\n",
      "Vehicle_Age             0\n",
      "Vehicle_Damage          0\n",
      "Annual_Premium          0\n",
      "Policy_Sales_Channel    0\n",
      "Vintage                 0\n",
      "Response                0\n",
      "dtype: int64\n",
      " \n",
      "Gender                  0\n",
      "Age                     0\n",
      "Driving_License         0\n",
      "Region_Code             0\n",
      "Previously_Insured      0\n",
      "Vehicle_Age             0\n",
      "Vehicle_Damage          0\n",
      "Annual_Premium          0\n",
      "Policy_Sales_Channel    0\n",
      "Vintage                 0\n",
      "dtype: int64\n"
     ]
    }
   ],
   "source": [
    "#Checking for null values\n",
    "print(trainData.isnull().sum())\n",
    "print(\" \")\n",
    "print(testData.isnull().sum())"
   ]
  },
  {
   "cell_type": "markdown",
   "metadata": {
    "papermill": {
     "duration": 0.012501,
     "end_time": "2020-09-18T12:19:29.624994",
     "exception": false,
     "start_time": "2020-09-18T12:19:29.612493",
     "status": "completed"
    },
    "tags": []
   },
   "source": [
    "No value is null"
   ]
  },
  {
   "cell_type": "code",
   "execution_count": 8,
   "metadata": {
    "execution": {
     "iopub.execute_input": "2020-09-18T12:19:29.655439Z",
     "iopub.status.busy": "2020-09-18T12:19:29.654584Z",
     "iopub.status.idle": "2020-09-18T12:19:29.792002Z",
     "shell.execute_reply": "2020-09-18T12:19:29.791528Z"
    },
    "papermill": {
     "duration": 0.154397,
     "end_time": "2020-09-18T12:19:29.792104",
     "exception": false,
     "start_time": "2020-09-18T12:19:29.637707",
     "status": "completed"
    },
    "tags": []
   },
   "outputs": [
    {
     "data": {
      "text/plain": [
       "<matplotlib.axes._subplots.AxesSubplot at 0x7f9b165ed4d0>"
      ]
     },
     "execution_count": 8,
     "metadata": {},
     "output_type": "execute_result"
    },
    {
     "data": {
      "image/png": "[encoded data removed]",
      "text/plain": [
       "<Figure size 432x288 with 1 Axes>"
      ]
     },
     "metadata": {},
     "output_type": "display_data"
    }
   ],
   "source": [
    "trainData[\"Response\"].value_counts().plot.pie(colormap = \"summer\")"
   ]
  },
  {
   "cell_type": "code",
   "execution_count": 9,
   "metadata": {
    "execution": {
     "iopub.execute_input": "2020-09-18T12:19:29.830535Z",
     "iopub.status.busy": "2020-09-18T12:19:29.829400Z",
     "iopub.status.idle": "2020-09-18T12:19:30.371485Z",
     "shell.execute_reply": "2020-09-18T12:19:30.370699Z"
    },
    "papermill": {
     "duration": 0.564813,
     "end_time": "2020-09-18T12:19:30.371594",
     "exception": false,
     "start_time": "2020-09-18T12:19:29.806781",
     "status": "completed"
    },
    "tags": []
   },
   "outputs": [],
   "source": [
    "#Getting data in numerical entities\n",
    "\n",
    "###Gender\n",
    "def Gender(gen):\n",
    "    if gen == 'Female':\n",
    "        return 1\n",
    "    else:\n",
    "        return 0\n",
    "trainData['Gender'] = trainData['Gender'].apply(Gender)\n",
    "testData['Gender'] = testData['Gender'].apply(Gender)\n",
    "\n",
    "###Vehicle Age\n",
    "def VehicleAge(age):\n",
    "    if age == '<1':\n",
    "        return 0\n",
    "    elif age == '1-2':\n",
    "        return 1\n",
    "    else:\n",
    "        return 2\n",
    "trainData['Vehicle_Age'] = trainData['Vehicle_Age'].apply(VehicleAge)    \n",
    "testData['Vehicle_Age'] = testData['Vehicle_Age'].apply(VehicleAge)    \n",
    "\n",
    "###Vehicle Damage\n",
    "def VehicleDamage(damage):\n",
    "    if damage == 'Yes':\n",
    "        return 1\n",
    "    else:\n",
    "        return 0\n",
    "trainData['Vehicle_Damage'] = trainData['Vehicle_Damage'].apply(VehicleDamage)\n",
    "testData['Vehicle_Damage'] = testData['Vehicle_Damage'].apply(VehicleDamage)\n"
   ]
  },
  {
   "cell_type": "code",
   "execution_count": 10,
   "metadata": {
    "execution": {
     "iopub.execute_input": "2020-09-18T12:19:30.404940Z",
     "iopub.status.busy": "2020-09-18T12:19:30.404337Z",
     "iopub.status.idle": "2020-09-18T12:19:30.448155Z",
     "shell.execute_reply": "2020-09-18T12:19:30.447215Z"
    },
    "papermill": {
     "duration": 0.062666,
     "end_time": "2020-09-18T12:19:30.448271",
     "exception": false,
     "start_time": "2020-09-18T12:19:30.385605",
     "status": "completed"
    },
    "tags": []
   },
   "outputs": [
    {
     "data": {
      "text/html": [
       "<div>\n",
       "<style scoped>\n",
       "    .dataframe tbody tr th:only-of-type {\n",
       "        vertical-align: middle;\n",
       "    }\n",
       "\n",
       "    .dataframe tbody tr th {\n",
       "        vertical-align: top;\n",
       "    }\n",
       "\n",
       "    .dataframe thead th {\n",
       "        text-align: right;\n",
       "    }\n",
       "</style>\n",
       "<table border=\"1\" class=\"dataframe\">\n",
       "  <thead>\n",
       "    <tr style=\"text-align: right;\">\n",
       "      <th></th>\n",
       "      <th>Gender</th>\n",
       "      <th>Age</th>\n",
       "      <th>Region_Code</th>\n",
       "      <th>Previously_Insured</th>\n",
       "      <th>Vehicle_Age</th>\n",
       "      <th>Vehicle_Damage</th>\n",
       "      <th>Annual_Premium</th>\n",
       "      <th>Policy_Sales_Channel</th>\n",
       "      <th>Vintage</th>\n",
       "      <th>Response</th>\n",
       "    </tr>\n",
       "  </thead>\n",
       "  <tbody>\n",
       "    <tr>\n",
       "      <th>0</th>\n",
       "      <td>0</td>\n",
       "      <td>44</td>\n",
       "      <td>28.0</td>\n",
       "      <td>0</td>\n",
       "      <td>2</td>\n",
       "      <td>1</td>\n",
       "      <td>40454.0</td>\n",
       "      <td>26.0</td>\n",
       "      <td>217</td>\n",
       "      <td>1</td>\n",
       "    </tr>\n",
       "    <tr>\n",
       "      <th>1</th>\n",
       "      <td>0</td>\n",
       "      <td>76</td>\n",
       "      <td>3.0</td>\n",
       "      <td>0</td>\n",
       "      <td>2</td>\n",
       "      <td>0</td>\n",
       "      <td>33536.0</td>\n",
       "      <td>26.0</td>\n",
       "      <td>183</td>\n",
       "      <td>0</td>\n",
       "    </tr>\n",
       "    <tr>\n",
       "      <th>2</th>\n",
       "      <td>0</td>\n",
       "      <td>47</td>\n",
       "      <td>28.0</td>\n",
       "      <td>0</td>\n",
       "      <td>2</td>\n",
       "      <td>1</td>\n",
       "      <td>38294.0</td>\n",
       "      <td>26.0</td>\n",
       "      <td>27</td>\n",
       "      <td>1</td>\n",
       "    </tr>\n",
       "    <tr>\n",
       "      <th>3</th>\n",
       "      <td>0</td>\n",
       "      <td>21</td>\n",
       "      <td>11.0</td>\n",
       "      <td>1</td>\n",
       "      <td>2</td>\n",
       "      <td>0</td>\n",
       "      <td>28619.0</td>\n",
       "      <td>152.0</td>\n",
       "      <td>203</td>\n",
       "      <td>0</td>\n",
       "    </tr>\n",
       "    <tr>\n",
       "      <th>4</th>\n",
       "      <td>1</td>\n",
       "      <td>29</td>\n",
       "      <td>41.0</td>\n",
       "      <td>1</td>\n",
       "      <td>2</td>\n",
       "      <td>0</td>\n",
       "      <td>27496.0</td>\n",
       "      <td>152.0</td>\n",
       "      <td>39</td>\n",
       "      <td>0</td>\n",
       "    </tr>\n",
       "  </tbody>\n",
       "</table>\n",
       "</div>"
      ],
      "text/plain": [
       "   Gender  Age  Region_Code  Previously_Insured  Vehicle_Age  Vehicle_Damage  \\\n",
       "0       0   44         28.0                   0            2               1   \n",
       "1       0   76          3.0                   0            2               0   \n",
       "2       0   47         28.0                   0            2               1   \n",
       "3       0   21         11.0                   1            2               0   \n",
       "4       1   29         41.0                   1            2               0   \n",
       "\n",
       "   Annual_Premium  Policy_Sales_Channel  Vintage  Response  \n",
       "0         40454.0                  26.0      217         1  \n",
       "1         33536.0                  26.0      183         0  \n",
       "2         38294.0                  26.0       27         1  \n",
       "3         28619.0                 152.0      203         0  \n",
       "4         27496.0                 152.0       39         0  "
      ]
     },
     "execution_count": 10,
     "metadata": {},
     "output_type": "execute_result"
    }
   ],
   "source": [
    "trainData = trainData.drop(['Driving_License'], axis = 1)\n",
    "trainData.head()"
   ]
  },
  {
   "cell_type": "code",
   "execution_count": 11,
   "metadata": {
    "execution": {
     "iopub.execute_input": "2020-09-18T12:19:30.483031Z",
     "iopub.status.busy": "2020-09-18T12:19:30.482418Z",
     "iopub.status.idle": "2020-09-18T12:19:30.502157Z",
     "shell.execute_reply": "2020-09-18T12:19:30.502685Z"
    },
    "papermill": {
     "duration": 0.039817,
     "end_time": "2020-09-18T12:19:30.502826",
     "exception": false,
     "start_time": "2020-09-18T12:19:30.463009",
     "status": "completed"
    },
    "tags": []
   },
   "outputs": [
    {
     "data": {
      "text/html": [
       "<div>\n",
       "<style scoped>\n",
       "    .dataframe tbody tr th:only-of-type {\n",
       "        vertical-align: middle;\n",
       "    }\n",
       "\n",
       "    .dataframe tbody tr th {\n",
       "        vertical-align: top;\n",
       "    }\n",
       "\n",
       "    .dataframe thead th {\n",
       "        text-align: right;\n",
       "    }\n",
       "</style>\n",
       "<table border=\"1\" class=\"dataframe\">\n",
       "  <thead>\n",
       "    <tr style=\"text-align: right;\">\n",
       "      <th></th>\n",
       "      <th>Gender</th>\n",
       "      <th>Age</th>\n",
       "      <th>Region_Code</th>\n",
       "      <th>Previously_Insured</th>\n",
       "      <th>Vehicle_Age</th>\n",
       "      <th>Vehicle_Damage</th>\n",
       "      <th>Annual_Premium</th>\n",
       "      <th>Policy_Sales_Channel</th>\n",
       "      <th>Vintage</th>\n",
       "    </tr>\n",
       "  </thead>\n",
       "  <tbody>\n",
       "    <tr>\n",
       "      <th>0</th>\n",
       "      <td>0</td>\n",
       "      <td>25</td>\n",
       "      <td>11.0</td>\n",
       "      <td>1</td>\n",
       "      <td>2</td>\n",
       "      <td>0</td>\n",
       "      <td>35786.0</td>\n",
       "      <td>152.0</td>\n",
       "      <td>53</td>\n",
       "    </tr>\n",
       "    <tr>\n",
       "      <th>1</th>\n",
       "      <td>0</td>\n",
       "      <td>40</td>\n",
       "      <td>28.0</td>\n",
       "      <td>0</td>\n",
       "      <td>2</td>\n",
       "      <td>1</td>\n",
       "      <td>33762.0</td>\n",
       "      <td>7.0</td>\n",
       "      <td>111</td>\n",
       "    </tr>\n",
       "    <tr>\n",
       "      <th>2</th>\n",
       "      <td>0</td>\n",
       "      <td>47</td>\n",
       "      <td>28.0</td>\n",
       "      <td>0</td>\n",
       "      <td>2</td>\n",
       "      <td>1</td>\n",
       "      <td>40050.0</td>\n",
       "      <td>124.0</td>\n",
       "      <td>199</td>\n",
       "    </tr>\n",
       "    <tr>\n",
       "      <th>3</th>\n",
       "      <td>0</td>\n",
       "      <td>24</td>\n",
       "      <td>27.0</td>\n",
       "      <td>1</td>\n",
       "      <td>2</td>\n",
       "      <td>1</td>\n",
       "      <td>37356.0</td>\n",
       "      <td>152.0</td>\n",
       "      <td>187</td>\n",
       "    </tr>\n",
       "    <tr>\n",
       "      <th>4</th>\n",
       "      <td>0</td>\n",
       "      <td>27</td>\n",
       "      <td>28.0</td>\n",
       "      <td>1</td>\n",
       "      <td>2</td>\n",
       "      <td>0</td>\n",
       "      <td>59097.0</td>\n",
       "      <td>152.0</td>\n",
       "      <td>297</td>\n",
       "    </tr>\n",
       "  </tbody>\n",
       "</table>\n",
       "</div>"
      ],
      "text/plain": [
       "   Gender  Age  Region_Code  Previously_Insured  Vehicle_Age  Vehicle_Damage  \\\n",
       "0       0   25         11.0                   1            2               0   \n",
       "1       0   40         28.0                   0            2               1   \n",
       "2       0   47         28.0                   0            2               1   \n",
       "3       0   24         27.0                   1            2               1   \n",
       "4       0   27         28.0                   1            2               0   \n",
       "\n",
       "   Annual_Premium  Policy_Sales_Channel  Vintage  \n",
       "0         35786.0                 152.0       53  \n",
       "1         33762.0                   7.0      111  \n",
       "2         40050.0                 124.0      199  \n",
       "3         37356.0                 152.0      187  \n",
       "4         59097.0                 152.0      297  "
      ]
     },
     "execution_count": 11,
     "metadata": {},
     "output_type": "execute_result"
    }
   ],
   "source": [
    "testData= testData.drop(['Driving_License'], axis=1)\n",
    "testData.head()"
   ]
  },
  {
   "cell_type": "code",
   "execution_count": 12,
   "metadata": {
    "execution": {
     "iopub.execute_input": "2020-09-18T12:19:30.545350Z",
     "iopub.status.busy": "2020-09-18T12:19:30.544048Z",
     "iopub.status.idle": "2020-09-18T12:19:31.198287Z",
     "shell.execute_reply": "2020-09-18T12:19:31.197813Z"
    },
    "papermill": {
     "duration": 0.679765,
     "end_time": "2020-09-18T12:19:31.198444",
     "exception": false,
     "start_time": "2020-09-18T12:19:30.518679",
     "status": "completed"
    },
    "tags": []
   },
   "outputs": [
    {
     "data": {
      "text/plain": [
       "<matplotlib.axes._subplots.AxesSubplot at 0x7f9b164140d0>"
      ]
     },
     "execution_count": 12,
     "metadata": {},
     "output_type": "execute_result"
    },
    {
     "data": {
      "image/png": "[encoded data removed]",
      "text/plain": [
       "<Figure size 864x576 with 2 Axes>"
      ]
     },
     "metadata": {},
     "output_type": "display_data"
    }
   ],
   "source": [
    "plt.figure(figsize=(12, 8))\n",
    "sns.heatmap(trainData.corr(), annot=True,vmin=-1, vmax=1, center= 0, cmap= 'coolwarm', linewidths=3, linecolor='black')"
   ]
  },
  {
   "cell_type": "markdown",
   "metadata": {
    "papermill": {
     "duration": 0.017599,
     "end_time": "2020-09-18T12:19:31.233512",
     "exception": false,
     "start_time": "2020-09-18T12:19:31.215913",
     "status": "completed"
    },
    "tags": []
   },
   "source": [
    "**I am figuring out this correlation matrix still, why is this showing such matrix with no visibility for Vehicle_Age**"
   ]
  },
  {
   "cell_type": "code",
   "execution_count": 13,
   "metadata": {
    "execution": {
     "iopub.execute_input": "2020-09-18T12:19:31.275516Z",
     "iopub.status.busy": "2020-09-18T12:19:31.274833Z",
     "iopub.status.idle": "2020-09-18T12:19:31.436656Z",
     "shell.execute_reply": "2020-09-18T12:19:31.436107Z"
    },
    "papermill": {
     "duration": 0.185607,
     "end_time": "2020-09-18T12:19:31.436782",
     "exception": false,
     "start_time": "2020-09-18T12:19:31.251175",
     "status": "completed"
    },
    "tags": []
   },
   "outputs": [],
   "source": [
    "from sklearn.model_selection import train_test_split, RandomizedSearchCV, StratifiedKFold, KFold, GridSearchCV\n",
    "from sklearn.metrics import f1_score, roc_auc_score, accuracy_score,recall_score\n",
    "from sklearn.preprocessing import LabelEncoder, StandardScaler, MinMaxScaler, RobustScaler, Normalizer\n",
    "from sklearn.utils.multiclass import type_of_target\n",
    "\n",
    "from sklearn.neighbors import KNeighborsClassifier"
   ]
  },
  {
   "cell_type": "code",
   "execution_count": 14,
   "metadata": {
    "execution": {
     "iopub.execute_input": "2020-09-18T12:19:31.476673Z",
     "iopub.status.busy": "2020-09-18T12:19:31.476055Z",
     "iopub.status.idle": "2020-09-18T12:19:31.478224Z",
     "shell.execute_reply": "2020-09-18T12:19:31.478738Z"
    },
    "papermill": {
     "duration": 0.024571,
     "end_time": "2020-09-18T12:19:31.478866",
     "exception": false,
     "start_time": "2020-09-18T12:19:31.454295",
     "status": "completed"
    },
    "tags": []
   },
   "outputs": [],
   "source": [
    "from sklearn import preprocessing"
   ]
  },
  {
   "cell_type": "code",
   "execution_count": 15,
   "metadata": {
    "execution": {
     "iopub.execute_input": "2020-09-18T12:19:31.519728Z",
     "iopub.status.busy": "2020-09-18T12:19:31.518733Z",
     "iopub.status.idle": "2020-09-18T12:19:31.843739Z",
     "shell.execute_reply": "2020-09-18T12:19:31.843114Z"
    },
    "papermill": {
     "duration": 0.346919,
     "end_time": "2020-09-18T12:19:31.843865",
     "exception": false,
     "start_time": "2020-09-18T12:19:31.496946",
     "status": "completed"
    },
    "tags": []
   },
   "outputs": [],
   "source": [
    "numCols = ['Age','Region_Code', 'Policy_Sales_Channel', 'Vintage' ]\n",
    "scaler = StandardScaler()\n",
    "trainData[numCols] = scaler.fit_transform(trainData[numCols])"
   ]
  },
  {
   "cell_type": "code",
   "execution_count": 16,
   "metadata": {
    "execution": {
     "iopub.execute_input": "2020-09-18T12:19:31.885694Z",
     "iopub.status.busy": "2020-09-18T12:19:31.884998Z",
     "iopub.status.idle": "2020-09-18T12:19:31.955690Z",
     "shell.execute_reply": "2020-09-18T12:19:31.956145Z"
    },
    "papermill": {
     "duration": 0.094252,
     "end_time": "2020-09-18T12:19:31.956304",
     "exception": false,
     "start_time": "2020-09-18T12:19:31.862052",
     "status": "completed"
    },
    "tags": []
   },
   "outputs": [],
   "source": [
    "scalerM = MinMaxScaler()\n",
    "trainData[[\"Annual_Premium\"]] = scalerM.fit_transform(trainData[[\"Annual_Premium\"]])"
   ]
  },
  {
   "cell_type": "code",
   "execution_count": 17,
   "metadata": {
    "execution": {
     "iopub.execute_input": "2020-09-18T12:19:31.997058Z",
     "iopub.status.busy": "2020-09-18T12:19:31.996012Z",
     "iopub.status.idle": "2020-09-18T12:19:32.007454Z",
     "shell.execute_reply": "2020-09-18T12:19:32.007919Z"
    },
    "papermill": {
     "duration": 0.032807,
     "end_time": "2020-09-18T12:19:32.008049",
     "exception": false,
     "start_time": "2020-09-18T12:19:31.975242",
     "status": "completed"
    },
    "tags": []
   },
   "outputs": [],
   "source": [
    "x = trainData.drop(['Response'], axis = 1)\n",
    "y = trainData['Response']"
   ]
  },
  {
   "cell_type": "code",
   "execution_count": 18,
   "metadata": {
    "execution": {
     "iopub.execute_input": "2020-09-18T12:19:32.050020Z",
     "iopub.status.busy": "2020-09-18T12:19:32.049461Z",
     "iopub.status.idle": "2020-09-18T12:19:32.117627Z",
     "shell.execute_reply": "2020-09-18T12:19:32.117143Z"
    },
    "papermill": {
     "duration": 0.092293,
     "end_time": "2020-09-18T12:19:32.117743",
     "exception": false,
     "start_time": "2020-09-18T12:19:32.025450",
     "status": "completed"
    },
    "tags": []
   },
   "outputs": [],
   "source": [
    "xTrain, xTest, yTrain, yTest = train_test_split(x,y,test_size = 0.4, random_state = 42 )"
   ]
  },
  {
   "cell_type": "code",
   "execution_count": 19,
   "metadata": {
    "execution": {
     "iopub.execute_input": "2020-09-18T12:19:32.160946Z",
     "iopub.status.busy": "2020-09-18T12:19:32.160241Z",
     "iopub.status.idle": "2020-09-18T12:20:00.669347Z",
     "shell.execute_reply": "2020-09-18T12:20:00.668733Z"
    },
    "papermill": {
     "duration": 28.533805,
     "end_time": "2020-09-18T12:20:00.669456",
     "exception": false,
     "start_time": "2020-09-18T12:19:32.135651",
     "status": "completed"
    },
    "tags": []
   },
   "outputs": [
    {
     "data": {
      "text/plain": [
       "0.8663050038046758"
      ]
     },
     "execution_count": 19,
     "metadata": {},
     "output_type": "execute_result"
    }
   ],
   "source": [
    "model = KNeighborsClassifier(n_neighbors = 11, weights = \"uniform\")\n",
    "model.fit(xTrain,yTrain)\n",
    "y_pred = model.predict(xTest)\n",
    "accuracy_score(yTest, y_pred)"
   ]
  },
  {
   "cell_type": "code",
   "execution_count": 20,
   "metadata": {
    "execution": {
     "iopub.execute_input": "2020-09-18T12:20:00.709791Z",
     "iopub.status.busy": "2020-09-18T12:20:00.709179Z",
     "iopub.status.idle": "2020-09-18T12:20:00.742045Z",
     "shell.execute_reply": "2020-09-18T12:20:00.742501Z"
    },
    "papermill": {
     "duration": 0.055134,
     "end_time": "2020-09-18T12:20:00.742636",
     "exception": false,
     "start_time": "2020-09-18T12:20:00.687502",
     "status": "completed"
    },
    "tags": []
   },
   "outputs": [
    {
     "data": {
      "text/plain": [
       "0.5374585447904939"
      ]
     },
     "execution_count": 20,
     "metadata": {},
     "output_type": "execute_result"
    }
   ],
   "source": [
    "roc_auc_score(yTest, y_pred, average = 'weighted')"
   ]
  },
  {
   "cell_type": "code",
   "execution_count": null,
   "metadata": {
    "papermill": {
     "duration": 0.017751,
     "end_time": "2020-09-18T12:20:00.778517",
     "exception": false,
     "start_time": "2020-09-18T12:20:00.760766",
     "status": "completed"
    },
    "tags": []
   },
   "outputs": [],
   "source": []
  }
 ],
 "metadata": {
  "kernelspec": {
   "display_name": "Python 3",
   "language": "python",
   "name": "python3"
  },
  "language_info": {
   "codemirror_mode": {
    "name": "ipython",
    "version": 3
   },
   "file_extension": ".py",
   "mimetype": "text/x-python",
   "name": "python",
   "nbconvert_exporter": "python",
   "pygments_lexer": "ipython3",
   "version": "3.7.6"
  },
  "papermill": {
   "duration": 38.097879,
   "end_time": "2020-09-18T12:20:00.904397",
   "environment_variables": {},
   "exception": null,
   "input_path": "__notebook__.ipynb",
   "output_path": "__notebook__.ipynb",
   "parameters": {},
   "start_time": "2020-09-18T12:19:22.806518",
   "version": "2.1.0"
  }
 },
 "nbformat": 4,
 "nbformat_minor": 4
}
