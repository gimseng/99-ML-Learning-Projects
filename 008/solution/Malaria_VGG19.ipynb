{
 "cells": [
  {
   "cell_type": "code",
   "execution_count": 23,
   "metadata": {},
   "outputs": [],
   "source": [
    "from tensorflow.keras.layers import Input, Lambda, Dense, Flatten, Conv2D\n",
    "from tensorflow.keras.models import Model\n",
    "from tensorflow.keras.applications.vgg19 import VGG19\n",
    "from tensorflow.keras.applications.resnet50 import preprocess_input\n",
    "from tensorflow.keras.preprocessing import image\n",
    "from tensorflow.keras.preprocessing.image import ImageDataGenerator, load_img\n",
    "from tensorflow.keras.models import Sequential\n",
    "import numpy as np\n",
    "import matplotlib.pyplot as plt"
   ]
  },
  {
   "cell_type": "code",
   "execution_count": 24,
   "metadata": {},
   "outputs": [
    {
     "data": {
      "text/plain": [
       "'2.2.0'"
      ]
     },
     "execution_count": 24,
     "metadata": {},
     "output_type": "execute_result"
    }
   ],
   "source": [
    "import tensorflow as tf\n",
    "tf.__version__"
   ]
  },
  {
   "cell_type": "code",
   "execution_count": 25,
   "metadata": {},
   "outputs": [],
   "source": [
    "# re-size all the images to this\n",
    "IMAGE_SIZE = [224, 224]\n",
    "train_path = 'cell_images/Train'\n",
    "valid_path = 'cell_images/Test'"
   ]
  },
  {
   "cell_type": "code",
   "execution_count": 26,
   "metadata": {},
   "outputs": [],
   "source": [
    "# Import the Vgg 19 library as shown below and add preprocessing layer to the front of VGG\n",
    "# Here we will be using imagenet weights\n",
    "vgg19 = VGG19(input_shape=IMAGE_SIZE + [3], weights='imagenet', include_top=False)"
   ]
  },
  {
   "cell_type": "code",
   "execution_count": 27,
   "metadata": {},
   "outputs": [],
   "source": [
    "# don't train existing weights\n",
    "for layer in vgg19.layers:\n",
    "    layer.trainable = False"
   ]
  },
  {
   "cell_type": "code",
   "execution_count": 30,
   "metadata": {},
   "outputs": [],
   "source": [
    "# useful for getting number of output classes\n",
    "folders = glob('cell_images/Train/*')"
   ]
  },
  {
   "cell_type": "code",
   "execution_count": 31,
   "metadata": {},
   "outputs": [
    {
     "data": {
      "text/plain": [
       "['cell_images/Train/Parasitized', 'cell_images/Train/Uninfected']"
      ]
     },
     "execution_count": 31,
     "metadata": {},
     "output_type": "execute_result"
    }
   ],
   "source": [
    "folders"
   ]
  },
  {
   "cell_type": "code",
   "execution_count": 32,
   "metadata": {},
   "outputs": [],
   "source": [
    "# Flatten the output of vgg19 layers\n",
    "x = Flatten()(vgg19.output)"
   ]
  },
  {
   "cell_type": "code",
   "execution_count": 33,
   "metadata": {},
   "outputs": [],
   "source": [
    "# Output layer\n",
    "prediction =Dense(len(folders), activation='softmax')(x)\n",
    "model= Model(inputs=vgg19.input, outputs=prediction)"
   ]
  },
  {
   "cell_type": "code",
   "execution_count": 34,
   "metadata": {},
   "outputs": [
    {
     "name": "stdout",
     "output_type": "stream",
     "text": [
      "Model: \"model_1\"\n",
      "_________________________________________________________________\n",
      "Layer (type)                 Output Shape              Param #   \n",
      "=================================================================\n",
      "input_2 (InputLayer)         [(None, 224, 224, 3)]     0         \n",
      "_________________________________________________________________\n",
      "block1_conv1 (Conv2D)        (None, 224, 224, 64)      1792      \n",
      "_________________________________________________________________\n",
      "block1_conv2 (Conv2D)        (None, 224, 224, 64)      36928     \n",
      "_________________________________________________________________\n",
      "block1_pool (MaxPooling2D)   (None, 112, 112, 64)      0         \n",
      "_________________________________________________________________\n",
      "block2_conv1 (Conv2D)        (None, 112, 112, 128)     73856     \n",
      "_________________________________________________________________\n",
      "block2_conv2 (Conv2D)        (None, 112, 112, 128)     147584    \n",
      "_________________________________________________________________\n",
      "block2_pool (MaxPooling2D)   (None, 56, 56, 128)       0         \n",
      "_________________________________________________________________\n",
      "block3_conv1 (Conv2D)        (None, 56, 56, 256)       295168    \n",
      "_________________________________________________________________\n",
      "block3_conv2 (Conv2D)        (None, 56, 56, 256)       590080    \n",
      "_________________________________________________________________\n",
      "block3_conv3 (Conv2D)        (None, 56, 56, 256)       590080    \n",
      "_________________________________________________________________\n",
      "block3_conv4 (Conv2D)        (None, 56, 56, 256)       590080    \n",
      "_________________________________________________________________\n",
      "block3_pool (MaxPooling2D)   (None, 28, 28, 256)       0         \n",
      "_________________________________________________________________\n",
      "block4_conv1 (Conv2D)        (None, 28, 28, 512)       1180160   \n",
      "_________________________________________________________________\n",
      "block4_conv2 (Conv2D)        (None, 28, 28, 512)       2359808   \n",
      "_________________________________________________________________\n",
      "block4_conv3 (Conv2D)        (None, 28, 28, 512)       2359808   \n",
      "_________________________________________________________________\n",
      "block4_conv4 (Conv2D)        (None, 28, 28, 512)       2359808   \n",
      "_________________________________________________________________\n",
      "block4_pool (MaxPooling2D)   (None, 14, 14, 512)       0         \n",
      "_________________________________________________________________\n",
      "block5_conv1 (Conv2D)        (None, 14, 14, 512)       2359808   \n",
      "_________________________________________________________________\n",
      "block5_conv2 (Conv2D)        (None, 14, 14, 512)       2359808   \n",
      "_________________________________________________________________\n",
      "block5_conv3 (Conv2D)        (None, 14, 14, 512)       2359808   \n",
      "_________________________________________________________________\n",
      "block5_conv4 (Conv2D)        (None, 14, 14, 512)       2359808   \n",
      "_________________________________________________________________\n",
      "block5_pool (MaxPooling2D)   (None, 7, 7, 512)         0         \n",
      "_________________________________________________________________\n",
      "flatten_1 (Flatten)          (None, 25088)             0         \n",
      "_________________________________________________________________\n",
      "dense_1 (Dense)              (None, 2)                 50178     \n",
      "=================================================================\n",
      "Total params: 20,074,562\n",
      "Trainable params: 50,178\n",
      "Non-trainable params: 20,024,384\n",
      "_________________________________________________________________\n"
     ]
    }
   ],
   "source": [
    "model.summary()"
   ]
  },
  {
   "cell_type": "code",
   "execution_count": 35,
   "metadata": {},
   "outputs": [],
   "source": [
    "# from tensorflow.keras.layers import MaxPooling2D"
   ]
  },
  {
   "cell_type": "code",
   "execution_count": 43,
   "metadata": {},
   "outputs": [],
   "source": [
    "\n",
    "# tell the model what cost and optimization method to use\n",
    "model.compile(\n",
    "    loss='categorical_crossentropy', # There are 2 nodes in the output\n",
    "    optimizer='adam',\n",
    "    metrics=['accuracy']\n",
    ")"
   ]
  },
  {
   "cell_type": "code",
   "execution_count": 44,
   "metadata": {},
   "outputs": [],
   "source": [
    "from tensorflow.keras.preprocessing.image import ImageDataGenerator\n",
    "# Using Image data augmentation \n",
    "train_datagen = ImageDataGenerator(rescale = 1./255, shear_range = 0.2, zoom_range = 0.2, horizontal_flip = True)\n",
    "test_datagen = ImageDataGenerator(rescale = 1./255)"
   ]
  },
  {
   "cell_type": "code",
   "execution_count": 45,
   "metadata": {},
   "outputs": [
    {
     "name": "stdout",
     "output_type": "stream",
     "text": [
      "Found 27400 images belonging to 2 classes.\n"
     ]
    }
   ],
   "source": [
    "# Make sure you provide the same target size as initialied for the image size\n",
    "training_set = train_datagen.flow_from_directory('cell_images/Train',\n",
    "                                                 target_size = (224, 224),\n",
    "                                                 batch_size = 32,\n",
    "                                                 class_mode = 'categorical')"
   ]
  },
  {
   "cell_type": "code",
   "execution_count": 46,
   "metadata": {},
   "outputs": [
    {
     "name": "stdout",
     "output_type": "stream",
     "text": [
      "Found 158 images belonging to 2 classes.\n"
     ]
    }
   ],
   "source": [
    "test_set = test_datagen.flow_from_directory('cell_images/Test',\n",
    "                                            target_size = (224, 224),\n",
    "                                            batch_size = 32,\n",
    "                                            class_mode = 'categorical')"
   ]
  },
  {
   "cell_type": "code",
   "execution_count": 47,
   "metadata": {},
   "outputs": [
    {
     "name": "stdout",
     "output_type": "stream",
     "text": [
      "Epoch 1/2\n",
      "857/857 [==============================] - 2896s 3s/step - loss: 0.3724 - accuracy: 0.8380 - val_loss: 0.6184 - val_accuracy: 0.7848\n",
      "Epoch 2/2\n",
      "857/857 [==============================] - 2907s 3s/step - loss: 0.2895 - accuracy: 0.8864 - val_loss: 0.4234 - val_accuracy: 0.8481\n"
     ]
    }
   ],
   "source": [
    "r =model.fit(\n",
    "    training_set,\n",
    "    validation_data=test_set,\n",
    "    epochs=2,\n",
    "    steps_per_epoch=len(training_set),\n",
    "    validation_steps=len(test_set)\n",
    ")"
   ]
  },
  {
   "cell_type": "code",
   "execution_count": 48,
   "metadata": {},
   "outputs": [
    {
     "data": {
      "image/png": "[encoded data removed]",
      "text/plain": [
       "<Figure size 432x288 with 1 Axes>"
      ]
     },
     "metadata": {
      "needs_background": "light"
     },
     "output_type": "display_data"
    },
    {
     "data": {
      "image/png": "[encoded data removed]",
      "text/plain": [
       "<Figure size 432x288 with 1 Axes>"
      ]
     },
     "metadata": {
      "needs_background": "light"
     },
     "output_type": "display_data"
    },
    {
     "data": {
      "text/plain": [
       "<Figure size 432x288 with 0 Axes>"
      ]
     },
     "metadata": {},
     "output_type": "display_data"
    }
   ],
   "source": [
    "\n",
    "# plot the loss\n",
    "plt.plot(r.history['loss'], label='train loss')\n",
    "plt.plot(r.history['val_loss'], label='val loss')\n",
    "plt.legend()\n",
    "plt.show()\n",
    "plt.savefig('LossVal_loss ')\n",
    "\n",
    "# plot the accuracy\n",
    "plt.plot(r.history['accuracy'], label='train acc')\n",
    "plt.plot(r.history['val_accuracy'], label='val acc')\n",
    "plt.legend()\n",
    "plt.show()\n",
    "plt.savefig('AccVal_acc')"
   ]
  },
  {
   "cell_type": "code",
   "execution_count": 70,
   "metadata": {},
   "outputs": [
    {
     "name": "stdout",
     "output_type": "stream",
     "text": [
      "WARNING:tensorflow:From /home/ajay/anaconda3/lib/python3.7/site-packages/tensorflow/python/ops/resource_variable_ops.py:1817: calling BaseResourceVariable.__init__ (from tensorflow.python.ops.resource_variable_ops) with constraint is deprecated and will be removed in a future version.\n",
      "Instructions for updating:\n",
      "If using Keras pass *_constraint arguments to layers.\n",
      "INFO:tensorflow:Assets written to: model_vgg19/assets\n"
     ]
    }
   ],
   "source": [
    "# save it as a h5 file\n",
    "from tensorflow.keras.models import load_model\n",
    "model.save('model_vgg19')"
   ]
  },
  {
   "cell_type": "code",
   "execution_count": 51,
   "metadata": {},
   "outputs": [
    {
     "data": {
      "text/plain": [
       "array([[4.46535051e-01, 5.53464949e-01],\n",
       "       [3.65341604e-02, 9.63465810e-01],\n",
       "       [8.66647184e-01, 1.33352831e-01],\n",
       "       [8.22816849e-01, 1.77183121e-01],\n",
       "       [7.78258964e-02, 9.22174037e-01],\n",
       "       [6.23601377e-01, 3.76398623e-01],\n",
       "       [2.35173583e-01, 7.64826357e-01],\n",
       "       [7.90756047e-02, 9.20924366e-01],\n",
       "       [5.25812745e-01, 4.74187285e-01],\n",
       "       [6.85646832e-02, 9.31435347e-01],\n",
       "       [9.87090528e-01, 1.29094515e-02],\n",
       "       [9.42019671e-02, 9.05798018e-01],\n",
       "       [9.34209883e-01, 6.57900646e-02],\n",
       "       [9.87894356e-01, 1.21056428e-02],\n",
       "       [8.86597335e-01, 1.13402687e-01],\n",
       "       [1.00000000e+00, 3.36768946e-09],\n",
       "       [9.92260277e-01, 7.73970783e-03],\n",
       "       [1.75194725e-01, 8.24805319e-01],\n",
       "       [5.98143220e-01, 4.01856810e-01],\n",
       "       [9.75264192e-01, 2.47357693e-02],\n",
       "       [5.48512936e-01, 4.51487064e-01],\n",
       "       [2.68096060e-01, 7.31903970e-01],\n",
       "       [2.19637409e-01, 7.80362546e-01],\n",
       "       [1.35742873e-01, 8.64257157e-01],\n",
       "       [9.98971343e-01, 1.02869200e-03],\n",
       "       [5.02527356e-01, 4.97472644e-01],\n",
       "       [3.40342641e-01, 6.59657359e-01],\n",
       "       [4.59273636e-01, 5.40726364e-01],\n",
       "       [1.98891863e-01, 8.01108181e-01],\n",
       "       [6.19545162e-01, 3.80454838e-01],\n",
       "       [2.16036364e-02, 9.78396356e-01],\n",
       "       [8.44265670e-02, 9.15573418e-01],\n",
       "       [9.99988914e-01, 1.11216614e-05],\n",
       "       [9.49551463e-01, 5.04485741e-02],\n",
       "       [1.65472269e-01, 8.34527791e-01],\n",
       "       [3.87133032e-01, 6.12866938e-01],\n",
       "       [2.91923821e-01, 7.08076239e-01],\n",
       "       [9.98532414e-01, 1.46753958e-03],\n",
       "       [1.01861507e-01, 8.98138463e-01],\n",
       "       [9.98252690e-01, 1.74733833e-03],\n",
       "       [8.60087648e-02, 9.13991272e-01],\n",
       "       [4.56505507e-01, 5.43494463e-01],\n",
       "       [9.93780673e-01, 6.21935306e-03],\n",
       "       [5.38459979e-02, 9.46153998e-01],\n",
       "       [2.99639404e-01, 7.00360596e-01],\n",
       "       [9.02605414e-01, 9.73945484e-02],\n",
       "       [2.06482679e-01, 7.93517292e-01],\n",
       "       [2.88564622e-01, 7.11435318e-01],\n",
       "       [3.20070118e-01, 6.79929852e-01],\n",
       "       [9.98298585e-01, 1.70140737e-03],\n",
       "       [1.75295830e-01, 8.24704170e-01],\n",
       "       [1.30340764e-02, 9.86965895e-01],\n",
       "       [8.73829007e-01, 1.26170963e-01],\n",
       "       [2.41278142e-01, 7.58721888e-01],\n",
       "       [1.16075028e-03, 9.98839319e-01],\n",
       "       [2.99128652e-01, 7.00871348e-01],\n",
       "       [1.01392381e-01, 8.98607612e-01],\n",
       "       [6.04518116e-01, 3.95481914e-01],\n",
       "       [9.99356687e-01, 6.43313921e-04],\n",
       "       [9.96260822e-01, 3.73912533e-03],\n",
       "       [2.53241509e-01, 7.46758521e-01],\n",
       "       [2.38689750e-01, 7.61310220e-01],\n",
       "       [1.92662001e-01, 8.07338059e-01],\n",
       "       [9.07704234e-02, 9.09229517e-01],\n",
       "       [9.08113644e-02, 9.09188628e-01],\n",
       "       [2.82650054e-01, 7.17349887e-01],\n",
       "       [9.98469412e-01, 1.53058337e-03],\n",
       "       [1.64011940e-02, 9.83598828e-01],\n",
       "       [9.54570591e-01, 4.54294011e-02],\n",
       "       [2.29236130e-02, 9.77076352e-01],\n",
       "       [9.99985337e-01, 1.46798129e-05],\n",
       "       [9.96026158e-01, 3.97383794e-03],\n",
       "       [8.43451843e-02, 9.15654838e-01],\n",
       "       [9.99591529e-01, 4.08490538e-04],\n",
       "       [2.90435433e-01, 7.09564507e-01],\n",
       "       [5.08414388e-01, 4.91585582e-01],\n",
       "       [5.02064750e-02, 9.49793577e-01],\n",
       "       [5.67707457e-02, 9.43229198e-01],\n",
       "       [9.87731934e-01, 1.22680748e-02],\n",
       "       [6.04770519e-02, 9.39522982e-01],\n",
       "       [2.74935454e-01, 7.25064516e-01],\n",
       "       [1.41382113e-01, 8.58617842e-01],\n",
       "       [1.00000000e+00, 2.68922680e-08],\n",
       "       [9.91759956e-01, 8.24001245e-03],\n",
       "       [4.34179530e-02, 9.56582069e-01],\n",
       "       [6.77262247e-02, 9.32273805e-01],\n",
       "       [4.79898661e-01, 5.20101368e-01],\n",
       "       [9.99866605e-01, 1.33427660e-04],\n",
       "       [3.38113010e-01, 6.61886990e-01],\n",
       "       [9.99824464e-01, 1.75508612e-04],\n",
       "       [9.09872711e-01, 9.01272148e-02],\n",
       "       [4.57582474e-01, 5.42417467e-01],\n",
       "       [9.99150395e-01, 8.49588832e-04],\n",
       "       [9.51077163e-01, 4.89228927e-02],\n",
       "       [9.99988198e-01, 1.17943573e-05],\n",
       "       [9.89621162e-01, 1.03788581e-02],\n",
       "       [4.59144004e-02, 9.54085648e-01],\n",
       "       [4.84785773e-02, 9.51521397e-01],\n",
       "       [1.28559709e-01, 8.71440291e-01],\n",
       "       [1.67518541e-01, 8.32481384e-01],\n",
       "       [3.10959607e-01, 6.89040422e-01],\n",
       "       [5.75230271e-02, 9.42476988e-01],\n",
       "       [9.85546350e-01, 1.44536383e-02],\n",
       "       [8.87236178e-01, 1.12763770e-01],\n",
       "       [4.86424923e-01, 5.13575137e-01],\n",
       "       [9.99819100e-01, 1.80915769e-04],\n",
       "       [9.71412599e-01, 2.85874214e-02],\n",
       "       [2.10023701e-01, 7.89976299e-01],\n",
       "       [7.65103936e-01, 2.34896064e-01],\n",
       "       [1.90714914e-02, 9.80928481e-01],\n",
       "       [9.65429544e-02, 9.03457105e-01],\n",
       "       [7.96832368e-02, 9.20316756e-01],\n",
       "       [8.96168232e-01, 1.03831723e-01],\n",
       "       [4.09204662e-02, 9.59079504e-01],\n",
       "       [9.98993099e-01, 1.00691128e-03],\n",
       "       [9.99996185e-01, 3.83278802e-06],\n",
       "       [5.37702776e-02, 9.46229696e-01],\n",
       "       [2.07135230e-01, 7.92864799e-01],\n",
       "       [9.99394059e-01, 6.05974346e-04],\n",
       "       [9.93018687e-01, 6.98124385e-03],\n",
       "       [1.26800731e-01, 8.73199284e-01],\n",
       "       [7.57115304e-01, 2.42884740e-01],\n",
       "       [2.06209362e-01, 7.93790638e-01],\n",
       "       [1.17213782e-02, 9.88278627e-01],\n",
       "       [1.10905111e-01, 8.89094830e-01],\n",
       "       [5.96961491e-02, 9.40303862e-01],\n",
       "       [2.11899653e-02, 9.78810072e-01],\n",
       "       [1.05272748e-01, 8.94727230e-01],\n",
       "       [9.99005020e-01, 9.95009555e-04],\n",
       "       [7.69982934e-02, 9.23001707e-01],\n",
       "       [4.58900243e-01, 5.41099787e-01],\n",
       "       [3.76599550e-01, 6.23400509e-01],\n",
       "       [8.92633870e-02, 9.10736561e-01],\n",
       "       [1.32421836e-01, 8.67578149e-01],\n",
       "       [8.48666131e-01, 1.51333839e-01],\n",
       "       [1.69046025e-03, 9.98309493e-01],\n",
       "       [4.57650237e-02, 9.54234958e-01],\n",
       "       [4.64766398e-02, 9.53523338e-01],\n",
       "       [9.99890447e-01, 1.09522989e-04],\n",
       "       [9.99650717e-01, 3.49276728e-04],\n",
       "       [3.15574333e-02, 9.68442559e-01],\n",
       "       [9.66439188e-01, 3.35608348e-02],\n",
       "       [8.82254820e-03, 9.91177440e-01],\n",
       "       [1.02033941e-02, 9.89796579e-01],\n",
       "       [9.38945651e-01, 6.10544123e-02],\n",
       "       [3.81506383e-02, 9.61849391e-01],\n",
       "       [9.54815805e-01, 4.51841913e-02],\n",
       "       [9.72713947e-01, 2.72860434e-02],\n",
       "       [1.54765965e-02, 9.84523416e-01],\n",
       "       [2.58746207e-01, 7.41253853e-01],\n",
       "       [9.08009470e-01, 9.19905528e-02],\n",
       "       [9.54517841e-01, 4.54821996e-02],\n",
       "       [8.75208378e-01, 1.24791645e-01],\n",
       "       [1.37690261e-01, 8.62309754e-01],\n",
       "       [3.81956220e-01, 6.18043780e-01],\n",
       "       [3.72375786e-01, 6.27624214e-01],\n",
       "       [2.40268469e-01, 7.59731591e-01],\n",
       "       [3.22738916e-01, 6.77261114e-01]], dtype=float32)"
      ]
     },
     "execution_count": 51,
     "metadata": {},
     "output_type": "execute_result"
    }
   ],
   "source": [
    "y_pred=model.predict(test_set)\n",
    "y_pred"
   ]
  },
  {
   "cell_type": "code",
   "execution_count": 52,
   "metadata": {},
   "outputs": [],
   "source": [
    "import numpy as np\n",
    "y_pred =np.argmax(y_pred,axis=1)"
   ]
  },
  {
   "cell_type": "code",
   "execution_count": 53,
   "metadata": {},
   "outputs": [
    {
     "data": {
      "text/plain": [
       "array([1, 1, 0, 0, 1, 0, 1, 1, 0, 1, 0, 1, 0, 0, 0, 0, 0, 1, 0, 0, 0, 1,\n",
       "       1, 1, 0, 0, 1, 1, 1, 0, 1, 1, 0, 0, 1, 1, 1, 0, 1, 0, 1, 1, 0, 1,\n",
       "       1, 0, 1, 1, 1, 0, 1, 1, 0, 1, 1, 1, 1, 0, 0, 0, 1, 1, 1, 1, 1, 1,\n",
       "       0, 1, 0, 1, 0, 0, 1, 0, 1, 0, 1, 1, 0, 1, 1, 1, 0, 0, 1, 1, 1, 0,\n",
       "       1, 0, 0, 1, 0, 0, 0, 0, 1, 1, 1, 1, 1, 1, 0, 0, 1, 0, 0, 1, 0, 1,\n",
       "       1, 1, 0, 1, 0, 0, 1, 1, 0, 0, 1, 0, 1, 1, 1, 1, 1, 1, 0, 1, 1, 1,\n",
       "       1, 1, 0, 1, 1, 1, 0, 0, 1, 0, 1, 1, 0, 1, 0, 0, 1, 1, 0, 0, 0, 1,\n",
       "       1, 1, 1, 1])"
      ]
     },
     "execution_count": 53,
     "metadata": {},
     "output_type": "execute_result"
    }
   ],
   "source": [
    "y_pred"
   ]
  },
  {
   "cell_type": "code",
   "execution_count": 54,
   "metadata": {},
   "outputs": [],
   "source": [
    "from tensorflow.keras.preprocessing import image"
   ]
  },
  {
   "cell_type": "code",
   "execution_count": 57,
   "metadata": {},
   "outputs": [],
   "source": [
    "img = image.load_img('cell_images/Test/Uninfected/C13NThinF_IMG_20150614_131318_cell_179.png',target_size=(224,224))"
   ]
  },
  {
   "cell_type": "code",
   "execution_count": 60,
   "metadata": {},
   "outputs": [
    {
     "data": {
      "text/plain": [
       "(224, 224, 3)"
      ]
     },
     "execution_count": 60,
     "metadata": {},
     "output_type": "execute_result"
    }
   ],
   "source": [
    "x=image.img_to_array(img)\n",
    "x.shape"
   ]
  },
  {
   "cell_type": "code",
   "execution_count": 62,
   "metadata": {},
   "outputs": [],
   "source": [
    "x=x/255"
   ]
  },
  {
   "cell_type": "code",
   "execution_count": 63,
   "metadata": {},
   "outputs": [
    {
     "data": {
      "text/plain": [
       "(1, 224, 224, 3)"
      ]
     },
     "execution_count": 63,
     "metadata": {},
     "output_type": "execute_result"
    }
   ],
   "source": [
    "x=np.expand_dims(x,axis=0)\n",
    "img_data = preprocess_input(x)\n",
    "img_data.shape"
   ]
  },
  {
   "cell_type": "code",
   "execution_count": 64,
   "metadata": {},
   "outputs": [
    {
     "data": {
      "text/plain": [
       "array([[3.3754823e-21, 1.0000000e+00]], dtype=float32)"
      ]
     },
     "execution_count": 64,
     "metadata": {},
     "output_type": "execute_result"
    }
   ],
   "source": [
    "model.predict(img_data)"
   ]
  },
  {
   "cell_type": "code",
   "execution_count": 65,
   "metadata": {},
   "outputs": [],
   "source": [
    "a=np.argmax(model.predict(img_data),axis=1)"
   ]
  },
  {
   "cell_type": "code",
   "execution_count": 68,
   "metadata": {},
   "outputs": [
    {
     "name": "stdout",
     "output_type": "stream",
     "text": [
      "Uninfected\n"
     ]
    }
   ],
   "source": [
    "if(a==1):\n",
    "    print(\"Uninfected\")\n",
    "else:\n",
    "    print(\"Infected\")"
   ]
  }
 ],
 "metadata": {
  "kernelspec": {
   "display_name": "Python 3",
   "language": "python",
   "name": "python3"
  },
  "language_info": {
   "codemirror_mode": {
    "name": "ipython",
    "version": 3
   },
   "file_extension": ".py",
   "mimetype": "text/x-python",
   "name": "python",
   "nbconvert_exporter": "python",
   "pygments_lexer": "ipython3",
   "version": "3.7.6"
  }
 },
 "nbformat": 4,
 "nbformat_minor": 4
}