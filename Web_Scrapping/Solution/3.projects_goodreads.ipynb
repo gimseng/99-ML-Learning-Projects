{
 "cells": [
  {
   "cell_type": "markdown",
   "metadata": {},
   "source": [
    "# Crwaling Goodreads website"
   ]
  },
  {
   "cell_type": "markdown",
   "metadata": {},
   "source": [
    "In this projects we will crawl goodreads website . We will fetch information like author,quotes,tags etc.And we will make a dataframe for this and after all we will analyse it's content ."
   ]
  },
  {
   "cell_type": "code",
   "execution_count": 1,
   "metadata": {},
   "outputs": [],
   "source": [
    "#importing libraries\n",
    "from bs4 import BeautifulSoup\n",
    "import requests\n",
    "import pandas as pd"
   ]
  },
  {
   "cell_type": "markdown",
   "metadata": {},
   "source": [
    "<img src=\"../data/goodreads.png\" />"
   ]
  },
  {
   "cell_type": "markdown",
   "metadata": {},
   "source": [
    "The above image shows quotes web page of goodreads website \n",
    "I will go for number of pages for different quotes .\n",
    "for example: I will look for 10 pages for love quotes and then i will look for 10 pages too for hate quotes and so on.\n",
    "and i will append quotes data at the end for a web page"
   ]
  },
  {
   "cell_type": "markdown",
   "metadata": {},
   "source": [
    "Lets take a example \n",
    "url_format = \"https://www.goodreads.com/{}?page={}\"\n",
    "replace first parameter for tags and 2nd parameters for number of pages"
   ]
  },
  {
   "cell_type": "code",
   "execution_count": 2,
   "metadata": {},
   "outputs": [],
   "source": [
    "#Lets take a 1st page of love quotes \n",
    "url = r\"https://www.goodreads.com/quotes?page=0\" \n",
    "response = requests.get(url)\n",
    "soup = BeautifulSoup(response.text)\n"
   ]
  },
  {
   "cell_type": "markdown",
   "metadata": {},
   "source": [
    "<img src=\"../data/inspect_goodreads.png\" />"
   ]
  },
  {
   "cell_type": "markdown",
   "metadata": {},
   "source": [
    "First give attention to above picture, as you can see that by inspecting all quotes element will have class named quote"
   ]
  },
  {
   "cell_type": "code",
   "execution_count": 3,
   "metadata": {},
   "outputs": [],
   "source": [
    "#here i find all the div elements having class quote\n",
    "quotes = soup.find_all(\"div\",attrs={\"class\":\"quote\"})"
   ]
  },
  {
   "cell_type": "code",
   "execution_count": 4,
   "metadata": {},
   "outputs": [],
   "source": [
    "# for example let's take first quote and see how to fetch info from it \n",
    "quote_example = quotes[0]"
   ]
  },
  {
   "cell_type": "code",
   "execution_count": 5,
   "metadata": {},
   "outputs": [
    {
     "data": {
      "text/plain": [
       "<div class=\"quote\">\n",
       "<div class=\"quoteDetails\">\n",
       "<a class=\"leftAlignedImage\" href=\"https://images.gr-assets.com/quotes/1511992603p8/8630.jpg\">\n",
       "<img alt=\"I'm selfish, impatient and a little insecure. I make mistakes, I am out of control\" src=\"https://images.gr-assets.com/quotes/1511992603p2/8630.jpg\"/>\n",
       "</a>\n",
       "<div class=\"quoteText\">\n",
       "      “I'm selfish, impatient and a little insecure. I make mistakes, I am out of control and at times hard to handle. But if you can't handle me at my worst, then you sure as hell don't deserve me at my best.”\n",
       "  <br/>  ―\n",
       "  <span class=\"authorOrTitle\">\n",
       "    Marilyn Monroe\n",
       "  </span>\n",
       "</div>\n",
       "<div class=\"quoteFooter\">\n",
       "<div class=\"greyText smallText left\">\n",
       "     tags:\n",
       "       <a href=\"/quotes/tag/attributed-no-source\">attributed-no-source</a>,\n",
       "       <a href=\"/quotes/tag/best\">best</a>,\n",
       "       <a href=\"/quotes/tag/life\">life</a>,\n",
       "       <a href=\"/quotes/tag/love\">love</a>,\n",
       "       <a href=\"/quotes/tag/mistakes\">mistakes</a>,\n",
       "       <a href=\"/quotes/tag/out-of-control\">out-of-control</a>,\n",
       "       <a href=\"/quotes/tag/truth\">truth</a>,\n",
       "       <a href=\"/quotes/tag/worst\">worst</a>\n",
       "</div>\n",
       "<div class=\"right\">\n",
       "<a class=\"smallText\" href=\"/quotes/8630-i-m-selfish-impatient-and-a-little-insecure-i-make-mistakes\" title=\"View this quote\">152429 likes</a>\n",
       "</div>\n",
       "</div>\n",
       "</div>\n",
       "<div class=\"action\">\n",
       "<a class=\"gr-button gr-button--small\" href=\"/user/new\" rel=\"nofollow\">Like</a>\n",
       "</div>\n",
       "</div>"
      ]
     },
     "execution_count": 5,
     "metadata": {},
     "output_type": "execute_result"
    }
   ],
   "source": [
    "quote_example"
   ]
  },
  {
   "cell_type": "code",
   "execution_count": 6,
   "metadata": {},
   "outputs": [],
   "source": [
    "items = quote_example.find_next(\"div\",attrs={\"class\":\"quoteText\"}) #Get div element with class name quoteText"
   ]
  },
  {
   "cell_type": "code",
   "execution_count": 7,
   "metadata": {},
   "outputs": [
    {
     "data": {
      "text/plain": [
       "<div class=\"quoteText\">\n",
       "      “I'm selfish, impatient and a little insecure. I make mistakes, I am out of control and at times hard to handle. But if you can't handle me at my worst, then you sure as hell don't deserve me at my best.”\n",
       "  <br/>  ―\n",
       "  <span class=\"authorOrTitle\">\n",
       "    Marilyn Monroe\n",
       "  </span>\n",
       "</div>"
      ]
     },
     "execution_count": 7,
     "metadata": {},
     "output_type": "execute_result"
    }
   ],
   "source": [
    "items"
   ]
  },
  {
   "cell_type": "code",
   "execution_count": 8,
   "metadata": {},
   "outputs": [],
   "source": [
    "#Let's see how to fetch quote"
   ]
  },
  {
   "cell_type": "code",
   "execution_count": 9,
   "metadata": {},
   "outputs": [
    {
     "data": {
      "text/plain": [
       "\"\\n      “I'm selfish, impatient and a little insecure. I make mistakes, I am out of control and at times hard to handle. But if you can't handle me at my worst, then you sure as hell don't deserve me at my best.”\\n    ―\\n  \\n    Marilyn Monroe\\n  \\n\""
      ]
     },
     "execution_count": 9,
     "metadata": {},
     "output_type": "execute_result"
    }
   ],
   "source": [
    "items.text"
   ]
  },
  {
   "cell_type": "code",
   "execution_count": 10,
   "metadata": {},
   "outputs": [
    {
     "data": {
      "text/plain": [
       "\"“I'm selfish, impatient and a little insecure. I make mistakes, I am out of control and at times hard to handle. But if you can't handle me at my worst, then you sure as hell don't deserve me at my best.”\\n    ―\\n  \\n    Marilyn Monroe\""
      ]
     },
     "execution_count": 10,
     "metadata": {},
     "output_type": "execute_result"
    }
   ],
   "source": [
    "items.text.strip()"
   ]
  },
  {
   "cell_type": "code",
   "execution_count": 11,
   "metadata": {},
   "outputs": [
    {
     "data": {
      "text/plain": [
       "[\"“I'm selfish, impatient and a little insecure. I make mistakes, I am out of control and at times hard to handle. But if you can't handle me at my worst, then you sure as hell don't deserve me at my best.”\",\n",
       " '    ―',\n",
       " '  ',\n",
       " '    Marilyn Monroe']"
      ]
     },
     "execution_count": 11,
     "metadata": {},
     "output_type": "execute_result"
    }
   ],
   "source": [
    "items.text.strip().split(\"\\n\")"
   ]
  },
  {
   "cell_type": "code",
   "execution_count": 12,
   "metadata": {},
   "outputs": [
    {
     "data": {
      "text/plain": [
       "\"“I'm selfish, impatient and a little insecure. I make mistakes, I am out of control and at times hard to handle. But if you can't handle me at my worst, then you sure as hell don't deserve me at my best.”\""
      ]
     },
     "execution_count": 12,
     "metadata": {},
     "output_type": "execute_result"
    }
   ],
   "source": [
    "items.text.strip().split(\"\\n\")[0] #Here how we get quotes for every div element"
   ]
  },
  {
   "cell_type": "code",
   "execution_count": 13,
   "metadata": {},
   "outputs": [],
   "source": [
    "#How to get author "
   ]
  },
  {
   "cell_type": "code",
   "execution_count": 14,
   "metadata": {},
   "outputs": [
    {
     "data": {
      "text/plain": [
       "<div class=\"quoteText\">\n",
       "      “I'm selfish, impatient and a little insecure. I make mistakes, I am out of control and at times hard to handle. But if you can't handle me at my worst, then you sure as hell don't deserve me at my best.”\n",
       "  <br/>  ―\n",
       "  <span class=\"authorOrTitle\">\n",
       "    Marilyn Monroe\n",
       "  </span>\n",
       "</div>"
      ]
     },
     "execution_count": 14,
     "metadata": {},
     "output_type": "execute_result"
    }
   ],
   "source": [
    "items"
   ]
  },
  {
   "cell_type": "code",
   "execution_count": 15,
   "metadata": {},
   "outputs": [
    {
     "data": {
      "text/plain": [
       "<span class=\"authorOrTitle\">\n",
       "    Marilyn Monroe\n",
       "  </span>"
      ]
     },
     "execution_count": 15,
     "metadata": {},
     "output_type": "execute_result"
    }
   ],
   "source": [
    "items.span"
   ]
  },
  {
   "cell_type": "code",
   "execution_count": 16,
   "metadata": {},
   "outputs": [
    {
     "data": {
      "text/plain": [
       "'\\n    Marilyn Monroe\\n  '"
      ]
     },
     "execution_count": 16,
     "metadata": {},
     "output_type": "execute_result"
    }
   ],
   "source": [
    "items.span.text"
   ]
  },
  {
   "cell_type": "code",
   "execution_count": 17,
   "metadata": {},
   "outputs": [
    {
     "data": {
      "text/plain": [
       "'Marilyn Monroe'"
      ]
     },
     "execution_count": 17,
     "metadata": {},
     "output_type": "execute_result"
    }
   ],
   "source": [
    "items.span.text.strip() #here how to get author for every div element"
   ]
  },
  {
   "cell_type": "code",
   "execution_count": 18,
   "metadata": {},
   "outputs": [],
   "source": [
    "#Let's check for how to get tags details "
   ]
  },
  {
   "cell_type": "code",
   "execution_count": 19,
   "metadata": {},
   "outputs": [],
   "source": [
    "tag = items.find_next(\"div\", attrs={\"class\" : \"left\"}) #Because div of tags contents class names left"
   ]
  },
  {
   "cell_type": "code",
   "execution_count": 20,
   "metadata": {},
   "outputs": [
    {
     "data": {
      "text/plain": [
       "<div class=\"greyText smallText left\">\n",
       "     tags:\n",
       "       <a href=\"/quotes/tag/attributed-no-source\">attributed-no-source</a>,\n",
       "       <a href=\"/quotes/tag/best\">best</a>,\n",
       "       <a href=\"/quotes/tag/life\">life</a>,\n",
       "       <a href=\"/quotes/tag/love\">love</a>,\n",
       "       <a href=\"/quotes/tag/mistakes\">mistakes</a>,\n",
       "       <a href=\"/quotes/tag/out-of-control\">out-of-control</a>,\n",
       "       <a href=\"/quotes/tag/truth\">truth</a>,\n",
       "       <a href=\"/quotes/tag/worst\">worst</a>\n",
       "</div>"
      ]
     },
     "execution_count": 20,
     "metadata": {},
     "output_type": "execute_result"
    }
   ],
   "source": [
    "tag"
   ]
  },
  {
   "cell_type": "code",
   "execution_count": 21,
   "metadata": {},
   "outputs": [
    {
     "data": {
      "text/plain": [
       "[<a href=\"/quotes/tag/attributed-no-source\">attributed-no-source</a>,\n",
       " <a href=\"/quotes/tag/best\">best</a>,\n",
       " <a href=\"/quotes/tag/life\">life</a>,\n",
       " <a href=\"/quotes/tag/love\">love</a>,\n",
       " <a href=\"/quotes/tag/mistakes\">mistakes</a>,\n",
       " <a href=\"/quotes/tag/out-of-control\">out-of-control</a>,\n",
       " <a href=\"/quotes/tag/truth\">truth</a>,\n",
       " <a href=\"/quotes/tag/worst\">worst</a>]"
      ]
     },
     "execution_count": 21,
     "metadata": {},
     "output_type": "execute_result"
    }
   ],
   "source": [
    "tag_link = tag.find_all(\"a\") #find all anchor tags available in a quote tag\n",
    "tag_link"
   ]
  },
  {
   "cell_type": "code",
   "execution_count": 22,
   "metadata": {},
   "outputs": [
    {
     "name": "stdout",
     "output_type": "stream",
     "text": [
      "attributed-no-source\n",
      "best\n",
      "life\n",
      "love\n",
      "mistakes\n",
      "out-of-control\n",
      "truth\n",
      "worst\n"
     ]
    }
   ],
   "source": [
    "for tag in tag_link: #here how we get each tags for perticular tag\n",
    "    print(tag.text)"
   ]
  },
  {
   "cell_type": "code",
   "execution_count": 23,
   "metadata": {},
   "outputs": [],
   "source": [
    "# quotes"
   ]
  },
  {
   "cell_type": "code",
   "execution_count": 24,
   "metadata": {},
   "outputs": [],
   "source": [
    "books=[] #it will contains list of dictionary,and the dictionary will have information about quote,author and tags "
   ]
  },
  {
   "cell_type": "code",
   "execution_count": 25,
   "metadata": {},
   "outputs": [],
   "source": [
    "#I have combined codes using above to get each quote,author and tags\n",
    "for quote_items in quotes: #scroll to every item on the single web page \n",
    "    quote_items = quote_items.find_next(\"div\",attrs={\"class\":\"quoteText\"}) #find all the classes named quoteText for each quote\n",
    "    quote = quote_items.text.strip().split('\\n')[0]\n",
    "    author = quote_items.span.text.strip()\n",
    "    left = quote_items.find_next(\"div\", attrs={\"class\" : \"left\"})\n",
    "    li_tags_links = left.find_all(\"a\")\n",
    "    tags = [tag_link.text for tag_link in li_tags_links]\n",
    "    #the below dictionary will contains quote,author and tags for single quote and we will append into books \n",
    "    quote_books={\n",
    "        \"quote\" : quote,\n",
    "        \"author\" : author,\n",
    "        \"tags\" : tags\n",
    "    }\n",
    "    books.append(quote_books)"
   ]
  },
  {
   "cell_type": "code",
   "execution_count": 26,
   "metadata": {},
   "outputs": [
    {
     "data": {
      "text/plain": [
       "[{'quote': \"“I'm selfish, impatient and a little insecure. I make mistakes, I am out of control and at times hard to handle. But if you can't handle me at my worst, then you sure as hell don't deserve me at my best.”\",\n",
       "  'author': 'Marilyn Monroe',\n",
       "  'tags': ['attributed-no-source',\n",
       "   'best',\n",
       "   'life',\n",
       "   'love',\n",
       "   'mistakes',\n",
       "   'out-of-control',\n",
       "   'truth',\n",
       "   'worst']},\n",
       " {'quote': '“Be yourself; everyone else is already taken.”',\n",
       "  'author': 'Oscar Wilde',\n",
       "  'tags': ['attributed-no-source',\n",
       "   'be-yourself',\n",
       "   'honesty',\n",
       "   'inspirational',\n",
       "   'misattributed-oscar-wilde']},\n",
       " {'quote': \"“Two things are infinite: the universe and human stupidity; and I'm not sure about the universe.”\",\n",
       "  'author': 'Albert Einstein',\n",
       "  'tags': ['attributed-no-source',\n",
       "   'human-nature',\n",
       "   'humor',\n",
       "   'infinity',\n",
       "   'philosophy',\n",
       "   'science',\n",
       "   'stupidity',\n",
       "   'universe']},\n",
       " {'quote': '“So many books, so little time.”',\n",
       "  'author': 'Frank Zappa',\n",
       "  'tags': ['books', 'humor']},\n",
       " {'quote': \"“Be who you are and say what you feel, because those who mind don't matter, and those who matter don't mind.”\",\n",
       "  'author': 'Bernard M. Baruch',\n",
       "  'tags': ['ataraxy',\n",
       "   'be-yourself',\n",
       "   'confidence',\n",
       "   'fitting-in',\n",
       "   'individuality',\n",
       "   'misattributed-dr-seuss',\n",
       "   'those-who-matter']},\n",
       " {'quote': '“A room without books is like a body without a soul.”',\n",
       "  'author': 'Marcus Tullius Cicero',\n",
       "  'tags': ['attributed-no-source', 'books', 'simile', 'soul']},\n",
       " {'quote': \"“You've gotta dance like there's nobody watching,Love like you'll never be hurt,Sing like there's nobody listening,And live like it's heaven on earth.”\",\n",
       "  'author': 'William W. Purkey',\n",
       "  'tags': ['dance',\n",
       "   'heaven',\n",
       "   'hurt',\n",
       "   'inspirational',\n",
       "   'life',\n",
       "   'love',\n",
       "   'sing']},\n",
       " {'quote': \"“You know you're in love when you can't fall asleep because reality is finally better than your dreams.”\",\n",
       "  'author': 'Dr. Seuss',\n",
       "  'tags': ['attributed-no-source', 'dreams', 'love', 'reality', 'sleep']},\n",
       " {'quote': '“You only live once, but if you do it right, once is enough.”',\n",
       "  'author': 'Mae West',\n",
       "  'tags': ['humor', 'life']},\n",
       " {'quote': '“Be the change that you wish to see in the world.”',\n",
       "  'author': 'Mahatma Gandhi',\n",
       "  'tags': ['action', 'change', 'inspirational', 'philosophy', 'wish']},\n",
       " {'quote': \"“In three words I can sum up everything I've learned about life: it goes on.”\",\n",
       "  'author': 'Robert Frost',\n",
       "  'tags': ['life']},\n",
       " {'quote': \"“If you want to know what a man's like, take a good look at how he treats his inferiors, not his equals.”\",\n",
       "  'author': 'J.K. Rowling,',\n",
       "  'tags': ['attributed-no-source',\n",
       "   'friends',\n",
       "   'friendship',\n",
       "   'misattributed-albert-camus']},\n",
       " {'quote': '“Don’t walk in front of me… I may not followDon’t walk behind me… I may not leadWalk beside me… just be my friend”',\n",
       "  'author': 'Albert Camus',\n",
       "  'tags': ['attributed-no-source',\n",
       "   'friends',\n",
       "   'friendship',\n",
       "   'misattributed-albert-camus']},\n",
       " {'quote': '“No one can make you feel inferior without your consent.”',\n",
       "  'author': 'Eleanor Roosevelt,',\n",
       "  'tags': ['confidence', 'inspirational', 'wisdom']},\n",
       " {'quote': \"“If you tell the truth, you don't have to remember anything.”\",\n",
       "  'author': 'Mark Twain',\n",
       "  'tags': ['lies', 'lying', 'memory', 'truth']},\n",
       " {'quote': '“Friendship ... is born at the moment when one man says to another \"What! You too? I thought that no one but myself . . .”',\n",
       "  'author': 'C.S. Lewis,',\n",
       "  'tags': ['friendship']},\n",
       " {'quote': \"“I've learned that people will forget what you said, people will forget what you did, but people will never forget how you made them feel.”\",\n",
       "  'author': 'Maya Angelou',\n",
       "  'tags': ['friend', 'friendship', 'knowledge', 'love']},\n",
       " {'quote': '“A friend is someone who knows all about you and still loves you.”',\n",
       "  'author': 'Elbert Hubbard',\n",
       "  'tags': ['friend', 'friendship', 'knowledge', 'love']},\n",
       " {'quote': '“Always forgive your enemies; nothing annoys them so much.”',\n",
       "  'author': 'Oscar Wilde',\n",
       "  'tags': ['attributed-no-source', 'enemies', 'forgiveness', 'strategy']},\n",
       " {'quote': '“To live is the rarest thing in the world. Most people exist, that is all.”',\n",
       "  'author': 'Oscar Wilde',\n",
       "  'tags': ['life']},\n",
       " {'quote': '“Live as if you were to die tomorrow. Learn as if you were to live forever.”',\n",
       "  'author': 'Mahatma Gandhi',\n",
       "  'tags': ['carpe-diem', 'education', 'inspirational', 'learning']},\n",
       " {'quote': '“Darkness cannot drive out darkness: only light can do that. Hate cannot drive out hate: only love can do that.”',\n",
       "  'author': 'Martin Luther King Jr.,',\n",
       "  'tags': ['darkness',\n",
       "   'drive-out',\n",
       "   'hate',\n",
       "   'inspirational',\n",
       "   'light',\n",
       "   'love',\n",
       "   'peace']},\n",
       " {'quote': \"“I am so clever that sometimes I don't understand a single word of what I am saying.”\",\n",
       "  'author': 'Oscar Wilde,',\n",
       "  'tags': ['intelligence', 'self-deprecation']},\n",
       " {'quote': '“Without music, life would be a mistake.”',\n",
       "  'author': 'Friedrich Nietzsche,',\n",
       "  'tags': ['inspirational', 'music', 'philosophy']},\n",
       " {'quote': '“We accept the love we think we deserve.”',\n",
       "  'author': 'Stephen Chbosky,',\n",
       "  'tags': ['inspirational', 'love']},\n",
       " {'quote': '“To be yourself in a world that is constantly trying to make you something else is the greatest accomplishment.”',\n",
       "  'author': 'Ralph Waldo Emerson',\n",
       "  'tags': ['accomplishment',\n",
       "   'attributed-no-source',\n",
       "   'be-yourself',\n",
       "   'conformity',\n",
       "   'individuality']},\n",
       " {'quote': \"“Here's to the crazy ones. The misfits. The rebels. The troublemakers. The round pegs in the square holes. The ones who see things differently. They're not fond of rules. And they have no respect for the status quo. You can quote them, disagree with them, glorify or vilify them. About the only thing you can't do is ignore them. Because they change things. They push the human race forward. And while some may see them as the crazy ones, we see genius. Because the people who are crazy enough to think they can change the world, are the ones who do.”\",\n",
       "  'author': 'Rob Siltanen',\n",
       "  'tags': ['advertising',\n",
       "   'apple',\n",
       "   'change',\n",
       "   'commercial',\n",
       "   'computers',\n",
       "   'different',\n",
       "   'madness',\n",
       "   'misattributed-apple',\n",
       "   'misattributed-steve-jobs',\n",
       "   'misfits',\n",
       "   'nonconformity',\n",
       "   'progressive',\n",
       "   'rebels',\n",
       "   'status-quo',\n",
       "   'think-different',\n",
       "   'troublemakers']},\n",
       " {'quote': '“Insanity is doing the same thing, over and over again, but expecting different results.”',\n",
       "  'author': 'Narcotics Anonymous',\n",
       "  'tags': ['humor',\n",
       "   'insanity',\n",
       "   'life',\n",
       "   'misattributed-ben-franklin',\n",
       "   'misattributed-mark-twain',\n",
       "   'misattributed-to-einstein']},\n",
       " {'quote': \"“I believe that everything happens for a reason. People change so that you can learn to let go, things go wrong so that you appreciate them when they're right, you believe lies so you eventually learn to trust no one but yourself, and sometimes good things fall apart so better things can fall together.”\",\n",
       "  'author': 'Marilyn Monroe',\n",
       "  'tags': ['attributed-no-source', 'misattributed-marilyn-monroe']},\n",
       " {'quote': \"“Twenty years from now you will be more disappointed by the things that you didn't do than by the ones you did do. So throw off the bowlines. Sail away from the safe harbor. Catch the trade winds in your sails. Explore. Dream. Discover.”\",\n",
       "  'author': 'H. Jackson Brown Jr.,',\n",
       "  'tags': ['actions',\n",
       "   'disappointed',\n",
       "   'disappointment',\n",
       "   'dream',\n",
       "   'dreams',\n",
       "   'explore',\n",
       "   'misattributed-mark-twain',\n",
       "   'sail']}]"
      ]
     },
     "execution_count": 26,
     "metadata": {},
     "output_type": "execute_result"
    }
   ],
   "source": [
    "books   #books for first page of love "
   ]
  },
  {
   "cell_type": "code",
   "execution_count": 27,
   "metadata": {},
   "outputs": [],
   "source": [
    "books_table = pd.DataFrame(books) # convert avove dictionary to dataframe"
   ]
  },
  {
   "cell_type": "code",
   "execution_count": 28,
   "metadata": {},
   "outputs": [
    {
     "data": {
      "text/html": [
       "<div>\n",
       "<style scoped>\n",
       "    .dataframe tbody tr th:only-of-type {\n",
       "        vertical-align: middle;\n",
       "    }\n",
       "\n",
       "    .dataframe tbody tr th {\n",
       "        vertical-align: top;\n",
       "    }\n",
       "\n",
       "    .dataframe thead th {\n",
       "        text-align: right;\n",
       "    }\n",
       "</style>\n",
       "<table border=\"1\" class=\"dataframe\">\n",
       "  <thead>\n",
       "    <tr style=\"text-align: right;\">\n",
       "      <th></th>\n",
       "      <th>quote</th>\n",
       "      <th>author</th>\n",
       "      <th>tags</th>\n",
       "    </tr>\n",
       "  </thead>\n",
       "  <tbody>\n",
       "    <tr>\n",
       "      <th>0</th>\n",
       "      <td>“I'm selfish, impatient and a little insecure....</td>\n",
       "      <td>Marilyn Monroe</td>\n",
       "      <td>[attributed-no-source, best, life, love, mista...</td>\n",
       "    </tr>\n",
       "    <tr>\n",
       "      <th>1</th>\n",
       "      <td>“Be yourself; everyone else is already taken.”</td>\n",
       "      <td>Oscar Wilde</td>\n",
       "      <td>[attributed-no-source, be-yourself, honesty, i...</td>\n",
       "    </tr>\n",
       "    <tr>\n",
       "      <th>2</th>\n",
       "      <td>“Two things are infinite: the universe and hum...</td>\n",
       "      <td>Albert Einstein</td>\n",
       "      <td>[attributed-no-source, human-nature, humor, in...</td>\n",
       "    </tr>\n",
       "    <tr>\n",
       "      <th>3</th>\n",
       "      <td>“So many books, so little time.”</td>\n",
       "      <td>Frank Zappa</td>\n",
       "      <td>[books, humor]</td>\n",
       "    </tr>\n",
       "    <tr>\n",
       "      <th>4</th>\n",
       "      <td>“Be who you are and say what you feel, because...</td>\n",
       "      <td>Bernard M. Baruch</td>\n",
       "      <td>[ataraxy, be-yourself, confidence, fitting-in,...</td>\n",
       "    </tr>\n",
       "    <tr>\n",
       "      <th>5</th>\n",
       "      <td>“A room without books is like a body without a...</td>\n",
       "      <td>Marcus Tullius Cicero</td>\n",
       "      <td>[attributed-no-source, books, simile, soul]</td>\n",
       "    </tr>\n",
       "    <tr>\n",
       "      <th>6</th>\n",
       "      <td>“You've gotta dance like there's nobody watchi...</td>\n",
       "      <td>William W. Purkey</td>\n",
       "      <td>[dance, heaven, hurt, inspirational, life, lov...</td>\n",
       "    </tr>\n",
       "    <tr>\n",
       "      <th>7</th>\n",
       "      <td>“You know you're in love when you can't fall a...</td>\n",
       "      <td>Dr. Seuss</td>\n",
       "      <td>[attributed-no-source, dreams, love, reality, ...</td>\n",
       "    </tr>\n",
       "    <tr>\n",
       "      <th>8</th>\n",
       "      <td>“You only live once, but if you do it right, o...</td>\n",
       "      <td>Mae West</td>\n",
       "      <td>[humor, life]</td>\n",
       "    </tr>\n",
       "    <tr>\n",
       "      <th>9</th>\n",
       "      <td>“Be the change that you wish to see in the wor...</td>\n",
       "      <td>Mahatma Gandhi</td>\n",
       "      <td>[action, change, inspirational, philosophy, wish]</td>\n",
       "    </tr>\n",
       "    <tr>\n",
       "      <th>10</th>\n",
       "      <td>“In three words I can sum up everything I've l...</td>\n",
       "      <td>Robert Frost</td>\n",
       "      <td>[life]</td>\n",
       "    </tr>\n",
       "    <tr>\n",
       "      <th>11</th>\n",
       "      <td>“If you want to know what a man's like, take a...</td>\n",
       "      <td>J.K. Rowling,</td>\n",
       "      <td>[attributed-no-source, friends, friendship, mi...</td>\n",
       "    </tr>\n",
       "    <tr>\n",
       "      <th>12</th>\n",
       "      <td>“Don’t walk in front of me… I may not followDo...</td>\n",
       "      <td>Albert Camus</td>\n",
       "      <td>[attributed-no-source, friends, friendship, mi...</td>\n",
       "    </tr>\n",
       "    <tr>\n",
       "      <th>13</th>\n",
       "      <td>“No one can make you feel inferior without you...</td>\n",
       "      <td>Eleanor Roosevelt,</td>\n",
       "      <td>[confidence, inspirational, wisdom]</td>\n",
       "    </tr>\n",
       "    <tr>\n",
       "      <th>14</th>\n",
       "      <td>“If you tell the truth, you don't have to reme...</td>\n",
       "      <td>Mark Twain</td>\n",
       "      <td>[lies, lying, memory, truth]</td>\n",
       "    </tr>\n",
       "    <tr>\n",
       "      <th>15</th>\n",
       "      <td>“Friendship ... is born at the moment when one...</td>\n",
       "      <td>C.S. Lewis,</td>\n",
       "      <td>[friendship]</td>\n",
       "    </tr>\n",
       "    <tr>\n",
       "      <th>16</th>\n",
       "      <td>“I've learned that people will forget what you...</td>\n",
       "      <td>Maya Angelou</td>\n",
       "      <td>[friend, friendship, knowledge, love]</td>\n",
       "    </tr>\n",
       "    <tr>\n",
       "      <th>17</th>\n",
       "      <td>“A friend is someone who knows all about you a...</td>\n",
       "      <td>Elbert Hubbard</td>\n",
       "      <td>[friend, friendship, knowledge, love]</td>\n",
       "    </tr>\n",
       "    <tr>\n",
       "      <th>18</th>\n",
       "      <td>“Always forgive your enemies; nothing annoys t...</td>\n",
       "      <td>Oscar Wilde</td>\n",
       "      <td>[attributed-no-source, enemies, forgiveness, s...</td>\n",
       "    </tr>\n",
       "    <tr>\n",
       "      <th>19</th>\n",
       "      <td>“To live is the rarest thing in the world. Mos...</td>\n",
       "      <td>Oscar Wilde</td>\n",
       "      <td>[life]</td>\n",
       "    </tr>\n",
       "    <tr>\n",
       "      <th>20</th>\n",
       "      <td>“Live as if you were to die tomorrow. Learn as...</td>\n",
       "      <td>Mahatma Gandhi</td>\n",
       "      <td>[carpe-diem, education, inspirational, learning]</td>\n",
       "    </tr>\n",
       "    <tr>\n",
       "      <th>21</th>\n",
       "      <td>“Darkness cannot drive out darkness: only ligh...</td>\n",
       "      <td>Martin Luther King Jr.,</td>\n",
       "      <td>[darkness, drive-out, hate, inspirational, lig...</td>\n",
       "    </tr>\n",
       "    <tr>\n",
       "      <th>22</th>\n",
       "      <td>“I am so clever that sometimes I don't underst...</td>\n",
       "      <td>Oscar Wilde,</td>\n",
       "      <td>[intelligence, self-deprecation]</td>\n",
       "    </tr>\n",
       "    <tr>\n",
       "      <th>23</th>\n",
       "      <td>“Without music, life would be a mistake.”</td>\n",
       "      <td>Friedrich Nietzsche,</td>\n",
       "      <td>[inspirational, music, philosophy]</td>\n",
       "    </tr>\n",
       "    <tr>\n",
       "      <th>24</th>\n",
       "      <td>“We accept the love we think we deserve.”</td>\n",
       "      <td>Stephen Chbosky,</td>\n",
       "      <td>[inspirational, love]</td>\n",
       "    </tr>\n",
       "    <tr>\n",
       "      <th>25</th>\n",
       "      <td>“To be yourself in a world that is constantly ...</td>\n",
       "      <td>Ralph Waldo Emerson</td>\n",
       "      <td>[accomplishment, attributed-no-source, be-your...</td>\n",
       "    </tr>\n",
       "    <tr>\n",
       "      <th>26</th>\n",
       "      <td>“Here's to the crazy ones. The misfits. The re...</td>\n",
       "      <td>Rob Siltanen</td>\n",
       "      <td>[advertising, apple, change, commercial, compu...</td>\n",
       "    </tr>\n",
       "    <tr>\n",
       "      <th>27</th>\n",
       "      <td>“Insanity is doing the same thing, over and ov...</td>\n",
       "      <td>Narcotics Anonymous</td>\n",
       "      <td>[humor, insanity, life, misattributed-ben-fran...</td>\n",
       "    </tr>\n",
       "    <tr>\n",
       "      <th>28</th>\n",
       "      <td>“I believe that everything happens for a reaso...</td>\n",
       "      <td>Marilyn Monroe</td>\n",
       "      <td>[attributed-no-source, misattributed-marilyn-m...</td>\n",
       "    </tr>\n",
       "    <tr>\n",
       "      <th>29</th>\n",
       "      <td>“Twenty years from now you will be more disapp...</td>\n",
       "      <td>H. Jackson Brown Jr.,</td>\n",
       "      <td>[actions, disappointed, disappointment, dream,...</td>\n",
       "    </tr>\n",
       "  </tbody>\n",
       "</table>\n",
       "</div>"
      ],
      "text/plain": [
       "                                                quote  \\\n",
       "0   “I'm selfish, impatient and a little insecure....   \n",
       "1      “Be yourself; everyone else is already taken.”   \n",
       "2   “Two things are infinite: the universe and hum...   \n",
       "3                    “So many books, so little time.”   \n",
       "4   “Be who you are and say what you feel, because...   \n",
       "5   “A room without books is like a body without a...   \n",
       "6   “You've gotta dance like there's nobody watchi...   \n",
       "7   “You know you're in love when you can't fall a...   \n",
       "8   “You only live once, but if you do it right, o...   \n",
       "9   “Be the change that you wish to see in the wor...   \n",
       "10  “In three words I can sum up everything I've l...   \n",
       "11  “If you want to know what a man's like, take a...   \n",
       "12  “Don’t walk in front of me… I may not followDo...   \n",
       "13  “No one can make you feel inferior without you...   \n",
       "14  “If you tell the truth, you don't have to reme...   \n",
       "15  “Friendship ... is born at the moment when one...   \n",
       "16  “I've learned that people will forget what you...   \n",
       "17  “A friend is someone who knows all about you a...   \n",
       "18  “Always forgive your enemies; nothing annoys t...   \n",
       "19  “To live is the rarest thing in the world. Mos...   \n",
       "20  “Live as if you were to die tomorrow. Learn as...   \n",
       "21  “Darkness cannot drive out darkness: only ligh...   \n",
       "22  “I am so clever that sometimes I don't underst...   \n",
       "23          “Without music, life would be a mistake.”   \n",
       "24          “We accept the love we think we deserve.”   \n",
       "25  “To be yourself in a world that is constantly ...   \n",
       "26  “Here's to the crazy ones. The misfits. The re...   \n",
       "27  “Insanity is doing the same thing, over and ov...   \n",
       "28  “I believe that everything happens for a reaso...   \n",
       "29  “Twenty years from now you will be more disapp...   \n",
       "\n",
       "                     author                                               tags  \n",
       "0            Marilyn Monroe  [attributed-no-source, best, life, love, mista...  \n",
       "1               Oscar Wilde  [attributed-no-source, be-yourself, honesty, i...  \n",
       "2           Albert Einstein  [attributed-no-source, human-nature, humor, in...  \n",
       "3               Frank Zappa                                     [books, humor]  \n",
       "4         Bernard M. Baruch  [ataraxy, be-yourself, confidence, fitting-in,...  \n",
       "5     Marcus Tullius Cicero        [attributed-no-source, books, simile, soul]  \n",
       "6         William W. Purkey  [dance, heaven, hurt, inspirational, life, lov...  \n",
       "7                 Dr. Seuss  [attributed-no-source, dreams, love, reality, ...  \n",
       "8                  Mae West                                      [humor, life]  \n",
       "9            Mahatma Gandhi  [action, change, inspirational, philosophy, wish]  \n",
       "10             Robert Frost                                             [life]  \n",
       "11            J.K. Rowling,  [attributed-no-source, friends, friendship, mi...  \n",
       "12             Albert Camus  [attributed-no-source, friends, friendship, mi...  \n",
       "13       Eleanor Roosevelt,                [confidence, inspirational, wisdom]  \n",
       "14               Mark Twain                       [lies, lying, memory, truth]  \n",
       "15              C.S. Lewis,                                       [friendship]  \n",
       "16             Maya Angelou              [friend, friendship, knowledge, love]  \n",
       "17           Elbert Hubbard              [friend, friendship, knowledge, love]  \n",
       "18              Oscar Wilde  [attributed-no-source, enemies, forgiveness, s...  \n",
       "19              Oscar Wilde                                             [life]  \n",
       "20           Mahatma Gandhi   [carpe-diem, education, inspirational, learning]  \n",
       "21  Martin Luther King Jr.,  [darkness, drive-out, hate, inspirational, lig...  \n",
       "22             Oscar Wilde,                   [intelligence, self-deprecation]  \n",
       "23     Friedrich Nietzsche,                 [inspirational, music, philosophy]  \n",
       "24         Stephen Chbosky,                              [inspirational, love]  \n",
       "25      Ralph Waldo Emerson  [accomplishment, attributed-no-source, be-your...  \n",
       "26             Rob Siltanen  [advertising, apple, change, commercial, compu...  \n",
       "27      Narcotics Anonymous  [humor, insanity, life, misattributed-ben-fran...  \n",
       "28           Marilyn Monroe  [attributed-no-source, misattributed-marilyn-m...  \n",
       "29    H. Jackson Brown Jr.,  [actions, disappointed, disappointment, dream,...  "
      ]
     },
     "execution_count": 28,
     "metadata": {},
     "output_type": "execute_result"
    }
   ],
   "source": [
    "books_table # we have just scrapped first page of love quotes and converted it into a dataframe"
   ]
  },
  {
   "cell_type": "markdown",
   "metadata": {},
   "source": [
    "There are 30 examples for each keyword on singal webpage "
   ]
  },
  {
   "cell_type": "code",
   "execution_count": 29,
   "metadata": {},
   "outputs": [],
   "source": [
    "#this function will return books for quotes links\n",
    "# we willl just pass url \n",
    "# and it will give books\n",
    "\n",
    "def process(url_link):\n",
    "    response = requests.get(url_link)\n",
    "    soup = BeautifulSoup(response.text)\n",
    "    quotes = soup.find_all(\"div\",attrs={\"class\":\"quote\"})\n",
    "    books=[]\n",
    "    for quote_items in quotes:\n",
    "        quote_items = quote_items.find_next(\"div\",attrs={\"class\":\"quoteText\"})\n",
    "        quote = quote_items.text.strip().split('\\n')[0]\n",
    "        author = quote_items.span.text.strip()\n",
    "        left = quote_items.find_next(\"div\", attrs={\"class\" : \"left\"})\n",
    "        li_tags_links = left.find_all(\"a\")\n",
    "        tags = [tag_link.text for tag_link in li_tags_links]\n",
    "        quote_books={\n",
    "            \"quote\" : quote,\n",
    "            \"author\" : author,\n",
    "            \"tags\" : tags\n",
    "        }\n",
    "        books.append(quote_books)\n",
    "    return books"
   ]
  },
  {
   "cell_type": "markdown",
   "metadata": {},
   "source": [
    "In the below code i just created a list of keyword , you can edit your own . And i just crawl 10 pages for each keyword. \n",
    "As we have seen that there are 30 examples for each keyword on singal web page . So there are 6 keyword below and 10 pages , there will be 180 data for this . 6*10*30"
   ]
  },
  {
   "cell_type": "code",
   "execution_count": 30,
   "metadata": {},
   "outputs": [
    {
     "name": "stdout",
     "output_type": "stream",
     "text": [
      "Processing love page 0\n",
      "https://www.goodreads.com/quotes/tag/love?page=0\n",
      "Processing love page 1\n",
      "https://www.goodreads.com/quotes/tag/love?page=1\n",
      "Processing love page 2\n",
      "https://www.goodreads.com/quotes/tag/love?page=2\n",
      "Processing love page 3\n",
      "https://www.goodreads.com/quotes/tag/love?page=3\n",
      "Processing love page 4\n",
      "https://www.goodreads.com/quotes/tag/love?page=4\n",
      "Processing love page 5\n",
      "https://www.goodreads.com/quotes/tag/love?page=5\n",
      "Processing love page 6\n",
      "https://www.goodreads.com/quotes/tag/love?page=6\n",
      "Processing love page 7\n",
      "https://www.goodreads.com/quotes/tag/love?page=7\n",
      "Processing love page 8\n",
      "https://www.goodreads.com/quotes/tag/love?page=8\n",
      "Processing love page 9\n",
      "https://www.goodreads.com/quotes/tag/love?page=9\n",
      "Processing life page 0\n",
      "https://www.goodreads.com/quotes/tag/life?page=0\n",
      "Processing life page 1\n",
      "https://www.goodreads.com/quotes/tag/life?page=1\n",
      "Processing life page 2\n",
      "https://www.goodreads.com/quotes/tag/life?page=2\n",
      "Processing life page 3\n",
      "https://www.goodreads.com/quotes/tag/life?page=3\n",
      "Processing life page 4\n",
      "https://www.goodreads.com/quotes/tag/life?page=4\n",
      "Processing life page 5\n",
      "https://www.goodreads.com/quotes/tag/life?page=5\n",
      "Processing life page 6\n",
      "https://www.goodreads.com/quotes/tag/life?page=6\n",
      "Processing life page 7\n",
      "https://www.goodreads.com/quotes/tag/life?page=7\n",
      "Processing life page 8\n",
      "https://www.goodreads.com/quotes/tag/life?page=8\n",
      "Processing life page 9\n",
      "https://www.goodreads.com/quotes/tag/life?page=9\n",
      "Processing inspirational page 0\n",
      "https://www.goodreads.com/quotes/tag/inspirational?page=0\n",
      "Processing inspirational page 1\n",
      "https://www.goodreads.com/quotes/tag/inspirational?page=1\n",
      "Processing inspirational page 2\n",
      "https://www.goodreads.com/quotes/tag/inspirational?page=2\n",
      "Processing inspirational page 3\n",
      "https://www.goodreads.com/quotes/tag/inspirational?page=3\n",
      "Processing inspirational page 4\n",
      "https://www.goodreads.com/quotes/tag/inspirational?page=4\n",
      "Processing inspirational page 5\n",
      "https://www.goodreads.com/quotes/tag/inspirational?page=5\n",
      "Processing inspirational page 6\n",
      "https://www.goodreads.com/quotes/tag/inspirational?page=6\n",
      "Processing inspirational page 7\n",
      "https://www.goodreads.com/quotes/tag/inspirational?page=7\n",
      "Processing inspirational page 8\n",
      "https://www.goodreads.com/quotes/tag/inspirational?page=8\n",
      "Processing inspirational page 9\n",
      "https://www.goodreads.com/quotes/tag/inspirational?page=9\n",
      "Processing Humor page 0\n",
      "https://www.goodreads.com/quotes/tag/Humor?page=0\n",
      "Processing Humor page 1\n",
      "https://www.goodreads.com/quotes/tag/Humor?page=1\n",
      "Processing Humor page 2\n",
      "https://www.goodreads.com/quotes/tag/Humor?page=2\n",
      "Processing Humor page 3\n",
      "https://www.goodreads.com/quotes/tag/Humor?page=3\n",
      "Processing Humor page 4\n",
      "https://www.goodreads.com/quotes/tag/Humor?page=4\n",
      "Processing Humor page 5\n",
      "https://www.goodreads.com/quotes/tag/Humor?page=5\n",
      "Processing Humor page 6\n",
      "https://www.goodreads.com/quotes/tag/Humor?page=6\n",
      "Processing Humor page 7\n",
      "https://www.goodreads.com/quotes/tag/Humor?page=7\n",
      "Processing Humor page 8\n",
      "https://www.goodreads.com/quotes/tag/Humor?page=8\n",
      "Processing Humor page 9\n",
      "https://www.goodreads.com/quotes/tag/Humor?page=9\n",
      "Processing Philosophy page 0\n",
      "https://www.goodreads.com/quotes/tag/Philosophy?page=0\n",
      "Processing Philosophy page 1\n",
      "https://www.goodreads.com/quotes/tag/Philosophy?page=1\n",
      "Processing Philosophy page 2\n",
      "https://www.goodreads.com/quotes/tag/Philosophy?page=2\n",
      "Processing Philosophy page 3\n",
      "https://www.goodreads.com/quotes/tag/Philosophy?page=3\n",
      "Processing Philosophy page 4\n",
      "https://www.goodreads.com/quotes/tag/Philosophy?page=4\n",
      "Processing Philosophy page 5\n",
      "https://www.goodreads.com/quotes/tag/Philosophy?page=5\n",
      "Processing Philosophy page 6\n",
      "https://www.goodreads.com/quotes/tag/Philosophy?page=6\n",
      "Processing Philosophy page 7\n",
      "https://www.goodreads.com/quotes/tag/Philosophy?page=7\n",
      "Processing Philosophy page 8\n",
      "https://www.goodreads.com/quotes/tag/Philosophy?page=8\n",
      "Processing Philosophy page 9\n",
      "https://www.goodreads.com/quotes/tag/Philosophy?page=9\n",
      "Processing God page 0\n",
      "https://www.goodreads.com/quotes/tag/God?page=0\n",
      "Processing God page 1\n",
      "https://www.goodreads.com/quotes/tag/God?page=1\n",
      "Processing God page 2\n",
      "https://www.goodreads.com/quotes/tag/God?page=2\n",
      "Processing God page 3\n",
      "https://www.goodreads.com/quotes/tag/God?page=3\n",
      "Processing God page 4\n",
      "https://www.goodreads.com/quotes/tag/God?page=4\n",
      "Processing God page 5\n",
      "https://www.goodreads.com/quotes/tag/God?page=5\n",
      "Processing God page 6\n",
      "https://www.goodreads.com/quotes/tag/God?page=6\n",
      "Processing God page 7\n",
      "https://www.goodreads.com/quotes/tag/God?page=7\n",
      "Processing God page 8\n",
      "https://www.goodreads.com/quotes/tag/God?page=8\n",
      "Processing God page 9\n",
      "https://www.goodreads.com/quotes/tag/God?page=9\n"
     ]
    }
   ],
   "source": [
    "page = [\"love\",\"life\",\"inspirational\",\"Humor\",\"Philosophy\",\"God\"]\n",
    "url = r\"https://www.goodreads.com/quotes/tag/{}?page={}\"\n",
    "chunk = []\n",
    "for e in page:\n",
    "    for i in range(10):\n",
    "        print(\"Processing {} page {}\".format(e,i))\n",
    "        formatted_url = url.format(e,i)\n",
    "        print(formatted_url)\n",
    "        out = process(formatted_url)\n",
    "        chunk.extend(out)"
   ]
  },
  {
   "cell_type": "markdown",
   "metadata": {},
   "source": [
    "# Creating a database of each quotes"
   ]
  },
  {
   "cell_type": "code",
   "execution_count": 31,
   "metadata": {},
   "outputs": [],
   "source": [
    "quote_table = pd.DataFrame(chunk)"
   ]
  },
  {
   "cell_type": "code",
   "execution_count": 32,
   "metadata": {},
   "outputs": [
    {
     "name": "stdout",
     "output_type": "stream",
     "text": [
      "<class 'pandas.core.frame.DataFrame'>\n",
      "RangeIndex: 1800 entries, 0 to 1799\n",
      "Data columns (total 3 columns):\n",
      " #   Column  Non-Null Count  Dtype \n",
      "---  ------  --------------  ----- \n",
      " 0   quote   1800 non-null   object\n",
      " 1   author  1800 non-null   object\n",
      " 2   tags    1800 non-null   object\n",
      "dtypes: object(3)\n",
      "memory usage: 42.3+ KB\n"
     ]
    }
   ],
   "source": [
    "quote_table.info() #ohh,our calcation was right "
   ]
  },
  {
   "cell_type": "code",
   "execution_count": 33,
   "metadata": {},
   "outputs": [],
   "source": [
    "love_table = quote_table.head(300)\n",
    "life_table = quote_table[300:600]\n",
    "inspirational_table = quote_table[600:900]\n",
    "Humor_table = quote_table[900:1200]\n",
    "Philosophy_table = quote_table[1200:1500]\n",
    "God_table = quote_table[1500:1800]"
   ]
  },
  {
   "cell_type": "code",
   "execution_count": 34,
   "metadata": {},
   "outputs": [],
   "source": [
    "quote_table.to_csv(\"../output/total_quotes\",index=False)\n",
    "love_table.to_csv(\"../output/Love_quotes\",index=False)\n",
    "life_table.to_csv(\"../output/Life_quotes\",index=False)\n",
    "inspirational_table.to_csv(\"../output/Inspirational_quotes\",index=False)\n",
    "Humor_table.to_csv(\"../output/Humor_quotes\",index=False)\n",
    "Philosophy_table.to_csv(\"../output/Philosophy_quotes\",index=False)\n",
    "God_table.to_csv(\"../output/God_quotes\",index=False)"
   ]
  },
  {
   "cell_type": "code",
   "execution_count": null,
   "metadata": {},
   "outputs": [],
   "source": []
  },
  {
   "cell_type": "code",
   "execution_count": null,
   "metadata": {},
   "outputs": [],
   "source": []
  }
 ],
 "metadata": {
  "kernelspec": {
   "display_name": "Python 3",
   "language": "python",
   "name": "python3"
  },
  "language_info": {
   "codemirror_mode": {
    "name": "ipython",
    "version": 3
   },
   "file_extension": ".py",
   "mimetype": "text/x-python",
   "name": "python",
   "nbconvert_exporter": "python",
   "pygments_lexer": "ipython3",
   "version": "3.7.7"
  }
 },
 "nbformat": 4,
 "nbformat_minor": 4
}
