{
 "cells": [
  {
   "cell_type": "markdown",
   "metadata": {},
   "source": [
    "# Scrapping Snapdeal"
   ]
  },
  {
   "cell_type": "markdown",
   "metadata": {},
   "source": [
    "Let's take a example that how we can scrap snapdeal website \n",
    "https://www.snapdeal.com/ this is snapdeal official website \n",
    "we have to make a url of above so that we can add search keyword into it\n",
    "how we can do that \n"
   ]
  },
  {
   "cell_type": "markdown",
   "metadata": {},
   "source": [
    "<img src='../data/snapdeal.png'/>"
   ]
  },
  {
   "cell_type": "markdown",
   "metadata": {},
   "source": [
    "In the above image I searched for laptop so the url for this page will be :\n",
    "\n",
    "https://www.snapdeal.com/search?keyword=mobile&santizedKeyword=laptop+bags&catId=0&categoryId=0&suggested=false&vertical=p&noOfResults=20&searchState=&clickSrc=go_header&lastKeyword=&prodCatId=&changeBackToAll=false&foundInAll=false&categoryIdSearched=&cityPageUrl=&categoryUrl=&url=&utmContent=&dealDetail=&sort=rlvncy"
   ]
  },
  {
   "cell_type": "markdown",
   "metadata": {},
   "source": [
    "Look for keyword parameter in the above url\n",
    "we can replace this keyword to any search keyword which we should scrap\n"
   ]
  },
  {
   "cell_type": "code",
   "execution_count": 25,
   "metadata": {},
   "outputs": [],
   "source": [
    "import requests\n",
    "from bs4 import BeautifulSoup"
   ]
  },
  {
   "cell_type": "code",
   "execution_count": 26,
   "metadata": {},
   "outputs": [],
   "source": [
    "#I am taking phone keyword \n",
    "response = requests.get(r\"https://www.snapdeal.com/search?keyword=phone%20price&santizedKeyword=mobile&catId=0&categoryId=0&suggested=true&vertical=p&noOfResults=20&searchState=&clickSrc=suggested&lastKeyword=&prodCatId=&changeBackToAll=false&foundInAll=false&categoryIdSearched=&cityPageUrl=&categoryUrl=ALL&url=&utmContent=&dealDetail=&sort=rlvncy\")"
   ]
  },
  {
   "cell_type": "code",
   "execution_count": 27,
   "metadata": {},
   "outputs": [],
   "source": [
    "soup = BeautifulSoup(response.text) #parse that snapdeal web page "
   ]
  },
  {
   "cell_type": "markdown",
   "metadata": {},
   "source": [
    "<img src='../data/class.png'/>"
   ]
  },
  {
   "cell_type": "markdown",
   "metadata": {},
   "source": [
    "I have inspected on the first phone as you can the image has class name which is product-image \n",
    "so we will fetch all images available on that web page using this class"
   ]
  },
  {
   "cell_type": "code",
   "execution_count": 28,
   "metadata": {},
   "outputs": [],
   "source": [
    "image = soup.find_all(\"img\",attrs={\"class\":\"product-image\"}) "
   ]
  },
  {
   "cell_type": "code",
   "execution_count": 29,
   "metadata": {},
   "outputs": [
    {
     "data": {
      "text/plain": [
       "20"
      ]
     },
     "execution_count": 29,
     "metadata": {},
     "output_type": "execute_result"
    }
   ],
   "source": [
    "len(image) #There are 20 images on the singal web page "
   ]
  },
  {
   "cell_type": "code",
   "execution_count": 30,
   "metadata": {},
   "outputs": [
    {
     "data": {
      "text/plain": [
       "<img class=\"product-image\" src=\"https://n1.sdlcdn.com/imgs/j/k/w/230X258_sharpened/Redmi-Note-9-Pro-64GB-SDL034877888-1-7eaf3.jpg\" title=\"Redmi Note 9 Pro ( 64GB , 4 GB ) Champagne Gold\"/>"
      ]
     },
     "execution_count": 30,
     "metadata": {},
     "output_type": "execute_result"
    }
   ],
   "source": [
    "image[3] #Lets pick up 4th image , there are many attributes and we will focus on src attribute"
   ]
  },
  {
   "cell_type": "code",
   "execution_count": 31,
   "metadata": {},
   "outputs": [],
   "source": [
    "img1 = image[1].attrs['src'] #Get the source for 2nd image on web page for example"
   ]
  },
  {
   "cell_type": "code",
   "execution_count": 32,
   "metadata": {},
   "outputs": [],
   "source": [
    "get_image = requests.get(img1) #Get that image "
   ]
  },
  {
   "cell_type": "code",
   "execution_count": 33,
   "metadata": {},
   "outputs": [],
   "source": [
    "with open('../output/Phone.jpeg','wb') as f:  #Write that image content into image file \n",
    "    f.write(get_image.content)"
   ]
  },
  {
   "cell_type": "code",
   "execution_count": 34,
   "metadata": {},
   "outputs": [
    {
     "data": {
      "text/plain": [
       "'https://n3.sdlcdn.com/imgs/j/j/m/230X258_sharpened/Redmi-MI-A1-64GB-4-SDL100757691-1-57e83.jpg'"
      ]
     },
     "execution_count": 34,
     "metadata": {},
     "output_type": "execute_result"
    }
   ],
   "source": [
    "image[0].attrs['src']"
   ]
  },
  {
   "cell_type": "code",
   "execution_count": 35,
   "metadata": {},
   "outputs": [
    {
     "data": {
      "text/plain": [
       "<img class=\"product-image lazy-load\" data-src=\"https://n4.sdlcdn.com/imgs/j/e/0/230X258_sharpened/INFINIX-S5-Pro-64GB-4-SDL357811561-1-463f1.jpeg\" title=\"INFINIX S5 Pro ( 64GB , 4 GB ) Purple\"/>"
      ]
     },
     "execution_count": 35,
     "metadata": {},
     "output_type": "execute_result"
    }
   ],
   "source": [
    "image[6] #there is a problem with 5th to 20th images . these images don't have src attribute .it has data-src attribute "
   ]
  },
  {
   "cell_type": "code",
   "execution_count": 36,
   "metadata": {},
   "outputs": [],
   "source": [
    "\n",
    "#this code will copy all images into a file from snapdeal web page \n",
    "for i,image_item in enumerate(image):\n",
    "    with open('../output/Phone{}.jpeg'.format(i),'wb') as file:\n",
    "        try:\n",
    "            image_item = image_item.attrs['src']\n",
    "        except:\n",
    "            image_item = image_item.attrs['data-src']\n",
    "        get_image = requests.get(image_item)\n",
    "        file.write(get_image.content)"
   ]
  },
  {
   "cell_type": "code",
   "execution_count": null,
   "metadata": {},
   "outputs": [],
   "source": []
  },
  {
   "cell_type": "code",
   "execution_count": null,
   "metadata": {},
   "outputs": [],
   "source": []
  }
 ],
 "metadata": {
  "kernelspec": {
   "display_name": "Python 3",
   "language": "python",
   "name": "python3"
  },
  "language_info": {
   "codemirror_mode": {
    "name": "ipython",
    "version": 3
   },
   "file_extension": ".py",
   "mimetype": "text/x-python",
   "name": "python",
   "nbconvert_exporter": "python",
   "pygments_lexer": "ipython3",
   "version": "3.7.7"
  }
 },
 "nbformat": 4,
 "nbformat_minor": 2
}
