{
 "cells": [
  {
   "cell_type": "markdown",
   "source": [
    "# Import libraries"
   ],
   "metadata": {}
  },
  {
   "cell_type": "code",
   "execution_count": 1,
   "source": [
    "import tensorflow as tf\r\n",
    "from tensorflow import keras\r\n",
    "import tensorflow_hub as hub\r\n",
    "import tensorflow_text as texts\r\n",
    "import pandas as pd"
   ],
   "outputs": [],
   "metadata": {}
  },
  {
   "cell_type": "markdown",
   "source": [
    "# Load data"
   ],
   "metadata": {}
  },
  {
   "cell_type": "code",
   "execution_count": 25,
   "source": [
    "try:\r\n",
    "    project_url = 'https://raw.githubusercontent.com/BrianTshatiwa/99-ML-Learning-Projects/'\r\n",
    "    data_path = '/bert-pretrained/bert-text-classification/data/'\r\n",
    "    train=pd.read_csv(project_url+data_path+'tweets.csv')\r\n",
    "except Exception as ex:\r\n",
    "    print(f\"ERROR: {ex}\")\r\n",
    "\r\n",
    "# print first five rows\r\n",
    "train.head()"
   ],
   "outputs": [
    {
     "output_type": "execute_result",
     "data": {
      "text/html": [
       "<div>\n",
       "<style scoped>\n",
       "    .dataframe tbody tr th:only-of-type {\n",
       "        vertical-align: middle;\n",
       "    }\n",
       "\n",
       "    .dataframe tbody tr th {\n",
       "        vertical-align: top;\n",
       "    }\n",
       "\n",
       "    .dataframe thead th {\n",
       "        text-align: right;\n",
       "    }\n",
       "</style>\n",
       "<table border=\"1\" class=\"dataframe\">\n",
       "  <thead>\n",
       "    <tr style=\"text-align: right;\">\n",
       "      <th></th>\n",
       "      <th>id</th>\n",
       "      <th>keyword</th>\n",
       "      <th>location</th>\n",
       "      <th>text</th>\n",
       "      <th>target</th>\n",
       "    </tr>\n",
       "  </thead>\n",
       "  <tbody>\n",
       "    <tr>\n",
       "      <th>0</th>\n",
       "      <td>0</td>\n",
       "      <td>ablaze</td>\n",
       "      <td>NaN</td>\n",
       "      <td>Communal violence in Bhainsa, Telangana. \"Ston...</td>\n",
       "      <td>1</td>\n",
       "    </tr>\n",
       "    <tr>\n",
       "      <th>1</th>\n",
       "      <td>1</td>\n",
       "      <td>ablaze</td>\n",
       "      <td>NaN</td>\n",
       "      <td>Telangana: Section 144 has been imposed in Bha...</td>\n",
       "      <td>1</td>\n",
       "    </tr>\n",
       "    <tr>\n",
       "      <th>2</th>\n",
       "      <td>2</td>\n",
       "      <td>ablaze</td>\n",
       "      <td>New York City</td>\n",
       "      <td>Arsonist sets cars ablaze at dealership https:...</td>\n",
       "      <td>1</td>\n",
       "    </tr>\n",
       "    <tr>\n",
       "      <th>3</th>\n",
       "      <td>3</td>\n",
       "      <td>ablaze</td>\n",
       "      <td>Morgantown, WV</td>\n",
       "      <td>Arsonist sets cars ablaze at dealership https:...</td>\n",
       "      <td>1</td>\n",
       "    </tr>\n",
       "    <tr>\n",
       "      <th>4</th>\n",
       "      <td>4</td>\n",
       "      <td>ablaze</td>\n",
       "      <td>NaN</td>\n",
       "      <td>\"Lord Jesus, your love brings freedom and pard...</td>\n",
       "      <td>0</td>\n",
       "    </tr>\n",
       "  </tbody>\n",
       "</table>\n",
       "</div>"
      ],
      "text/plain": [
       "   id keyword        location  \\\n",
       "0   0  ablaze             NaN   \n",
       "1   1  ablaze             NaN   \n",
       "2   2  ablaze   New York City   \n",
       "3   3  ablaze  Morgantown, WV   \n",
       "4   4  ablaze             NaN   \n",
       "\n",
       "                                                text  target  \n",
       "0  Communal violence in Bhainsa, Telangana. \"Ston...       1  \n",
       "1  Telangana: Section 144 has been imposed in Bha...       1  \n",
       "2  Arsonist sets cars ablaze at dealership https:...       1  \n",
       "3  Arsonist sets cars ablaze at dealership https:...       1  \n",
       "4  \"Lord Jesus, your love brings freedom and pard...       0  "
      ]
     },
     "metadata": {},
     "execution_count": 25
    }
   ],
   "metadata": {}
  },
  {
   "cell_type": "code",
   "execution_count": 26,
   "source": [
    "# select columns to use\r\n",
    "train = train[[\"text\", \"target\"]]\r\n",
    "\r\n",
    "# print first five rows\r\n",
    "train.head()"
   ],
   "outputs": [
    {
     "output_type": "execute_result",
     "data": {
      "text/html": [
       "<div>\n",
       "<style scoped>\n",
       "    .dataframe tbody tr th:only-of-type {\n",
       "        vertical-align: middle;\n",
       "    }\n",
       "\n",
       "    .dataframe tbody tr th {\n",
       "        vertical-align: top;\n",
       "    }\n",
       "\n",
       "    .dataframe thead th {\n",
       "        text-align: right;\n",
       "    }\n",
       "</style>\n",
       "<table border=\"1\" class=\"dataframe\">\n",
       "  <thead>\n",
       "    <tr style=\"text-align: right;\">\n",
       "      <th></th>\n",
       "      <th>text</th>\n",
       "      <th>target</th>\n",
       "    </tr>\n",
       "  </thead>\n",
       "  <tbody>\n",
       "    <tr>\n",
       "      <th>0</th>\n",
       "      <td>Communal violence in Bhainsa, Telangana. \"Ston...</td>\n",
       "      <td>1</td>\n",
       "    </tr>\n",
       "    <tr>\n",
       "      <th>1</th>\n",
       "      <td>Telangana: Section 144 has been imposed in Bha...</td>\n",
       "      <td>1</td>\n",
       "    </tr>\n",
       "    <tr>\n",
       "      <th>2</th>\n",
       "      <td>Arsonist sets cars ablaze at dealership https:...</td>\n",
       "      <td>1</td>\n",
       "    </tr>\n",
       "    <tr>\n",
       "      <th>3</th>\n",
       "      <td>Arsonist sets cars ablaze at dealership https:...</td>\n",
       "      <td>1</td>\n",
       "    </tr>\n",
       "    <tr>\n",
       "      <th>4</th>\n",
       "      <td>\"Lord Jesus, your love brings freedom and pard...</td>\n",
       "      <td>0</td>\n",
       "    </tr>\n",
       "  </tbody>\n",
       "</table>\n",
       "</div>"
      ],
      "text/plain": [
       "                                                text  target\n",
       "0  Communal violence in Bhainsa, Telangana. \"Ston...       1\n",
       "1  Telangana: Section 144 has been imposed in Bha...       1\n",
       "2  Arsonist sets cars ablaze at dealership https:...       1\n",
       "3  Arsonist sets cars ablaze at dealership https:...       1\n",
       "4  \"Lord Jesus, your love brings freedom and pard...       0"
      ]
     },
     "metadata": {},
     "execution_count": 26
    }
   ],
   "metadata": {}
  },
  {
   "cell_type": "markdown",
   "source": [
    "# Check class imbalance"
   ],
   "metadata": {}
  },
  {
   "cell_type": "code",
   "execution_count": 27,
   "source": [
    "train.target.value_counts()"
   ],
   "outputs": [
    {
     "output_type": "execute_result",
     "data": {
      "text/plain": [
       "0    9256\n",
       "1    2114\n",
       "Name: target, dtype: int64"
      ]
     },
     "metadata": {},
     "execution_count": 27
    }
   ],
   "metadata": {}
  },
  {
   "cell_type": "markdown",
   "source": [
    "# Undersample majority class"
   ],
   "metadata": {}
  },
  {
   "cell_type": "code",
   "execution_count": 28,
   "source": [
    "class_count_0, class_count_1,  = train.target.value_counts()\r\n",
    "\r\n",
    "df_class_0 = train[train[\"target\"]==0]\r\n",
    "df_class_1 = train[train[\"target\"]==1]\r\n",
    "\r\n",
    "\r\n",
    "# Randomly undersample both to 500 samples\r\n",
    "df_class_0_under = df_class_0.sample(500, replace=True)\r\n",
    "df_class_1_under = df_class_1.sample(500, replace=True)\r\n",
    "\r\n",
    "train = pd.concat([df_class_0_under, df_class_1_under], axis=0)\r\n",
    "train.target.value_counts()"
   ],
   "outputs": [
    {
     "output_type": "execute_result",
     "data": {
      "text/plain": [
       "0    500\n",
       "1    500\n",
       "Name: target, dtype: int64"
      ]
     },
     "metadata": {},
     "execution_count": 28
    }
   ],
   "metadata": {}
  },
  {
   "cell_type": "markdown",
   "source": [
    "# Split data into train and test - stratified sampling"
   ],
   "metadata": {}
  },
  {
   "cell_type": "code",
   "execution_count": 29,
   "source": [
    "import sklearn \r\n",
    "from sklearn.model_selection import train_test_split\r\n",
    "\r\n",
    "train, test = train_test_split(train, test_size=0.1, stratify=train.target)"
   ],
   "outputs": [],
   "metadata": {}
  },
  {
   "cell_type": "markdown",
   "source": [
    "# Download BERT preprocesses and the encoder"
   ],
   "metadata": {}
  },
  {
   "cell_type": "code",
   "execution_count": 30,
   "source": [
    "bert_preprocess = hub.KerasLayer(\"https://tfhub.dev/tensorflow/bert_en_uncased_preprocess/3\")\r\n",
    "bert_encoder = hub.KerasLayer(\"https://tfhub.dev/tensorflow/bert_en_uncased_L-12_H-768_A-12/4\")"
   ],
   "outputs": [],
   "metadata": {}
  },
  {
   "cell_type": "markdown",
   "source": [
    "# Build a model"
   ],
   "metadata": {}
  },
  {
   "cell_type": "code",
   "execution_count": 32,
   "source": [
    "# Bert layers\r\n",
    "text_input = tf.keras.layers.Input(shape=(), dtype=tf.string, name='text')\r\n",
    "preprocessed_text = bert_preprocess(text_input)\r\n",
    "outputs = bert_encoder(preprocessed_text)\r\n",
    "\r\n",
    "# Neural network layers\r\n",
    "x = tf.keras.layers.Dropout(0.1, name=\"dropout\")(outputs['pooled_output'])\r\n",
    "x = tf.keras.layers.Dense(1, activation='sigmoid', name=\"output\")(x)\r\n",
    "\r\n",
    "# Use inputs and outputs to construct a final model\r\n",
    "model = tf.keras.Model(inputs=[text_input], outputs = [x])\r\n",
    "\r\n",
    "model.compile(optimizer='adam',\r\n",
    "              loss='binary_crossentropy',\r\n",
    "              metrics=['acc'])"
   ],
   "outputs": [],
   "metadata": {}
  },
  {
   "cell_type": "code",
   "execution_count": 33,
   "source": [
    "model.fit(train[\"text\"], train[\"target\"], validation_data=(test[\"text\"], test[\"target\"]), epochs=10, batch_size=64)"
   ],
   "outputs": [
    {
     "output_type": "stream",
     "name": "stdout",
     "text": [
      "Epoch 1/10\n",
      "15/15 [==============================] - 164s 11s/step - loss: 0.6867 - acc: 0.5689 - val_loss: 0.6469 - val_acc: 0.6800\n",
      "Epoch 2/10\n",
      "15/15 [==============================] - 158s 11s/step - loss: 0.6548 - acc: 0.5911 - val_loss: 0.6332 - val_acc: 0.6500\n",
      "Epoch 3/10\n",
      "15/15 [==============================] - 176s 12s/step - loss: 0.6355 - acc: 0.6456 - val_loss: 0.6096 - val_acc: 0.6600\n",
      "Epoch 4/10\n",
      "15/15 [==============================] - 183s 12s/step - loss: 0.6151 - acc: 0.6678 - val_loss: 0.6003 - val_acc: 0.6700\n",
      "Epoch 5/10\n",
      "15/15 [==============================] - 179s 12s/step - loss: 0.6120 - acc: 0.6656 - val_loss: 0.6025 - val_acc: 0.7000\n",
      "Epoch 6/10\n",
      "15/15 [==============================] - 190s 13s/step - loss: 0.6030 - acc: 0.6844 - val_loss: 0.5820 - val_acc: 0.6900\n",
      "Epoch 7/10\n",
      "15/15 [==============================] - 178s 12s/step - loss: 0.5932 - acc: 0.7100 - val_loss: 0.5780 - val_acc: 0.6900\n",
      "Epoch 8/10\n",
      "15/15 [==============================] - 178s 12s/step - loss: 0.6051 - acc: 0.6567 - val_loss: 0.5934 - val_acc: 0.7200\n",
      "Epoch 9/10\n",
      "15/15 [==============================] - 182s 12s/step - loss: 0.5785 - acc: 0.6933 - val_loss: 0.5881 - val_acc: 0.6600\n",
      "Epoch 10/10\n",
      "15/15 [==============================] - 187s 13s/step - loss: 0.5811 - acc: 0.7122 - val_loss: 0.5649 - val_acc: 0.7300\n"
     ]
    },
    {
     "output_type": "execute_result",
     "data": {
      "text/plain": [
       "<keras.callbacks.History at 0x21098c0d460>"
      ]
     },
     "metadata": {},
     "execution_count": 33
    }
   ],
   "metadata": {}
  },
  {
   "cell_type": "markdown",
   "source": [
    "# Save Model"
   ],
   "metadata": {}
  },
  {
   "cell_type": "code",
   "execution_count": 34,
   "source": [
    "model.save(\"BERTDisasterTweetClassifier.h5\")"
   ],
   "outputs": [],
   "metadata": {}
  },
  {
   "cell_type": "code",
   "execution_count": null,
   "source": [],
   "outputs": [],
   "metadata": {}
  }
 ],
 "metadata": {
  "orig_nbformat": 4,
  "language_info": {
   "name": "python",
   "version": "3.9.7",
   "mimetype": "text/x-python",
   "codemirror_mode": {
    "name": "ipython",
    "version": 3
   },
   "pygments_lexer": "ipython3",
   "nbconvert_exporter": "python",
   "file_extension": ".py"
  },
  "kernelspec": {
   "name": "python3",
   "display_name": "Python 3.9.7 64-bit ('AI': conda)"
  },
  "interpreter": {
   "hash": "ce37942adb5c57e4e450770303a44ee4b3127734ece326f75af170c7d2f8d7d2"
  }
 },
 "nbformat": 4,
 "nbformat_minor": 2
}