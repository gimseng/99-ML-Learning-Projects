{
  "nbformat": 4,
  "nbformat_minor": 0,
  "metadata": {
    "colab": {
      "name": "titanic_ann.ipynb",
      "provenance": [],
      "authorship_tag": "ABX9TyMpcEaipdmHGvqEKjjTQH8J",
      "include_colab_link": true
    },
    "kernelspec": {
      "name": "python3",
      "display_name": "Python 3"
    }
  },
  "cells": [
    {
      "cell_type": "markdown",
      "metadata": {
        "id": "view-in-github",
        "colab_type": "text"
      },
      "source": [
        "<a href=\"https://colab.research.google.com/github/sebaspv/99-ML-Learning-Projects/blob/master/titanic_ann.ipynb\" target=\"_parent\"><img src=\"https://colab.research.google.com/assets/colab-badge.svg\" alt=\"Open In Colab\"/></a>"
      ]
    },
    {
      "cell_type": "code",
      "metadata": {
        "id": "E0NdfHE6Pe33"
      },
      "source": [
        "import pandas as pd\n",
        "import numpy as np\n",
        "import seaborn as sns\n",
        "import matplotlib.pyplot as plt\n",
        "from tensorflow.keras.models import Sequential\n",
        "from tensorflow.keras.layers import Dropout, Dense, BatchNormalization\n",
        "from sklearn.preprocessing import MinMaxScaler\n",
        "from sklearn.metrics import confusion_matrix,classification_report\n",
        "from tensorflow.keras.callbacks import EarlyStopping"
      ],
      "execution_count": 23,
      "outputs": []
    },
    {
      "cell_type": "code",
      "metadata": {
        "id": "9FnwIAO4WE7K"
      },
      "source": [
        "test = pd.read_csv('test.csv')\n",
        "train = pd.read_csv('train.csv')"
      ],
      "execution_count": 24,
      "outputs": []
    },
    {
      "cell_type": "code",
      "metadata": {
        "id": "Ksu8MgWEQLeF"
      },
      "source": [
        "def sex_binary(sex):\n",
        "  if sex == 'male':\n",
        "    return 0\n",
        "  elif sex == 'female':\n",
        "    return 1\n",
        "train['Sex'] = train['Sex'].map(lambda x: sex_binary(x))"
      ],
      "execution_count": 25,
      "outputs": []
    },
    {
      "cell_type": "code",
      "metadata": {
        "id": "GeY3R3znQM7t"
      },
      "source": [
        "embarked = pd.get_dummies(train['Embarked'])\n",
        "train = pd.concat([train,embarked],axis=1)\n",
        "train = train.drop('Embarked',axis=1)\n",
        "train = train.drop('Ticket',axis=1)\n",
        "train = train.drop('Cabin',axis=1)\n",
        "train = train.drop('Name',axis=1)\n",
        "cat_age = pd.get_dummies(train['Age'])\n",
        "train = pd.concat([train,cat_age],axis=1)"
      ],
      "execution_count": 26,
      "outputs": []
    },
    {
      "cell_type": "code",
      "metadata": {
        "id": "lfi7s762WQVn"
      },
      "source": [
        "train = train.dropna(axis=1,how='any')\n",
        "test = test.dropna(axis=1,how='any')"
      ],
      "execution_count": 27,
      "outputs": []
    },
    {
      "cell_type": "code",
      "metadata": {
        "id": "c3zbZ-6vROQ5"
      },
      "source": [
        "model = Sequential()\n",
        "model.add(Dense(104,activation='relu'))\n",
        "model.add(Dense(52,activation='relu'))\n",
        "model.add(Dense(27,activation='relu'))\n",
        "model.add(Dense(1,activation='sigmoid'))\n",
        "model.compile(optimizer='adam',loss='binary_crossentropy')"
      ],
      "execution_count": 28,
      "outputs": []
    },
    {
      "cell_type": "code",
      "metadata": {
        "id": "msTsDkPUS4cT"
      },
      "source": [
        "train_y = train['Survived'] \n",
        "train_X = train.drop('Survived',axis=1)"
      ],
      "execution_count": 29,
      "outputs": []
    },
    {
      "cell_type": "code",
      "metadata": {
        "id": "ft8QgYPUTHU1"
      },
      "source": [
        "scaler = MinMaxScaler()\n",
        "scaler.fit(train_X)\n",
        "X_train = scaler.transform(train_X)"
      ],
      "execution_count": 30,
      "outputs": []
    },
    {
      "cell_type": "code",
      "metadata": {
        "id": "_2XcKrlHUHuy",
        "outputId": "69ac97a7-aac2-479d-9ad9-6661f70de105",
        "colab": {
          "base_uri": "https://localhost:8080/",
          "height": 1000
        }
      },
      "source": [
        "model.fit(x=X_train, \n",
        "          y=train_y, \n",
        "          epochs=100,\n",
        "          batch_size=128,\n",
        "          )"
      ],
      "execution_count": 31,
      "outputs": [
        {
          "output_type": "stream",
          "text": [
            "Epoch 1/100\n",
            "7/7 [==============================] - 0s 3ms/step - loss: 0.6688\n",
            "Epoch 2/100\n",
            "7/7 [==============================] - 0s 2ms/step - loss: 0.6311\n",
            "Epoch 3/100\n",
            "7/7 [==============================] - 0s 2ms/step - loss: 0.5906\n",
            "Epoch 4/100\n",
            "7/7 [==============================] - 0s 2ms/step - loss: 0.5425\n",
            "Epoch 5/100\n",
            "7/7 [==============================] - 0s 2ms/step - loss: 0.4962\n",
            "Epoch 6/100\n",
            "7/7 [==============================] - 0s 2ms/step - loss: 0.4576\n",
            "Epoch 7/100\n",
            "7/7 [==============================] - 0s 2ms/step - loss: 0.4355\n",
            "Epoch 8/100\n",
            "7/7 [==============================] - 0s 2ms/step - loss: 0.4202\n",
            "Epoch 9/100\n",
            "7/7 [==============================] - 0s 2ms/step - loss: 0.4053\n",
            "Epoch 10/100\n",
            "7/7 [==============================] - 0s 3ms/step - loss: 0.3934\n",
            "Epoch 11/100\n",
            "7/7 [==============================] - 0s 2ms/step - loss: 0.3825\n",
            "Epoch 12/100\n",
            "7/7 [==============================] - 0s 2ms/step - loss: 0.3710\n",
            "Epoch 13/100\n",
            "7/7 [==============================] - 0s 2ms/step - loss: 0.3628\n",
            "Epoch 14/100\n",
            "7/7 [==============================] - 0s 2ms/step - loss: 0.3551\n",
            "Epoch 15/100\n",
            "7/7 [==============================] - 0s 2ms/step - loss: 0.3476\n",
            "Epoch 16/100\n",
            "7/7 [==============================] - 0s 2ms/step - loss: 0.3369\n",
            "Epoch 17/100\n",
            "7/7 [==============================] - 0s 2ms/step - loss: 0.3307\n",
            "Epoch 18/100\n",
            "7/7 [==============================] - 0s 2ms/step - loss: 0.3230\n",
            "Epoch 19/100\n",
            "7/7 [==============================] - 0s 2ms/step - loss: 0.3169\n",
            "Epoch 20/100\n",
            "7/7 [==============================] - 0s 2ms/step - loss: 0.3083\n",
            "Epoch 21/100\n",
            "7/7 [==============================] - 0s 2ms/step - loss: 0.3026\n",
            "Epoch 22/100\n",
            "7/7 [==============================] - 0s 2ms/step - loss: 0.2986\n",
            "Epoch 23/100\n",
            "7/7 [==============================] - 0s 2ms/step - loss: 0.2904\n",
            "Epoch 24/100\n",
            "7/7 [==============================] - 0s 2ms/step - loss: 0.2864\n",
            "Epoch 25/100\n",
            "7/7 [==============================] - 0s 2ms/step - loss: 0.2809\n",
            "Epoch 26/100\n",
            "7/7 [==============================] - 0s 2ms/step - loss: 0.2737\n",
            "Epoch 27/100\n",
            "7/7 [==============================] - 0s 2ms/step - loss: 0.2685\n",
            "Epoch 28/100\n",
            "7/7 [==============================] - 0s 2ms/step - loss: 0.2632\n",
            "Epoch 29/100\n",
            "7/7 [==============================] - 0s 2ms/step - loss: 0.2583\n",
            "Epoch 30/100\n",
            "7/7 [==============================] - 0s 3ms/step - loss: 0.2555\n",
            "Epoch 31/100\n",
            "7/7 [==============================] - 0s 2ms/step - loss: 0.2492\n",
            "Epoch 32/100\n",
            "7/7 [==============================] - 0s 2ms/step - loss: 0.2438\n",
            "Epoch 33/100\n",
            "7/7 [==============================] - 0s 2ms/step - loss: 0.2416\n",
            "Epoch 34/100\n",
            "7/7 [==============================] - 0s 2ms/step - loss: 0.2385\n",
            "Epoch 35/100\n",
            "7/7 [==============================] - 0s 2ms/step - loss: 0.2343\n",
            "Epoch 36/100\n",
            "7/7 [==============================] - 0s 2ms/step - loss: 0.2293\n",
            "Epoch 37/100\n",
            "7/7 [==============================] - 0s 2ms/step - loss: 0.2261\n",
            "Epoch 38/100\n",
            "7/7 [==============================] - 0s 2ms/step - loss: 0.2235\n",
            "Epoch 39/100\n",
            "7/7 [==============================] - 0s 2ms/step - loss: 0.2177\n",
            "Epoch 40/100\n",
            "7/7 [==============================] - 0s 2ms/step - loss: 0.2149\n",
            "Epoch 41/100\n",
            "7/7 [==============================] - 0s 2ms/step - loss: 0.2119\n",
            "Epoch 42/100\n",
            "7/7 [==============================] - 0s 2ms/step - loss: 0.2060\n",
            "Epoch 43/100\n",
            "7/7 [==============================] - 0s 2ms/step - loss: 0.2043\n",
            "Epoch 44/100\n",
            "7/7 [==============================] - 0s 2ms/step - loss: 0.1999\n",
            "Epoch 45/100\n",
            "7/7 [==============================] - 0s 2ms/step - loss: 0.1967\n",
            "Epoch 46/100\n",
            "7/7 [==============================] - 0s 2ms/step - loss: 0.1944\n",
            "Epoch 47/100\n",
            "7/7 [==============================] - 0s 2ms/step - loss: 0.1915\n",
            "Epoch 48/100\n",
            "7/7 [==============================] - 0s 2ms/step - loss: 0.1927\n",
            "Epoch 49/100\n",
            "7/7 [==============================] - 0s 2ms/step - loss: 0.1876\n",
            "Epoch 50/100\n",
            "7/7 [==============================] - 0s 2ms/step - loss: 0.1856\n",
            "Epoch 51/100\n",
            "7/7 [==============================] - 0s 3ms/step - loss: 0.1830\n",
            "Epoch 52/100\n",
            "7/7 [==============================] - 0s 2ms/step - loss: 0.1795\n",
            "Epoch 53/100\n",
            "7/7 [==============================] - 0s 3ms/step - loss: 0.1767\n",
            "Epoch 54/100\n",
            "7/7 [==============================] - 0s 2ms/step - loss: 0.1736\n",
            "Epoch 55/100\n",
            "7/7 [==============================] - 0s 2ms/step - loss: 0.1719\n",
            "Epoch 56/100\n",
            "7/7 [==============================] - 0s 2ms/step - loss: 0.1700\n",
            "Epoch 57/100\n",
            "7/7 [==============================] - 0s 2ms/step - loss: 0.1674\n",
            "Epoch 58/100\n",
            "7/7 [==============================] - 0s 2ms/step - loss: 0.1631\n",
            "Epoch 59/100\n",
            "7/7 [==============================] - 0s 4ms/step - loss: 0.1633\n",
            "Epoch 60/100\n",
            "7/7 [==============================] - 0s 2ms/step - loss: 0.1582\n",
            "Epoch 61/100\n",
            "7/7 [==============================] - 0s 2ms/step - loss: 0.1588\n",
            "Epoch 62/100\n",
            "7/7 [==============================] - 0s 3ms/step - loss: 0.1581\n",
            "Epoch 63/100\n",
            "7/7 [==============================] - 0s 2ms/step - loss: 0.1560\n",
            "Epoch 64/100\n",
            "7/7 [==============================] - 0s 2ms/step - loss: 0.1517\n",
            "Epoch 65/100\n",
            "7/7 [==============================] - 0s 2ms/step - loss: 0.1494\n",
            "Epoch 66/100\n",
            "7/7 [==============================] - 0s 2ms/step - loss: 0.1510\n",
            "Epoch 67/100\n",
            "7/7 [==============================] - 0s 3ms/step - loss: 0.1498\n",
            "Epoch 68/100\n",
            "7/7 [==============================] - 0s 2ms/step - loss: 0.1546\n",
            "Epoch 69/100\n",
            "7/7 [==============================] - 0s 2ms/step - loss: 0.1446\n",
            "Epoch 70/100\n",
            "7/7 [==============================] - 0s 3ms/step - loss: 0.1411\n",
            "Epoch 71/100\n",
            "7/7 [==============================] - 0s 2ms/step - loss: 0.1437\n",
            "Epoch 72/100\n",
            "7/7 [==============================] - 0s 2ms/step - loss: 0.1404\n",
            "Epoch 73/100\n",
            "7/7 [==============================] - 0s 2ms/step - loss: 0.1437\n",
            "Epoch 74/100\n",
            "7/7 [==============================] - 0s 2ms/step - loss: 0.1365\n",
            "Epoch 75/100\n",
            "7/7 [==============================] - 0s 2ms/step - loss: 0.1347\n",
            "Epoch 76/100\n",
            "7/7 [==============================] - 0s 2ms/step - loss: 0.1343\n",
            "Epoch 77/100\n",
            "7/7 [==============================] - 0s 3ms/step - loss: 0.1335\n",
            "Epoch 78/100\n",
            "7/7 [==============================] - 0s 2ms/step - loss: 0.1287\n",
            "Epoch 79/100\n",
            "7/7 [==============================] - 0s 2ms/step - loss: 0.1275\n",
            "Epoch 80/100\n",
            "7/7 [==============================] - 0s 2ms/step - loss: 0.1266\n",
            "Epoch 81/100\n",
            "7/7 [==============================] - 0s 2ms/step - loss: 0.1270\n",
            "Epoch 82/100\n",
            "7/7 [==============================] - 0s 2ms/step - loss: 0.1217\n",
            "Epoch 83/100\n",
            "7/7 [==============================] - 0s 2ms/step - loss: 0.1232\n",
            "Epoch 84/100\n",
            "7/7 [==============================] - 0s 2ms/step - loss: 0.1229\n",
            "Epoch 85/100\n",
            "7/7 [==============================] - 0s 2ms/step - loss: 0.1197\n",
            "Epoch 86/100\n",
            "7/7 [==============================] - 0s 2ms/step - loss: 0.1209\n",
            "Epoch 87/100\n",
            "7/7 [==============================] - 0s 2ms/step - loss: 0.1167\n",
            "Epoch 88/100\n",
            "7/7 [==============================] - 0s 2ms/step - loss: 0.1173\n",
            "Epoch 89/100\n",
            "7/7 [==============================] - 0s 2ms/step - loss: 0.1158\n",
            "Epoch 90/100\n",
            "7/7 [==============================] - 0s 3ms/step - loss: 0.1204\n",
            "Epoch 91/100\n",
            "7/7 [==============================] - 0s 2ms/step - loss: 0.1343\n",
            "Epoch 92/100\n",
            "7/7 [==============================] - 0s 2ms/step - loss: 0.1167\n",
            "Epoch 93/100\n",
            "7/7 [==============================] - 0s 2ms/step - loss: 0.1140\n",
            "Epoch 94/100\n",
            "7/7 [==============================] - 0s 2ms/step - loss: 0.1109\n",
            "Epoch 95/100\n",
            "7/7 [==============================] - 0s 3ms/step - loss: 0.1086\n",
            "Epoch 96/100\n",
            "7/7 [==============================] - 0s 2ms/step - loss: 0.1073\n",
            "Epoch 97/100\n",
            "7/7 [==============================] - 0s 3ms/step - loss: 0.1084\n",
            "Epoch 98/100\n",
            "7/7 [==============================] - 0s 3ms/step - loss: 0.1073\n",
            "Epoch 99/100\n",
            "7/7 [==============================] - 0s 2ms/step - loss: 0.1072\n",
            "Epoch 100/100\n",
            "7/7 [==============================] - 0s 2ms/step - loss: 0.1091\n"
          ],
          "name": "stdout"
        },
        {
          "output_type": "execute_result",
          "data": {
            "text/plain": [
              "<tensorflow.python.keras.callbacks.History at 0x7f3e8edfef98>"
            ]
          },
          "metadata": {
            "tags": []
          },
          "execution_count": 31
        }
      ]
    },
    {
      "cell_type": "code",
      "metadata": {
        "id": "ZjvxjVafVgyP"
      },
      "source": [
        "predictions = (model.predict(X_train) > 0.5).astype(\"int32\")"
      ],
      "execution_count": 32,
      "outputs": []
    },
    {
      "cell_type": "code",
      "metadata": {
        "id": "qf82UWf2YeQZ",
        "outputId": "8879c9d9-afc1-4820-bdeb-09e38f287558",
        "colab": {
          "base_uri": "https://localhost:8080/",
          "height": 282
        }
      },
      "source": [
        "sns.heatmap(confusion_matrix(train_y,predictions))"
      ],
      "execution_count": 33,
      "outputs": [
        {
          "output_type": "execute_result",
          "data": {
            "text/plain": [
              "<matplotlib.axes._subplots.AxesSubplot at 0x7f3e8dc516d8>"
            ]
          },
          "metadata": {
            "tags": []
          },
          "execution_count": 33
        },
        {
          "output_type": "display_data",
          "data": {
            "image/png": "[encoded data removed]",
            "text/plain": [
              "<Figure size 432x288 with 2 Axes>"
            ]
          },
          "metadata": {
            "tags": [],
            "needs_background": "light"
          }
        }
      ]
    },
    {
      "cell_type": "code",
      "metadata": {
        "id": "McPyDg_YaLW3",
        "outputId": "bb479f85-8025-4e68-9ad2-bf9e493a08fe",
        "colab": {
          "base_uri": "https://localhost:8080/",
          "height": 170
        }
      },
      "source": [
        "print(classification_report(train_y,predictions))\n",
        "#Our model has a 95% accuracy over the train set"
      ],
      "execution_count": 34,
      "outputs": [
        {
          "output_type": "stream",
          "text": [
            "              precision    recall  f1-score   support\n",
            "\n",
            "           0       0.97      0.97      0.97       549\n",
            "           1       0.95      0.95      0.95       342\n",
            "\n",
            "    accuracy                           0.96       891\n",
            "   macro avg       0.96      0.96      0.96       891\n",
            "weighted avg       0.96      0.96      0.96       891\n",
            "\n"
          ],
          "name": "stdout"
        }
      ]
    },
    {
      "cell_type": "code",
      "metadata": {
        "id": "LhuxyYtZMfMh",
        "outputId": "a0642340-a5c3-42d1-e931-8db28304a556",
        "colab": {
          "base_uri": "https://localhost:8080/",
          "height": 51
        }
      },
      "source": [
        "print(confusion_matrix(train_y,predictions))"
      ],
      "execution_count": 35,
      "outputs": [
        {
          "output_type": "stream",
          "text": [
            "[[533  16]\n",
            " [ 16 326]]\n"
          ],
          "name": "stdout"
        }
      ]
    }
  ]
}