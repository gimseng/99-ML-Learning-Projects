{
  "nbformat": 4,
  "nbformat_minor": 0,
  "metadata": {
    "colab": {
      "provenance": [],
      "collapsed_sections": [],
      "authorship_tag": "ABX9TyOrd7w00CR0Ng8J+BL/t62b",
      "include_colab_link": true
    },
    "kernelspec": {
      "name": "python3",
      "display_name": "Python 3"
    },
    "language_info": {
      "name": "python"
    }
  },
  "cells": [
    {
      "cell_type": "markdown",
      "metadata": {
        "id": "view-in-github",
        "colab_type": "text"
      },
      "source": [
        "<a href=\"https://colab.research.google.com/github/RahulParajuli/99-ML-Learning-Projects/blob/master/ScratchSalaryLinearRegression.ipynb\" target=\"_parent\"><img src=\"https://colab.research.google.com/assets/colab-badge.svg\" alt=\"Open In Colab\"/></a>"
      ]
    },
    {
      "cell_type": "markdown",
      "source": [
        "# Linear regression model\n",
        "Scratch implementation of linear regression.<br>\n",
        "Dataset - https://www.kaggle.com/code/vivinbarath/simple-linear-regression-for-salary-data/data\n",
        "\n"
      ],
      "metadata": {
        "id": "ftWFF_EhCafT"
      }
    },
    {
      "cell_type": "markdown",
      "source": [
        "### Importing necessary libraries"
      ],
      "metadata": {
        "id": "0Ei9ETUUCoto"
      }
    },
    {
      "cell_type": "code",
      "execution_count": null,
      "metadata": {
        "id": "vuLQ5SHrphPx"
      },
      "outputs": [],
      "source": [
        "import pandas as pd\n",
        "import matplotlib.pyplot as plt"
      ]
    },
    {
      "cell_type": "code",
      "source": [
        "df = pd.read_csv(\"/content/Salary_Data.csv\")\n",
        "df"
      ],
      "metadata": {
        "colab": {
          "base_uri": "https://localhost:8080/",
          "height": 990
        },
        "id": "KT5hzBywpnjb",
        "outputId": "feac1a9d-87d9-4bb6-a3e8-e41443a54336"
      },
      "execution_count": null,
      "outputs": [
        {
          "output_type": "execute_result",
          "data": {
            "text/plain": [
              "    YearsExperience    Salary\n",
              "0               1.1   39343.0\n",
              "1               1.3   46205.0\n",
              "2               1.5   37731.0\n",
              "3               2.0   43525.0\n",
              "4               2.2   39891.0\n",
              "5               2.9   56642.0\n",
              "6               3.0   60150.0\n",
              "7               3.2   54445.0\n",
              "8               3.2   64445.0\n",
              "9               3.7   57189.0\n",
              "10              3.9   63218.0\n",
              "11              4.0   55794.0\n",
              "12              4.0   56957.0\n",
              "13              4.1   57081.0\n",
              "14              4.5   61111.0\n",
              "15              4.9   67938.0\n",
              "16              5.1   66029.0\n",
              "17              5.3   83088.0\n",
              "18              5.9   81363.0\n",
              "19              6.0   93940.0\n",
              "20              6.8   91738.0\n",
              "21              7.1   98273.0\n",
              "22              7.9  101302.0\n",
              "23              8.2  113812.0\n",
              "24              8.7  109431.0\n",
              "25              9.0  105582.0\n",
              "26              9.5  116969.0\n",
              "27              9.6  112635.0\n",
              "28             10.3  122391.0\n",
              "29             10.5  121872.0"
            ],
            "text/html": [
              "\n",
              "  <div id=\"df-7d88816d-5cc5-4c86-aa7d-72734296a038\">\n",
              "    <div class=\"colab-df-container\">\n",
              "      <div>\n",
              "<style scoped>\n",
              "    .dataframe tbody tr th:only-of-type {\n",
              "        vertical-align: middle;\n",
              "    }\n",
              "\n",
              "    .dataframe tbody tr th {\n",
              "        vertical-align: top;\n",
              "    }\n",
              "\n",
              "    .dataframe thead th {\n",
              "        text-align: right;\n",
              "    }\n",
              "</style>\n",
              "<table border=\"1\" class=\"dataframe\">\n",
              "  <thead>\n",
              "    <tr style=\"text-align: right;\">\n",
              "      <th></th>\n",
              "      <th>YearsExperience</th>\n",
              "      <th>Salary</th>\n",
              "    </tr>\n",
              "  </thead>\n",
              "  <tbody>\n",
              "    <tr>\n",
              "      <th>0</th>\n",
              "      <td>1.1</td>\n",
              "      <td>39343.0</td>\n",
              "    </tr>\n",
              "    <tr>\n",
              "      <th>1</th>\n",
              "      <td>1.3</td>\n",
              "      <td>46205.0</td>\n",
              "    </tr>\n",
              "    <tr>\n",
              "      <th>2</th>\n",
              "      <td>1.5</td>\n",
              "      <td>37731.0</td>\n",
              "    </tr>\n",
              "    <tr>\n",
              "      <th>3</th>\n",
              "      <td>2.0</td>\n",
              "      <td>43525.0</td>\n",
              "    </tr>\n",
              "    <tr>\n",
              "      <th>4</th>\n",
              "      <td>2.2</td>\n",
              "      <td>39891.0</td>\n",
              "    </tr>\n",
              "    <tr>\n",
              "      <th>5</th>\n",
              "      <td>2.9</td>\n",
              "      <td>56642.0</td>\n",
              "    </tr>\n",
              "    <tr>\n",
              "      <th>6</th>\n",
              "      <td>3.0</td>\n",
              "      <td>60150.0</td>\n",
              "    </tr>\n",
              "    <tr>\n",
              "      <th>7</th>\n",
              "      <td>3.2</td>\n",
              "      <td>54445.0</td>\n",
              "    </tr>\n",
              "    <tr>\n",
              "      <th>8</th>\n",
              "      <td>3.2</td>\n",
              "      <td>64445.0</td>\n",
              "    </tr>\n",
              "    <tr>\n",
              "      <th>9</th>\n",
              "      <td>3.7</td>\n",
              "      <td>57189.0</td>\n",
              "    </tr>\n",
              "    <tr>\n",
              "      <th>10</th>\n",
              "      <td>3.9</td>\n",
              "      <td>63218.0</td>\n",
              "    </tr>\n",
              "    <tr>\n",
              "      <th>11</th>\n",
              "      <td>4.0</td>\n",
              "      <td>55794.0</td>\n",
              "    </tr>\n",
              "    <tr>\n",
              "      <th>12</th>\n",
              "      <td>4.0</td>\n",
              "      <td>56957.0</td>\n",
              "    </tr>\n",
              "    <tr>\n",
              "      <th>13</th>\n",
              "      <td>4.1</td>\n",
              "      <td>57081.0</td>\n",
              "    </tr>\n",
              "    <tr>\n",
              "      <th>14</th>\n",
              "      <td>4.5</td>\n",
              "      <td>61111.0</td>\n",
              "    </tr>\n",
              "    <tr>\n",
              "      <th>15</th>\n",
              "      <td>4.9</td>\n",
              "      <td>67938.0</td>\n",
              "    </tr>\n",
              "    <tr>\n",
              "      <th>16</th>\n",
              "      <td>5.1</td>\n",
              "      <td>66029.0</td>\n",
              "    </tr>\n",
              "    <tr>\n",
              "      <th>17</th>\n",
              "      <td>5.3</td>\n",
              "      <td>83088.0</td>\n",
              "    </tr>\n",
              "    <tr>\n",
              "      <th>18</th>\n",
              "      <td>5.9</td>\n",
              "      <td>81363.0</td>\n",
              "    </tr>\n",
              "    <tr>\n",
              "      <th>19</th>\n",
              "      <td>6.0</td>\n",
              "      <td>93940.0</td>\n",
              "    </tr>\n",
              "    <tr>\n",
              "      <th>20</th>\n",
              "      <td>6.8</td>\n",
              "      <td>91738.0</td>\n",
              "    </tr>\n",
              "    <tr>\n",
              "      <th>21</th>\n",
              "      <td>7.1</td>\n",
              "      <td>98273.0</td>\n",
              "    </tr>\n",
              "    <tr>\n",
              "      <th>22</th>\n",
              "      <td>7.9</td>\n",
              "      <td>101302.0</td>\n",
              "    </tr>\n",
              "    <tr>\n",
              "      <th>23</th>\n",
              "      <td>8.2</td>\n",
              "      <td>113812.0</td>\n",
              "    </tr>\n",
              "    <tr>\n",
              "      <th>24</th>\n",
              "      <td>8.7</td>\n",
              "      <td>109431.0</td>\n",
              "    </tr>\n",
              "    <tr>\n",
              "      <th>25</th>\n",
              "      <td>9.0</td>\n",
              "      <td>105582.0</td>\n",
              "    </tr>\n",
              "    <tr>\n",
              "      <th>26</th>\n",
              "      <td>9.5</td>\n",
              "      <td>116969.0</td>\n",
              "    </tr>\n",
              "    <tr>\n",
              "      <th>27</th>\n",
              "      <td>9.6</td>\n",
              "      <td>112635.0</td>\n",
              "    </tr>\n",
              "    <tr>\n",
              "      <th>28</th>\n",
              "      <td>10.3</td>\n",
              "      <td>122391.0</td>\n",
              "    </tr>\n",
              "    <tr>\n",
              "      <th>29</th>\n",
              "      <td>10.5</td>\n",
              "      <td>121872.0</td>\n",
              "    </tr>\n",
              "  </tbody>\n",
              "</table>\n",
              "</div>\n",
              "      <button class=\"colab-df-convert\" onclick=\"convertToInteractive('df-7d88816d-5cc5-4c86-aa7d-72734296a038')\"\n",
              "              title=\"Convert this dataframe to an interactive table.\"\n",
              "              style=\"display:none;\">\n",
              "        \n",
              "  <svg xmlns=\"http://www.w3.org/2000/svg\" height=\"24px\"viewBox=\"0 0 24 24\"\n",
              "       width=\"24px\">\n",
              "    <path d=\"M0 0h24v24H0V0z\" fill=\"none\"/>\n",
              "    <path d=\"M18.56 5.44l.94 2.06.94-2.06 2.06-.94-2.06-.94-.94-2.06-.94 2.06-2.06.94zm-11 1L8.5 8.5l.94-2.06 2.06-.94-2.06-.94L8.5 2.5l-.94 2.06-2.06.94zm10 10l.94 2.06.94-2.06 2.06-.94-2.06-.94-.94-2.06-.94 2.06-2.06.94z\"/><path d=\"M17.41 7.96l-1.37-1.37c-.4-.4-.92-.59-1.43-.59-.52 0-1.04.2-1.43.59L10.3 9.45l-7.72 7.72c-.78.78-.78 2.05 0 2.83L4 21.41c.39.39.9.59 1.41.59.51 0 1.02-.2 1.41-.59l7.78-7.78 2.81-2.81c.8-.78.8-2.07 0-2.86zM5.41 20L4 18.59l7.72-7.72 1.47 1.35L5.41 20z\"/>\n",
              "  </svg>\n",
              "      </button>\n",
              "      \n",
              "  <style>\n",
              "    .colab-df-container {\n",
              "      display:flex;\n",
              "      flex-wrap:wrap;\n",
              "      gap: 12px;\n",
              "    }\n",
              "\n",
              "    .colab-df-convert {\n",
              "      background-color: #E8F0FE;\n",
              "      border: none;\n",
              "      border-radius: 50%;\n",
              "      cursor: pointer;\n",
              "      display: none;\n",
              "      fill: #1967D2;\n",
              "      height: 32px;\n",
              "      padding: 0 0 0 0;\n",
              "      width: 32px;\n",
              "    }\n",
              "\n",
              "    .colab-df-convert:hover {\n",
              "      background-color: #E2EBFA;\n",
              "      box-shadow: 0px 1px 2px rgba(60, 64, 67, 0.3), 0px 1px 3px 1px rgba(60, 64, 67, 0.15);\n",
              "      fill: #174EA6;\n",
              "    }\n",
              "\n",
              "    [theme=dark] .colab-df-convert {\n",
              "      background-color: #3B4455;\n",
              "      fill: #D2E3FC;\n",
              "    }\n",
              "\n",
              "    [theme=dark] .colab-df-convert:hover {\n",
              "      background-color: #434B5C;\n",
              "      box-shadow: 0px 1px 3px 1px rgba(0, 0, 0, 0.15);\n",
              "      filter: drop-shadow(0px 1px 2px rgba(0, 0, 0, 0.3));\n",
              "      fill: #FFFFFF;\n",
              "    }\n",
              "  </style>\n",
              "\n",
              "      <script>\n",
              "        const buttonEl =\n",
              "          document.querySelector('#df-7d88816d-5cc5-4c86-aa7d-72734296a038 button.colab-df-convert');\n",
              "        buttonEl.style.display =\n",
              "          google.colab.kernel.accessAllowed ? 'block' : 'none';\n",
              "\n",
              "        async function convertToInteractive(key) {\n",
              "          const element = document.querySelector('#df-7d88816d-5cc5-4c86-aa7d-72734296a038');\n",
              "          const dataTable =\n",
              "            await google.colab.kernel.invokeFunction('convertToInteractive',\n",
              "                                                     [key], {});\n",
              "          if (!dataTable) return;\n",
              "\n",
              "          const docLinkHtml = 'Like what you see? Visit the ' +\n",
              "            '<a target=\"_blank\" href=https://colab.research.google.com/notebooks/data_table.ipynb>data table notebook</a>'\n",
              "            + ' to learn more about interactive tables.';\n",
              "          element.innerHTML = '';\n",
              "          dataTable['output_type'] = 'display_data';\n",
              "          await google.colab.output.renderOutput(dataTable, element);\n",
              "          const docLink = document.createElement('div');\n",
              "          docLink.innerHTML = docLinkHtml;\n",
              "          element.appendChild(docLink);\n",
              "        }\n",
              "      </script>\n",
              "    </div>\n",
              "  </div>\n",
              "  "
            ]
          },
          "metadata": {},
          "execution_count": 111
        }
      ]
    },
    {
      "cell_type": "code",
      "source": [
        "df = df.rename (columns = {\"YearsExperience\":\"x\", \"Salary\": \"y\"})"
      ],
      "metadata": {
        "id": "QyArKFcUA0ys"
      },
      "execution_count": null,
      "outputs": []
    },
    {
      "cell_type": "code",
      "source": [
        "plt.scatter(df.x, df.y)\n",
        "plt.show()"
      ],
      "metadata": {
        "colab": {
          "base_uri": "https://localhost:8080/",
          "height": 265
        },
        "id": "sQ2nKy1cqWsl",
        "outputId": "1866175f-7912-4b13-88e8-5dc4633dc5fd"
      },
      "execution_count": null,
      "outputs": [
        {
          "output_type": "display_data",
          "data": {
            "text/plain": [
              "<Figure size 432x288 with 1 Axes>"
            ],
            "image/png": "[encoded data removed]"
          },
          "metadata": {
            "needs_background": "light"
          }
        }
      ]
    },
    {
      "cell_type": "code",
      "source": [
        "df.isnull().sum()"
      ],
      "metadata": {
        "colab": {
          "base_uri": "https://localhost:8080/"
        },
        "id": "JJYlVeud9y1i",
        "outputId": "f52120ef-96c2-4a75-ee49-684415579f98"
      },
      "execution_count": null,
      "outputs": [
        {
          "output_type": "execute_result",
          "data": {
            "text/plain": [
              "x    0\n",
              "y    0\n",
              "dtype: int64"
            ]
          },
          "metadata": {},
          "execution_count": 114
        }
      ]
    },
    {
      "cell_type": "code",
      "source": [
        "df.shape"
      ],
      "metadata": {
        "colab": {
          "base_uri": "https://localhost:8080/"
        },
        "id": "_Arafnwc-i-G",
        "outputId": "b68114a5-90f5-4d99-9ee5-5432ce5b3979"
      },
      "execution_count": null,
      "outputs": [
        {
          "output_type": "execute_result",
          "data": {
            "text/plain": [
              "(30, 2)"
            ]
          },
          "metadata": {},
          "execution_count": 115
        }
      ]
    },
    {
      "cell_type": "code",
      "source": [
        "df = df.fillna(0)"
      ],
      "metadata": {
        "id": "RBdevFxR91lh"
      },
      "execution_count": null,
      "outputs": []
    },
    {
      "cell_type": "markdown",
      "source": [
        "# Calculation of error manually\n",
        "### brute forcing slope and intercept"
      ],
      "metadata": {
        "id": "VbqHWH-WCxNo"
      }
    },
    {
      "cell_type": "markdown",
      "source": [
        "\n",
        "<b>RMSE</b>\t=\tRoot Mean Square Error <br>\n",
        "Formula = sqrt((sum(x-x')**2)/N) <br>\n",
        "x\t=\tactual data point.<br>\n",
        "x' = predicted data point.<br>\n",
        "N\t=\tnumber of non-missing data points<br>\n"
      ],
      "metadata": {
        "id": "O-lC9WrtIMTW"
      }
    },
    {
      "cell_type": "code",
      "source": [
        "#calculating the loss manually\n",
        "def loss_function(m,b,points):\n",
        "  total_errors = 0\n",
        "  for i in range(len(points)):\n",
        "    x = points.iloc[i].x\n",
        "    y = points.iloc[i].y\n",
        "    total_errors += (y - (m*x+b))**2\n",
        "  total_errors / float(len(points))\n",
        "  print(total_errors)\n",
        "loss_function(1,2,df)"
      ],
      "metadata": {
        "colab": {
          "base_uri": "https://localhost:8080/"
        },
        "id": "v23T_N0xqfJM",
        "outputId": "f2fae4e6-2292-4f4c-f155-32ec94df51d1"
      },
      "execution_count": null,
      "outputs": [
        {
          "output_type": "stream",
          "name": "stdout",
          "text": [
            "195050895678.10004\n"
          ]
        }
      ]
    },
    {
      "cell_type": "markdown",
      "source": [
        "# Gradient Decent\n",
        "\n",
        "Gradient Decent is used to find the optimal value of slope and intercept. <br>\n",
        "It is an iterative process which used learning rate to minimize the error."
      ],
      "metadata": {
        "id": "tDzyEpm7uFM9"
      }
    },
    {
      "cell_type": "code",
      "source": [
        "def gradient_decent(m_now, b_now, points, L):\n",
        "  m_gradient = 0\n",
        "  b_gradient = 0\n",
        "  n = len(points)\n",
        "\n",
        "  for i in range(n):\n",
        "    x = points.iloc[i].x\n",
        "    y = points.iloc[i].y\n",
        "    m_gradient += -(2/n) * x * (y-(m_now*x + b_now))\n",
        "    b_gradient += (-(2/n) * (y-(m_now * x + b_now)))\n",
        "\n",
        "  m = m_now - m_gradient * L\n",
        "  b = b_now - b_gradient * L\n",
        "\n",
        "  return m,b"
      ],
      "metadata": {
        "id": "cojqoz54rcs8"
      },
      "execution_count": null,
      "outputs": []
    },
    {
      "cell_type": "markdown",
      "source": [
        "# Training"
      ],
      "metadata": {
        "id": "aWaDL5u_C65z"
      }
    },
    {
      "cell_type": "code",
      "source": [
        "m = 0\n",
        "b = 0\n",
        "L = 0.0001\n",
        "epochs = 10000\n",
        "\n",
        "for i in range(epochs):\n",
        "  if i%50 ==0:\n",
        "    print(f\"Epoch: {i}\")\n",
        "  m, b = gradient_decent(m,b,df,L)\n",
        "\n",
        "print(m,b)\n",
        "\n",
        "plt.scatter(df.x, df.y, color=\"black\")\n",
        "plt.plot(list(range(1,100)), [m * x + b  for x in range(1,100)], color='red')\n",
        "plt.show()"
      ],
      "metadata": {
        "colab": {
          "base_uri": "https://localhost:8080/",
          "height": 1000
        },
        "id": "GoHztC45sh_8",
        "outputId": "15b28721-719b-4655-8b3a-12e9c3dd4bcc"
      },
      "execution_count": null,
      "outputs": [
        {
          "output_type": "stream",
          "name": "stdout",
          "text": [
            "Epoch: 0\n",
            "Epoch: 50\n",
            "Epoch: 100\n",
            "Epoch: 150\n",
            "Epoch: 200\n",
            "Epoch: 250\n",
            "Epoch: 300\n",
            "Epoch: 350\n",
            "Epoch: 400\n",
            "Epoch: 450\n",
            "Epoch: 500\n",
            "Epoch: 550\n",
            "Epoch: 600\n",
            "Epoch: 650\n",
            "Epoch: 700\n",
            "Epoch: 750\n",
            "Epoch: 800\n",
            "Epoch: 850\n",
            "Epoch: 900\n",
            "Epoch: 950\n",
            "Epoch: 1000\n",
            "Epoch: 1050\n",
            "Epoch: 1100\n",
            "Epoch: 1150\n",
            "Epoch: 1200\n",
            "Epoch: 1250\n",
            "Epoch: 1300\n",
            "Epoch: 1350\n",
            "Epoch: 1400\n",
            "Epoch: 1450\n",
            "Epoch: 1500\n",
            "Epoch: 1550\n",
            "Epoch: 1600\n",
            "Epoch: 1650\n",
            "Epoch: 1700\n",
            "Epoch: 1750\n",
            "Epoch: 1800\n",
            "Epoch: 1850\n",
            "Epoch: 1900\n",
            "Epoch: 1950\n",
            "Epoch: 2000\n",
            "Epoch: 2050\n",
            "Epoch: 2100\n",
            "Epoch: 2150\n",
            "Epoch: 2200\n",
            "Epoch: 2250\n",
            "Epoch: 2300\n",
            "Epoch: 2350\n",
            "Epoch: 2400\n",
            "Epoch: 2450\n",
            "Epoch: 2500\n",
            "Epoch: 2550\n",
            "Epoch: 2600\n",
            "Epoch: 2650\n",
            "Epoch: 2700\n",
            "Epoch: 2750\n",
            "Epoch: 2800\n",
            "Epoch: 2850\n",
            "Epoch: 2900\n",
            "Epoch: 2950\n",
            "Epoch: 3000\n",
            "Epoch: 3050\n",
            "Epoch: 3100\n",
            "Epoch: 3150\n",
            "Epoch: 3200\n",
            "Epoch: 3250\n",
            "Epoch: 3300\n",
            "Epoch: 3350\n",
            "Epoch: 3400\n",
            "Epoch: 3450\n",
            "Epoch: 3500\n",
            "Epoch: 3550\n",
            "Epoch: 3600\n",
            "Epoch: 3650\n",
            "Epoch: 3700\n",
            "Epoch: 3750\n",
            "Epoch: 3800\n",
            "Epoch: 3850\n",
            "Epoch: 3900\n",
            "Epoch: 3950\n",
            "Epoch: 4000\n",
            "Epoch: 4050\n",
            "Epoch: 4100\n",
            "Epoch: 4150\n",
            "Epoch: 4200\n",
            "Epoch: 4250\n",
            "Epoch: 4300\n",
            "Epoch: 4350\n",
            "Epoch: 4400\n",
            "Epoch: 4450\n",
            "Epoch: 4500\n",
            "Epoch: 4550\n",
            "Epoch: 4600\n",
            "Epoch: 4650\n",
            "Epoch: 4700\n",
            "Epoch: 4750\n",
            "Epoch: 4800\n",
            "Epoch: 4850\n",
            "Epoch: 4900\n",
            "Epoch: 4950\n",
            "Epoch: 5000\n",
            "Epoch: 5050\n",
            "Epoch: 5100\n",
            "Epoch: 5150\n",
            "Epoch: 5200\n",
            "Epoch: 5250\n",
            "Epoch: 5300\n",
            "Epoch: 5350\n",
            "Epoch: 5400\n",
            "Epoch: 5450\n",
            "Epoch: 5500\n",
            "Epoch: 5550\n",
            "Epoch: 5600\n",
            "Epoch: 5650\n",
            "Epoch: 5700\n",
            "Epoch: 5750\n",
            "Epoch: 5800\n",
            "Epoch: 5850\n",
            "Epoch: 5900\n",
            "Epoch: 5950\n",
            "Epoch: 6000\n",
            "Epoch: 6050\n",
            "Epoch: 6100\n",
            "Epoch: 6150\n",
            "Epoch: 6200\n",
            "Epoch: 6250\n",
            "Epoch: 6300\n",
            "Epoch: 6350\n",
            "Epoch: 6400\n",
            "Epoch: 6450\n",
            "Epoch: 6500\n",
            "Epoch: 6550\n",
            "Epoch: 6600\n",
            "Epoch: 6650\n",
            "Epoch: 6700\n",
            "Epoch: 6750\n",
            "Epoch: 6800\n",
            "Epoch: 6850\n",
            "Epoch: 6900\n",
            "Epoch: 6950\n",
            "Epoch: 7000\n",
            "Epoch: 7050\n",
            "Epoch: 7100\n",
            "Epoch: 7150\n",
            "Epoch: 7200\n",
            "Epoch: 7250\n",
            "Epoch: 7300\n",
            "Epoch: 7350\n",
            "Epoch: 7400\n",
            "Epoch: 7450\n",
            "Epoch: 7500\n",
            "Epoch: 7550\n",
            "Epoch: 7600\n",
            "Epoch: 7650\n",
            "Epoch: 7700\n",
            "Epoch: 7750\n",
            "Epoch: 7800\n",
            "Epoch: 7850\n",
            "Epoch: 7900\n",
            "Epoch: 7950\n",
            "Epoch: 8000\n",
            "Epoch: 8050\n",
            "Epoch: 8100\n",
            "Epoch: 8150\n",
            "Epoch: 8200\n",
            "Epoch: 8250\n",
            "Epoch: 8300\n",
            "Epoch: 8350\n",
            "Epoch: 8400\n",
            "Epoch: 8450\n",
            "Epoch: 8500\n",
            "Epoch: 8550\n",
            "Epoch: 8600\n",
            "Epoch: 8650\n",
            "Epoch: 8700\n",
            "Epoch: 8750\n",
            "Epoch: 8800\n",
            "Epoch: 8850\n",
            "Epoch: 8900\n",
            "Epoch: 8950\n",
            "Epoch: 9000\n",
            "Epoch: 9050\n",
            "Epoch: 9100\n",
            "Epoch: 9150\n",
            "Epoch: 9200\n",
            "Epoch: 9250\n",
            "Epoch: 9300\n",
            "Epoch: 9350\n",
            "Epoch: 9400\n",
            "Epoch: 9450\n",
            "Epoch: 9500\n",
            "Epoch: 9550\n",
            "Epoch: 9600\n",
            "Epoch: 9650\n",
            "Epoch: 9700\n",
            "Epoch: 9750\n",
            "Epoch: 9800\n",
            "Epoch: 9850\n",
            "Epoch: 9900\n",
            "Epoch: 9950\n",
            "11769.706882688291 10160.057298278904\n"
          ]
        },
        {
          "output_type": "display_data",
          "data": {
            "text/plain": [
              "<Figure size 432x288 with 1 Axes>"
            ],
            "image/png": "[encoded data removed]"
          },
          "metadata": {
            "needs_background": "light"
          }
        }
      ]
    },
    {
      "cell_type": "code",
      "source": [
        "def loss_function(m,b,points):\n",
        "  total_errors = 0\n",
        "  for i in range(len(points)):\n",
        "    x = points.iloc[i].x\n",
        "    y = points.iloc[i].y\n",
        "    total_errors += (y - (m*x+b))**2\n",
        "  total_errors /(len(points))\n",
        "  print(total_errors)\n",
        "loss_function(11769.706882688291 , 10160.057298278904, df)"
      ],
      "metadata": {
        "colab": {
          "base_uri": "https://localhost:8080/"
        },
        "id": "4q4pxxFNtDmK",
        "outputId": "d37f2385-9e90-4a54-edc2-9351580b8891"
      },
      "execution_count": null,
      "outputs": [
        {
          "output_type": "stream",
          "name": "stdout",
          "text": [
            "2522937907.166527\n"
          ]
        }
      ]
    }
  ]
}