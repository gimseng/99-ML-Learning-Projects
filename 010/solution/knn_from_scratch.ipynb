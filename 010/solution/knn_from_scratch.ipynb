{
 "cells": [
            {
   "cell_type": "markdown",
   "metadata": {},
   "source": [
    "<table align=\"left\">\n",
    "  <td>\n",
    "    <a target=\"_blank\" href=\"https://colab.research.google.com/github/gimseng/99-ML-Learning-Projects/blob/master/010/solution/knn_from_scratch.ipynb\"><img src=\"https://www.tensorflow.org/images/colab_logo_32px.png\" />Run in Google Colab</a>\n",
    "  </td>\n",
    "</table>"
   ]
  },
  {
   "cell_type": "code",
   "execution_count": 1,
   "metadata": {},
   "outputs": [],
   "source": [
    "# importing necessary libraries\n",
    "import numpy as np\n",
    "import pandas as pd\n",
    "import matplotlib.pyplot as plt\n",
    "import math\n",
    "from collections import Counter\n",
    "from copy import deepcopy"
   ]
  },
  {
   "cell_type": "code",
   "execution_count": 2,
   "metadata": {},
   "outputs": [],
   "source": [
    "# Sample data with (xp,yp) as positive-class coordinates and (xn,yn) as negative-class coordinates\n",
    "#xp = [-1,0,4,6,7]\n",
    "#yp = [-2,0,4,2,9]\n",
    "#xn = [-3,1,2,4,6,4]\n",
    "#yn = [-2,5,4,2,4,6]\n",
    "\n",
    "xp=[]\n",
    "yp=[]\n",
    "xn=[]\n",
    "yn=[]\n",
    "\n",
    "data = [\n",
    "    (-1,-2,'Positive'),\n",
    "    (7,9,'Positive'),\n",
    "    (0,0,'Positive'),\n",
    "    (4,4,'Positive'),\n",
    "    (6,2,'Positive'),\n",
    "    (-3,-2,'Negative'),\n",
    "    (1,5,'Negative'),\n",
    "    (2,4,'Negative'),\n",
    "    (4,2,'Negative'),\n",
    "    (6,4,'Negative'),\n",
    "    (4,6,'Negative'),\n",
    "]"
   ]
  },
  {
   "cell_type": "code",
   "execution_count": 3,
   "metadata": {},
   "outputs": [
    {
     "name": "stdout",
     "output_type": "stream",
     "text": [
      "[-1, 7, 0, 4, 6] [-2, 9, 0, 4, 2] [-3, 1, 2, 4, 6, 4] [-2, 5, 4, 2, 4, 6]\n"
     ]
    }
   ],
   "source": [
    "# Append data points in respective arrays for data plotting\n",
    "for i in range(0,len(data)):\n",
    "    if(data[i][2]=='Positive'):\n",
    "        xp.append(data[i][0])\n",
    "        yp.append(data[i][1])\n",
    "    else: \n",
    "        xn.append(data[i][0])\n",
    "        yn.append(data[i][1])\n",
    "        \n",
    "print(xp,yp,xn,yn)"
   ]
  },
  {
   "cell_type": "code",
   "execution_count": 4,
   "metadata": {},
   "outputs": [
    {
     "data": {
      "image/png": "[encoded data removed]",
      "text/plain": [
       "<Figure size 432x288 with 1 Axes>"
      ]
     },
     "metadata": {
      "needs_background": "light"
     },
     "output_type": "display_data"
    }
   ],
   "source": [
    "# Plot coordinates\n",
    "fig = plt.figure()\n",
    "ax = fig.gca()\n",
    "ax.set_xticks(np.arange(0, 10, 1))\n",
    "ax.set_yticks(np.arange(0, 10, 1))\n",
    "plt.xlabel('x')\n",
    "plt.ylabel('y')\n",
    "\n",
    "plt.scatter(xp,yp)\n",
    "plt.scatter(xn,yn)\n",
    "plt.grid(True)\n",
    "plt.show()"
   ]
  },
  {
   "cell_type": "code",
   "execution_count": 5,
   "metadata": {},
   "outputs": [],
   "source": [
    "# calculates Euclidean distance from the point to be classified \n",
    "# to every other point and stores in a tuple.\n",
    "def e_distance(x,y):\n",
    "    obj_list=[]\n",
    "    obj_list=deepcopy(data)\n",
    "    for i in range(0,len(data)):\n",
    "        obj_list[i] += (math.sqrt((x-data[i][0])**2 + (y-data[i][1])**2),)\n",
    "    return obj_list"
   ]
  },
  {
   "cell_type": "code",
   "execution_count": 6,
   "metadata": {},
   "outputs": [],
   "source": [
    "# function for calculating mode of data\n",
    "def max_Count(vector):\n",
    "    counts = Counter(x[2] for x in vector) \n",
    "    return counts.most_common(1)"
   ]
  },
  {
   "cell_type": "code",
   "execution_count": 7,
   "metadata": {},
   "outputs": [
    {
     "name": "stdout",
     "output_type": "stream",
     "text": [
      "Enter pts x,y and k: 1 1 3\n"
     ]
    }
   ],
   "source": [
    "# Provide test input for classification in the format 1 2 3 by giving space in between\n",
    "(x1,y1,k) = map(int,input(\"Enter pts x,y and k: \").split(\" \"))"
   ]
  },
  {
   "cell_type": "code",
   "execution_count": 8,
   "metadata": {},
   "outputs": [],
   "source": [
    "#sorts the list and finds mode of the first k tuples to classify point x1,y1\n",
    "def KNN(x1,y1,k):\n",
    "    print(\"\\nPoint to be classified: \",str(x1) +\",\"+ str(y1))\n",
    "    print(\"\\nvalue of k =\",k)\n",
    "    if(k>len(data)):\n",
    "        print(\"\\nNo. of neighbors exceeding no. of samples\")\n",
    "    vector = e_distance(x1,y1)\n",
    "    vector = sorted(vector,key = lambda x:x[3])\n",
    "    topk = vector[:k]\n",
    "    print(\"\\nTop\",k,\"tuples\")\n",
    "    print(topk)\n",
    "    arr =[]\n",
    "    arr = max_Count(topk)\n",
    "    print(\"\\nClassification is: \",arr[0][0])    "
   ]
  },
  {
   "cell_type": "code",
   "execution_count": 9,
   "metadata": {},
   "outputs": [
    {
     "name": "stdout",
     "output_type": "stream",
     "text": [
      "\n",
      "Point to be classified:  1,1\n",
      "\n",
      "value of k = 3\n",
      "\n",
      "Top 3 tuples\n",
      "[(0, 0, 'Positive', 1.4142135623730951), (2, 4, 'Negative', 3.1622776601683795), (4, 2, 'Negative', 3.1622776601683795)]\n",
      "\n",
      "Classification is:  Negative\n"
     ]
    }
   ],
   "source": [
    "KNN(x1,y1,k)"
   ]
  },
  {
   "cell_type": "code",
   "execution_count": null,
   "metadata": {},
   "outputs": [],
   "source": []
  }
 ],
 "metadata": {
  "kernelspec": {
   "display_name": "Python 3",
   "language": "python",
   "name": "python3"
  },
  "language_info": {
   "codemirror_mode": {
    "name": "ipython",
    "version": 3
   },
   "file_extension": ".py",
   "mimetype": "text/x-python",
   "name": "python",
   "nbconvert_exporter": "python",
   "pygments_lexer": "ipython3",
   "version": "3.8.3"
  }
 },
 "nbformat": 4,
 "nbformat_minor": 4
}
