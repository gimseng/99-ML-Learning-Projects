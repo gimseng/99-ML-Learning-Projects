{
  "nbformat": 4,
  "nbformat_minor": 0,
  "metadata": {
    "colab": {
      "name": "Heart_disease_prediction.ipynb",
      "provenance": [],
      "collapsed_sections": [],
      "authorship_tag": "ABX9TyPZrGTcjl9XeOGx8Y+tRtVx"
    },
    "kernelspec": {
      "name": "python3",
      "display_name": "Python 3"
    },
    "language_info": {
      "name": "python"
    }
  },
  "cells": [
    {
      "cell_type": "markdown",
      "metadata": {
        "id": "9_oWNhyr5IzP"
      },
      "source": [
        "\n",
        "# Project Problems:\n",
        "\n",
        "How to predict the heart failure?"
      ]
    },
    {
      "cell_type": "code",
      "metadata": {
        "colab": {
          "base_uri": "https://localhost:8080/"
        },
        "id": "0p3eyUF34GC3",
        "outputId": "cc22a7fa-0ba6-4675-ad4c-667d2d91ee86"
      },
      "source": [
        "from google.colab import drive\n",
        "drive.mount('/content/gdrive/')"
      ],
      "execution_count": 1,
      "outputs": [
        {
          "output_type": "stream",
          "name": "stdout",
          "text": [
            "Mounted at /content/gdrive/\n"
          ]
        }
      ]
    },
    {
      "cell_type": "code",
      "metadata": {
        "id": "mQrOCehN5-hk"
      },
      "source": [
        "import pandas as pd\n",
        "import numpy as np\n",
        "import matplotlib.pyplot as plt\n",
        "import seaborn as sns\n",
        "import os\n",
        "import joblib\n",
        "import time"
      ],
      "execution_count": 70,
      "outputs": []
    },
    {
      "cell_type": "code",
      "metadata": {
        "id": "WghlxC93o76q"
      },
      "source": [
        "from sklearn.preprocessing import StandardScaler, OneHotEncoder\n",
        "from sklearn.model_selection import train_test_split\n",
        "from sklearn.ensemble import RandomForestClassifier, AdaBoostClassifier, GradientBoostingClassifier\n",
        "from sklearn.metrics import confusion_matrix, roc_curve, roc_auc_score\n",
        "from sklearn.model_selection import GridSearchCV, RandomizedSearchCV"
      ],
      "execution_count": 50,
      "outputs": []
    },
    {
      "cell_type": "code",
      "metadata": {
        "id": "i6sNZQK46bfE"
      },
      "source": [
        "path = 'gdrive/MyDrive/DATA/Heart Failure/'"
      ],
      "execution_count": 4,
      "outputs": []
    },
    {
      "cell_type": "code",
      "metadata": {
        "colab": {
          "base_uri": "https://localhost:8080/"
        },
        "id": "kTtqd6Xo6bQY",
        "outputId": "91cf3b44-a08c-4dc8-d956-211206d1a8b2"
      },
      "source": [
        "os.listdir(path)"
      ],
      "execution_count": 5,
      "outputs": [
        {
          "output_type": "execute_result",
          "data": {
            "text/plain": [
              "['heart.csv', 'hf_v1.pkl', 'data_interim.csv', 'standardS_hfv1.pkl']"
            ]
          },
          "metadata": {},
          "execution_count": 5
        }
      ]
    },
    {
      "cell_type": "markdown",
      "metadata": {
        "id": "dzM8eG0P6xRd"
      },
      "source": [
        "## Get the Data"
      ]
    },
    {
      "cell_type": "code",
      "metadata": {
        "id": "S0aygCUV6VQa"
      },
      "source": [
        "df = pd.read_csv(path + 'heart.csv')"
      ],
      "execution_count": 6,
      "outputs": []
    },
    {
      "cell_type": "code",
      "metadata": {
        "colab": {
          "base_uri": "https://localhost:8080/",
          "height": 204
        },
        "id": "CHlRdLx26s1q",
        "outputId": "825c7151-c3cb-4ef3-ba3c-32b34857aeb7"
      },
      "source": [
        "df.head()"
      ],
      "execution_count": 7,
      "outputs": [
        {
          "output_type": "execute_result",
          "data": {
            "text/html": [
              "<div>\n",
              "<style scoped>\n",
              "    .dataframe tbody tr th:only-of-type {\n",
              "        vertical-align: middle;\n",
              "    }\n",
              "\n",
              "    .dataframe tbody tr th {\n",
              "        vertical-align: top;\n",
              "    }\n",
              "\n",
              "    .dataframe thead th {\n",
              "        text-align: right;\n",
              "    }\n",
              "</style>\n",
              "<table border=\"1\" class=\"dataframe\">\n",
              "  <thead>\n",
              "    <tr style=\"text-align: right;\">\n",
              "      <th></th>\n",
              "      <th>Age</th>\n",
              "      <th>Sex</th>\n",
              "      <th>ChestPainType</th>\n",
              "      <th>RestingBP</th>\n",
              "      <th>Cholesterol</th>\n",
              "      <th>FastingBS</th>\n",
              "      <th>RestingECG</th>\n",
              "      <th>MaxHR</th>\n",
              "      <th>ExerciseAngina</th>\n",
              "      <th>Oldpeak</th>\n",
              "      <th>ST_Slope</th>\n",
              "      <th>HeartDisease</th>\n",
              "    </tr>\n",
              "  </thead>\n",
              "  <tbody>\n",
              "    <tr>\n",
              "      <th>0</th>\n",
              "      <td>40</td>\n",
              "      <td>M</td>\n",
              "      <td>ATA</td>\n",
              "      <td>140</td>\n",
              "      <td>289</td>\n",
              "      <td>0</td>\n",
              "      <td>Normal</td>\n",
              "      <td>172</td>\n",
              "      <td>N</td>\n",
              "      <td>0.0</td>\n",
              "      <td>Up</td>\n",
              "      <td>0</td>\n",
              "    </tr>\n",
              "    <tr>\n",
              "      <th>1</th>\n",
              "      <td>49</td>\n",
              "      <td>F</td>\n",
              "      <td>NAP</td>\n",
              "      <td>160</td>\n",
              "      <td>180</td>\n",
              "      <td>0</td>\n",
              "      <td>Normal</td>\n",
              "      <td>156</td>\n",
              "      <td>N</td>\n",
              "      <td>1.0</td>\n",
              "      <td>Flat</td>\n",
              "      <td>1</td>\n",
              "    </tr>\n",
              "    <tr>\n",
              "      <th>2</th>\n",
              "      <td>37</td>\n",
              "      <td>M</td>\n",
              "      <td>ATA</td>\n",
              "      <td>130</td>\n",
              "      <td>283</td>\n",
              "      <td>0</td>\n",
              "      <td>ST</td>\n",
              "      <td>98</td>\n",
              "      <td>N</td>\n",
              "      <td>0.0</td>\n",
              "      <td>Up</td>\n",
              "      <td>0</td>\n",
              "    </tr>\n",
              "    <tr>\n",
              "      <th>3</th>\n",
              "      <td>48</td>\n",
              "      <td>F</td>\n",
              "      <td>ASY</td>\n",
              "      <td>138</td>\n",
              "      <td>214</td>\n",
              "      <td>0</td>\n",
              "      <td>Normal</td>\n",
              "      <td>108</td>\n",
              "      <td>Y</td>\n",
              "      <td>1.5</td>\n",
              "      <td>Flat</td>\n",
              "      <td>1</td>\n",
              "    </tr>\n",
              "    <tr>\n",
              "      <th>4</th>\n",
              "      <td>54</td>\n",
              "      <td>M</td>\n",
              "      <td>NAP</td>\n",
              "      <td>150</td>\n",
              "      <td>195</td>\n",
              "      <td>0</td>\n",
              "      <td>Normal</td>\n",
              "      <td>122</td>\n",
              "      <td>N</td>\n",
              "      <td>0.0</td>\n",
              "      <td>Up</td>\n",
              "      <td>0</td>\n",
              "    </tr>\n",
              "  </tbody>\n",
              "</table>\n",
              "</div>"
            ],
            "text/plain": [
              "   Age Sex ChestPainType  ...  Oldpeak  ST_Slope  HeartDisease\n",
              "0   40   M           ATA  ...      0.0        Up             0\n",
              "1   49   F           NAP  ...      1.0      Flat             1\n",
              "2   37   M           ATA  ...      0.0        Up             0\n",
              "3   48   F           ASY  ...      1.5      Flat             1\n",
              "4   54   M           NAP  ...      0.0        Up             0\n",
              "\n",
              "[5 rows x 12 columns]"
            ]
          },
          "metadata": {},
          "execution_count": 7
        }
      ]
    },
    {
      "cell_type": "code",
      "metadata": {
        "colab": {
          "base_uri": "https://localhost:8080/"
        },
        "id": "E6jPmtM760ho",
        "outputId": "67520e19-1ef2-4f84-c07c-64278d2d1acc"
      },
      "source": [
        "df.shape"
      ],
      "execution_count": 8,
      "outputs": [
        {
          "output_type": "execute_result",
          "data": {
            "text/plain": [
              "(918, 12)"
            ]
          },
          "metadata": {},
          "execution_count": 8
        }
      ]
    },
    {
      "cell_type": "code",
      "metadata": {
        "colab": {
          "base_uri": "https://localhost:8080/"
        },
        "id": "CVOVs6ZRYpKS",
        "outputId": "6b784aae-2f18-4983-92e2-09cbb61059d7"
      },
      "source": [
        "df.columns"
      ],
      "execution_count": 11,
      "outputs": [
        {
          "output_type": "execute_result",
          "data": {
            "text/plain": [
              "Index(['Age', 'Sex', 'ChestPainType', 'RestingBP', 'Cholesterol', 'FastingBS',\n",
              "       'RestingECG', 'MaxHR', 'ExerciseAngina', 'Oldpeak', 'ST_Slope',\n",
              "       'HeartDisease'],\n",
              "      dtype='object')"
            ]
          },
          "metadata": {},
          "execution_count": 11
        }
      ]
    },
    {
      "cell_type": "code",
      "metadata": {
        "colab": {
          "base_uri": "https://localhost:8080/"
        },
        "id": "Kqg2oEQLYaHN",
        "outputId": "65f29490-24cb-42ea-fa8e-cbcb27baed43"
      },
      "source": [
        "df.isnull().sum()"
      ],
      "execution_count": 10,
      "outputs": [
        {
          "output_type": "execute_result",
          "data": {
            "text/plain": [
              "Age               0\n",
              "Sex               0\n",
              "ChestPainType     0\n",
              "RestingBP         0\n",
              "Cholesterol       0\n",
              "FastingBS         0\n",
              "RestingECG        0\n",
              "MaxHR             0\n",
              "ExerciseAngina    0\n",
              "Oldpeak           0\n",
              "ST_Slope          0\n",
              "HeartDisease      0\n",
              "dtype: int64"
            ]
          },
          "metadata": {},
          "execution_count": 10
        }
      ]
    },
    {
      "cell_type": "markdown",
      "metadata": {
        "id": "gtmBBtNvZe0x"
      },
      "source": [
        "## Data Preparation\n",
        "It will consist the simple EDA and Feature Engineering"
      ]
    },
    {
      "cell_type": "code",
      "metadata": {
        "id": "uzbwFoszYZzG"
      },
      "source": [
        "def plot_compare(mydata, col_target, col_x):\n",
        "  d1=mydata[mydata[col_target==1]][col_x]\n",
        "  d2=mydata[mydata[col_target==0]][col_x]\n",
        "  plt.figure(figsize=(7.5,7.5))\n",
        "  sns.distplot(d1, label='Heart Disease')\n",
        "  sns.distplot(d2, label='Not Heart Disease')\n",
        "  plt.legend(loc='upper left')"
      ],
      "execution_count": 13,
      "outputs": []
    },
    {
      "cell_type": "code",
      "metadata": {
        "id": "oi_gNF1rbE_Q"
      },
      "source": [
        ""
      ],
      "execution_count": 99,
      "outputs": []
    },
    {
      "cell_type": "markdown",
      "metadata": {
        "id": "4QktwN2NbVQ3"
      },
      "source": [
        "### Devide the columns type"
      ]
    },
    {
      "cell_type": "code",
      "metadata": {
        "colab": {
          "base_uri": "https://localhost:8080/"
        },
        "id": "f36uFpFwbcFg",
        "outputId": "4515f7a5-0feb-4055-f568-ec862f5153a0"
      },
      "source": [
        "df.dtypes"
      ],
      "execution_count": 14,
      "outputs": [
        {
          "output_type": "execute_result",
          "data": {
            "text/plain": [
              "Age                 int64\n",
              "Sex                object\n",
              "ChestPainType      object\n",
              "RestingBP           int64\n",
              "Cholesterol         int64\n",
              "FastingBS           int64\n",
              "RestingECG         object\n",
              "MaxHR               int64\n",
              "ExerciseAngina     object\n",
              "Oldpeak           float64\n",
              "ST_Slope           object\n",
              "HeartDisease        int64\n",
              "dtype: object"
            ]
          },
          "metadata": {},
          "execution_count": 14
        }
      ]
    },
    {
      "cell_type": "code",
      "metadata": {
        "id": "2CAqGK-n7AOc"
      },
      "source": [
        "#### predictor \n",
        "col_num = ['Age', 'RestingBP', 'Cholesterol','MaxHR','Oldpeak'] ## --> pure number\n",
        "col_cat = ['Sex', 'ChestPainType', 'FastingBS','RestingECG','ExerciseAngina', 'ST_Slope'] ## --> categorical\n",
        "other_col = list(set(df.columns)-set(col_num + col_cat)) ## --> others"
      ],
      "execution_count": 15,
      "outputs": []
    },
    {
      "cell_type": "code",
      "metadata": {
        "colab": {
          "base_uri": "https://localhost:8080/"
        },
        "id": "DorRlzj5-nT7",
        "outputId": "c712b7e8-690c-4e44-84b4-2cea5e68fb9b"
      },
      "source": [
        "other_col"
      ],
      "execution_count": 16,
      "outputs": [
        {
          "output_type": "execute_result",
          "data": {
            "text/plain": [
              "['HeartDisease']"
            ]
          },
          "metadata": {},
          "execution_count": 16
        }
      ]
    },
    {
      "cell_type": "code",
      "metadata": {
        "id": "wpjLJzPF-4Fb"
      },
      "source": [
        "col_target = ['HeartDisease']"
      ],
      "execution_count": 17,
      "outputs": []
    },
    {
      "cell_type": "code",
      "metadata": {
        "colab": {
          "base_uri": "https://localhost:8080/"
        },
        "id": "v8lx8rP-cQmL",
        "outputId": "a79d4703-9b80-4ae6-f381-d5ace73d205e"
      },
      "source": [
        "target_count = df[col_target].value_counts()\n",
        "target_count/target_count.sum()"
      ],
      "execution_count": 18,
      "outputs": [
        {
          "output_type": "execute_result",
          "data": {
            "text/plain": [
              "HeartDisease\n",
              "1               0.553377\n",
              "0               0.446623\n",
              "dtype: float64"
            ]
          },
          "metadata": {},
          "execution_count": 18
        }
      ]
    },
    {
      "cell_type": "code",
      "metadata": {
        "colab": {
          "base_uri": "https://localhost:8080/"
        },
        "id": "gIyApu40c5ej",
        "outputId": "1fb46e43-3983-43b2-d452-e14a0ce7c955"
      },
      "source": [
        "col_cat"
      ],
      "execution_count": 20,
      "outputs": [
        {
          "output_type": "execute_result",
          "data": {
            "text/plain": [
              "['Sex',\n",
              " 'ChestPainType',\n",
              " 'FastingBS',\n",
              " 'RestingECG',\n",
              " 'ExerciseAngina',\n",
              " 'ST_Slope']"
            ]
          },
          "metadata": {},
          "execution_count": 20
        }
      ]
    },
    {
      "cell_type": "code",
      "metadata": {
        "colab": {
          "base_uri": "https://localhost:8080/"
        },
        "id": "ParmwivTn1cj",
        "outputId": "a428fb65-0c02-46e0-a09c-fc88099fa032"
      },
      "source": [
        "# Check Unique values in categorical columns\n",
        "for col in col_cat:\n",
        "  print('{} has {} values '.format(col,df[col].unique()))\n",
        "  print('\\n')"
      ],
      "execution_count": 29,
      "outputs": [
        {
          "output_type": "stream",
          "name": "stdout",
          "text": [
            "Sex has ['M' 'F'] values \n",
            "\n",
            "\n",
            "ChestPainType has ['ATA' 'NAP' 'ASY' 'TA'] values \n",
            "\n",
            "\n",
            "FastingBS has [0 1] values \n",
            "\n",
            "\n",
            "RestingECG has ['Normal' 'ST' 'LVH'] values \n",
            "\n",
            "\n",
            "ExerciseAngina has ['N' 'Y'] values \n",
            "\n",
            "\n",
            "ST_Slope has ['Up' 'Flat' 'Down'] values \n",
            "\n",
            "\n"
          ]
        }
      ]
    },
    {
      "cell_type": "code",
      "metadata": {
        "colab": {
          "base_uri": "https://localhost:8080/",
          "height": 173
        },
        "id": "hu7BCt4Hc9Aq",
        "outputId": "fdbac62c-a183-4e52-dcc5-e3a208f60bae"
      },
      "source": [
        "df.groupby('Sex').agg({col_target[0]:[np.mean,np.std,np.size]})"
      ],
      "execution_count": 21,
      "outputs": [
        {
          "output_type": "execute_result",
          "data": {
            "text/html": [
              "<div>\n",
              "<style scoped>\n",
              "    .dataframe tbody tr th:only-of-type {\n",
              "        vertical-align: middle;\n",
              "    }\n",
              "\n",
              "    .dataframe tbody tr th {\n",
              "        vertical-align: top;\n",
              "    }\n",
              "\n",
              "    .dataframe thead tr th {\n",
              "        text-align: left;\n",
              "    }\n",
              "\n",
              "    .dataframe thead tr:last-of-type th {\n",
              "        text-align: right;\n",
              "    }\n",
              "</style>\n",
              "<table border=\"1\" class=\"dataframe\">\n",
              "  <thead>\n",
              "    <tr>\n",
              "      <th></th>\n",
              "      <th colspan=\"3\" halign=\"left\">HeartDisease</th>\n",
              "    </tr>\n",
              "    <tr>\n",
              "      <th></th>\n",
              "      <th>mean</th>\n",
              "      <th>std</th>\n",
              "      <th>size</th>\n",
              "    </tr>\n",
              "    <tr>\n",
              "      <th>Sex</th>\n",
              "      <th></th>\n",
              "      <th></th>\n",
              "      <th></th>\n",
              "    </tr>\n",
              "  </thead>\n",
              "  <tbody>\n",
              "    <tr>\n",
              "      <th>F</th>\n",
              "      <td>0.259067</td>\n",
              "      <td>0.439262</td>\n",
              "      <td>193</td>\n",
              "    </tr>\n",
              "    <tr>\n",
              "      <th>M</th>\n",
              "      <td>0.631724</td>\n",
              "      <td>0.482670</td>\n",
              "      <td>725</td>\n",
              "    </tr>\n",
              "  </tbody>\n",
              "</table>\n",
              "</div>"
            ],
            "text/plain": [
              "    HeartDisease               \n",
              "            mean       std size\n",
              "Sex                            \n",
              "F       0.259067  0.439262  193\n",
              "M       0.631724  0.482670  725"
            ]
          },
          "metadata": {},
          "execution_count": 21
        }
      ]
    },
    {
      "cell_type": "code",
      "metadata": {
        "colab": {
          "base_uri": "https://localhost:8080/",
          "height": 235
        },
        "id": "jDQWKm5gc8v9",
        "outputId": "9f371783-c946-4b5c-c8f2-f1c977e545ee"
      },
      "source": [
        "df.groupby('ChestPainType').agg({col_target[0]:[np.mean,np.std,np.size]})"
      ],
      "execution_count": 22,
      "outputs": [
        {
          "output_type": "execute_result",
          "data": {
            "text/html": [
              "<div>\n",
              "<style scoped>\n",
              "    .dataframe tbody tr th:only-of-type {\n",
              "        vertical-align: middle;\n",
              "    }\n",
              "\n",
              "    .dataframe tbody tr th {\n",
              "        vertical-align: top;\n",
              "    }\n",
              "\n",
              "    .dataframe thead tr th {\n",
              "        text-align: left;\n",
              "    }\n",
              "\n",
              "    .dataframe thead tr:last-of-type th {\n",
              "        text-align: right;\n",
              "    }\n",
              "</style>\n",
              "<table border=\"1\" class=\"dataframe\">\n",
              "  <thead>\n",
              "    <tr>\n",
              "      <th></th>\n",
              "      <th colspan=\"3\" halign=\"left\">HeartDisease</th>\n",
              "    </tr>\n",
              "    <tr>\n",
              "      <th></th>\n",
              "      <th>mean</th>\n",
              "      <th>std</th>\n",
              "      <th>size</th>\n",
              "    </tr>\n",
              "    <tr>\n",
              "      <th>ChestPainType</th>\n",
              "      <th></th>\n",
              "      <th></th>\n",
              "      <th></th>\n",
              "    </tr>\n",
              "  </thead>\n",
              "  <tbody>\n",
              "    <tr>\n",
              "      <th>ASY</th>\n",
              "      <td>0.790323</td>\n",
              "      <td>0.407489</td>\n",
              "      <td>496</td>\n",
              "    </tr>\n",
              "    <tr>\n",
              "      <th>ATA</th>\n",
              "      <td>0.138728</td>\n",
              "      <td>0.346666</td>\n",
              "      <td>173</td>\n",
              "    </tr>\n",
              "    <tr>\n",
              "      <th>NAP</th>\n",
              "      <td>0.354680</td>\n",
              "      <td>0.479599</td>\n",
              "      <td>203</td>\n",
              "    </tr>\n",
              "    <tr>\n",
              "      <th>TA</th>\n",
              "      <td>0.434783</td>\n",
              "      <td>0.501206</td>\n",
              "      <td>46</td>\n",
              "    </tr>\n",
              "  </tbody>\n",
              "</table>\n",
              "</div>"
            ],
            "text/plain": [
              "              HeartDisease               \n",
              "                      mean       std size\n",
              "ChestPainType                            \n",
              "ASY               0.790323  0.407489  496\n",
              "ATA               0.138728  0.346666  173\n",
              "NAP               0.354680  0.479599  203\n",
              "TA                0.434783  0.501206   46"
            ]
          },
          "metadata": {},
          "execution_count": 22
        }
      ]
    },
    {
      "cell_type": "code",
      "metadata": {
        "colab": {
          "base_uri": "https://localhost:8080/",
          "height": 173
        },
        "id": "ih4fFq9tc8rj",
        "outputId": "4334cfc5-c546-479a-848c-133c8d19d40e"
      },
      "source": [
        "df.groupby('FastingBS').agg({col_target[0]:[np.mean,np.std,np.size]})"
      ],
      "execution_count": 23,
      "outputs": [
        {
          "output_type": "execute_result",
          "data": {
            "text/html": [
              "<div>\n",
              "<style scoped>\n",
              "    .dataframe tbody tr th:only-of-type {\n",
              "        vertical-align: middle;\n",
              "    }\n",
              "\n",
              "    .dataframe tbody tr th {\n",
              "        vertical-align: top;\n",
              "    }\n",
              "\n",
              "    .dataframe thead tr th {\n",
              "        text-align: left;\n",
              "    }\n",
              "\n",
              "    .dataframe thead tr:last-of-type th {\n",
              "        text-align: right;\n",
              "    }\n",
              "</style>\n",
              "<table border=\"1\" class=\"dataframe\">\n",
              "  <thead>\n",
              "    <tr>\n",
              "      <th></th>\n",
              "      <th colspan=\"3\" halign=\"left\">HeartDisease</th>\n",
              "    </tr>\n",
              "    <tr>\n",
              "      <th></th>\n",
              "      <th>mean</th>\n",
              "      <th>std</th>\n",
              "      <th>size</th>\n",
              "    </tr>\n",
              "    <tr>\n",
              "      <th>FastingBS</th>\n",
              "      <th></th>\n",
              "      <th></th>\n",
              "      <th></th>\n",
              "    </tr>\n",
              "  </thead>\n",
              "  <tbody>\n",
              "    <tr>\n",
              "      <th>0</th>\n",
              "      <td>0.480114</td>\n",
              "      <td>0.499960</td>\n",
              "      <td>704</td>\n",
              "    </tr>\n",
              "    <tr>\n",
              "      <th>1</th>\n",
              "      <td>0.794393</td>\n",
              "      <td>0.405092</td>\n",
              "      <td>214</td>\n",
              "    </tr>\n",
              "  </tbody>\n",
              "</table>\n",
              "</div>"
            ],
            "text/plain": [
              "          HeartDisease               \n",
              "                  mean       std size\n",
              "FastingBS                            \n",
              "0             0.480114  0.499960  704\n",
              "1             0.794393  0.405092  214"
            ]
          },
          "metadata": {},
          "execution_count": 23
        }
      ]
    },
    {
      "cell_type": "code",
      "metadata": {
        "colab": {
          "base_uri": "https://localhost:8080/",
          "height": 204
        },
        "id": "0tDP_tYmc8n8",
        "outputId": "3b7e2465-a6dd-4659-d5bd-c92ee868564a"
      },
      "source": [
        "df.groupby('RestingECG').agg({col_target[0]:[np.mean,np.std,np.size]})"
      ],
      "execution_count": 24,
      "outputs": [
        {
          "output_type": "execute_result",
          "data": {
            "text/html": [
              "<div>\n",
              "<style scoped>\n",
              "    .dataframe tbody tr th:only-of-type {\n",
              "        vertical-align: middle;\n",
              "    }\n",
              "\n",
              "    .dataframe tbody tr th {\n",
              "        vertical-align: top;\n",
              "    }\n",
              "\n",
              "    .dataframe thead tr th {\n",
              "        text-align: left;\n",
              "    }\n",
              "\n",
              "    .dataframe thead tr:last-of-type th {\n",
              "        text-align: right;\n",
              "    }\n",
              "</style>\n",
              "<table border=\"1\" class=\"dataframe\">\n",
              "  <thead>\n",
              "    <tr>\n",
              "      <th></th>\n",
              "      <th colspan=\"3\" halign=\"left\">HeartDisease</th>\n",
              "    </tr>\n",
              "    <tr>\n",
              "      <th></th>\n",
              "      <th>mean</th>\n",
              "      <th>std</th>\n",
              "      <th>size</th>\n",
              "    </tr>\n",
              "    <tr>\n",
              "      <th>RestingECG</th>\n",
              "      <th></th>\n",
              "      <th></th>\n",
              "      <th></th>\n",
              "    </tr>\n",
              "  </thead>\n",
              "  <tbody>\n",
              "    <tr>\n",
              "      <th>LVH</th>\n",
              "      <td>0.563830</td>\n",
              "      <td>0.497233</td>\n",
              "      <td>188</td>\n",
              "    </tr>\n",
              "    <tr>\n",
              "      <th>Normal</th>\n",
              "      <td>0.516304</td>\n",
              "      <td>0.500187</td>\n",
              "      <td>552</td>\n",
              "    </tr>\n",
              "    <tr>\n",
              "      <th>ST</th>\n",
              "      <td>0.657303</td>\n",
              "      <td>0.475950</td>\n",
              "      <td>178</td>\n",
              "    </tr>\n",
              "  </tbody>\n",
              "</table>\n",
              "</div>"
            ],
            "text/plain": [
              "           HeartDisease               \n",
              "                   mean       std size\n",
              "RestingECG                            \n",
              "LVH            0.563830  0.497233  188\n",
              "Normal         0.516304  0.500187  552\n",
              "ST             0.657303  0.475950  178"
            ]
          },
          "metadata": {},
          "execution_count": 24
        }
      ]
    },
    {
      "cell_type": "code",
      "metadata": {
        "colab": {
          "base_uri": "https://localhost:8080/",
          "height": 173
        },
        "id": "uHUGwGJ9c8hz",
        "outputId": "7309f553-b588-4850-de8c-798dbf87497d"
      },
      "source": [
        "df.groupby('ExerciseAngina').agg({col_target[0]:[np.mean,np.std,np.size]})"
      ],
      "execution_count": 25,
      "outputs": [
        {
          "output_type": "execute_result",
          "data": {
            "text/html": [
              "<div>\n",
              "<style scoped>\n",
              "    .dataframe tbody tr th:only-of-type {\n",
              "        vertical-align: middle;\n",
              "    }\n",
              "\n",
              "    .dataframe tbody tr th {\n",
              "        vertical-align: top;\n",
              "    }\n",
              "\n",
              "    .dataframe thead tr th {\n",
              "        text-align: left;\n",
              "    }\n",
              "\n",
              "    .dataframe thead tr:last-of-type th {\n",
              "        text-align: right;\n",
              "    }\n",
              "</style>\n",
              "<table border=\"1\" class=\"dataframe\">\n",
              "  <thead>\n",
              "    <tr>\n",
              "      <th></th>\n",
              "      <th colspan=\"3\" halign=\"left\">HeartDisease</th>\n",
              "    </tr>\n",
              "    <tr>\n",
              "      <th></th>\n",
              "      <th>mean</th>\n",
              "      <th>std</th>\n",
              "      <th>size</th>\n",
              "    </tr>\n",
              "    <tr>\n",
              "      <th>ExerciseAngina</th>\n",
              "      <th></th>\n",
              "      <th></th>\n",
              "      <th></th>\n",
              "    </tr>\n",
              "  </thead>\n",
              "  <tbody>\n",
              "    <tr>\n",
              "      <th>N</th>\n",
              "      <td>0.351005</td>\n",
              "      <td>0.477722</td>\n",
              "      <td>547</td>\n",
              "    </tr>\n",
              "    <tr>\n",
              "      <th>Y</th>\n",
              "      <td>0.851752</td>\n",
              "      <td>0.355826</td>\n",
              "      <td>371</td>\n",
              "    </tr>\n",
              "  </tbody>\n",
              "</table>\n",
              "</div>"
            ],
            "text/plain": [
              "               HeartDisease               \n",
              "                       mean       std size\n",
              "ExerciseAngina                            \n",
              "N                  0.351005  0.477722  547\n",
              "Y                  0.851752  0.355826  371"
            ]
          },
          "metadata": {},
          "execution_count": 25
        }
      ]
    },
    {
      "cell_type": "code",
      "metadata": {
        "colab": {
          "base_uri": "https://localhost:8080/",
          "height": 204
        },
        "id": "N0YnlCcseSmF",
        "outputId": "6ba72707-81b5-4012-a4b9-e0d841e3170b"
      },
      "source": [
        "df.groupby('ST_Slope').agg({col_target[0]:[np.mean,np.std,np.size]})"
      ],
      "execution_count": 26,
      "outputs": [
        {
          "output_type": "execute_result",
          "data": {
            "text/html": [
              "<div>\n",
              "<style scoped>\n",
              "    .dataframe tbody tr th:only-of-type {\n",
              "        vertical-align: middle;\n",
              "    }\n",
              "\n",
              "    .dataframe tbody tr th {\n",
              "        vertical-align: top;\n",
              "    }\n",
              "\n",
              "    .dataframe thead tr th {\n",
              "        text-align: left;\n",
              "    }\n",
              "\n",
              "    .dataframe thead tr:last-of-type th {\n",
              "        text-align: right;\n",
              "    }\n",
              "</style>\n",
              "<table border=\"1\" class=\"dataframe\">\n",
              "  <thead>\n",
              "    <tr>\n",
              "      <th></th>\n",
              "      <th colspan=\"3\" halign=\"left\">HeartDisease</th>\n",
              "    </tr>\n",
              "    <tr>\n",
              "      <th></th>\n",
              "      <th>mean</th>\n",
              "      <th>std</th>\n",
              "      <th>size</th>\n",
              "    </tr>\n",
              "    <tr>\n",
              "      <th>ST_Slope</th>\n",
              "      <th></th>\n",
              "      <th></th>\n",
              "      <th></th>\n",
              "    </tr>\n",
              "  </thead>\n",
              "  <tbody>\n",
              "    <tr>\n",
              "      <th>Down</th>\n",
              "      <td>0.777778</td>\n",
              "      <td>0.419079</td>\n",
              "      <td>63</td>\n",
              "    </tr>\n",
              "    <tr>\n",
              "      <th>Flat</th>\n",
              "      <td>0.828261</td>\n",
              "      <td>0.377564</td>\n",
              "      <td>460</td>\n",
              "    </tr>\n",
              "    <tr>\n",
              "      <th>Up</th>\n",
              "      <td>0.197468</td>\n",
              "      <td>0.398594</td>\n",
              "      <td>395</td>\n",
              "    </tr>\n",
              "  </tbody>\n",
              "</table>\n",
              "</div>"
            ],
            "text/plain": [
              "         HeartDisease               \n",
              "                 mean       std size\n",
              "ST_Slope                            \n",
              "Down         0.777778  0.419079   63\n",
              "Flat         0.828261  0.377564  460\n",
              "Up           0.197468  0.398594  395"
            ]
          },
          "metadata": {},
          "execution_count": 26
        }
      ]
    },
    {
      "cell_type": "markdown",
      "metadata": {
        "id": "JL521uuhfAgf"
      },
      "source": [
        "### Feature Engineering"
      ]
    },
    {
      "cell_type": "code",
      "metadata": {
        "colab": {
          "base_uri": "https://localhost:8080/"
        },
        "id": "s_tBLbAye_65",
        "outputId": "dd4a4bf9-0eee-4da7-ebfc-303253555f9f"
      },
      "source": [
        "## Categorical Handling\n",
        "## One Hot, Dummy, Hashing\n",
        "\n",
        "onehot = OneHotEncoder()\n",
        "onehot.fit(df[col_cat])"
      ],
      "execution_count": 27,
      "outputs": [
        {
          "output_type": "execute_result",
          "data": {
            "text/plain": [
              "OneHotEncoder(categories='auto', drop=None, dtype=<class 'numpy.float64'>,\n",
              "              handle_unknown='error', sparse=True)"
            ]
          },
          "metadata": {},
          "execution_count": 27
        }
      ]
    },
    {
      "cell_type": "code",
      "metadata": {
        "id": "t9M8dDnze_3O"
      },
      "source": [
        "# [1,2,1,3,2,1] --> [[1,0,0],\n",
        "                  #  [0,1,0],\n",
        "                  #  [1,0,0],\n",
        "                  #  [0,0,1],\n",
        "                  #  [0,1,0],\n",
        "                  #  [1,0,0]]\n",
        "\n",
        "# [1,2,1,3,2,1] --> [[1,0],\n",
        "                  #  [0,1],\n",
        "                  #  [1,0],\n",
        "                  #  [0,0],\n",
        "                  #  [0,1],\n",
        "                  #  [1,0]]"
      ],
      "execution_count": 28,
      "outputs": []
    },
    {
      "cell_type": "code",
      "metadata": {
        "id": "Uc66bA_6e_zj"
      },
      "source": [
        "col_cat2 = []\n",
        "for i,j in zip(col_cat, onehot.categories_):\n",
        "  for e in j:\n",
        "    col_cat2.append(str(i)+'_'+str(e))"
      ],
      "execution_count": 30,
      "outputs": []
    },
    {
      "cell_type": "code",
      "metadata": {
        "id": "DVbqbq1Xe_v7"
      },
      "source": [
        "df[col_cat2] = pd.DataFrame(onehot.transform(df[col_cat]).toarray())"
      ],
      "execution_count": 31,
      "outputs": []
    },
    {
      "cell_type": "code",
      "metadata": {
        "colab": {
          "base_uri": "https://localhost:8080/",
          "height": 224
        },
        "id": "wcTctv19e_pm",
        "outputId": "5d374df4-1cae-49d8-fb5e-30fea5249510"
      },
      "source": [
        "df[col_cat2].head()"
      ],
      "execution_count": 34,
      "outputs": [
        {
          "output_type": "execute_result",
          "data": {
            "text/html": [
              "<div>\n",
              "<style scoped>\n",
              "    .dataframe tbody tr th:only-of-type {\n",
              "        vertical-align: middle;\n",
              "    }\n",
              "\n",
              "    .dataframe tbody tr th {\n",
              "        vertical-align: top;\n",
              "    }\n",
              "\n",
              "    .dataframe thead th {\n",
              "        text-align: right;\n",
              "    }\n",
              "</style>\n",
              "<table border=\"1\" class=\"dataframe\">\n",
              "  <thead>\n",
              "    <tr style=\"text-align: right;\">\n",
              "      <th></th>\n",
              "      <th>Sex_F</th>\n",
              "      <th>Sex_M</th>\n",
              "      <th>ChestPainType_ASY</th>\n",
              "      <th>ChestPainType_ATA</th>\n",
              "      <th>ChestPainType_NAP</th>\n",
              "      <th>ChestPainType_TA</th>\n",
              "      <th>FastingBS_0</th>\n",
              "      <th>FastingBS_1</th>\n",
              "      <th>RestingECG_LVH</th>\n",
              "      <th>RestingECG_Normal</th>\n",
              "      <th>RestingECG_ST</th>\n",
              "      <th>ExerciseAngina_N</th>\n",
              "      <th>ExerciseAngina_Y</th>\n",
              "      <th>ST_Slope_Down</th>\n",
              "      <th>ST_Slope_Flat</th>\n",
              "      <th>ST_Slope_Up</th>\n",
              "    </tr>\n",
              "  </thead>\n",
              "  <tbody>\n",
              "    <tr>\n",
              "      <th>0</th>\n",
              "      <td>0.0</td>\n",
              "      <td>1.0</td>\n",
              "      <td>0.0</td>\n",
              "      <td>1.0</td>\n",
              "      <td>0.0</td>\n",
              "      <td>0.0</td>\n",
              "      <td>1.0</td>\n",
              "      <td>0.0</td>\n",
              "      <td>0.0</td>\n",
              "      <td>1.0</td>\n",
              "      <td>0.0</td>\n",
              "      <td>1.0</td>\n",
              "      <td>0.0</td>\n",
              "      <td>0.0</td>\n",
              "      <td>0.0</td>\n",
              "      <td>1.0</td>\n",
              "    </tr>\n",
              "    <tr>\n",
              "      <th>1</th>\n",
              "      <td>1.0</td>\n",
              "      <td>0.0</td>\n",
              "      <td>0.0</td>\n",
              "      <td>0.0</td>\n",
              "      <td>1.0</td>\n",
              "      <td>0.0</td>\n",
              "      <td>1.0</td>\n",
              "      <td>0.0</td>\n",
              "      <td>0.0</td>\n",
              "      <td>1.0</td>\n",
              "      <td>0.0</td>\n",
              "      <td>1.0</td>\n",
              "      <td>0.0</td>\n",
              "      <td>0.0</td>\n",
              "      <td>1.0</td>\n",
              "      <td>0.0</td>\n",
              "    </tr>\n",
              "    <tr>\n",
              "      <th>2</th>\n",
              "      <td>0.0</td>\n",
              "      <td>1.0</td>\n",
              "      <td>0.0</td>\n",
              "      <td>1.0</td>\n",
              "      <td>0.0</td>\n",
              "      <td>0.0</td>\n",
              "      <td>1.0</td>\n",
              "      <td>0.0</td>\n",
              "      <td>0.0</td>\n",
              "      <td>0.0</td>\n",
              "      <td>1.0</td>\n",
              "      <td>1.0</td>\n",
              "      <td>0.0</td>\n",
              "      <td>0.0</td>\n",
              "      <td>0.0</td>\n",
              "      <td>1.0</td>\n",
              "    </tr>\n",
              "    <tr>\n",
              "      <th>3</th>\n",
              "      <td>1.0</td>\n",
              "      <td>0.0</td>\n",
              "      <td>1.0</td>\n",
              "      <td>0.0</td>\n",
              "      <td>0.0</td>\n",
              "      <td>0.0</td>\n",
              "      <td>1.0</td>\n",
              "      <td>0.0</td>\n",
              "      <td>0.0</td>\n",
              "      <td>1.0</td>\n",
              "      <td>0.0</td>\n",
              "      <td>0.0</td>\n",
              "      <td>1.0</td>\n",
              "      <td>0.0</td>\n",
              "      <td>1.0</td>\n",
              "      <td>0.0</td>\n",
              "    </tr>\n",
              "    <tr>\n",
              "      <th>4</th>\n",
              "      <td>0.0</td>\n",
              "      <td>1.0</td>\n",
              "      <td>0.0</td>\n",
              "      <td>0.0</td>\n",
              "      <td>1.0</td>\n",
              "      <td>0.0</td>\n",
              "      <td>1.0</td>\n",
              "      <td>0.0</td>\n",
              "      <td>0.0</td>\n",
              "      <td>1.0</td>\n",
              "      <td>0.0</td>\n",
              "      <td>1.0</td>\n",
              "      <td>0.0</td>\n",
              "      <td>0.0</td>\n",
              "      <td>0.0</td>\n",
              "      <td>1.0</td>\n",
              "    </tr>\n",
              "  </tbody>\n",
              "</table>\n",
              "</div>"
            ],
            "text/plain": [
              "   Sex_F  Sex_M  ChestPainType_ASY  ...  ST_Slope_Down  ST_Slope_Flat  ST_Slope_Up\n",
              "0    0.0    1.0                0.0  ...            0.0            0.0          1.0\n",
              "1    1.0    0.0                0.0  ...            0.0            1.0          0.0\n",
              "2    0.0    1.0                0.0  ...            0.0            0.0          1.0\n",
              "3    1.0    0.0                1.0  ...            0.0            1.0          0.0\n",
              "4    0.0    1.0                0.0  ...            0.0            0.0          1.0\n",
              "\n",
              "[5 rows x 16 columns]"
            ]
          },
          "metadata": {},
          "execution_count": 34
        }
      ]
    },
    {
      "cell_type": "code",
      "metadata": {
        "id": "wIw7YERXo5PP"
      },
      "source": [
        "## Numerical Handling\n",
        "## Standarized, Caping.. Remember, the real data should have the same standarization or any transformation\n",
        "\n",
        "SS = StandardScaler()\n",
        "SS.fit(df[col_num])\n",
        "\n",
        "col_num2 = [c+'_SS' for c in col_num]\n",
        "df[col_num2] = pd.DataFrame(SS.transform(df[col_num]))"
      ],
      "execution_count": 35,
      "outputs": []
    },
    {
      "cell_type": "code",
      "metadata": {
        "colab": {
          "base_uri": "https://localhost:8080/"
        },
        "id": "SnlcXpRMp15-",
        "outputId": "7c5a62bd-819d-44d5-d0cd-00987e32f282"
      },
      "source": [
        "joblib.dump(SS, path + 'standardS_hfv1.pkl')"
      ],
      "execution_count": 36,
      "outputs": [
        {
          "output_type": "execute_result",
          "data": {
            "text/plain": [
              "['gdrive/MyDrive/DATA/Heart Failure/standardS_hfv1.pkl']"
            ]
          },
          "metadata": {},
          "execution_count": 36
        }
      ]
    },
    {
      "cell_type": "code",
      "metadata": {
        "colab": {
          "base_uri": "https://localhost:8080/",
          "height": 204
        },
        "id": "8VS4AharqX92",
        "outputId": "4d22221a-5ecc-4e81-aac3-736f2c5ef197"
      },
      "source": [
        "df[col_num2].sample(5)"
      ],
      "execution_count": 37,
      "outputs": [
        {
          "output_type": "execute_result",
          "data": {
            "text/html": [
              "<div>\n",
              "<style scoped>\n",
              "    .dataframe tbody tr th:only-of-type {\n",
              "        vertical-align: middle;\n",
              "    }\n",
              "\n",
              "    .dataframe tbody tr th {\n",
              "        vertical-align: top;\n",
              "    }\n",
              "\n",
              "    .dataframe thead th {\n",
              "        text-align: right;\n",
              "    }\n",
              "</style>\n",
              "<table border=\"1\" class=\"dataframe\">\n",
              "  <thead>\n",
              "    <tr style=\"text-align: right;\">\n",
              "      <th></th>\n",
              "      <th>Age_SS</th>\n",
              "      <th>RestingBP_SS</th>\n",
              "      <th>Cholesterol_SS</th>\n",
              "      <th>MaxHR_SS</th>\n",
              "      <th>Oldpeak_SS</th>\n",
              "    </tr>\n",
              "  </thead>\n",
              "  <tbody>\n",
              "    <tr>\n",
              "      <th>366</th>\n",
              "      <td>0.794391</td>\n",
              "      <td>0.951331</td>\n",
              "      <td>-1.818435</td>\n",
              "      <td>-0.778472</td>\n",
              "      <td>1.043759</td>\n",
              "    </tr>\n",
              "    <tr>\n",
              "      <th>733</th>\n",
              "      <td>1.324756</td>\n",
              "      <td>0.951331</td>\n",
              "      <td>0.248804</td>\n",
              "      <td>-0.896367</td>\n",
              "      <td>1.606617</td>\n",
              "    </tr>\n",
              "    <tr>\n",
              "      <th>562</th>\n",
              "      <td>0.582246</td>\n",
              "      <td>0.410909</td>\n",
              "      <td>0.687864</td>\n",
              "      <td>0.675561</td>\n",
              "      <td>1.043759</td>\n",
              "    </tr>\n",
              "    <tr>\n",
              "      <th>875</th>\n",
              "      <td>0.476173</td>\n",
              "      <td>-0.669935</td>\n",
              "      <td>1.291571</td>\n",
              "      <td>1.382928</td>\n",
              "      <td>-0.832432</td>\n",
              "    </tr>\n",
              "    <tr>\n",
              "      <th>879</th>\n",
              "      <td>-0.584556</td>\n",
              "      <td>-1.210356</td>\n",
              "      <td>0.276246</td>\n",
              "      <td>1.225735</td>\n",
              "      <td>0.105664</td>\n",
              "    </tr>\n",
              "  </tbody>\n",
              "</table>\n",
              "</div>"
            ],
            "text/plain": [
              "       Age_SS  RestingBP_SS  Cholesterol_SS  MaxHR_SS  Oldpeak_SS\n",
              "366  0.794391      0.951331       -1.818435 -0.778472    1.043759\n",
              "733  1.324756      0.951331        0.248804 -0.896367    1.606617\n",
              "562  0.582246      0.410909        0.687864  0.675561    1.043759\n",
              "875  0.476173     -0.669935        1.291571  1.382928   -0.832432\n",
              "879 -0.584556     -1.210356        0.276246  1.225735    0.105664"
            ]
          },
          "metadata": {},
          "execution_count": 37
        }
      ]
    },
    {
      "cell_type": "code",
      "metadata": {
        "colab": {
          "base_uri": "https://localhost:8080/"
        },
        "id": "YhlFLbq4qnSd",
        "outputId": "64820501-742a-40d0-9797-d7135ed4afe5"
      },
      "source": [
        "col_cat2,col_num2"
      ],
      "execution_count": 38,
      "outputs": [
        {
          "output_type": "execute_result",
          "data": {
            "text/plain": [
              "(['Sex_F',\n",
              "  'Sex_M',\n",
              "  'ChestPainType_ASY',\n",
              "  'ChestPainType_ATA',\n",
              "  'ChestPainType_NAP',\n",
              "  'ChestPainType_TA',\n",
              "  'FastingBS_0',\n",
              "  'FastingBS_1',\n",
              "  'RestingECG_LVH',\n",
              "  'RestingECG_Normal',\n",
              "  'RestingECG_ST',\n",
              "  'ExerciseAngina_N',\n",
              "  'ExerciseAngina_Y',\n",
              "  'ST_Slope_Down',\n",
              "  'ST_Slope_Flat',\n",
              "  'ST_Slope_Up'],\n",
              " ['Age_SS', 'RestingBP_SS', 'Cholesterol_SS', 'MaxHR_SS', 'Oldpeak_SS'])"
            ]
          },
          "metadata": {},
          "execution_count": 38
        }
      ]
    },
    {
      "cell_type": "code",
      "metadata": {
        "colab": {
          "base_uri": "https://localhost:8080/"
        },
        "id": "nND6v4YMqnNf",
        "outputId": "e3ea6e65-f293-4328-cbce-165c71c415f7"
      },
      "source": [
        "## Then explore it again... if necessery\n",
        "corr_values = df[col_cat2+col_num2+col_target].corr()[col_target[0]].abs().sort_values()\n",
        "corr_values"
      ],
      "execution_count": 40,
      "outputs": [
        {
          "output_type": "execute_result",
          "data": {
            "text/plain": [
              "RestingECG_LVH       0.010670\n",
              "ChestPainType_TA     0.054790\n",
              "RestingECG_Normal    0.091580\n",
              "RestingECG_ST        0.102527\n",
              "RestingBP_SS         0.107589\n",
              "ST_Slope_Down        0.122527\n",
              "ChestPainType_NAP    0.212964\n",
              "Cholesterol_SS       0.232741\n",
              "FastingBS_0          0.267291\n",
              "FastingBS_1          0.267291\n",
              "Age_SS               0.282039\n",
              "Sex_F                0.305445\n",
              "Sex_M                0.305445\n",
              "MaxHR_SS             0.400421\n",
              "ChestPainType_ATA    0.401924\n",
              "Oldpeak_SS           0.403951\n",
              "ExerciseAngina_Y     0.494282\n",
              "ExerciseAngina_N     0.494282\n",
              "ChestPainType_ASY    0.516716\n",
              "ST_Slope_Flat        0.554134\n",
              "ST_Slope_Up          0.622164\n",
              "HeartDisease         1.000000\n",
              "Name: HeartDisease, dtype: float64"
            ]
          },
          "metadata": {},
          "execution_count": 40
        }
      ]
    },
    {
      "cell_type": "code",
      "metadata": {
        "colab": {
          "base_uri": "https://localhost:8080/"
        },
        "id": "wxc41h__qnJQ",
        "outputId": "161e7c42-cc41-4124-a172-6de53bcaac45"
      },
      "source": [
        "corr_values[corr_values>0.12].index.tolist()"
      ],
      "execution_count": 41,
      "outputs": [
        {
          "output_type": "execute_result",
          "data": {
            "text/plain": [
              "['ST_Slope_Down',\n",
              " 'ChestPainType_NAP',\n",
              " 'Cholesterol_SS',\n",
              " 'FastingBS_0',\n",
              " 'FastingBS_1',\n",
              " 'Age_SS',\n",
              " 'Sex_F',\n",
              " 'Sex_M',\n",
              " 'MaxHR_SS',\n",
              " 'ChestPainType_ATA',\n",
              " 'Oldpeak_SS',\n",
              " 'ExerciseAngina_Y',\n",
              " 'ExerciseAngina_N',\n",
              " 'ChestPainType_ASY',\n",
              " 'ST_Slope_Flat',\n",
              " 'ST_Slope_Up',\n",
              " 'HeartDisease']"
            ]
          },
          "metadata": {},
          "execution_count": 41
        }
      ]
    },
    {
      "cell_type": "code",
      "metadata": {
        "colab": {
          "base_uri": "https://localhost:8080/"
        },
        "id": "40YVRz60qnFW",
        "outputId": "adb30cb4-882f-4b56-e52f-3e28e2eb3469"
      },
      "source": [
        "## Summarize all the column that will be used \n",
        "col_used = corr_values[corr_values>0.12].index.tolist()\n",
        "col_used.sort()\n",
        "col_used.remove(col_target[0])\n",
        "\n",
        "#or\n",
        "#col_used = col_cat2 + col_num2\n",
        "col_used"
      ],
      "execution_count": 42,
      "outputs": [
        {
          "output_type": "execute_result",
          "data": {
            "text/plain": [
              "['Age_SS',\n",
              " 'ChestPainType_ASY',\n",
              " 'ChestPainType_ATA',\n",
              " 'ChestPainType_NAP',\n",
              " 'Cholesterol_SS',\n",
              " 'ExerciseAngina_N',\n",
              " 'ExerciseAngina_Y',\n",
              " 'FastingBS_0',\n",
              " 'FastingBS_1',\n",
              " 'MaxHR_SS',\n",
              " 'Oldpeak_SS',\n",
              " 'ST_Slope_Down',\n",
              " 'ST_Slope_Flat',\n",
              " 'ST_Slope_Up',\n",
              " 'Sex_F',\n",
              " 'Sex_M']"
            ]
          },
          "metadata": {},
          "execution_count": 42
        }
      ]
    },
    {
      "cell_type": "code",
      "metadata": {
        "id": "fPiDJwuYqnAb"
      },
      "source": [
        "## Prepare the consumable data\n",
        "X = df[col_used]\n",
        "Y = df[col_target].values.reshape(len(df))"
      ],
      "execution_count": 43,
      "outputs": []
    },
    {
      "cell_type": "code",
      "metadata": {
        "colab": {
          "base_uri": "https://localhost:8080/"
        },
        "id": "P3w7uxWRqm2L",
        "outputId": "2f0bcedd-a59a-43dc-fdb4-66aefa0be8cd"
      },
      "source": [
        "X.shape"
      ],
      "execution_count": 44,
      "outputs": [
        {
          "output_type": "execute_result",
          "data": {
            "text/plain": [
              "(918, 16)"
            ]
          },
          "metadata": {},
          "execution_count": 44
        }
      ]
    },
    {
      "cell_type": "code",
      "metadata": {
        "colab": {
          "base_uri": "https://localhost:8080/"
        },
        "id": "VY5oJYUft8aa",
        "outputId": "b15a5866-31b4-4f6c-e3a5-d11d7af52720"
      },
      "source": [
        "Y.shape"
      ],
      "execution_count": 45,
      "outputs": [
        {
          "output_type": "execute_result",
          "data": {
            "text/plain": [
              "(918,)"
            ]
          },
          "metadata": {},
          "execution_count": 45
        }
      ]
    },
    {
      "cell_type": "code",
      "metadata": {
        "id": "_V8tkRm1uXX4"
      },
      "source": [
        ""
      ],
      "execution_count": null,
      "outputs": []
    },
    {
      "cell_type": "markdown",
      "metadata": {
        "id": "P_hH5_RIuWzS"
      },
      "source": [
        "### Train-Test Splitting\n",
        "80:20 splitting"
      ]
    },
    {
      "cell_type": "code",
      "metadata": {
        "id": "So9ueKI0uWmu"
      },
      "source": [
        "X_train, X_test, y_train, y_test = train_test_split(X, Y, test_size=0.2, random_state=123)"
      ],
      "execution_count": 47,
      "outputs": []
    },
    {
      "cell_type": "code",
      "metadata": {
        "colab": {
          "base_uri": "https://localhost:8080/"
        },
        "id": "jKby3jA8vgff",
        "outputId": "634a080f-6cfa-444e-a21d-52f57a07d25f"
      },
      "source": [
        "X_train.shape"
      ],
      "execution_count": 48,
      "outputs": [
        {
          "output_type": "execute_result",
          "data": {
            "text/plain": [
              "(734, 16)"
            ]
          },
          "metadata": {},
          "execution_count": 48
        }
      ]
    },
    {
      "cell_type": "code",
      "metadata": {
        "colab": {
          "base_uri": "https://localhost:8080/"
        },
        "id": "kP0bS7uPvgaC",
        "outputId": "e2d4869c-4c97-4e80-9c65-aa7eab4ca90a"
      },
      "source": [
        "X_test.shape"
      ],
      "execution_count": 49,
      "outputs": [
        {
          "output_type": "execute_result",
          "data": {
            "text/plain": [
              "(184, 16)"
            ]
          },
          "metadata": {},
          "execution_count": 49
        }
      ]
    },
    {
      "cell_type": "code",
      "metadata": {
        "id": "NvrtLip1vgP6"
      },
      "source": [
        ""
      ],
      "execution_count": null,
      "outputs": []
    },
    {
      "cell_type": "markdown",
      "metadata": {
        "id": "FK29cPxLQXlA"
      },
      "source": [
        "##Model Training\n"
      ]
    },
    {
      "cell_type": "code",
      "metadata": {
        "id": "zA5P7lZ5QXKb"
      },
      "source": [
        "model_hf = RandomForestClassifier(n_estimators=10, max_depth=15, min_samples_split=3)"
      ],
      "execution_count": 51,
      "outputs": []
    },
    {
      "cell_type": "code",
      "metadata": {
        "colab": {
          "base_uri": "https://localhost:8080/"
        },
        "id": "iHXgsXILQXGs",
        "outputId": "2aa4425d-a544-4414-b687-fe90d3f53a6b"
      },
      "source": [
        "model_hf.fit(X_train,y_train)"
      ],
      "execution_count": 52,
      "outputs": [
        {
          "output_type": "execute_result",
          "data": {
            "text/plain": [
              "RandomForestClassifier(bootstrap=True, ccp_alpha=0.0, class_weight=None,\n",
              "                       criterion='gini', max_depth=15, max_features='auto',\n",
              "                       max_leaf_nodes=None, max_samples=None,\n",
              "                       min_impurity_decrease=0.0, min_impurity_split=None,\n",
              "                       min_samples_leaf=1, min_samples_split=3,\n",
              "                       min_weight_fraction_leaf=0.0, n_estimators=10,\n",
              "                       n_jobs=None, oob_score=False, random_state=None,\n",
              "                       verbose=0, warm_start=False)"
            ]
          },
          "metadata": {},
          "execution_count": 52
        }
      ]
    },
    {
      "cell_type": "code",
      "metadata": {
        "id": "HVaXnCAqX36t"
      },
      "source": [
        ""
      ],
      "execution_count": null,
      "outputs": []
    },
    {
      "cell_type": "markdown",
      "metadata": {
        "id": "6_he7O0hX2bs"
      },
      "source": [
        "## Model Validation\n",
        "### Basic Evaluation\n",
        "This is the basic evaluation for classification problem"
      ]
    },
    {
      "cell_type": "code",
      "metadata": {
        "id": "9MRiyr_zX2IN"
      },
      "source": [
        "def model_validation_metrics(confusion_matrix):\n",
        "  tn, fp, fn, tp = confusion_matrix.ravel()\n",
        "  return (tp + tn)/(tp+tn+fp+fn), tp/(tp+fp), tp/(tp+fn)\n",
        "\n",
        "def roc_curve_func(y_true, y_score):\n",
        "  # compute fpr, tpr, thresholds and roc_auc\n",
        "  fpr, tpr, thresholds = roc_curve(y_true, y_score)\n",
        "  roc_auc = roc_auc_score(y_true, y_score)\n",
        "\n",
        "  # plot ROC curve\n",
        "  plt.plot(fpr, tpr, label='ROC curve (area = %0.3f)' % roc_auc)\n",
        "  plt.plot([0, 1], [0, 1], 'k--')  #random prediction curve\n",
        "  plt.xlim([0.0, 1.0])\n",
        "  plt.ylim([0.0, 1.0])\n",
        "  plt.xlabel('False Positive Rate or (1 - specifity)')\n",
        "  plt.ylabel('True Positive Rate or (specifity')\n",
        "  plt.title('Receiver Operating Characteristic')\n",
        "  plt.legend(loc='lower right')"
      ],
      "execution_count": 53,
      "outputs": []
    },
    {
      "cell_type": "code",
      "metadata": {
        "colab": {
          "base_uri": "https://localhost:8080/"
        },
        "id": "v1vk5uVFXvNB",
        "outputId": "ec595f1f-273f-4d41-e769-4b446f104044"
      },
      "source": [
        "## Benchmark Accuracy of the good model\n",
        "max(1-df[col_target].mean().values[0], df[col_target].mean().values[0])"
      ],
      "execution_count": 54,
      "outputs": [
        {
          "output_type": "execute_result",
          "data": {
            "text/plain": [
              "0.5533769063180828"
            ]
          },
          "metadata": {},
          "execution_count": 54
        }
      ]
    },
    {
      "cell_type": "code",
      "metadata": {
        "id": "OCIlW__4cLAg"
      },
      "source": [
        "## Predict using the trained model and check the confusion matrix\n",
        "y_train_pred = model_hf.predict(X_train)\n",
        "y_train_pred_proba = model_hf.predict_proba(X_train)[:,1]\n",
        "\n",
        "cm_train = confusion_matrix(y_train, y_train_pred)"
      ],
      "execution_count": 55,
      "outputs": []
    },
    {
      "cell_type": "code",
      "metadata": {
        "colab": {
          "base_uri": "https://localhost:8080/",
          "height": 391
        },
        "id": "6mCBIn2idVKn",
        "outputId": "45ae211c-5151-4c6a-da3f-84a2477a461a"
      },
      "source": [
        "plt.figure(figsize=(6,6))\n",
        "sns.heatmap(cm_train, annot=True, fmt=',.0f', linewidths=3, annot_kws={'fontsize':16})"
      ],
      "execution_count": 56,
      "outputs": [
        {
          "output_type": "execute_result",
          "data": {
            "text/plain": [
              "<matplotlib.axes._subplots.AxesSubplot at 0x7fa0f3f73750>"
            ]
          },
          "metadata": {},
          "execution_count": 56
        },
        {
          "output_type": "display_data",
          "data": {
            "image/png": "[encoded data removed]",
            "text/plain": [
              "<Figure size 432x432 with 2 Axes>"
            ]
          },
          "metadata": {
            "needs_background": "light"
          }
        }
      ]
    },
    {
      "cell_type": "code",
      "metadata": {
        "colab": {
          "base_uri": "https://localhost:8080/"
        },
        "id": "Ng6Dy6wZd0Cj",
        "outputId": "a890bedc-f223-4057-899d-e058fd8cbb3a"
      },
      "source": [
        "accuracy, precision, recall = model_validation_metrics(cm_train)\n",
        "print(accuracy, precision, recall)"
      ],
      "execution_count": 57,
      "outputs": [
        {
          "output_type": "stream",
          "name": "stdout",
          "text": [
            "0.9741144414168937 0.9825 0.9703703703703703\n"
          ]
        }
      ]
    },
    {
      "cell_type": "code",
      "metadata": {
        "colab": {
          "base_uri": "https://localhost:8080/",
          "height": 295
        },
        "id": "k0_oazEHeH3H",
        "outputId": "b0246e2c-9ff1-4470-f1f9-486b8f51298a"
      },
      "source": [
        "roc_curve_func(y_train, y_train_pred_proba)"
      ],
      "execution_count": 58,
      "outputs": [
        {
          "output_type": "display_data",
          "data": {
            "image/png": "[encoded data removed]",
            "text/plain": [
              "<Figure size 432x288 with 1 Axes>"
            ]
          },
          "metadata": {
            "needs_background": "light"
          }
        }
      ]
    },
    {
      "cell_type": "code",
      "metadata": {
        "id": "YIxmmYDaeX5f"
      },
      "source": [
        ""
      ],
      "execution_count": null,
      "outputs": []
    },
    {
      "cell_type": "markdown",
      "metadata": {
        "id": "OEds1eXeei2V"
      },
      "source": [
        "## Cross Validation"
      ]
    },
    {
      "cell_type": "code",
      "metadata": {
        "id": "RCVC62qQeige"
      },
      "source": [
        "y_train_pred = model_hf.predict(X_train)\n",
        "y_test_pred = model_hf.predict(X_test)"
      ],
      "execution_count": 59,
      "outputs": []
    },
    {
      "cell_type": "code",
      "metadata": {
        "id": "1K78gpBjeib-"
      },
      "source": [
        "cm_train = confusion_matrix(y_train, y_train_pred)\n",
        "cm_test = confusion_matrix(y_test, y_test_pred)"
      ],
      "execution_count": 60,
      "outputs": []
    },
    {
      "cell_type": "code",
      "metadata": {
        "id": "TYy2TRK8eiVr"
      },
      "source": [
        "def basic_eval(tm,cm):\n",
        "  plt.figure(figsize=(6,6))\n",
        "  plt.title(tm+' Evaluation')\n",
        "  sns.heatmap(cm, annot=True, fmt=',.0f', linewidths=3, annot_kws={'fontsize':16})\n",
        "  accuracy,precision,recall = model_validation_metrics(cm)\n",
        "  print('accuracy :',accuracy)\n",
        "  print('precision :',precision)\n",
        "  print('recall :',recall)"
      ],
      "execution_count": 61,
      "outputs": []
    },
    {
      "cell_type": "code",
      "metadata": {
        "colab": {
          "base_uri": "https://localhost:8080/",
          "height": 441
        },
        "id": "eFqT1sJWgFTP",
        "outputId": "11904bc6-683b-4346-85c1-3ffb6fc91923"
      },
      "source": [
        "basic_eval('Train', cm_train)"
      ],
      "execution_count": 62,
      "outputs": [
        {
          "output_type": "stream",
          "name": "stdout",
          "text": [
            "accuracy : 0.9741144414168937\n",
            "precision : 0.9825\n",
            "recall : 0.9703703703703703\n"
          ]
        },
        {
          "output_type": "display_data",
          "data": {
            "image/png": "[encoded data removed]",
            "text/plain": [
              "<Figure size 432x432 with 2 Axes>"
            ]
          },
          "metadata": {
            "needs_background": "light"
          }
        }
      ]
    },
    {
      "cell_type": "code",
      "metadata": {
        "colab": {
          "base_uri": "https://localhost:8080/",
          "height": 441
        },
        "id": "pClMHNVCgNCI",
        "outputId": "f4051013-d5f2-47cd-a102-0e4d7d598561"
      },
      "source": [
        "basic_eval('Test', cm_test)"
      ],
      "execution_count": 63,
      "outputs": [
        {
          "output_type": "stream",
          "name": "stdout",
          "text": [
            "accuracy : 0.8532608695652174\n",
            "precision : 0.8518518518518519\n",
            "recall : 0.8932038834951457\n"
          ]
        },
        {
          "output_type": "display_data",
          "data": {
            "image/png": "[encoded data removed]",
            "text/plain": [
              "<Figure size 432x432 with 2 Axes>"
            ]
          },
          "metadata": {
            "needs_background": "light"
          }
        }
      ]
    },
    {
      "cell_type": "code",
      "metadata": {
        "id": "tYI4lOQmgTIw"
      },
      "source": [
        ""
      ],
      "execution_count": null,
      "outputs": []
    },
    {
      "cell_type": "markdown",
      "metadata": {
        "id": "qCcgUpWdguik"
      },
      "source": [
        "## Bias-variance trade-off"
      ]
    },
    {
      "cell_type": "code",
      "metadata": {
        "id": "YTDl3MUeguTb"
      },
      "source": [
        "## Check on hyperparameter changing\n",
        "hyper_param_list= [2,3,4,5,6,7,8,9,10,11,12,13]"
      ],
      "execution_count": 64,
      "outputs": []
    },
    {
      "cell_type": "code",
      "metadata": {
        "id": "KYLXHPr7guOG"
      },
      "source": [
        "df_trade_off = []\n",
        "for md in hyper_param_list:\n",
        "  model_hf_trade_off = RandomForestClassifier(n_estimators=10, max_depth=md, min_samples_split=3)\n",
        "\n",
        "  # model_base = RandomForestClassifier(n_estimators=10, max_depth=md, min_samples_split=3)\n",
        "  # model_hf_trade_off = AdaBoostClassifier(base_estimator=model_base ,n_estimators=15, learning_rate=0.2, random_state=321)\n",
        "\n",
        "  model_hf_trade_off.fit(X_train, y_train)\n",
        "  y_train_pred_temp = model_hf_trade_off.predict(X_train)\n",
        "  y_test_pred_temp = model_hf_trade_off.predict(X_test)\n",
        "  cm_train = confusion_matrix(y_train, y_train_pred_temp)\n",
        "  cm_test = confusion_matrix(y_test, y_test_pred_temp)\n",
        "  acc_train,p,r = model_validation_metrics(cm_train)\n",
        "  acc_test,p,r = model_validation_metrics(cm_test)\n",
        "  df_trade_off.append([acc_train, acc_test])\n",
        "df_trade_off = pd.DataFrame(df_trade_off,columns=['train_accuracy','test_accuracy'], index=hyper_param_list)"
      ],
      "execution_count": 66,
      "outputs": []
    },
    {
      "cell_type": "code",
      "metadata": {
        "colab": {
          "base_uri": "https://localhost:8080/",
          "height": 483
        },
        "id": "6bXXX2wBmbMO",
        "outputId": "adf91d80-98ca-4217-a2ef-6ed6cbf258af"
      },
      "source": [
        "df_trade_off.plot(figsize=(15,8))\n",
        "plt.show()"
      ],
      "execution_count": 67,
      "outputs": [
        {
          "output_type": "display_data",
          "data": {
            "image/png": "[encoded data removed]",
            "text/plain": [
              "<Figure size 1080x576 with 1 Axes>"
            ]
          },
          "metadata": {
            "needs_background": "light"
          }
        }
      ]
    },
    {
      "cell_type": "code",
      "metadata": {
        "id": "F-N6jIrembJs"
      },
      "source": [
        ""
      ],
      "execution_count": null,
      "outputs": []
    },
    {
      "cell_type": "markdown",
      "metadata": {
        "id": "bc_emKWqpKhu"
      },
      "source": [
        "## Model selection\n",
        "Grid Search"
      ]
    },
    {
      "cell_type": "code",
      "metadata": {
        "id": "i_N_CLBspKRu"
      },
      "source": [
        "parameters = {'n_estimators':[10,20,30,40], 'max_depth':[5,6,7,8,9,10], 'min_samples_split':[3,5,7,9,11], 'max_leaf_nodes':[8,12,16,20]}\n",
        "model_base = RandomForestClassifier(n_estimators=10, max_depth=md, min_samples_split=3,min_samples_leaf=2, max_leaf_nodes=4)\n",
        "clf_search1 = GridSearchCV(model_base, parameters, cv=5, verbose=1)"
      ],
      "execution_count": 68,
      "outputs": []
    },
    {
      "cell_type": "code",
      "metadata": {
        "colab": {
          "base_uri": "https://localhost:8080/"
        },
        "id": "E3CAtohBmbGl",
        "outputId": "322f7c34-ad08-4670-99f8-2d9f4f2d17e0"
      },
      "source": [
        "L0 = time.time()\n",
        "clf_search1.fit(X_train,y_train)\n",
        "print(time.time() - L0)"
      ],
      "execution_count": 71,
      "outputs": [
        {
          "output_type": "stream",
          "name": "stdout",
          "text": [
            "Fitting 5 folds for each of 480 candidates, totalling 2400 fits\n"
          ]
        },
        {
          "output_type": "stream",
          "name": "stderr",
          "text": [
            "[Parallel(n_jobs=1)]: Using backend SequentialBackend with 1 concurrent workers.\n"
          ]
        },
        {
          "output_type": "stream",
          "name": "stdout",
          "text": [
            "106.52611255645752\n"
          ]
        },
        {
          "output_type": "stream",
          "name": "stderr",
          "text": [
            "[Parallel(n_jobs=1)]: Done 2400 out of 2400 | elapsed:  1.8min finished\n"
          ]
        }
      ]
    },
    {
      "cell_type": "code",
      "metadata": {
        "colab": {
          "base_uri": "https://localhost:8080/"
        },
        "id": "XcBKo7sarh4q",
        "outputId": "1b7075b6-b322-43f4-b8e2-1f7b35d80485"
      },
      "source": [
        "# clf.cv_results_\n",
        "clf_search1.best_estimator_"
      ],
      "execution_count": 72,
      "outputs": [
        {
          "output_type": "execute_result",
          "data": {
            "text/plain": [
              "RandomForestClassifier(bootstrap=True, ccp_alpha=0.0, class_weight=None,\n",
              "                       criterion='gini', max_depth=5, max_features='auto',\n",
              "                       max_leaf_nodes=20, max_samples=None,\n",
              "                       min_impurity_decrease=0.0, min_impurity_split=None,\n",
              "                       min_samples_leaf=2, min_samples_split=11,\n",
              "                       min_weight_fraction_leaf=0.0, n_estimators=20,\n",
              "                       n_jobs=None, oob_score=False, random_state=None,\n",
              "                       verbose=0, warm_start=False)"
            ]
          },
          "metadata": {},
          "execution_count": 72
        }
      ]
    },
    {
      "cell_type": "code",
      "metadata": {
        "colab": {
          "base_uri": "https://localhost:8080/"
        },
        "id": "XSkuSLrru5Fs",
        "outputId": "2a4fe716-a07c-455f-8c16-d3513544d40e"
      },
      "source": [
        "clf_search1.best_score_"
      ],
      "execution_count": 73,
      "outputs": [
        {
          "output_type": "execute_result",
          "data": {
            "text/plain": [
              "0.8842139595564253"
            ]
          },
          "metadata": {},
          "execution_count": 73
        }
      ]
    },
    {
      "cell_type": "code",
      "metadata": {
        "id": "yGY3avp2vGBX"
      },
      "source": [
        ""
      ],
      "execution_count": null,
      "outputs": []
    },
    {
      "cell_type": "markdown",
      "metadata": {
        "id": "CZf-s_8ovOgg"
      },
      "source": [
        "Random search"
      ]
    },
    {
      "cell_type": "code",
      "metadata": {
        "id": "1QsY0KF1vexp"
      },
      "source": [
        "parameters = {'n_estimators':[10,20,30,40], 'max_depth':[5,6,7,8,9,10], 'min_samples_split':[3,5,7,9,11], 'max_leaf_nodes':[8,12,16,20]}\n",
        "model_base = RandomForestClassifier(n_estimators=10, max_depth=md, min_samples_split=3,min_samples_leaf=2, max_leaf_nodes=4)\n",
        "clf_search2 = RandomizedSearchCV(model_base, param_distributions=parameters, n_iter=60, cv=5, verbose=1)"
      ],
      "execution_count": 74,
      "outputs": []
    },
    {
      "cell_type": "code",
      "metadata": {
        "colab": {
          "base_uri": "https://localhost:8080/"
        },
        "id": "wzUZajZjvexr",
        "outputId": "175975df-de62-43d0-c4b3-ce2214a8414e"
      },
      "source": [
        "L0 = time.time()\n",
        "clf_search2.fit(X_train,y_train)\n",
        "print(time.time() - L0)"
      ],
      "execution_count": 75,
      "outputs": [
        {
          "output_type": "stream",
          "name": "stdout",
          "text": [
            "Fitting 5 folds for each of 60 candidates, totalling 300 fits\n"
          ]
        },
        {
          "output_type": "stream",
          "name": "stderr",
          "text": [
            "[Parallel(n_jobs=1)]: Using backend SequentialBackend with 1 concurrent workers.\n"
          ]
        },
        {
          "output_type": "stream",
          "name": "stdout",
          "text": [
            "11.992514371871948\n"
          ]
        },
        {
          "output_type": "stream",
          "name": "stderr",
          "text": [
            "[Parallel(n_jobs=1)]: Done 300 out of 300 | elapsed:   11.9s finished\n"
          ]
        }
      ]
    },
    {
      "cell_type": "code",
      "metadata": {
        "colab": {
          "base_uri": "https://localhost:8080/"
        },
        "id": "ZYRdRJRGvext",
        "outputId": "da2c2695-ceb0-4f13-990b-e7765009f42f"
      },
      "source": [
        "# clf.cv_results_\n",
        "clf_search2.best_estimator_"
      ],
      "execution_count": 76,
      "outputs": [
        {
          "output_type": "execute_result",
          "data": {
            "text/plain": [
              "RandomForestClassifier(bootstrap=True, ccp_alpha=0.0, class_weight=None,\n",
              "                       criterion='gini', max_depth=7, max_features='auto',\n",
              "                       max_leaf_nodes=16, max_samples=None,\n",
              "                       min_impurity_decrease=0.0, min_impurity_split=None,\n",
              "                       min_samples_leaf=2, min_samples_split=11,\n",
              "                       min_weight_fraction_leaf=0.0, n_estimators=30,\n",
              "                       n_jobs=None, oob_score=False, random_state=None,\n",
              "                       verbose=0, warm_start=False)"
            ]
          },
          "metadata": {},
          "execution_count": 76
        }
      ]
    },
    {
      "cell_type": "code",
      "metadata": {
        "colab": {
          "base_uri": "https://localhost:8080/"
        },
        "id": "uSqY03Krvexu",
        "outputId": "7d0cbd2f-cb66-419b-97d7-b99312454b34"
      },
      "source": [
        "clf_search2.best_score_"
      ],
      "execution_count": 77,
      "outputs": [
        {
          "output_type": "execute_result",
          "data": {
            "text/plain": [
              "0.8842139595564253"
            ]
          },
          "metadata": {},
          "execution_count": 77
        }
      ]
    },
    {
      "cell_type": "code",
      "metadata": {
        "id": "ityBcIjOvOK6"
      },
      "source": [
        ""
      ],
      "execution_count": null,
      "outputs": []
    },
    {
      "cell_type": "markdown",
      "metadata": {
        "id": "HWnpaPw2wJUq"
      },
      "source": [
        "## Select the model"
      ]
    },
    {
      "cell_type": "code",
      "metadata": {
        "id": "JwuQqNiOvODu"
      },
      "source": [
        "model_hf = RandomForestClassifier(bootstrap=True, ccp_alpha=0.0, class_weight=None,\n",
        "                       criterion='gini', max_depth=5, max_features='auto',\n",
        "                       max_leaf_nodes=20, max_samples=None,\n",
        "                       min_impurity_decrease=0.0, min_impurity_split=None,\n",
        "                       min_samples_leaf=2, min_samples_split=11,\n",
        "                       min_weight_fraction_leaf=0.0, n_estimators=20,\n",
        "                       n_jobs=None, oob_score=False, random_state=None,\n",
        "                       verbose=0, warm_start=False)"
      ],
      "execution_count": 78,
      "outputs": []
    },
    {
      "cell_type": "code",
      "metadata": {
        "colab": {
          "base_uri": "https://localhost:8080/"
        },
        "id": "Lw3mJz47vOAm",
        "outputId": "460d4d3f-93c3-41c5-cc21-ba54e1092ca0"
      },
      "source": [
        "model_hf.fit(X_train,y_train)"
      ],
      "execution_count": 79,
      "outputs": [
        {
          "output_type": "execute_result",
          "data": {
            "text/plain": [
              "RandomForestClassifier(bootstrap=True, ccp_alpha=0.0, class_weight=None,\n",
              "                       criterion='gini', max_depth=5, max_features='auto',\n",
              "                       max_leaf_nodes=20, max_samples=None,\n",
              "                       min_impurity_decrease=0.0, min_impurity_split=None,\n",
              "                       min_samples_leaf=2, min_samples_split=11,\n",
              "                       min_weight_fraction_leaf=0.0, n_estimators=20,\n",
              "                       n_jobs=None, oob_score=False, random_state=None,\n",
              "                       verbose=0, warm_start=False)"
            ]
          },
          "metadata": {},
          "execution_count": 79
        }
      ]
    },
    {
      "cell_type": "code",
      "metadata": {
        "id": "YEIwlUmQvN9J"
      },
      "source": [
        "y_train_pred = model_hf.predict(X_train)\n",
        "y_test_pred = model_hf.predict(X_test)\n",
        "\n",
        "cm_train = confusion_matrix(y_train, y_train_pred)\n",
        "cm_test = confusion_matrix(y_test, y_test_pred)"
      ],
      "execution_count": 80,
      "outputs": []
    },
    {
      "cell_type": "code",
      "metadata": {
        "colab": {
          "base_uri": "https://localhost:8080/",
          "height": 441
        },
        "id": "mZ3AjQQXxSr_",
        "outputId": "68cd0d33-98f6-48e9-b812-413a90e66ee4"
      },
      "source": [
        "basic_eval('Train', cm_train)"
      ],
      "execution_count": 81,
      "outputs": [
        {
          "output_type": "stream",
          "name": "stdout",
          "text": [
            "accuracy : 0.8950953678474114\n",
            "precision : 0.8813953488372093\n",
            "recall : 0.9358024691358025\n"
          ]
        },
        {
          "output_type": "display_data",
          "data": {
            "image/png": "[encoded data removed]",
            "text/plain": [
              "<Figure size 432x432 with 2 Axes>"
            ]
          },
          "metadata": {
            "needs_background": "light"
          }
        }
      ]
    },
    {
      "cell_type": "code",
      "metadata": {
        "colab": {
          "base_uri": "https://localhost:8080/",
          "height": 441
        },
        "id": "f0tc3nRaxa-G",
        "outputId": "87c1a8fa-5004-4f7a-e545-dd5cd7e252eb"
      },
      "source": [
        "basic_eval('Test', cm_test)"
      ],
      "execution_count": 82,
      "outputs": [
        {
          "output_type": "stream",
          "name": "stdout",
          "text": [
            "accuracy : 0.8532608695652174\n",
            "precision : 0.8333333333333334\n",
            "recall : 0.9223300970873787\n"
          ]
        },
        {
          "output_type": "display_data",
          "data": {
            "image/png": "[encoded data removed]",
            "text/plain": [
              "<Figure size 432x432 with 2 Axes>"
            ]
          },
          "metadata": {
            "needs_background": "light"
          }
        }
      ]
    },
    {
      "cell_type": "code",
      "metadata": {
        "colab": {
          "base_uri": "https://localhost:8080/"
        },
        "id": "cAyKg5IJxgQf",
        "outputId": "92bd1a0c-6bd3-4ec9-eb41-79e025d38ca0"
      },
      "source": [
        "model_hf"
      ],
      "execution_count": 83,
      "outputs": [
        {
          "output_type": "execute_result",
          "data": {
            "text/plain": [
              "RandomForestClassifier(bootstrap=True, ccp_alpha=0.0, class_weight=None,\n",
              "                       criterion='gini', max_depth=5, max_features='auto',\n",
              "                       max_leaf_nodes=20, max_samples=None,\n",
              "                       min_impurity_decrease=0.0, min_impurity_split=None,\n",
              "                       min_samples_leaf=2, min_samples_split=11,\n",
              "                       min_weight_fraction_leaf=0.0, n_estimators=20,\n",
              "                       n_jobs=None, oob_score=False, random_state=None,\n",
              "                       verbose=0, warm_start=False)"
            ]
          },
          "metadata": {},
          "execution_count": 83
        }
      ]
    },
    {
      "cell_type": "code",
      "metadata": {
        "id": "UbZU2-T7x051"
      },
      "source": [
        ""
      ],
      "execution_count": null,
      "outputs": []
    },
    {
      "cell_type": "markdown",
      "metadata": {
        "id": "7sZe0vRCx2fk"
      },
      "source": [
        "## Best Features"
      ]
    },
    {
      "cell_type": "code",
      "metadata": {
        "colab": {
          "base_uri": "https://localhost:8080/"
        },
        "id": "r_qNQy_Bx19T",
        "outputId": "e98964fe-72ad-455e-fc72-9f7961d4f883"
      },
      "source": [
        "col_used"
      ],
      "execution_count": 84,
      "outputs": [
        {
          "output_type": "execute_result",
          "data": {
            "text/plain": [
              "['Age_SS',\n",
              " 'ChestPainType_ASY',\n",
              " 'ChestPainType_ATA',\n",
              " 'ChestPainType_NAP',\n",
              " 'Cholesterol_SS',\n",
              " 'ExerciseAngina_N',\n",
              " 'ExerciseAngina_Y',\n",
              " 'FastingBS_0',\n",
              " 'FastingBS_1',\n",
              " 'MaxHR_SS',\n",
              " 'Oldpeak_SS',\n",
              " 'ST_Slope_Down',\n",
              " 'ST_Slope_Flat',\n",
              " 'ST_Slope_Up',\n",
              " 'Sex_F',\n",
              " 'Sex_M']"
            ]
          },
          "metadata": {},
          "execution_count": 84
        }
      ]
    },
    {
      "cell_type": "code",
      "metadata": {
        "colab": {
          "base_uri": "https://localhost:8080/"
        },
        "id": "KEUYLTMrx17R",
        "outputId": "a581a17b-1287-44a4-d2c4-e1d3d5da5c3b"
      },
      "source": [
        "\n",
        "model_hf.feature_importances_"
      ],
      "execution_count": 85,
      "outputs": [
        {
          "output_type": "execute_result",
          "data": {
            "text/plain": [
              "array([0.034375  , 0.12072173, 0.01878678, 0.00686828, 0.05836448,\n",
              "       0.05073022, 0.0494848 , 0.01817228, 0.01476113, 0.04878354,\n",
              "       0.05662494, 0.00590169, 0.07900267, 0.37185316, 0.05026042,\n",
              "       0.01530889])"
            ]
          },
          "metadata": {},
          "execution_count": 85
        }
      ]
    },
    {
      "cell_type": "code",
      "metadata": {
        "id": "1ROYhMaMx14s"
      },
      "source": [
        "df_imp = pd.DataFrame({'cols':col_used, 'importance':model_hf.feature_importances_})\n",
        "df_imp = df_imp.set_index('cols')"
      ],
      "execution_count": 86,
      "outputs": []
    },
    {
      "cell_type": "code",
      "metadata": {
        "colab": {
          "base_uri": "https://localhost:8080/",
          "height": 282
        },
        "id": "Ds_V_IwWx10b",
        "outputId": "9fa12594-ad12-4a04-f796-2353e3d6215c"
      },
      "source": [
        "df_imp.sort_values('importance').plot(kind='barh')"
      ],
      "execution_count": 87,
      "outputs": [
        {
          "output_type": "execute_result",
          "data": {
            "text/plain": [
              "<matplotlib.axes._subplots.AxesSubplot at 0x7fa0eb0a4690>"
            ]
          },
          "metadata": {},
          "execution_count": 87
        },
        {
          "output_type": "display_data",
          "data": {
            "image/png": "[encoded data removed]",
            "text/plain": [
              "<Figure size 432x288 with 1 Axes>"
            ]
          },
          "metadata": {
            "needs_background": "light"
          }
        }
      ]
    },
    {
      "cell_type": "code",
      "metadata": {
        "id": "ftTzlBI9y2iE"
      },
      "source": [
        ""
      ],
      "execution_count": null,
      "outputs": []
    },
    {
      "cell_type": "markdown",
      "metadata": {
        "id": "sv73VB0nzH2K"
      },
      "source": [
        "## Save and Load model\n"
      ]
    },
    {
      "cell_type": "code",
      "metadata": {
        "colab": {
          "base_uri": "https://localhost:8080/"
        },
        "id": "TS1BGwQOzHm8",
        "outputId": "cc7a688a-759e-40d5-d4a0-ef3017c785c8"
      },
      "source": [
        "joblib.dump(model_hf, path + 'hf_v1.pkl')"
      ],
      "execution_count": 88,
      "outputs": [
        {
          "output_type": "execute_result",
          "data": {
            "text/plain": [
              "['gdrive/MyDrive/DATA/Heart Failure/hf_v1.pkl']"
            ]
          },
          "metadata": {},
          "execution_count": 88
        }
      ]
    },
    {
      "cell_type": "code",
      "metadata": {
        "id": "lrx0kq4CzHkC"
      },
      "source": [
        "model_hf_load = joblib.load(path + 'hf_v1.pkl')\n",
        "model_standard_scaler = joblib.load(path + 'standardS_hfv1.pkl')"
      ],
      "execution_count": 89,
      "outputs": []
    },
    {
      "cell_type": "code",
      "metadata": {
        "colab": {
          "base_uri": "https://localhost:8080/"
        },
        "id": "buJTsvvRzHa1",
        "outputId": "c5c880bd-4894-4940-b753-243913dc4959"
      },
      "source": [
        "unit_data = X_test.sample()\n",
        "model_hf_load.predict(unit_data)"
      ],
      "execution_count": 94,
      "outputs": [
        {
          "output_type": "execute_result",
          "data": {
            "text/plain": [
              "array([0])"
            ]
          },
          "metadata": {},
          "execution_count": 94
        }
      ]
    },
    {
      "cell_type": "code",
      "metadata": {
        "colab": {
          "base_uri": "https://localhost:8080/",
          "height": 100
        },
        "id": "tjAH_woF3fdF",
        "outputId": "2bdddf32-a9c6-4987-d289-64e709f3c1df"
      },
      "source": [
        "unit_data"
      ],
      "execution_count": 95,
      "outputs": [
        {
          "output_type": "execute_result",
          "data": {
            "text/html": [
              "<div>\n",
              "<style scoped>\n",
              "    .dataframe tbody tr th:only-of-type {\n",
              "        vertical-align: middle;\n",
              "    }\n",
              "\n",
              "    .dataframe tbody tr th {\n",
              "        vertical-align: top;\n",
              "    }\n",
              "\n",
              "    .dataframe thead th {\n",
              "        text-align: right;\n",
              "    }\n",
              "</style>\n",
              "<table border=\"1\" class=\"dataframe\">\n",
              "  <thead>\n",
              "    <tr style=\"text-align: right;\">\n",
              "      <th></th>\n",
              "      <th>Age_SS</th>\n",
              "      <th>ChestPainType_ASY</th>\n",
              "      <th>ChestPainType_ATA</th>\n",
              "      <th>ChestPainType_NAP</th>\n",
              "      <th>Cholesterol_SS</th>\n",
              "      <th>ExerciseAngina_N</th>\n",
              "      <th>ExerciseAngina_Y</th>\n",
              "      <th>FastingBS_0</th>\n",
              "      <th>FastingBS_1</th>\n",
              "      <th>MaxHR_SS</th>\n",
              "      <th>Oldpeak_SS</th>\n",
              "      <th>ST_Slope_Down</th>\n",
              "      <th>ST_Slope_Flat</th>\n",
              "      <th>ST_Slope_Up</th>\n",
              "      <th>Sex_F</th>\n",
              "      <th>Sex_M</th>\n",
              "    </tr>\n",
              "  </thead>\n",
              "  <tbody>\n",
              "    <tr>\n",
              "      <th>170</th>\n",
              "      <td>-2.599942</td>\n",
              "      <td>0.0</td>\n",
              "      <td>1.0</td>\n",
              "      <td>0.0</td>\n",
              "      <td>0.404305</td>\n",
              "      <td>1.0</td>\n",
              "      <td>0.0</td>\n",
              "      <td>1.0</td>\n",
              "      <td>0.0</td>\n",
              "      <td>0.91135</td>\n",
              "      <td>-0.832432</td>\n",
              "      <td>0.0</td>\n",
              "      <td>0.0</td>\n",
              "      <td>1.0</td>\n",
              "      <td>0.0</td>\n",
              "      <td>1.0</td>\n",
              "    </tr>\n",
              "  </tbody>\n",
              "</table>\n",
              "</div>"
            ],
            "text/plain": [
              "       Age_SS  ChestPainType_ASY  ChestPainType_ATA  ...  ST_Slope_Up  Sex_F  Sex_M\n",
              "170 -2.599942                0.0                1.0  ...          1.0    0.0    1.0\n",
              "\n",
              "[1 rows x 16 columns]"
            ]
          },
          "metadata": {},
          "execution_count": 95
        }
      ]
    },
    {
      "cell_type": "code",
      "metadata": {
        "id": "30pjDU2w4gP9"
      },
      "source": [
        ""
      ],
      "execution_count": null,
      "outputs": []
    }
  ]
}
