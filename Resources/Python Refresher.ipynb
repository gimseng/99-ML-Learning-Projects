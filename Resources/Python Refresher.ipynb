{
 "cells": [
  {
   "cell_type": "markdown",
   "metadata": {},
   "source": [
    "# Python Refresher"
   ]
  },
  {
   "cell_type": "markdown",
   "metadata": {},
   "source": [
    "Python is an interpreted, high level and general purpose programming language that supports multiple paradigms including object oriented programming and functional programming"
   ]
  },
  {
   "cell_type": "markdown",
   "metadata": {},
   "source": [
    "## Data Types\n",
    "\n",
    "Python is made of the following data types:-\n",
    "\n",
    "1. Integer (1, -3, 7272)\n",
    "2. Float (3.14159265, 4.123123)\n",
    "3. Strings (\"Hello World\", 'Goodbye')\n",
    "4. Boolean (True, False)\n",
    "5. List [1, 2, 3, 4, 5]\n",
    "6. Tuple (1, 2, 3,)\n",
    "7. Dictionary {'a': 1, 'b': 2, 'c': 3}"
   ]
  },
  {
   "cell_type": "code",
   "execution_count": 1,
   "metadata": {},
   "outputs": [
    {
     "name": "stdout",
     "output_type": "stream",
     "text": [
      "<class 'int'>\n",
      "<class 'float'>\n",
      "<class 'str'>\n",
      "<class 'bool'>\n",
      "<class 'list'>\n",
      "<class 'tuple'>\n",
      "<class 'dict'>\n"
     ]
    }
   ],
   "source": [
    "# Examples\n",
    "print(type(-3))\n",
    "print(type(1.7))\n",
    "print(type('hello'))\n",
    "print(type(False))\n",
    "print(type([1, 2, 3, 4, 5]))\n",
    "print(type((1, 2, 3,)))\n",
    "print(type({\"a\": 1, \"b\": 2, \"c\": 3}))"
   ]
  },
  {
   "cell_type": "markdown",
   "metadata": {},
   "source": [
    "## Variables\n",
    "\n",
    "Variables are buckets in which you can store data. To declare a variable, simply write its name, followed by an assignment operator and then the value to be stored in that variable. A variable name has to start with an alphabet or `'_'`. A variable should not conatin any special character in its name."
   ]
  },
  {
   "cell_type": "code",
   "execution_count": 2,
   "metadata": {},
   "outputs": [],
   "source": [
    "# Examples of valid variable declaration\n",
    "\n",
    "some_number = 100\n",
    "_a_string = 'heyy there!'"
   ]
  },
  {
   "cell_type": "markdown",
   "metadata": {},
   "source": [
    "## Operators\n",
    "\n",
    "Operators are tools using which you can perform operations on your data. Following are the operators available in python:- \n",
    "\n",
    "Arithemetic Operators:-\n",
    "\n",
    "1. `+` - Addition Operator\n",
    "2. `-` - Subtraction Operator\n",
    "3. `*` - Multiplication Operator\n",
    "4. `/` - Division Operator\n",
    "5. `//` - Floor Division\n",
    "6. `**` - Exponentiation\n",
    "\n",
    "Relational Operators:-\n",
    "\n",
    "1. `==` - Equality Operator\n",
    "2. `<` - Less Than Operator\n",
    "3. `>` - Greater Than Operator\n",
    "4. `>=` - Greater Than or equal to\n",
    "5. `<=` - Less Than or equal to\n",
    "6. `!=` - Not equal to\n",
    "\n",
    "Logical Operators:-\n",
    "\n",
    "- `and` Operator\n",
    "- `or` Operator\n",
    "- `not` Operator"
   ]
  },
  {
   "cell_type": "code",
   "execution_count": 3,
   "metadata": {},
   "outputs": [
    {
     "name": "stdout",
     "output_type": "stream",
     "text": [
      "3\n",
      "1\n",
      "8\n",
      "5.0\n",
      "3\n",
      "8\n",
      "False\n",
      "True\n",
      "True\n",
      "True\n",
      "True\n",
      "True\n",
      "True\n",
      "True\n",
      "True\n",
      "False\n"
     ]
    }
   ],
   "source": [
    "# Examples\n",
    "print(1 + 2)\n",
    "print(2 - 1)\n",
    "print(2 * 4)\n",
    "print(10 / 2)\n",
    "print(10 // 3)\n",
    "print(2 ** 3)\n",
    "print(2 == 3)\n",
    "print(2 < 3)\n",
    "print(3 <= 5)\n",
    "print(5 > 3)\n",
    "print(21 >= 10)\n",
    "print(2 < 3)\n",
    "print(5 != 4)\n",
    "print(2 < 3 and 2 < 5)\n",
    "print(2 < 3 or 2 > 5)\n",
    "print(not True)"
   ]
  },
  {
   "cell_type": "markdown",
   "metadata": {},
   "source": [
    "## Conditional Statements\n",
    "\n",
    "These are statements that are executed if a certain condition is true. The keywords used in these statements are `if`, `elif` and `else`."
   ]
  },
  {
   "cell_type": "code",
   "execution_count": 4,
   "metadata": {},
   "outputs": [
    {
     "name": "stdout",
     "output_type": "stream",
     "text": [
      "c is largest \n"
     ]
    }
   ],
   "source": [
    "a, b, c = 10, 20, 30\n",
    "\n",
    "if(a > b and a>c):\n",
    "    print('a is largest')\n",
    "elif(b > a and b > c):\n",
    "    print('b is largest')\n",
    "else:\n",
    "    print('c is largest ')"
   ]
  },
  {
   "cell_type": "markdown",
   "metadata": {},
   "source": [
    "## Loop Statement\n",
    "\n",
    "These statements are used to execute a statement multiple times.\n",
    "There are 2 types of loops in python:- \n",
    "\n",
    "`for` loop:-\n",
    "\n",
    "It can be used to iterate over any iterable object like list or tuple.\n",
    "\n",
    "`while` loop:-\n",
    "\n",
    "It can be used to keep executing a block of code until the condition remains true."
   ]
  },
  {
   "cell_type": "code",
   "execution_count": 5,
   "metadata": {},
   "outputs": [
    {
     "name": "stdout",
     "output_type": "stream",
     "text": [
      "for loop\n",
      "0\n",
      "1\n",
      "2\n",
      "3\n",
      "4\n",
      "5\n",
      "6\n",
      "7\n",
      "8\n",
      "9\n",
      "\n",
      "while loop\n",
      "5\n",
      "4\n",
      "3\n",
      "2\n",
      "1\n",
      "0\n"
     ]
    }
   ],
   "source": [
    "# for loop example\n",
    "print('for loop')\n",
    "for i in range(10):\n",
    "    print(i)\n",
    "\n",
    "# while loop example\n",
    "print('\\nwhile loop')\n",
    "x = 5\n",
    "while(x >= 0):\n",
    "    print(x)\n",
    "    x = x-1"
   ]
  },
  {
   "cell_type": "markdown",
   "metadata": {},
   "source": [
    "## Strings\n",
    "\n",
    "String is a data type that represents a collection of characters. It can be created by wrapping any character in single quotes or double quotes"
   ]
  },
  {
   "cell_type": "code",
   "execution_count": 6,
   "metadata": {},
   "outputs": [],
   "source": [
    "string = 'Heyy There'"
   ]
  },
  {
   "cell_type": "markdown",
   "metadata": {},
   "source": [
    "You can perform various operations on string using + and * operator"
   ]
  },
  {
   "cell_type": "code",
   "execution_count": 7,
   "metadata": {},
   "outputs": [
    {
     "name": "stdout",
     "output_type": "stream",
     "text": [
      "Hello World\n",
      "Hello Hello Hello \n"
     ]
    }
   ],
   "source": [
    "# Concatenation\n",
    "print('Hello' + ' ' + 'World')\n",
    "\n",
    "# Multiply Sequence\n",
    "print('Hello ' * 3)"
   ]
  },
  {
   "cell_type": "markdown",
   "metadata": {},
   "source": [
    "SInce string is an object, it has various method built into it. Some of the most commonly used string methods are:-\n"
   ]
  },
  {
   "cell_type": "code",
   "execution_count": 8,
   "metadata": {},
   "outputs": [
    {
     "name": "stdout",
     "output_type": "stream",
     "text": [
      "HELLO\n",
      "hello\n",
      "['My name is Bond', ' James Bond']\n",
      "11\n",
      "My name is Bond. James Bond\n"
     ]
    }
   ],
   "source": [
    "a = 'hello'\n",
    "b = 'My name is Bond. James Bond'\n",
    "c = ' My name is Bond. James Bond    '\n",
    "print(a.upper()) # Uppercase\n",
    "print(a.lower()) # Lowercase\n",
    "print(b.split('.')) # Splits the strings\n",
    "print(b.index('B')) # Return the index of the character passed.\n",
    "print(c.strip()) # remove the whitespaces from begining or end of the string"
   ]
  },
  {
   "cell_type": "markdown",
   "metadata": {},
   "source": [
    "## Lists\n",
    "\n",
    "List is a data structure in which we can store multiple data."
   ]
  },
  {
   "cell_type": "code",
   "execution_count": 9,
   "metadata": {},
   "outputs": [
    {
     "name": "stdout",
     "output_type": "stream",
     "text": [
      "[1, 'Hello', 3.14, 100, 'There', 7.63]\n",
      "[1, 'Hello', 3.14, 1, 'Hello', 3.14, 1, 'Hello', 3.14]\n"
     ]
    }
   ],
   "source": [
    "# Creating a list\n",
    "a = [1, 'Hello', 3.14]\n",
    "b = [100, 'There', 7.63]\n",
    "\n",
    "# Concat lists\n",
    "print(a + b)\n",
    "\n",
    "# Multiply sequence\n",
    "print(a * 3)"
   ]
  },
  {
   "cell_type": "markdown",
   "metadata": {},
   "source": [
    "Just like strings, lists also have various build in methods in it:-"
   ]
  },
  {
   "cell_type": "code",
   "execution_count": 10,
   "metadata": {},
   "outputs": [
    {
     "name": "stdout",
     "output_type": "stream",
     "text": [
      "[1, 'Yo', 3.1212, 2]\n",
      "2\n",
      "[1, 'Wassup', 'Yo', 3.1212]\n",
      "2\n",
      "[1, 'Wassup', 'Yo']\n"
     ]
    }
   ],
   "source": [
    "a = [1, 'Yo', 3.1212]\n",
    "\n",
    "a.append(2) # Adds an element to the end of the list\n",
    "print(a)  \n",
    "print(a.pop()) # Removes the element at the end of the list. removes 2 in this case\n",
    "a.insert(1, 'Wassup') # inserts an element at a given index\n",
    "print(a)\n",
    "print(a.index('Yo')) # returns the index of element passed\n",
    "a.remove(3.1212) # Remove first occurrence of value.\n",
    "print(a)"
   ]
  },
  {
   "cell_type": "markdown",
   "metadata": {},
   "source": [
    "## Dictionary\n",
    "\n",
    "Dictionary is one of the most important data structures in python. It stores data in the form of key-value pairs."
   ]
  },
  {
   "cell_type": "code",
   "execution_count": 11,
   "metadata": {},
   "outputs": [],
   "source": [
    "d = {\"name\": \"Tony Stark\", \"alter-ego\": \"Iron Man\"}"
   ]
  },
  {
   "cell_type": "markdown",
   "metadata": {},
   "source": [
    "You can get the value from the dictionary using its key as follows"
   ]
  },
  {
   "cell_type": "code",
   "execution_count": 12,
   "metadata": {},
   "outputs": [
    {
     "name": "stdout",
     "output_type": "stream",
     "text": [
      "Tony Stark\n",
      "Iron Man\n"
     ]
    }
   ],
   "source": [
    "print(d[\"name\"])\n",
    "print(d[\"alter-ego\"])"
   ]
  },
  {
   "cell_type": "markdown",
   "metadata": {},
   "source": [
    "## Functions\n",
    "\n",
    "A function is a block of code which runs when it is called. You can create a function as follows:-"
   ]
  },
  {
   "cell_type": "code",
   "execution_count": 13,
   "metadata": {},
   "outputs": [
    {
     "name": "stdout",
     "output_type": "stream",
     "text": [
      "30\n"
     ]
    }
   ],
   "source": [
    "def add(a, b):\n",
    "    return a + b\n",
    "\n",
    "# Executing the function\n",
    "print(add(10, 20))"
   ]
  },
  {
   "cell_type": "markdown",
   "metadata": {},
   "source": [
    "You can pass arguments to the functions. The data you want to return from the function should be preceded by the keyword `return`. You can return multiple items from a function. It will be returned as a tuple"
   ]
  },
  {
   "cell_type": "markdown",
   "metadata": {},
   "source": [
    "## Objects and Classes\n",
    "\n",
    "An object is a real world entity that has some state and some behaviour. State refers to the properties of that object and behaivours are the methods available to the object.\n",
    "\n",
    "A class is the blueprint of an object. You can define a class as follows"
   ]
  },
  {
   "cell_type": "code",
   "execution_count": 14,
   "metadata": {},
   "outputs": [],
   "source": [
    "class Car:\n",
    "    def __init__(self):\n",
    "        pass\n",
    "    \n",
    "    def drive(self):\n",
    "        print('Driving')\n",
    "    def stop(self):\n",
    "        print('Stopped')"
   ]
  },
  {
   "cell_type": "markdown",
   "metadata": {},
   "source": [
    "You can inherit the properties of a class into another class as follows"
   ]
  },
  {
   "cell_type": "code",
   "execution_count": 15,
   "metadata": {},
   "outputs": [],
   "source": [
    "class Buggati(Car):\n",
    "    def __init__(self):\n",
    "        self.name = 'Buggati Veyron'\n",
    "    \n",
    "    def show_name(self):\n",
    "        print(self.name)"
   ]
  },
  {
   "cell_type": "markdown",
   "metadata": {},
   "source": [
    "An object can be created as follows:-"
   ]
  },
  {
   "cell_type": "code",
   "execution_count": 16,
   "metadata": {},
   "outputs": [],
   "source": [
    "car = Buggati()"
   ]
  },
  {
   "cell_type": "markdown",
   "metadata": {},
   "source": [
    "When the object is created, it's `__init__` is called. The object can be used to invoke methods."
   ]
  },
  {
   "cell_type": "code",
   "execution_count": 17,
   "metadata": {},
   "outputs": [
    {
     "name": "stdout",
     "output_type": "stream",
     "text": [
      "Buggati Veyron\n",
      "Driving\n",
      "Stopped\n"
     ]
    }
   ],
   "source": [
    "car.show_name()\n",
    "car.drive()\n",
    "car.stop()"
   ]
  }
 ],
 "metadata": {
  "kernelspec": {
   "display_name": "Python 3",
   "language": "python",
   "name": "python3"
  },
  "language_info": {
   "codemirror_mode": {
    "name": "ipython",
    "version": 3
   },
   "file_extension": ".py",
   "mimetype": "text/x-python",
   "name": "python",
   "nbconvert_exporter": "python",
   "pygments_lexer": "ipython3",
   "version": "3.8.3"
  }
 },
 "nbformat": 4,
 "nbformat_minor": 4
}
