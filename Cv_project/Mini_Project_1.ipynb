{
  "nbformat": 4,
  "nbformat_minor": 0,
  "metadata": {
    "colab": {
      "name": "Mini Project 1.ipynb",
      "provenance": [],
      "collapsed_sections": []
    },
    "kernelspec": {
      "name": "python3",
      "display_name": "Python 3"
    }
  },
  "cells": [
    {
      "cell_type": "markdown",
      "metadata": {
        "id": "CN6Ag64GDCyW"
      },
      "source": [
        "# ***Live Sketching Using Webcam***"
      ]
    },
    {
      "cell_type": "markdown",
      "metadata": {
        "id": "cjFumMLKnwkX"
      },
      "source": [
        "### Importing Libraries"
      ]
    },
    {
      "cell_type": "code",
      "metadata": {
        "id": "_9dvKXq5nk5Q"
      },
      "source": [
        "import cv2\n",
        "import numpy as np"
      ],
      "execution_count": null,
      "outputs": []
    },
    {
      "cell_type": "markdown",
      "metadata": {
        "id": "Av-rvzBKn16b"
      },
      "source": [
        "### Our Text Generating Function"
      ]
    },
    {
      "cell_type": "code",
      "metadata": {
        "id": "sElaMVsynlus"
      },
      "source": [
        "def sketch(image):\n",
        "\n",
        "  #convert image to grayscale\n",
        "  img_gray = cv2.cvtColor(image, cv2.COLOR_BGR2GRAY)\n",
        "\n",
        "  #clean up image using Gaussian Blur. To smoothen and remove noise\n",
        "  img_gray_blur = cv2.GaussianBlur(img_gray, (5,5), 0)\n",
        "\n",
        "  #Extracting Edges using canny edge detection technique. 10 and 70 are threshold values and can be chanegd around. Feel free to play with them\n",
        "  canny_edges = cv2.Canny(img_gray_blur, 10, 70)\n",
        "\n",
        "  #Invert Binarize the image. canny gives black background with white edges so we use inverse to have white background and black edges.\n",
        "  ret, mask = cv2.threshold(canny_edges, 70, 255, cv2.THRESH_BINARY_INV)\n",
        "  return mask"
      ],
      "execution_count": null,
      "outputs": []
    },
    {
      "cell_type": "markdown",
      "metadata": {
        "id": "wjlnOGTpn8ol"
      },
      "source": [
        "### Initiates Webcam, cap is the object provided by VideoCapture.\n",
        "### It contains a boolean indicating if it was successful\n",
        "### It also contains the images collected from the Webcam(frame)\n"
      ]
    },
    {
      "cell_type": "code",
      "metadata": {
        "id": "LsXD0bp9nn2E"
      },
      "source": [
        "cap = cv2.VideoCapture(0)"
      ],
      "execution_count": null,
      "outputs": []
    },
    {
      "cell_type": "code",
      "metadata": {
        "id": "55OtL6J5nprU"
      },
      "source": [
        "while True: #Running a loop to continuously pull images/frames from the webcam\n",
        "  ret, frame = cap.read()  #Pulls Image from the Webcam. ret is a boolean to know whether this command ran successfully\n",
        "  cv2.imshow('Our Live Sketcher', sketch(frame)) #frame is passed to imshow\n",
        "  if cv2.waitKey(1) == 13: #13 is enter key. loops only breaks when we press enter key\n",
        "    break\n",
        "\n",
        "#Release Camera and Close Window\n",
        "cap.release() #If we don't use this. opencv hangs\n",
        "cv2.destroyAllWindows()"
      ],
      "execution_count": null,
      "outputs": []
    }
  ]
}