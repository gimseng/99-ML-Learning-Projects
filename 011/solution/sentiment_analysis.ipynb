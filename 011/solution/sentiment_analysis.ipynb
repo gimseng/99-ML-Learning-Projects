{
 "cells": [
  {
   "cell_type": "code",
   "execution_count": 1,
   "metadata": {},
   "outputs": [],
   "source": [
    "#important libraries for data manipulation\n",
    "import pandas as pd\n",
    "import numpy as np"
   ]
  },
  {
   "cell_type": "code",
   "execution_count": 2,
   "metadata": {},
   "outputs": [],
   "source": [
    "#actual path of data where your csv file has been saved\n",
    "train_df = pd.read_csv(\"/home/adarsh/Hactoberfest/99-ML-Learning-Projects/011/data/twitter_training.csv\" , header=None)\n",
    "test_df = pd.read_csv(\"/home/adarsh/Hactoberfest/99-ML-Learning-Projects/011/data/twitter_validation.csv\" , header=None)"
   ]
  },
  {
   "cell_type": "code",
   "execution_count": 3,
   "metadata": {},
   "outputs": [
    {
     "data": {
      "text/html": [
       "<div>\n",
       "<style scoped>\n",
       "    .dataframe tbody tr th:only-of-type {\n",
       "        vertical-align: middle;\n",
       "    }\n",
       "\n",
       "    .dataframe tbody tr th {\n",
       "        vertical-align: top;\n",
       "    }\n",
       "\n",
       "    .dataframe thead th {\n",
       "        text-align: right;\n",
       "    }\n",
       "</style>\n",
       "<table border=\"1\" class=\"dataframe\">\n",
       "  <thead>\n",
       "    <tr style=\"text-align: right;\">\n",
       "      <th></th>\n",
       "      <th>0</th>\n",
       "      <th>1</th>\n",
       "      <th>2</th>\n",
       "      <th>3</th>\n",
       "    </tr>\n",
       "  </thead>\n",
       "  <tbody>\n",
       "    <tr>\n",
       "      <th>0</th>\n",
       "      <td>2401</td>\n",
       "      <td>Borderlands</td>\n",
       "      <td>Positive</td>\n",
       "      <td>im getting on borderlands and i will murder yo...</td>\n",
       "    </tr>\n",
       "    <tr>\n",
       "      <th>1</th>\n",
       "      <td>2401</td>\n",
       "      <td>Borderlands</td>\n",
       "      <td>Positive</td>\n",
       "      <td>I am coming to the borders and I will kill you...</td>\n",
       "    </tr>\n",
       "    <tr>\n",
       "      <th>2</th>\n",
       "      <td>2401</td>\n",
       "      <td>Borderlands</td>\n",
       "      <td>Positive</td>\n",
       "      <td>im getting on borderlands and i will kill you ...</td>\n",
       "    </tr>\n",
       "    <tr>\n",
       "      <th>3</th>\n",
       "      <td>2401</td>\n",
       "      <td>Borderlands</td>\n",
       "      <td>Positive</td>\n",
       "      <td>im coming on borderlands and i will murder you...</td>\n",
       "    </tr>\n",
       "    <tr>\n",
       "      <th>4</th>\n",
       "      <td>2401</td>\n",
       "      <td>Borderlands</td>\n",
       "      <td>Positive</td>\n",
       "      <td>im getting on borderlands 2 and i will murder ...</td>\n",
       "    </tr>\n",
       "  </tbody>\n",
       "</table>\n",
       "</div>"
      ],
      "text/plain": [
       "      0            1         2  \\\n",
       "0  2401  Borderlands  Positive   \n",
       "1  2401  Borderlands  Positive   \n",
       "2  2401  Borderlands  Positive   \n",
       "3  2401  Borderlands  Positive   \n",
       "4  2401  Borderlands  Positive   \n",
       "\n",
       "                                                   3  \n",
       "0  im getting on borderlands and i will murder yo...  \n",
       "1  I am coming to the borders and I will kill you...  \n",
       "2  im getting on borderlands and i will kill you ...  \n",
       "3  im coming on borderlands and i will murder you...  \n",
       "4  im getting on borderlands 2 and i will murder ...  "
      ]
     },
     "execution_count": 3,
     "metadata": {},
     "output_type": "execute_result"
    }
   ],
   "source": [
    "train_df.head()"
   ]
  },
  {
   "cell_type": "code",
   "execution_count": 4,
   "metadata": {},
   "outputs": [
    {
     "data": {
      "text/html": [
       "<div>\n",
       "<style scoped>\n",
       "    .dataframe tbody tr th:only-of-type {\n",
       "        vertical-align: middle;\n",
       "    }\n",
       "\n",
       "    .dataframe tbody tr th {\n",
       "        vertical-align: top;\n",
       "    }\n",
       "\n",
       "    .dataframe thead th {\n",
       "        text-align: right;\n",
       "    }\n",
       "</style>\n",
       "<table border=\"1\" class=\"dataframe\">\n",
       "  <thead>\n",
       "    <tr style=\"text-align: right;\">\n",
       "      <th></th>\n",
       "      <th>0</th>\n",
       "      <th>1</th>\n",
       "      <th>2</th>\n",
       "      <th>3</th>\n",
       "    </tr>\n",
       "  </thead>\n",
       "  <tbody>\n",
       "    <tr>\n",
       "      <th>0</th>\n",
       "      <td>3364</td>\n",
       "      <td>Facebook</td>\n",
       "      <td>Irrelevant</td>\n",
       "      <td>I mentioned on Facebook that I was struggling ...</td>\n",
       "    </tr>\n",
       "    <tr>\n",
       "      <th>1</th>\n",
       "      <td>352</td>\n",
       "      <td>Amazon</td>\n",
       "      <td>Neutral</td>\n",
       "      <td>BBC News - Amazon boss Jeff Bezos rejects clai...</td>\n",
       "    </tr>\n",
       "    <tr>\n",
       "      <th>2</th>\n",
       "      <td>8312</td>\n",
       "      <td>Microsoft</td>\n",
       "      <td>Negative</td>\n",
       "      <td>@Microsoft Why do I pay for WORD when it funct...</td>\n",
       "    </tr>\n",
       "    <tr>\n",
       "      <th>3</th>\n",
       "      <td>4371</td>\n",
       "      <td>CS-GO</td>\n",
       "      <td>Negative</td>\n",
       "      <td>CSGO matchmaking is so full of closet hacking,...</td>\n",
       "    </tr>\n",
       "    <tr>\n",
       "      <th>4</th>\n",
       "      <td>4433</td>\n",
       "      <td>Google</td>\n",
       "      <td>Neutral</td>\n",
       "      <td>Now the President is slapping Americans in the...</td>\n",
       "    </tr>\n",
       "  </tbody>\n",
       "</table>\n",
       "</div>"
      ],
      "text/plain": [
       "      0          1           2  \\\n",
       "0  3364   Facebook  Irrelevant   \n",
       "1   352     Amazon     Neutral   \n",
       "2  8312  Microsoft    Negative   \n",
       "3  4371      CS-GO    Negative   \n",
       "4  4433     Google     Neutral   \n",
       "\n",
       "                                                   3  \n",
       "0  I mentioned on Facebook that I was struggling ...  \n",
       "1  BBC News - Amazon boss Jeff Bezos rejects clai...  \n",
       "2  @Microsoft Why do I pay for WORD when it funct...  \n",
       "3  CSGO matchmaking is so full of closet hacking,...  \n",
       "4  Now the President is slapping Americans in the...  "
      ]
     },
     "execution_count": 4,
     "metadata": {},
     "output_type": "execute_result"
    }
   ],
   "source": [
    "test_df.head()"
   ]
  },
  {
   "cell_type": "code",
   "execution_count": 5,
   "metadata": {},
   "outputs": [
    {
     "data": {
      "text/plain": [
       "(74682, 4)"
      ]
     },
     "execution_count": 5,
     "metadata": {},
     "output_type": "execute_result"
    }
   ],
   "source": [
    "train_df.shape"
   ]
  },
  {
   "cell_type": "code",
   "execution_count": 6,
   "metadata": {},
   "outputs": [
    {
     "data": {
      "text/plain": [
       "(1000, 4)"
      ]
     },
     "execution_count": 6,
     "metadata": {},
     "output_type": "execute_result"
    }
   ],
   "source": [
    "test_df.shape"
   ]
  },
  {
   "cell_type": "code",
   "execution_count": 7,
   "metadata": {},
   "outputs": [],
   "source": [
    "train_df.columns = [\"id\" , \"company\" , \"result\" , \"sentiment\"]\n",
    "test_df.columns = [\"id\" , \"company\" , \"result\" , \"sentiment\"]"
   ]
  },
  {
   "cell_type": "code",
   "execution_count": 8,
   "metadata": {},
   "outputs": [
    {
     "data": {
      "text/html": [
       "<div>\n",
       "<style scoped>\n",
       "    .dataframe tbody tr th:only-of-type {\n",
       "        vertical-align: middle;\n",
       "    }\n",
       "\n",
       "    .dataframe tbody tr th {\n",
       "        vertical-align: top;\n",
       "    }\n",
       "\n",
       "    .dataframe thead th {\n",
       "        text-align: right;\n",
       "    }\n",
       "</style>\n",
       "<table border=\"1\" class=\"dataframe\">\n",
       "  <thead>\n",
       "    <tr style=\"text-align: right;\">\n",
       "      <th></th>\n",
       "      <th>id</th>\n",
       "      <th>company</th>\n",
       "      <th>result</th>\n",
       "      <th>sentiment</th>\n",
       "    </tr>\n",
       "  </thead>\n",
       "  <tbody>\n",
       "    <tr>\n",
       "      <th>50952</th>\n",
       "      <td>6346</td>\n",
       "      <td>FIFA</td>\n",
       "      <td>Positive</td>\n",
       "      <td>One of the best things I’ve done this fifa @Ca...</td>\n",
       "    </tr>\n",
       "  </tbody>\n",
       "</table>\n",
       "</div>"
      ],
      "text/plain": [
       "         id company    result  \\\n",
       "50952  6346    FIFA  Positive   \n",
       "\n",
       "                                               sentiment  \n",
       "50952  One of the best things I’ve done this fifa @Ca...  "
      ]
     },
     "execution_count": 8,
     "metadata": {},
     "output_type": "execute_result"
    }
   ],
   "source": [
    "train_df.sample(1)"
   ]
  },
  {
   "cell_type": "code",
   "execution_count": 9,
   "metadata": {},
   "outputs": [],
   "source": [
    "train_df = train_df[[\"sentiment\" , \"result\"]]\n",
    "test_df = test_df[[\"sentiment\" , \"result\"]]"
   ]
  },
  {
   "cell_type": "code",
   "execution_count": 10,
   "metadata": {},
   "outputs": [
    {
     "data": {
      "text/html": [
       "<div>\n",
       "<style scoped>\n",
       "    .dataframe tbody tr th:only-of-type {\n",
       "        vertical-align: middle;\n",
       "    }\n",
       "\n",
       "    .dataframe tbody tr th {\n",
       "        vertical-align: top;\n",
       "    }\n",
       "\n",
       "    .dataframe thead th {\n",
       "        text-align: right;\n",
       "    }\n",
       "</style>\n",
       "<table border=\"1\" class=\"dataframe\">\n",
       "  <thead>\n",
       "    <tr style=\"text-align: right;\">\n",
       "      <th></th>\n",
       "      <th>sentiment</th>\n",
       "      <th>result</th>\n",
       "    </tr>\n",
       "  </thead>\n",
       "  <tbody>\n",
       "    <tr>\n",
       "      <th>43919</th>\n",
       "      <td>Phew just made it.. The season was coming clos...</td>\n",
       "      <td>Neutral</td>\n",
       "    </tr>\n",
       "  </tbody>\n",
       "</table>\n",
       "</div>"
      ],
      "text/plain": [
       "                                               sentiment   result\n",
       "43919  Phew just made it.. The season was coming clos...  Neutral"
      ]
     },
     "execution_count": 10,
     "metadata": {},
     "output_type": "execute_result"
    }
   ],
   "source": [
    "train_df.sample(1)"
   ]
  },
  {
   "cell_type": "code",
   "execution_count": 11,
   "metadata": {},
   "outputs": [
    {
     "data": {
      "text/plain": [
       "array(['Positive', 'Neutral', 'Negative', 'Irrelevant'], dtype=object)"
      ]
     },
     "execution_count": 11,
     "metadata": {},
     "output_type": "execute_result"
    }
   ],
   "source": [
    "train_df.result.unique()"
   ]
  },
  {
   "cell_type": "code",
   "execution_count": 12,
   "metadata": {},
   "outputs": [],
   "source": [
    "replacable_dict = {\n",
    "    'Positive' : 1,\n",
    "    'Neutral' : 0,\n",
    "    'Negative' : 2,\n",
    "    'Irrelevant' : 3\n",
    "}\n",
    "\n",
    "train_df[\"result\"] = train_df[\"result\"].replace(replacable_dict)\n",
    "test_df[\"result\"] = test_df[\"result\"].replace(replacable_dict)"
   ]
  },
  {
   "cell_type": "code",
   "execution_count": 13,
   "metadata": {},
   "outputs": [
    {
     "data": {
      "text/plain": [
       "(                                           sentiment  result\n",
       " 0  im getting on borderlands and i will murder yo...       1\n",
       " 1  I am coming to the borders and I will kill you...       1\n",
       " 2  im getting on borderlands and i will kill you ...       1\n",
       " 3  im coming on borderlands and i will murder you...       1\n",
       " 4  im getting on borderlands 2 and i will murder ...       1,\n",
       "                                            sentiment  result\n",
       " 0  I mentioned on Facebook that I was struggling ...       3\n",
       " 1  BBC News - Amazon boss Jeff Bezos rejects clai...       0\n",
       " 2  @Microsoft Why do I pay for WORD when it funct...       2\n",
       " 3  CSGO matchmaking is so full of closet hacking,...       2\n",
       " 4  Now the President is slapping Americans in the...       0)"
      ]
     },
     "execution_count": 13,
     "metadata": {},
     "output_type": "execute_result"
    }
   ],
   "source": [
    "train_df.head() , test_df.head()"
   ]
  },
  {
   "cell_type": "code",
   "execution_count": 14,
   "metadata": {},
   "outputs": [
    {
     "data": {
      "text/plain": [
       "array([1, 0, 2, 3])"
      ]
     },
     "execution_count": 14,
     "metadata": {},
     "output_type": "execute_result"
    }
   ],
   "source": [
    "train_df.result.unique()"
   ]
  },
  {
   "cell_type": "code",
   "execution_count": 15,
   "metadata": {},
   "outputs": [
    {
     "data": {
      "text/plain": [
       "sentiment    686\n",
       "result         0\n",
       "dtype: int64"
      ]
     },
     "execution_count": 15,
     "metadata": {},
     "output_type": "execute_result"
    }
   ],
   "source": [
    "train_df.isnull().sum()"
   ]
  },
  {
   "cell_type": "code",
   "execution_count": 16,
   "metadata": {},
   "outputs": [],
   "source": [
    "train_df= train_df.dropna()"
   ]
  },
  {
   "cell_type": "code",
   "execution_count": 17,
   "metadata": {},
   "outputs": [
    {
     "data": {
      "text/plain": [
       "sentiment    0\n",
       "result       0\n",
       "dtype: int64"
      ]
     },
     "execution_count": 17,
     "metadata": {},
     "output_type": "execute_result"
    }
   ],
   "source": [
    "train_df.isnull().sum()"
   ]
  },
  {
   "cell_type": "code",
   "execution_count": 18,
   "metadata": {},
   "outputs": [],
   "source": [
    "X_train = train_df[\"sentiment\"][0:50000]\n",
    "y_train = train_df[\"result\"][0:50000]\n",
    "\n",
    "X_test = test_df[\"sentiment\"]\n",
    "y_test = test_df[\"result\"]"
   ]
  },
  {
   "cell_type": "code",
   "execution_count": 19,
   "metadata": {},
   "outputs": [
    {
     "data": {
      "text/plain": [
       "'im getting on borderlands and i will murder you all ,'"
      ]
     },
     "execution_count": 19,
     "metadata": {},
     "output_type": "execute_result"
    }
   ],
   "source": [
    "X_train[0]"
   ]
  },
  {
   "cell_type": "code",
   "execution_count": 20,
   "metadata": {},
   "outputs": [
    {
     "data": {
      "text/plain": [
       "array([[0, 0, 0, ..., 0, 0, 0],\n",
       "       [0, 0, 0, ..., 0, 0, 0]])"
      ]
     },
     "execution_count": 20,
     "metadata": {},
     "output_type": "execute_result"
    }
   ],
   "source": [
    "from sklearn.feature_extraction.text import CountVectorizer\n",
    "\n",
    "v = CountVectorizer()\n",
    "X_train_count = v.fit_transform(X_train.values)\n",
    "X_train_count.toarray()[:2]"
   ]
  },
  {
   "cell_type": "code",
   "execution_count": 21,
   "metadata": {},
   "outputs": [
    {
     "data": {
      "text/html": [
       "<style>#sk-container-id-1 {color: black;}#sk-container-id-1 pre{padding: 0;}#sk-container-id-1 div.sk-toggleable {background-color: white;}#sk-container-id-1 label.sk-toggleable__label {cursor: pointer;display: block;width: 100%;margin-bottom: 0;padding: 0.3em;box-sizing: border-box;text-align: center;}#sk-container-id-1 label.sk-toggleable__label-arrow:before {content: \"▸\";float: left;margin-right: 0.25em;color: #696969;}#sk-container-id-1 label.sk-toggleable__label-arrow:hover:before {color: black;}#sk-container-id-1 div.sk-estimator:hover label.sk-toggleable__label-arrow:before {color: black;}#sk-container-id-1 div.sk-toggleable__content {max-height: 0;max-width: 0;overflow: hidden;text-align: left;background-color: #f0f8ff;}#sk-container-id-1 div.sk-toggleable__content pre {margin: 0.2em;color: black;border-radius: 0.25em;background-color: #f0f8ff;}#sk-container-id-1 input.sk-toggleable__control:checked~div.sk-toggleable__content {max-height: 200px;max-width: 100%;overflow: auto;}#sk-container-id-1 input.sk-toggleable__control:checked~label.sk-toggleable__label-arrow:before {content: \"▾\";}#sk-container-id-1 div.sk-estimator input.sk-toggleable__control:checked~label.sk-toggleable__label {background-color: #d4ebff;}#sk-container-id-1 div.sk-label input.sk-toggleable__control:checked~label.sk-toggleable__label {background-color: #d4ebff;}#sk-container-id-1 input.sk-hidden--visually {border: 0;clip: rect(1px 1px 1px 1px);clip: rect(1px, 1px, 1px, 1px);height: 1px;margin: -1px;overflow: hidden;padding: 0;position: absolute;width: 1px;}#sk-container-id-1 div.sk-estimator {font-family: monospace;background-color: #f0f8ff;border: 1px dotted black;border-radius: 0.25em;box-sizing: border-box;margin-bottom: 0.5em;}#sk-container-id-1 div.sk-estimator:hover {background-color: #d4ebff;}#sk-container-id-1 div.sk-parallel-item::after {content: \"\";width: 100%;border-bottom: 1px solid gray;flex-grow: 1;}#sk-container-id-1 div.sk-label:hover label.sk-toggleable__label {background-color: #d4ebff;}#sk-container-id-1 div.sk-serial::before {content: \"\";position: absolute;border-left: 1px solid gray;box-sizing: border-box;top: 0;bottom: 0;left: 50%;z-index: 0;}#sk-container-id-1 div.sk-serial {display: flex;flex-direction: column;align-items: center;background-color: white;padding-right: 0.2em;padding-left: 0.2em;position: relative;}#sk-container-id-1 div.sk-item {position: relative;z-index: 1;}#sk-container-id-1 div.sk-parallel {display: flex;align-items: stretch;justify-content: center;background-color: white;position: relative;}#sk-container-id-1 div.sk-item::before, #sk-container-id-1 div.sk-parallel-item::before {content: \"\";position: absolute;border-left: 1px solid gray;box-sizing: border-box;top: 0;bottom: 0;left: 50%;z-index: -1;}#sk-container-id-1 div.sk-parallel-item {display: flex;flex-direction: column;z-index: 1;position: relative;background-color: white;}#sk-container-id-1 div.sk-parallel-item:first-child::after {align-self: flex-end;width: 50%;}#sk-container-id-1 div.sk-parallel-item:last-child::after {align-self: flex-start;width: 50%;}#sk-container-id-1 div.sk-parallel-item:only-child::after {width: 0;}#sk-container-id-1 div.sk-dashed-wrapped {border: 1px dashed gray;margin: 0 0.4em 0.5em 0.4em;box-sizing: border-box;padding-bottom: 0.4em;background-color: white;}#sk-container-id-1 div.sk-label label {font-family: monospace;font-weight: bold;display: inline-block;line-height: 1.2em;}#sk-container-id-1 div.sk-label-container {text-align: center;}#sk-container-id-1 div.sk-container {/* jupyter's `normalize.less` sets `[hidden] { display: none; }` but bootstrap.min.css set `[hidden] { display: none !important; }` so we also need the `!important` here to be able to override the default hidden behavior on the sphinx rendered scikit-learn.org. See: https://github.com/scikit-learn/scikit-learn/issues/21755 */display: inline-block !important;position: relative;}#sk-container-id-1 div.sk-text-repr-fallback {display: none;}</style><div id=\"sk-container-id-1\" class=\"sk-top-container\"><div class=\"sk-text-repr-fallback\"><pre>MultinomialNB()</pre><b>In a Jupyter environment, please rerun this cell to show the HTML representation or trust the notebook. <br />On GitHub, the HTML representation is unable to render, please try loading this page with nbviewer.org.</b></div><div class=\"sk-container\" hidden><div class=\"sk-item\"><div class=\"sk-estimator sk-toggleable\"><input class=\"sk-toggleable__control sk-hidden--visually\" id=\"sk-estimator-id-1\" type=\"checkbox\" checked><label for=\"sk-estimator-id-1\" class=\"sk-toggleable__label sk-toggleable__label-arrow\">MultinomialNB</label><div class=\"sk-toggleable__content\"><pre>MultinomialNB()</pre></div></div></div></div></div>"
      ],
      "text/plain": [
       "MultinomialNB()"
      ]
     },
     "execution_count": 21,
     "metadata": {},
     "output_type": "execute_result"
    }
   ],
   "source": [
    "from sklearn.naive_bayes import MultinomialNB\n",
    "model = MultinomialNB()\n",
    "model.fit(X_train_count , y_train)"
   ]
  },
  {
   "cell_type": "code",
   "execution_count": 22,
   "metadata": {},
   "outputs": [
    {
     "data": {
      "text/plain": [
       "('I mentioned on Facebook that I was struggling for motivation to go for a run the other day, which has been translated by Tom’s great auntie as ‘Hayley can’t get out of bed’ and told to his grandma, who now thinks I’m a lazy, terrible person 🤣',\n",
       " 'The professional dota 2 scene is fucking exploding and I completely welcome it.\\n\\nGet the garbage out.')"
      ]
     },
     "execution_count": 22,
     "metadata": {},
     "output_type": "execute_result"
    }
   ],
   "source": [
    "X_test[0] , X_test[10]"
   ]
  },
  {
   "cell_type": "code",
   "execution_count": 23,
   "metadata": {},
   "outputs": [
    {
     "data": {
      "text/plain": [
       "array([3, 1])"
      ]
     },
     "execution_count": 23,
     "metadata": {},
     "output_type": "execute_result"
    }
   ],
   "source": [
    "sentiments = [\n",
    "    'I mentioned on Facebook that I was struggling for motivation to go for a run the other day, which has been translated by Tom’s great auntie as ‘Hayley can’t get out of bed’ and told to his grandma, who now thinks I’m a lazy, terrible person 🤣',\n",
    "    'The professional dota 2 scene is fucking exploding and I completely welcome it.\\n\\nGet the garbage out.'\n",
    "]\n",
    "\n",
    "sentiments_count = v.transform(sentiments)\n",
    "model.predict(sentiments_count)\n"
   ]
  },
  {
   "cell_type": "code",
   "execution_count": 24,
   "metadata": {},
   "outputs": [
    {
     "data": {
      "text/plain": [
       "(3, 1)"
      ]
     },
     "execution_count": 24,
     "metadata": {},
     "output_type": "execute_result"
    }
   ],
   "source": [
    "y_test[0] , y_test[10]"
   ]
  },
  {
   "cell_type": "code",
   "execution_count": 25,
   "metadata": {},
   "outputs": [],
   "source": [
    "sentiments_count = v.transform(X_test)\n",
    "predictions = model.predict(sentiments_count)"
   ]
  },
  {
   "cell_type": "code",
   "execution_count": 26,
   "metadata": {},
   "outputs": [
    {
     "data": {
      "text/plain": [
       "array([3, 0, 2, 2, 0, 2, 1, 1, 1, 2, 1, 1, 2, 0, 2, 1, 1, 2, 1, 2, 1, 0,\n",
       "       1, 2, 0, 3, 2, 2, 3, 2, 1, 1, 2, 1, 2, 1, 1, 1, 1, 2, 2, 0, 2, 0,\n",
       "       1, 2, 2, 3, 1, 2, 1, 2, 2, 2, 3, 1, 1, 1, 2, 2, 2, 1, 1, 3, 2, 0,\n",
       "       2, 1, 1, 2, 1, 1, 2, 1, 1, 3, 1, 3, 2, 0, 0, 1, 1, 0, 1, 0, 2, 3,\n",
       "       1, 1, 0, 0, 1, 3, 3, 2, 2, 2, 0, 0, 2, 2, 1, 1, 0, 1, 2, 1, 2, 1,\n",
       "       0, 1, 2, 0, 2, 1, 3, 1, 1, 0, 2, 2, 1, 2, 3, 2, 2, 0, 2, 0, 3, 1,\n",
       "       0, 1, 1, 3, 0, 0, 0, 3, 2, 0, 0, 3, 1, 0, 1, 0, 1, 3, 2, 2, 3, 0,\n",
       "       1, 3, 0, 2, 2, 1, 2, 0, 2, 3, 2, 3, 1, 2, 2, 2, 1, 1, 1, 3, 1, 1,\n",
       "       3, 0, 1, 0, 1, 2, 2, 2, 1, 2, 2, 3, 3, 0, 1, 1, 0, 3, 0, 2, 2, 2,\n",
       "       2, 1, 0, 1, 2, 1, 1, 1, 1, 1, 1, 1, 0, 3, 2, 2, 1, 3, 0, 1, 1, 2,\n",
       "       1, 2, 1, 1, 2, 3, 3, 0, 1, 1, 1, 3, 0, 3, 0, 2, 2, 0, 1, 2, 3, 3,\n",
       "       1, 1, 3, 3, 0, 1, 0, 2, 1, 1, 0, 1, 0, 0, 0, 1, 0, 1, 0, 2, 0, 2,\n",
       "       2, 1, 1, 3, 2, 3, 0, 1, 0, 1, 2, 0, 2, 1, 1, 2, 2, 2, 1, 2, 2, 1,\n",
       "       0, 0, 2, 1, 2, 1, 3, 1, 0, 0, 1, 2, 0, 2, 3, 1, 2, 1, 3, 1, 2, 0,\n",
       "       1, 1, 2, 2, 1, 2, 1, 0, 0, 1, 3, 0, 3, 3, 2, 0, 0, 3, 0, 0, 1, 1,\n",
       "       1, 2, 2, 3, 1, 0, 3, 1, 0, 0, 3, 3, 2, 2, 1, 3, 1, 2, 0, 2, 1, 3,\n",
       "       0, 2, 2, 2, 1, 0, 0, 3, 2, 1, 1, 2, 0, 0, 1, 0, 0, 1, 1, 2, 2, 1,\n",
       "       1, 0, 2, 3, 2, 1, 1, 3, 1, 2, 2, 2, 2, 3, 1, 1, 1, 1, 2, 2, 2, 3,\n",
       "       2, 1, 1, 1, 2, 2, 3, 2, 2, 0, 1, 1, 0, 0, 3, 1, 2, 1, 1, 0, 2, 1,\n",
       "       2, 2, 2, 2, 1, 2, 0, 0, 3, 1, 1, 2, 2, 0, 2, 2, 0, 2, 3, 1, 2, 3,\n",
       "       1, 1, 1, 1, 0, 0, 1, 0, 0, 2, 2, 1, 1, 1, 2, 0, 2, 2, 3, 3, 0, 2,\n",
       "       0, 0, 1, 0, 2, 1, 1, 1, 3, 1, 3, 2, 0, 2, 0, 1, 1, 2, 2, 1, 1, 1,\n",
       "       1, 2, 3, 0, 2, 1, 0, 0, 1, 1, 3, 1, 3, 1, 3, 3, 2, 2, 2, 2, 0, 0,\n",
       "       2, 2, 1, 1, 2, 0, 1, 2, 1, 0, 2, 2, 2, 0, 1, 1, 1, 2, 2, 0, 1, 1,\n",
       "       3, 2, 2, 1, 2, 3, 2, 1, 1, 0, 1, 2, 0, 0, 1, 2, 2, 1, 1, 3, 1, 2,\n",
       "       3, 3, 0, 1, 2, 2, 0, 2, 2, 0, 1, 2, 1, 2, 1, 2, 1, 0, 2, 2, 2, 1,\n",
       "       1, 3, 2, 0, 2, 0, 0, 1, 1, 1, 0, 2, 0, 1, 2, 1, 3, 2, 1, 0, 0, 3,\n",
       "       2, 2, 3, 0, 3, 2, 0, 0, 2, 0, 0, 0, 0, 3, 0, 1, 3, 0, 1, 0, 1, 2,\n",
       "       1, 1, 0, 2, 1, 0, 3, 3, 0, 2, 1, 2, 1, 1, 3, 2, 2, 3, 0, 3, 3, 1,\n",
       "       3, 2, 1, 0, 2, 0, 3, 0, 0, 1, 1, 1, 1, 3, 3, 2, 3, 3, 0, 1, 2, 3,\n",
       "       1, 2, 1, 3, 3, 1, 0, 1, 2, 2, 0, 1, 2, 1, 2, 0, 1, 1, 0, 2, 0, 3,\n",
       "       1, 0, 2, 0, 0, 2, 1, 2, 1, 2, 2, 1, 1, 3, 1, 0, 2, 2, 0, 1, 3, 1,\n",
       "       2, 1, 2, 0, 1, 0, 0, 2, 2, 2, 0, 1, 0, 2, 3, 1, 1, 1, 0, 1, 1, 2,\n",
       "       2, 2, 1, 0, 1, 2, 1, 0, 1, 2, 1, 1, 0, 2, 0, 2, 2, 2, 2, 2, 3, 1,\n",
       "       1, 1, 1, 0, 1, 2, 1, 2, 2, 0, 2, 0, 1, 0, 1, 0, 1, 2, 0, 1, 2, 1,\n",
       "       0, 1, 2, 2, 2, 3, 1, 3, 1, 3, 0, 1, 1, 1, 2, 2, 0, 2, 1, 0, 0, 3,\n",
       "       2, 1, 2, 2, 2, 1, 2, 1, 2, 1, 0, 0, 2, 1, 1, 2, 1, 3, 0, 2, 1, 1,\n",
       "       2, 3, 3, 1, 0, 2, 0, 1, 3, 2, 2, 2, 1, 2, 2, 0, 2, 0, 0, 3, 1, 1,\n",
       "       2, 0, 1, 2, 2, 2, 2, 2, 2, 2, 3, 3, 2, 2, 1, 1, 1, 1, 1, 2, 0, 0,\n",
       "       3, 3, 2, 0, 1, 0, 0, 2, 1, 2, 1, 2, 0, 1, 3, 0, 2, 3, 3, 3, 1, 1,\n",
       "       3, 1, 1, 0, 2, 2, 0, 1, 0, 0, 0, 0, 1, 2, 1, 2, 2, 1, 2, 0, 2, 0,\n",
       "       0, 1, 1, 1, 2, 1, 0, 0, 3, 1, 2, 0, 0, 3, 1, 0, 1, 3, 0, 2, 0, 2,\n",
       "       1, 2, 2, 0, 0, 0, 2, 0, 1, 3, 0, 2, 2, 1, 1, 2, 3, 2, 2, 0, 2, 1,\n",
       "       3, 0, 3, 0, 0, 3, 1, 0, 1, 1, 1, 2, 1, 1, 0, 3, 2, 1, 0, 1, 0, 1,\n",
       "       1, 1, 2, 2, 1, 1, 1, 0, 1, 0, 3, 2, 1, 1, 2, 2, 2, 1, 1, 0, 0, 1,\n",
       "       1, 0, 1, 2, 1, 0, 3, 1, 1, 0])"
      ]
     },
     "execution_count": 26,
     "metadata": {},
     "output_type": "execute_result"
    }
   ],
   "source": [
    "predictions"
   ]
  },
  {
   "cell_type": "code",
   "execution_count": 27,
   "metadata": {},
   "outputs": [
    {
     "data": {
      "text/plain": [
       "0.752"
      ]
     },
     "execution_count": 27,
     "metadata": {},
     "output_type": "execute_result"
    }
   ],
   "source": [
    "model.score(sentiments_count,y_test)"
   ]
  },
  {
   "cell_type": "code",
   "execution_count": 29,
   "metadata": {},
   "outputs": [],
   "source": [
    "from sklearn.pipeline import Pipeline\n",
    "\n",
    "converter = Pipeline([\n",
    "    (\"vectorizer\" , CountVectorizer()),\n",
    "    (\"nb\" , MultinomialNB())\n",
    "])"
   ]
  },
  {
   "cell_type": "code",
   "execution_count": 31,
   "metadata": {},
   "outputs": [
    {
     "data": {
      "text/html": [
       "<style>#sk-container-id-3 {color: black;}#sk-container-id-3 pre{padding: 0;}#sk-container-id-3 div.sk-toggleable {background-color: white;}#sk-container-id-3 label.sk-toggleable__label {cursor: pointer;display: block;width: 100%;margin-bottom: 0;padding: 0.3em;box-sizing: border-box;text-align: center;}#sk-container-id-3 label.sk-toggleable__label-arrow:before {content: \"▸\";float: left;margin-right: 0.25em;color: #696969;}#sk-container-id-3 label.sk-toggleable__label-arrow:hover:before {color: black;}#sk-container-id-3 div.sk-estimator:hover label.sk-toggleable__label-arrow:before {color: black;}#sk-container-id-3 div.sk-toggleable__content {max-height: 0;max-width: 0;overflow: hidden;text-align: left;background-color: #f0f8ff;}#sk-container-id-3 div.sk-toggleable__content pre {margin: 0.2em;color: black;border-radius: 0.25em;background-color: #f0f8ff;}#sk-container-id-3 input.sk-toggleable__control:checked~div.sk-toggleable__content {max-height: 200px;max-width: 100%;overflow: auto;}#sk-container-id-3 input.sk-toggleable__control:checked~label.sk-toggleable__label-arrow:before {content: \"▾\";}#sk-container-id-3 div.sk-estimator input.sk-toggleable__control:checked~label.sk-toggleable__label {background-color: #d4ebff;}#sk-container-id-3 div.sk-label input.sk-toggleable__control:checked~label.sk-toggleable__label {background-color: #d4ebff;}#sk-container-id-3 input.sk-hidden--visually {border: 0;clip: rect(1px 1px 1px 1px);clip: rect(1px, 1px, 1px, 1px);height: 1px;margin: -1px;overflow: hidden;padding: 0;position: absolute;width: 1px;}#sk-container-id-3 div.sk-estimator {font-family: monospace;background-color: #f0f8ff;border: 1px dotted black;border-radius: 0.25em;box-sizing: border-box;margin-bottom: 0.5em;}#sk-container-id-3 div.sk-estimator:hover {background-color: #d4ebff;}#sk-container-id-3 div.sk-parallel-item::after {content: \"\";width: 100%;border-bottom: 1px solid gray;flex-grow: 1;}#sk-container-id-3 div.sk-label:hover label.sk-toggleable__label {background-color: #d4ebff;}#sk-container-id-3 div.sk-serial::before {content: \"\";position: absolute;border-left: 1px solid gray;box-sizing: border-box;top: 0;bottom: 0;left: 50%;z-index: 0;}#sk-container-id-3 div.sk-serial {display: flex;flex-direction: column;align-items: center;background-color: white;padding-right: 0.2em;padding-left: 0.2em;position: relative;}#sk-container-id-3 div.sk-item {position: relative;z-index: 1;}#sk-container-id-3 div.sk-parallel {display: flex;align-items: stretch;justify-content: center;background-color: white;position: relative;}#sk-container-id-3 div.sk-item::before, #sk-container-id-3 div.sk-parallel-item::before {content: \"\";position: absolute;border-left: 1px solid gray;box-sizing: border-box;top: 0;bottom: 0;left: 50%;z-index: -1;}#sk-container-id-3 div.sk-parallel-item {display: flex;flex-direction: column;z-index: 1;position: relative;background-color: white;}#sk-container-id-3 div.sk-parallel-item:first-child::after {align-self: flex-end;width: 50%;}#sk-container-id-3 div.sk-parallel-item:last-child::after {align-self: flex-start;width: 50%;}#sk-container-id-3 div.sk-parallel-item:only-child::after {width: 0;}#sk-container-id-3 div.sk-dashed-wrapped {border: 1px dashed gray;margin: 0 0.4em 0.5em 0.4em;box-sizing: border-box;padding-bottom: 0.4em;background-color: white;}#sk-container-id-3 div.sk-label label {font-family: monospace;font-weight: bold;display: inline-block;line-height: 1.2em;}#sk-container-id-3 div.sk-label-container {text-align: center;}#sk-container-id-3 div.sk-container {/* jupyter's `normalize.less` sets `[hidden] { display: none; }` but bootstrap.min.css set `[hidden] { display: none !important; }` so we also need the `!important` here to be able to override the default hidden behavior on the sphinx rendered scikit-learn.org. See: https://github.com/scikit-learn/scikit-learn/issues/21755 */display: inline-block !important;position: relative;}#sk-container-id-3 div.sk-text-repr-fallback {display: none;}</style><div id=\"sk-container-id-3\" class=\"sk-top-container\"><div class=\"sk-text-repr-fallback\"><pre>Pipeline(steps=[(&#x27;vectorizer&#x27;, CountVectorizer()), (&#x27;nb&#x27;, MultinomialNB())])</pre><b>In a Jupyter environment, please rerun this cell to show the HTML representation or trust the notebook. <br />On GitHub, the HTML representation is unable to render, please try loading this page with nbviewer.org.</b></div><div class=\"sk-container\" hidden><div class=\"sk-item sk-dashed-wrapped\"><div class=\"sk-label-container\"><div class=\"sk-label sk-toggleable\"><input class=\"sk-toggleable__control sk-hidden--visually\" id=\"sk-estimator-id-5\" type=\"checkbox\" ><label for=\"sk-estimator-id-5\" class=\"sk-toggleable__label sk-toggleable__label-arrow\">Pipeline</label><div class=\"sk-toggleable__content\"><pre>Pipeline(steps=[(&#x27;vectorizer&#x27;, CountVectorizer()), (&#x27;nb&#x27;, MultinomialNB())])</pre></div></div></div><div class=\"sk-serial\"><div class=\"sk-item\"><div class=\"sk-estimator sk-toggleable\"><input class=\"sk-toggleable__control sk-hidden--visually\" id=\"sk-estimator-id-6\" type=\"checkbox\" ><label for=\"sk-estimator-id-6\" class=\"sk-toggleable__label sk-toggleable__label-arrow\">CountVectorizer</label><div class=\"sk-toggleable__content\"><pre>CountVectorizer()</pre></div></div></div><div class=\"sk-item\"><div class=\"sk-estimator sk-toggleable\"><input class=\"sk-toggleable__control sk-hidden--visually\" id=\"sk-estimator-id-7\" type=\"checkbox\" ><label for=\"sk-estimator-id-7\" class=\"sk-toggleable__label sk-toggleable__label-arrow\">MultinomialNB</label><div class=\"sk-toggleable__content\"><pre>MultinomialNB()</pre></div></div></div></div></div></div></div>"
      ],
      "text/plain": [
       "Pipeline(steps=[('vectorizer', CountVectorizer()), ('nb', MultinomialNB())])"
      ]
     },
     "execution_count": 31,
     "metadata": {},
     "output_type": "execute_result"
    }
   ],
   "source": [
    "converter.fit(X_train , y_train)"
   ]
  },
  {
   "cell_type": "code",
   "execution_count": 32,
   "metadata": {},
   "outputs": [
    {
     "data": {
      "text/plain": [
       "array([3, 0, 2, 2, 0, 2, 1, 1, 1, 2, 1, 1, 2, 0, 2, 1, 1, 2, 1, 2, 1, 0,\n",
       "       1, 2, 0, 3, 2, 2, 3, 2, 1, 1, 2, 1, 2, 1, 1, 1, 1, 2, 2, 0, 2, 0,\n",
       "       1, 2, 2, 3, 1, 2, 1, 2, 2, 2, 3, 1, 1, 1, 2, 2, 2, 1, 1, 3, 2, 0,\n",
       "       2, 1, 1, 2, 1, 1, 2, 1, 1, 3, 1, 3, 2, 0, 0, 1, 1, 0, 1, 0, 2, 3,\n",
       "       1, 1, 0, 0, 1, 3, 3, 2, 2, 2, 0, 0, 2, 2, 1, 1, 0, 1, 2, 1, 2, 1,\n",
       "       0, 1, 2, 0, 2, 1, 3, 1, 1, 0, 2, 2, 1, 2, 3, 2, 2, 0, 2, 0, 3, 1,\n",
       "       0, 1, 1, 3, 0, 0, 0, 3, 2, 0, 0, 3, 1, 0, 1, 0, 1, 3, 2, 2, 3, 0,\n",
       "       1, 3, 0, 2, 2, 1, 2, 0, 2, 3, 2, 3, 1, 2, 2, 2, 1, 1, 1, 3, 1, 1,\n",
       "       3, 0, 1, 0, 1, 2, 2, 2, 1, 2, 2, 3, 3, 0, 1, 1, 0, 3, 0, 2, 2, 2,\n",
       "       2, 1, 0, 1, 2, 1, 1, 1, 1, 1, 1, 1, 0, 3, 2, 2, 1, 3, 0, 1, 1, 2,\n",
       "       1, 2, 1, 1, 2, 3, 3, 0, 1, 1, 1, 3, 0, 3, 0, 2, 2, 0, 1, 2, 3, 3,\n",
       "       1, 1, 3, 3, 0, 1, 0, 2, 1, 1, 0, 1, 0, 0, 0, 1, 0, 1, 0, 2, 0, 2,\n",
       "       2, 1, 1, 3, 2, 3, 0, 1, 0, 1, 2, 0, 2, 1, 1, 2, 2, 2, 1, 2, 2, 1,\n",
       "       0, 0, 2, 1, 2, 1, 3, 1, 0, 0, 1, 2, 0, 2, 3, 1, 2, 1, 3, 1, 2, 0,\n",
       "       1, 1, 2, 2, 1, 2, 1, 0, 0, 1, 3, 0, 3, 3, 2, 0, 0, 3, 0, 0, 1, 1,\n",
       "       1, 2, 2, 3, 1, 0, 3, 1, 0, 0, 3, 3, 2, 2, 1, 3, 1, 2, 0, 2, 1, 3,\n",
       "       0, 2, 2, 2, 1, 0, 0, 3, 2, 1, 1, 2, 0, 0, 1, 0, 0, 1, 1, 2, 2, 1,\n",
       "       1, 0, 2, 3, 2, 1, 1, 3, 1, 2, 2, 2, 2, 3, 1, 1, 1, 1, 2, 2, 2, 3,\n",
       "       2, 1, 1, 1, 2, 2, 3, 2, 2, 0, 1, 1, 0, 0, 3, 1, 2, 1, 1, 0, 2, 1,\n",
       "       2, 2, 2, 2, 1, 2, 0, 0, 3, 1, 1, 2, 2, 0, 2, 2, 0, 2, 3, 1, 2, 3,\n",
       "       1, 1, 1, 1, 0, 0, 1, 0, 0, 2, 2, 1, 1, 1, 2, 0, 2, 2, 3, 3, 0, 2,\n",
       "       0, 0, 1, 0, 2, 1, 1, 1, 3, 1, 3, 2, 0, 2, 0, 1, 1, 2, 2, 1, 1, 1,\n",
       "       1, 2, 3, 0, 2, 1, 0, 0, 1, 1, 3, 1, 3, 1, 3, 3, 2, 2, 2, 2, 0, 0,\n",
       "       2, 2, 1, 1, 2, 0, 1, 2, 1, 0, 2, 2, 2, 0, 1, 1, 1, 2, 2, 0, 1, 1,\n",
       "       3, 2, 2, 1, 2, 3, 2, 1, 1, 0, 1, 2, 0, 0, 1, 2, 2, 1, 1, 3, 1, 2,\n",
       "       3, 3, 0, 1, 2, 2, 0, 2, 2, 0, 1, 2, 1, 2, 1, 2, 1, 0, 2, 2, 2, 1,\n",
       "       1, 3, 2, 0, 2, 0, 0, 1, 1, 1, 0, 2, 0, 1, 2, 1, 3, 2, 1, 0, 0, 3,\n",
       "       2, 2, 3, 0, 3, 2, 0, 0, 2, 0, 0, 0, 0, 3, 0, 1, 3, 0, 1, 0, 1, 2,\n",
       "       1, 1, 0, 2, 1, 0, 3, 3, 0, 2, 1, 2, 1, 1, 3, 2, 2, 3, 0, 3, 3, 1,\n",
       "       3, 2, 1, 0, 2, 0, 3, 0, 0, 1, 1, 1, 1, 3, 3, 2, 3, 3, 0, 1, 2, 3,\n",
       "       1, 2, 1, 3, 3, 1, 0, 1, 2, 2, 0, 1, 2, 1, 2, 0, 1, 1, 0, 2, 0, 3,\n",
       "       1, 0, 2, 0, 0, 2, 1, 2, 1, 2, 2, 1, 1, 3, 1, 0, 2, 2, 0, 1, 3, 1,\n",
       "       2, 1, 2, 0, 1, 0, 0, 2, 2, 2, 0, 1, 0, 2, 3, 1, 1, 1, 0, 1, 1, 2,\n",
       "       2, 2, 1, 0, 1, 2, 1, 0, 1, 2, 1, 1, 0, 2, 0, 2, 2, 2, 2, 2, 3, 1,\n",
       "       1, 1, 1, 0, 1, 2, 1, 2, 2, 0, 2, 0, 1, 0, 1, 0, 1, 2, 0, 1, 2, 1,\n",
       "       0, 1, 2, 2, 2, 3, 1, 3, 1, 3, 0, 1, 1, 1, 2, 2, 0, 2, 1, 0, 0, 3,\n",
       "       2, 1, 2, 2, 2, 1, 2, 1, 2, 1, 0, 0, 2, 1, 1, 2, 1, 3, 0, 2, 1, 1,\n",
       "       2, 3, 3, 1, 0, 2, 0, 1, 3, 2, 2, 2, 1, 2, 2, 0, 2, 0, 0, 3, 1, 1,\n",
       "       2, 0, 1, 2, 2, 2, 2, 2, 2, 2, 3, 3, 2, 2, 1, 1, 1, 1, 1, 2, 0, 0,\n",
       "       3, 3, 2, 0, 1, 0, 0, 2, 1, 2, 1, 2, 0, 1, 3, 0, 2, 3, 3, 3, 1, 1,\n",
       "       3, 1, 1, 0, 2, 2, 0, 1, 0, 0, 0, 0, 1, 2, 1, 2, 2, 1, 2, 0, 2, 0,\n",
       "       0, 1, 1, 1, 2, 1, 0, 0, 3, 1, 2, 0, 0, 3, 1, 0, 1, 3, 0, 2, 0, 2,\n",
       "       1, 2, 2, 0, 0, 0, 2, 0, 1, 3, 0, 2, 2, 1, 1, 2, 3, 2, 2, 0, 2, 1,\n",
       "       3, 0, 3, 0, 0, 3, 1, 0, 1, 1, 1, 2, 1, 1, 0, 3, 2, 1, 0, 1, 0, 1,\n",
       "       1, 1, 2, 2, 1, 1, 1, 0, 1, 0, 3, 2, 1, 1, 2, 2, 2, 1, 1, 0, 0, 1,\n",
       "       1, 0, 1, 2, 1, 0, 3, 1, 1, 0])"
      ]
     },
     "execution_count": 32,
     "metadata": {},
     "output_type": "execute_result"
    }
   ],
   "source": [
    "converter.predict(X_test)"
   ]
  },
  {
   "cell_type": "code",
   "execution_count": 34,
   "metadata": {},
   "outputs": [
    {
     "data": {
      "text/plain": [
       "0.752"
      ]
     },
     "execution_count": 34,
     "metadata": {},
     "output_type": "execute_result"
    }
   ],
   "source": [
    "converter.score(X_test , y_test)"
   ]
  },
  {
   "cell_type": "code",
   "execution_count": null,
   "metadata": {},
   "outputs": [],
   "source": []
  }
 ],
 "metadata": {
  "kernelspec": {
   "display_name": "Python 3",
   "language": "python",
   "name": "python3"
  },
  "language_info": {
   "codemirror_mode": {
    "name": "ipython",
    "version": 3
   },
   "file_extension": ".py",
   "mimetype": "text/x-python",
   "name": "python",
   "nbconvert_exporter": "python",
   "pygments_lexer": "ipython3",
   "version": "3.11.5"
  }
 },
 "nbformat": 4,
 "nbformat_minor": 2
}
