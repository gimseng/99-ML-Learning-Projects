{
  "nbformat": 4,
  "nbformat_minor": 0,
  "metadata": {
    "colab": {
      "name": "socialads.ipynb",
      "provenance": []
    },
    "kernelspec": {
      "name": "python3",
      "display_name": "Python 3"
    },
    "language_info": {
      "name": "python"
    }
  },
  "cells": [
    {
      "cell_type": "markdown",
      "metadata": {
        "id": "lv5_B6OGCloF"
      },
      "source": [
        "**Hi - Welcome to the Decision trees  exercise\n",
        "solution. This is a reference notebook for the tasks given in exercise section. \n",
        "Run cells below which import all required libraries**"
      ]
    },
    {
      "cell_type": "markdown",
      "metadata": {
        "id": "Lz6zPtogMMOz"
      },
      "source": [
        "#Importing Libraries\n"
      ]
    },
    {
      "cell_type": "code",
      "metadata": {
        "id": "PQywqqybLxk8"
      },
      "source": [
        "import numpy as np\n",
        "import pandas as pd\n",
        "import matplotlib.pyplot as plt\n",
        "import seaborn as sns\n",
        "%matplotlib inline"
      ],
      "execution_count": 2,
      "outputs": []
    },
    {
      "cell_type": "markdown",
      "metadata": {
        "id": "s7Z_QxClMpml"
      },
      "source": [
        "# Importing dataset\n",
        "\n",
        "And viewing first and last rows"
      ]
    },
    {
      "cell_type": "code",
      "metadata": {
        "colab": {
          "base_uri": "https://localhost:8080/",
          "height": 200
        },
        "id": "nsMq20W_Mw_-",
        "outputId": "683f2242-c51f-42a9-adc6-fd22c606ca78"
      },
      "source": [
        "dataset = pd.read_csv(\"/content/Social_Network_Ads.csv\")\n",
        "dataset.head()\n"
      ],
      "execution_count": 3,
      "outputs": [
        {
          "output_type": "execute_result",
          "data": {
            "text/html": [
              "<div>\n",
              "<style scoped>\n",
              "    .dataframe tbody tr th:only-of-type {\n",
              "        vertical-align: middle;\n",
              "    }\n",
              "\n",
              "    .dataframe tbody tr th {\n",
              "        vertical-align: top;\n",
              "    }\n",
              "\n",
              "    .dataframe thead th {\n",
              "        text-align: right;\n",
              "    }\n",
              "</style>\n",
              "<table border=\"1\" class=\"dataframe\">\n",
              "  <thead>\n",
              "    <tr style=\"text-align: right;\">\n",
              "      <th></th>\n",
              "      <th>Age</th>\n",
              "      <th>EstimatedSalary</th>\n",
              "      <th>Purchased</th>\n",
              "    </tr>\n",
              "  </thead>\n",
              "  <tbody>\n",
              "    <tr>\n",
              "      <th>0</th>\n",
              "      <td>19</td>\n",
              "      <td>19000</td>\n",
              "      <td>0</td>\n",
              "    </tr>\n",
              "    <tr>\n",
              "      <th>1</th>\n",
              "      <td>35</td>\n",
              "      <td>20000</td>\n",
              "      <td>0</td>\n",
              "    </tr>\n",
              "    <tr>\n",
              "      <th>2</th>\n",
              "      <td>26</td>\n",
              "      <td>43000</td>\n",
              "      <td>0</td>\n",
              "    </tr>\n",
              "    <tr>\n",
              "      <th>3</th>\n",
              "      <td>27</td>\n",
              "      <td>57000</td>\n",
              "      <td>0</td>\n",
              "    </tr>\n",
              "    <tr>\n",
              "      <th>4</th>\n",
              "      <td>19</td>\n",
              "      <td>76000</td>\n",
              "      <td>0</td>\n",
              "    </tr>\n",
              "  </tbody>\n",
              "</table>\n",
              "</div>"
            ],
            "text/plain": [
              "   Age  EstimatedSalary  Purchased\n",
              "0   19            19000          0\n",
              "1   35            20000          0\n",
              "2   26            43000          0\n",
              "3   27            57000          0\n",
              "4   19            76000          0"
            ]
          },
          "metadata": {},
          "execution_count": 3
        }
      ]
    },
    {
      "cell_type": "code",
      "metadata": {
        "colab": {
          "base_uri": "https://localhost:8080/",
          "height": 206
        },
        "id": "Lh8zkiheNfBV",
        "outputId": "b05f23d7-4aa7-4880-b58e-066ff44768d0"
      },
      "source": [
        "dataset.tail()"
      ],
      "execution_count": 4,
      "outputs": [
        {
          "output_type": "execute_result",
          "data": {
            "text/html": [
              "<div>\n",
              "<style scoped>\n",
              "    .dataframe tbody tr th:only-of-type {\n",
              "        vertical-align: middle;\n",
              "    }\n",
              "\n",
              "    .dataframe tbody tr th {\n",
              "        vertical-align: top;\n",
              "    }\n",
              "\n",
              "    .dataframe thead th {\n",
              "        text-align: right;\n",
              "    }\n",
              "</style>\n",
              "<table border=\"1\" class=\"dataframe\">\n",
              "  <thead>\n",
              "    <tr style=\"text-align: right;\">\n",
              "      <th></th>\n",
              "      <th>Age</th>\n",
              "      <th>EstimatedSalary</th>\n",
              "      <th>Purchased</th>\n",
              "    </tr>\n",
              "  </thead>\n",
              "  <tbody>\n",
              "    <tr>\n",
              "      <th>395</th>\n",
              "      <td>46</td>\n",
              "      <td>41000</td>\n",
              "      <td>1</td>\n",
              "    </tr>\n",
              "    <tr>\n",
              "      <th>396</th>\n",
              "      <td>51</td>\n",
              "      <td>23000</td>\n",
              "      <td>1</td>\n",
              "    </tr>\n",
              "    <tr>\n",
              "      <th>397</th>\n",
              "      <td>50</td>\n",
              "      <td>20000</td>\n",
              "      <td>1</td>\n",
              "    </tr>\n",
              "    <tr>\n",
              "      <th>398</th>\n",
              "      <td>36</td>\n",
              "      <td>33000</td>\n",
              "      <td>0</td>\n",
              "    </tr>\n",
              "    <tr>\n",
              "      <th>399</th>\n",
              "      <td>49</td>\n",
              "      <td>36000</td>\n",
              "      <td>1</td>\n",
              "    </tr>\n",
              "  </tbody>\n",
              "</table>\n",
              "</div>"
            ],
            "text/plain": [
              "     Age  EstimatedSalary  Purchased\n",
              "395   46            41000          1\n",
              "396   51            23000          1\n",
              "397   50            20000          1\n",
              "398   36            33000          0\n",
              "399   49            36000          1"
            ]
          },
          "metadata": {},
          "execution_count": 4
        }
      ]
    },
    {
      "cell_type": "markdown",
      "metadata": {
        "id": "5RPHn1cBOo4m"
      },
      "source": [
        "# Performing Analysis and Checking For null values\n"
      ]
    },
    {
      "cell_type": "code",
      "metadata": {
        "colab": {
          "base_uri": "https://localhost:8080/"
        },
        "id": "GbMxXvnaO2jA",
        "outputId": "dfbbcc84-dcde-4682-a7f5-a374b19335f4"
      },
      "source": [
        "dataset.shape"
      ],
      "execution_count": 5,
      "outputs": [
        {
          "output_type": "execute_result",
          "data": {
            "text/plain": [
              "(400, 3)"
            ]
          },
          "metadata": {},
          "execution_count": 5
        }
      ]
    },
    {
      "cell_type": "markdown",
      "metadata": {
        "id": "p--_2qNPPPWs"
      },
      "source": [
        "We are having three columns named Age, EstimatedSalary and purchased. Age is the age of viewer viewing adds and EstimatedSalary is their salaries. Purchase(0) signifies the viwer did not purchased it , while purchase(1) signifies he/she purchased it."
      ]
    },
    {
      "cell_type": "code",
      "metadata": {
        "colab": {
          "base_uri": "https://localhost:8080/"
        },
        "id": "KnQMaYZ-P1NU",
        "outputId": "e7712380-a704-4f0d-b57c-44fb0b8bce89"
      },
      "source": [
        "#lets check-out for null values\n",
        "dataset.isnull().sum()"
      ],
      "execution_count": 6,
      "outputs": [
        {
          "output_type": "execute_result",
          "data": {
            "text/plain": [
              "Age                0\n",
              "EstimatedSalary    0\n",
              "Purchased          0\n",
              "dtype: int64"
            ]
          },
          "metadata": {},
          "execution_count": 6
        }
      ]
    },
    {
      "cell_type": "markdown",
      "metadata": {
        "id": "manbGD_nP_pA"
      },
      "source": [
        " **Luckily in our dataset we dont have any null values(empty). **\n",
        " Please note that in most of the projects you will get values which you need to address and remove first, before moving forward."
      ]
    },
    {
      "cell_type": "code",
      "metadata": {
        "colab": {
          "base_uri": "https://localhost:8080/",
          "height": 300
        },
        "id": "EVYsMh0SQhap",
        "outputId": "749e7376-b926-4465-8a30-c85ec31f9106"
      },
      "source": [
        "#let's view the statistical information regarding the dataset\n",
        "dataset.describe()"
      ],
      "execution_count": 7,
      "outputs": [
        {
          "output_type": "execute_result",
          "data": {
            "text/html": [
              "<div>\n",
              "<style scoped>\n",
              "    .dataframe tbody tr th:only-of-type {\n",
              "        vertical-align: middle;\n",
              "    }\n",
              "\n",
              "    .dataframe tbody tr th {\n",
              "        vertical-align: top;\n",
              "    }\n",
              "\n",
              "    .dataframe thead th {\n",
              "        text-align: right;\n",
              "    }\n",
              "</style>\n",
              "<table border=\"1\" class=\"dataframe\">\n",
              "  <thead>\n",
              "    <tr style=\"text-align: right;\">\n",
              "      <th></th>\n",
              "      <th>Age</th>\n",
              "      <th>EstimatedSalary</th>\n",
              "      <th>Purchased</th>\n",
              "    </tr>\n",
              "  </thead>\n",
              "  <tbody>\n",
              "    <tr>\n",
              "      <th>count</th>\n",
              "      <td>400.000000</td>\n",
              "      <td>400.000000</td>\n",
              "      <td>400.000000</td>\n",
              "    </tr>\n",
              "    <tr>\n",
              "      <th>mean</th>\n",
              "      <td>37.655000</td>\n",
              "      <td>69742.500000</td>\n",
              "      <td>0.357500</td>\n",
              "    </tr>\n",
              "    <tr>\n",
              "      <th>std</th>\n",
              "      <td>10.482877</td>\n",
              "      <td>34096.960282</td>\n",
              "      <td>0.479864</td>\n",
              "    </tr>\n",
              "    <tr>\n",
              "      <th>min</th>\n",
              "      <td>18.000000</td>\n",
              "      <td>15000.000000</td>\n",
              "      <td>0.000000</td>\n",
              "    </tr>\n",
              "    <tr>\n",
              "      <th>25%</th>\n",
              "      <td>29.750000</td>\n",
              "      <td>43000.000000</td>\n",
              "      <td>0.000000</td>\n",
              "    </tr>\n",
              "    <tr>\n",
              "      <th>50%</th>\n",
              "      <td>37.000000</td>\n",
              "      <td>70000.000000</td>\n",
              "      <td>0.000000</td>\n",
              "    </tr>\n",
              "    <tr>\n",
              "      <th>75%</th>\n",
              "      <td>46.000000</td>\n",
              "      <td>88000.000000</td>\n",
              "      <td>1.000000</td>\n",
              "    </tr>\n",
              "    <tr>\n",
              "      <th>max</th>\n",
              "      <td>60.000000</td>\n",
              "      <td>150000.000000</td>\n",
              "      <td>1.000000</td>\n",
              "    </tr>\n",
              "  </tbody>\n",
              "</table>\n",
              "</div>"
            ],
            "text/plain": [
              "              Age  EstimatedSalary   Purchased\n",
              "count  400.000000       400.000000  400.000000\n",
              "mean    37.655000     69742.500000    0.357500\n",
              "std     10.482877     34096.960282    0.479864\n",
              "min     18.000000     15000.000000    0.000000\n",
              "25%     29.750000     43000.000000    0.000000\n",
              "50%     37.000000     70000.000000    0.000000\n",
              "75%     46.000000     88000.000000    1.000000\n",
              "max     60.000000    150000.000000    1.000000"
            ]
          },
          "metadata": {},
          "execution_count": 7
        }
      ]
    },
    {
      "cell_type": "code",
      "metadata": {
        "colab": {
          "base_uri": "https://localhost:8080/",
          "height": 350
        },
        "id": "8noZtNWcRVBk",
        "outputId": "1d14ebfc-51a3-45ac-88d5-b19419dc68e1"
      },
      "source": [
        "sns.countplot(dataset[\"Purchased\"])"
      ],
      "execution_count": 8,
      "outputs": [
        {
          "output_type": "stream",
          "text": [
            "/usr/local/lib/python3.7/dist-packages/seaborn/_decorators.py:43: FutureWarning: Pass the following variable as a keyword arg: x. From version 0.12, the only valid positional argument will be `data`, and passing other arguments without an explicit keyword will result in an error or misinterpretation.\n",
            "  FutureWarning\n"
          ],
          "name": "stderr"
        },
        {
          "output_type": "execute_result",
          "data": {
            "text/plain": [
              "<matplotlib.axes._subplots.AxesSubplot at 0x7f947a984c50>"
            ]
          },
          "metadata": {},
          "execution_count": 8
        },
        {
          "output_type": "display_data",
          "data": {
            "image/png": "[encoded data removed]",
            "text/plain": [
              "<Figure size 432x288 with 1 Axes>"
            ]
          },
          "metadata": {
            "needs_background": "light"
          }
        }
      ]
    },
    {
      "cell_type": "markdown",
      "metadata": {
        "id": "s-eN7U4BShqi"
      },
      "source": [
        "We can see around 1/3 of total peoples are actually purchasing adds."
      ]
    },
    {
      "cell_type": "markdown",
      "metadata": {
        "id": "tcPPB6B7StDY"
      },
      "source": [
        "#Let's Try analyzing data by visualization"
      ]
    },
    {
      "cell_type": "code",
      "metadata": {
        "colab": {
          "base_uri": "https://localhost:8080/",
          "height": 608
        },
        "id": "B26Y02DFS7gc",
        "outputId": "ed3b9058-5705-4c03-bd07-9ca6b89daaa9"
      },
      "source": [
        "plt.figure(figsize=(20,10))\n",
        "dataset.groupby(['Age'])['Purchased'].count().plot.bar()\n",
        "#plt.ylabel('Avg Salary')\n",
        "#plt.title(\"Top 10 Highest Paying Jobs\",fontsize=20)\n",
        "plt.show()"
      ],
      "execution_count": 9,
      "outputs": [
        {
          "output_type": "display_data",
          "data": {
            "image/png": "[encoded data removed]",
            "text/plain": [
              "<Figure size 1440x720 with 1 Axes>"
            ]
          },
          "metadata": {
            "needs_background": "light"
          }
        }
      ]
    },
    {
      "cell_type": "code",
      "metadata": {
        "colab": {
          "base_uri": "https://localhost:8080/",
          "height": 362
        },
        "id": "buYpmbdYVM-F",
        "outputId": "5299c8b0-644a-4d53-a5b4-573e7b8cf6d4"
      },
      "source": [
        "plt.figure(figsize=(10,5))\n",
        "dataset.groupby(['EstimatedSalary'])['Purchased'].mean().sort_values(ascending=False).head(10).plot.bar()\n",
        "#plt.ylabel('Avg Salary')\n",
        "#plt.title(\"Top 10 Highest Paying Jobs\",fontsize=20)\n",
        "plt.show()"
      ],
      "execution_count": 10,
      "outputs": [
        {
          "output_type": "display_data",
          "data": {
            "image/png": "[encoded data removed]",
            "text/plain": [
              "<Figure size 720x360 with 1 Axes>"
            ]
          },
          "metadata": {
            "needs_background": "light"
          }
        }
      ]
    },
    {
      "cell_type": "code",
      "metadata": {
        "colab": {
          "base_uri": "https://localhost:8080/",
          "height": 341
        },
        "id": "7CznlPPTWHNx",
        "outputId": "e1e5c043-5c28-4508-cfc0-af7480bee596"
      },
      "source": [
        "# Plot a heatMap\n",
        "plt.figure(figsize=(10,5))\n",
        "sns.heatmap(dataset.corr(),annot=True)"
      ],
      "execution_count": 11,
      "outputs": [
        {
          "output_type": "execute_result",
          "data": {
            "text/plain": [
              "<matplotlib.axes._subplots.AxesSubplot at 0x7f9465f6e250>"
            ]
          },
          "metadata": {},
          "execution_count": 11
        },
        {
          "output_type": "display_data",
          "data": {
            "image/png": "[encoded data removed]",
            "text/plain": [
              "<Figure size 720x360 with 2 Axes>"
            ]
          },
          "metadata": {
            "needs_background": "light"
          }
        }
      ]
    },
    {
      "cell_type": "markdown",
      "metadata": {
        "id": "6zH6ATlydL6N"
      },
      "source": [
        "From heatmap we can conclude that Age is more coreleated to purchase of adds than, their respective salaries."
      ]
    },
    {
      "cell_type": "markdown",
      "metadata": {
        "id": "WpEJrTXqdszq"
      },
      "source": [
        "**Splitting dataset into dependent and independent variable.**\n",
        " Here age and estimated salary are the two independent variable(x) and Purchased(y) is dependent variable based on two factors age and estimated salary."
      ]
    },
    {
      "cell_type": "code",
      "metadata": {
        "id": "2wwZ7eJuWa9T"
      },
      "source": [
        "y= dataset.pop(\"Purchased\")\n",
        "x= dataset"
      ],
      "execution_count": 12,
      "outputs": []
    },
    {
      "cell_type": "markdown",
      "metadata": {
        "id": "aWilK5DDfKS4"
      },
      "source": [
        "# Now let split dataset into training testing for model."
      ]
    },
    {
      "cell_type": "code",
      "metadata": {
        "colab": {
          "base_uri": "https://localhost:8080/"
        },
        "id": "HRo1A8B2fffF",
        "outputId": "72ce3ce6-9a9f-4bbf-bbd9-4e7dbf3952f7"
      },
      "source": [
        "from sklearn.model_selection import train_test_split\n",
        "x_train,x_test,y_train,y_test = train_test_split(x,y,test_size=0.25, random_state=3)\n",
        "\n",
        "\n",
        "print(x_train.shape)\n",
        "print(x_test.shape)\n",
        "print(y_train.shape)\n",
        "print(y_test.shape)"
      ],
      "execution_count": 13,
      "outputs": [
        {
          "output_type": "stream",
          "text": [
            "(300, 2)\n",
            "(100, 2)\n",
            "(300,)\n",
            "(100,)\n"
          ],
          "name": "stdout"
        }
      ]
    },
    {
      "cell_type": "markdown",
      "metadata": {
        "id": "Eq0TTLwEgyQ_"
      },
      "source": [
        "# Feature Scaling\n",
        "Before feeding and fitting we'll standardise the independent data for better results."
      ]
    },
    {
      "cell_type": "code",
      "metadata": {
        "id": "UQVjPWSphKzd"
      },
      "source": [
        "from sklearn.preprocessing import StandardScaler\n",
        "sc = StandardScaler()\n",
        "X_train = sc.fit_transform(x_train)\n",
        "X_test = sc.transform(x_test)\n"
      ],
      "execution_count": 14,
      "outputs": []
    },
    {
      "cell_type": "code",
      "metadata": {
        "colab": {
          "base_uri": "https://localhost:8080/"
        },
        "id": "F1HFYvpphUl7",
        "outputId": "2e00abb7-f871-413a-e766-a323929705cd"
      },
      "source": [
        "print(X_train)\n"
      ],
      "execution_count": 15,
      "outputs": [
        {
          "output_type": "stream",
          "text": [
            "[[-0.3421581   1.27208252]\n",
            " [-1.82711187  0.37301368]\n",
            " [-0.99182537 -0.46611725]\n",
            " [-1.17744459  0.28310679]\n",
            " [ 1.88527256 -1.39515506]\n",
            " [-0.52777732  1.96136864]\n",
            " [-1.08463498 -1.57496883]\n",
            " [ 0.40031879  1.15220668]\n",
            " [-0.62058693  0.13326198]\n",
            " [ 0.77155723 -1.42512402]\n",
            " [ 0.21469957 -0.67589998]\n",
            " [ 2.07089178  0.40298264]\n",
            " [-0.89901576 -0.31627244]\n",
            " [-1.64149265 -1.00555856]\n",
            " [-0.3421581  -0.79577583]\n",
            " [ 0.86436684 -1.48506195]\n",
            " [ 0.30750918  0.31307575]\n",
            " [-1.36306382  0.37301368]\n",
            " [ 0.40031879  0.31307575]\n",
            " [ 0.77155723  0.37301368]\n",
            " [ 0.21469957 -0.37621037]\n",
            " [-1.27025421 -0.3462414 ]\n",
            " [-0.06372927 -0.22636556]\n",
            " [-1.08463498 -1.60493779]\n",
            " [ 0.95717645 -1.18537233]\n",
            " [-1.17744459  0.31307575]\n",
            " [ 0.30750918  0.0433551 ]\n",
            " [-0.43496771  2.38093411]\n",
            " [ 1.42122451  0.37301368]\n",
            " [-0.06372927 -0.52605517]\n",
            " [ 1.04998606  0.13326198]\n",
            " [ 1.04998606 -0.91565167]\n",
            " [-1.45587343 -0.1963966 ]\n",
            " [-1.73430226  0.01338614]\n",
            " [-1.45587343 -1.27527921]\n",
            " [ 0.02908034  1.27208252]\n",
            " [ 1.88527256  0.94242395]\n",
            " [-1.45587343 -1.54499987]\n",
            " [ 0.12188996 -0.25633452]\n",
            " [-0.24934849  1.15220668]\n",
            " [-1.73430226  0.19319991]\n",
            " [-0.06372927  0.07332406]\n",
            " [ 0.30750918  0.07332406]\n",
            " [-0.24934849  0.07332406]\n",
            " [-0.06372927 -0.49608621]\n",
            " [ 1.32841489  0.61276537]\n",
            " [ 0.02908034  0.31307575]\n",
            " [ 0.21469957 -0.31627244]\n",
            " [ 1.69965334  1.90143072]\n",
            " [-0.06372927  0.16323094]\n",
            " [-0.99182537  0.4329516 ]\n",
            " [ 1.69965334  1.03233083]\n",
            " [-0.24934849 -0.28630348]\n",
            " [-0.06372927 -0.37621037]\n",
            " [ 0.30750918  0.07332406]\n",
            " [-1.45587343 -0.43614829]\n",
            " [ 1.14279567 -1.48506195]\n",
            " [ 0.21469957  0.07332406]\n",
            " [-1.64149265  0.37301368]\n",
            " [-0.99182537 -0.37621037]\n",
            " [ 1.51403412 -1.30524818]\n",
            " [ 0.21469957  0.16323094]\n",
            " [-0.89901576  0.52285848]\n",
            " [ 0.40031879 -0.16642763]\n",
            " [ 1.97808217  0.40298264]\n",
            " [ 0.77155723 -1.24531025]\n",
            " [ 0.30750918 -0.7358379 ]\n",
            " [ 0.86436684 -1.06549648]\n",
            " [-0.71339654 -1.63490675]\n",
            " [ 1.97808217  0.55282745]\n",
            " [-0.24934849 -0.94562064]\n",
            " [-0.24934849 -0.25633452]\n",
            " [-1.73430226  0.46292056]\n",
            " [ 0.40031879 -0.49608621]\n",
            " [ 2.07089178 -0.82574479]\n",
            " [ 0.4931284   1.90143072]\n",
            " [ 0.40031879  0.10329302]\n",
            " [ 1.23560528  2.29102722]\n",
            " [-0.80620615  2.35096514]\n",
            " [ 0.86436684  1.12223772]\n",
            " [-1.36306382 -1.48506195]\n",
            " [ 1.79246295 -0.28630348]\n",
            " [-0.71339654  0.58279641]\n",
            " [ 0.95717645  0.79257914]\n",
            " [-0.15653888  1.45189629]\n",
            " [ 0.67874762 -0.7358379 ]\n",
            " [ 0.86436684 -0.61596206]\n",
            " [-0.15653888  2.2310893 ]\n",
            " [-1.08463498  0.49288952]\n",
            " [-1.17744459 -1.42512402]\n",
            " [-0.89901576  0.28310679]\n",
            " [ 0.95717645  0.13326198]\n",
            " [ 1.14279567 -1.00555856]\n",
            " [-0.24934849  0.22316887]\n",
            " [ 2.07089178 -0.70586894]\n",
            " [-1.54868304  0.55282745]\n",
            " [-0.62058693 -1.54499987]\n",
            " [-0.06372927 -1.09546544]\n",
            " [-1.64149265  0.13326198]\n",
            " [-0.06372927  0.31307575]\n",
            " [-0.24934849 -1.42512402]\n",
            " [ 0.67874762  0.28310679]\n",
            " [-0.80620615  0.40298264]\n",
            " [ 1.79246295 -1.09546544]\n",
            " [ 0.21469957  0.0433551 ]\n",
            " [ 1.79246295  1.57177214]\n",
            " [-0.71339654  0.52285848]\n",
            " [-0.43496771 -0.85571375]\n",
            " [-0.24934849 -0.5859931 ]\n",
            " [ 0.4931284   1.27208252]\n",
            " [-0.99182537  0.61276537]\n",
            " [-1.64149265 -1.39515506]\n",
            " [ 1.04998606 -1.00555856]\n",
            " [ 0.77155723  1.42192733]\n",
            " [-1.73430226 -1.33521714]\n",
            " [ 0.95717645 -1.03552752]\n",
            " [ 0.77155723 -1.12543441]\n",
            " [-0.06372927  0.0433551 ]\n",
            " [ 0.02908034 -0.55602413]\n",
            " [-1.64149265  0.49288952]\n",
            " [-0.89901576  0.46292056]\n",
            " [-1.08463498  0.31307575]\n",
            " [-0.24934849 -0.3462414 ]\n",
            " [-0.15653888  0.88248602]\n",
            " [ 0.02908034 -0.43614829]\n",
            " [-0.43496771 -0.01658283]\n",
            " [-1.36306382 -1.24531025]\n",
            " [ 1.14279567 -0.76580687]\n",
            " [ 1.32841489  2.05127553]\n",
            " [-0.24934849 -1.33521714]\n",
            " [ 0.86436684 -0.67589998]\n",
            " [-0.06372927  0.31307575]\n",
            " [-0.43496771 -0.55602413]\n",
            " [-0.52777732  1.51183422]\n",
            " [-0.06372927  2.2310893 ]\n",
            " [-0.71339654  0.28310679]\n",
            " [ 0.40031879  0.61276537]\n",
            " [-0.52777732 -1.54499987]\n",
            " [ 0.21469957  0.16323094]\n",
            " [-0.62058693 -1.06549648]\n",
            " [ 0.67874762 -1.30524818]\n",
            " [ 1.04998606  0.49288952]\n",
            " [-1.08463498 -0.52605517]\n",
            " [-0.24934849 -0.43614829]\n",
            " [ 1.32841489  1.33202045]\n",
            " [-1.45587343  0.34304471]\n",
            " [-1.82711187 -0.76580687]\n",
            " [-0.62058693  1.45189629]\n",
            " [ 0.30750918 -0.55602413]\n",
            " [-1.17744459  0.61276537]\n",
            " [-1.08463498  0.34304471]\n",
            " [ 1.60684373 -0.91565167]\n",
            " [ 0.95717645 -1.09546544]\n",
            " [-0.24934849 -0.76580687]\n",
            " [-0.24934849 -0.37621037]\n",
            " [-0.99182537 -1.15540337]\n",
            " [-1.27025421 -0.43614829]\n",
            " [-0.62058693  0.0433551 ]\n",
            " [ 0.21469957 -0.25633452]\n",
            " [-1.27025421  0.58279641]\n",
            " [-1.08463498 -1.18537233]\n",
            " [ 0.40031879  0.16323094]\n",
            " [ 0.12188996  1.93139968]\n",
            " [ 1.04998606  0.58279641]\n",
            " [-0.06372927  0.01338614]\n",
            " [-0.24934849 -0.91565167]\n",
            " [-1.27025421 -1.27527921]\n",
            " [ 0.40031879 -0.46611725]\n",
            " [ 0.02908034 -0.13645867]\n",
            " [ 0.95717645  2.05127553]\n",
            " [ 0.12188996  0.28310679]\n",
            " [ 1.97808217  1.81152383]\n",
            " [ 0.02908034 -0.5859931 ]\n",
            " [-1.54868304 -0.04655179]\n",
            " [-0.99182537 -1.48506195]\n",
            " [ 1.23560528  1.93139968]\n",
            " [ 1.69965334 -0.28630348]\n",
            " [-0.99182537  0.55282745]\n",
            " [ 0.95717645 -1.21534129]\n",
            " [ 0.86436684  1.30205149]\n",
            " [ 0.12188996  0.10329302]\n",
            " [ 0.95717645  0.61276537]\n",
            " [ 0.02908034  0.0433551 ]\n",
            " [-1.17744459 -1.09546544]\n",
            " [ 1.32841489 -1.45509298]\n",
            " [-1.08463498 -1.63490675]\n",
            " [ 0.95717645  1.93139968]\n",
            " [-1.54868304 -1.60493779]\n",
            " [-1.36306382 -0.1963966 ]\n",
            " [ 0.95717645 -0.85571375]\n",
            " [-1.36306382 -0.10648971]\n",
            " [ 0.12188996  0.0433551 ]\n",
            " [ 2.07089178  1.15220668]\n",
            " [ 0.12188996  1.57177214]\n",
            " [ 1.42122451  1.03233083]\n",
            " [ 0.21469957 -0.37621037]\n",
            " [-0.80620615  0.40298264]\n",
            " [ 0.40031879 -0.13645867]\n",
            " [-0.3421581  -0.79577583]\n",
            " [-0.24934849 -1.27527921]\n",
            " [-1.27025421 -1.39515506]\n",
            " [-0.24934849  0.0433551 ]\n",
            " [-0.15653888  1.69164799]\n",
            " [-0.15653888  0.16323094]\n",
            " [ 1.79246295  0.13326198]\n",
            " [-0.89901576  0.4329516 ]\n",
            " [ 1.88527256 -0.94562064]\n",
            " [-1.82711187 -0.52605517]\n",
            " [ 0.21469957  2.17115137]\n",
            " [ 1.97808217 -0.82574479]\n",
            " [-0.06372927  0.13326198]\n",
            " [ 0.12188996  0.79257914]\n",
            " [ 1.04998606 -0.13645867]\n",
            " [ 0.86436684 -1.39515506]\n",
            " [-0.24934849 -0.13645867]\n",
            " [ 0.30750918  0.07332406]\n",
            " [ 1.51403412  1.15220668]\n",
            " [-0.06372927  0.70267225]\n",
            " [-0.15653888 -0.1963966 ]\n",
            " [-1.73430226 -1.45509298]\n",
            " [ 0.02908034 -0.5859931 ]\n",
            " [ 0.02908034 -0.25633452]\n",
            " [ 0.12188996 -0.31627244]\n",
            " [-0.71339654  1.39195837]\n",
            " [-0.52777732  1.42192733]\n",
            " [ 0.12188996  0.16323094]\n",
            " [ 1.88527256 -0.67589998]\n",
            " [-1.08463498  1.45189629]\n",
            " [ 0.21469957  1.12223772]\n",
            " [-0.43496771 -1.24531025]\n",
            " [ 0.77155723 -0.31627244]\n",
            " [-1.08463498 -0.79577583]\n",
            " [ 1.14279567  0.55282745]\n",
            " [-0.15653888  1.66167903]\n",
            " [-0.06372927  0.25313783]\n",
            " [-0.71339654  1.96136864]\n",
            " [-1.82711187 -0.04655179]\n",
            " [ 2.07089178  0.97239291]\n",
            " [-0.43496771 -0.79577583]\n",
            " [ 0.95717645  1.48186526]\n",
            " [ 1.51403412  0.01338614]\n",
            " [-0.52777732  0.91245499]\n",
            " [ 1.88527256  2.2310893 ]\n",
            " [ 1.97808217  2.20112034]\n",
            " [-0.89901576 -0.9755896 ]\n",
            " [ 0.77155723  0.28310679]\n",
            " [-0.15653888 -0.52605517]\n",
            " [-0.24934849  0.16323094]\n",
            " [-0.24934849 -1.48506195]\n",
            " [-0.06372927 -0.43614829]\n",
            " [ 0.02908034  0.0433551 ]\n",
            " [-0.3421581   0.07332406]\n",
            " [-0.06372927  2.29102722]\n",
            " [ 2.07089178 -1.06549648]\n",
            " [-0.43496771 -0.28630348]\n",
            " [-1.82711187  0.49288952]\n",
            " [ 1.79246295 -1.30524818]\n",
            " [-0.80620615 -0.79577583]\n",
            " [-1.73430226 -1.51503091]\n",
            " [-0.99182537 -0.3462414 ]\n",
            " [-0.80620615 -0.79577583]\n",
            " [ 1.60684373  1.81152383]\n",
            " [-0.62058693  0.58279641]\n",
            " [ 0.02908034  1.30205149]\n",
            " [ 0.67874762 -1.42512402]\n",
            " [-0.06372927  0.22316887]\n",
            " [-0.24934849 -0.67589998]\n",
            " [-0.15653888 -0.46611725]\n",
            " [-0.89901576 -0.76580687]\n",
            " [-0.3421581   1.36198941]\n",
            " [-0.52777732  2.41090307]\n",
            " [ 0.67874762 -1.12543441]\n",
            " [-0.15653888 -1.09546544]\n",
            " [-1.08463498 -1.03552752]\n",
            " [-0.89901576  1.6017411 ]\n",
            " [ 0.12188996  0.0433551 ]\n",
            " [ 0.4931284   1.78155487]\n",
            " [-0.62058693 -0.04655179]\n",
            " [ 1.42122451  0.07332406]\n",
            " [-1.08463498  0.4329516 ]\n",
            " [ 1.51403412  1.03233083]\n",
            " [ 1.88527256  0.76261018]\n",
            " [ 0.30750918 -0.52605517]\n",
            " [-1.08463498 -1.63490675]\n",
            " [-0.24934849  0.28310679]\n",
            " [ 1.04998606 -1.24531025]\n",
            " [-0.80620615 -1.24531025]\n",
            " [-0.80620615 -0.25633452]\n",
            " [ 0.30750918 -0.31627244]\n",
            " [-0.89901576 -0.31627244]\n",
            " [-0.80620615 -0.67589998]\n",
            " [ 0.40031879  0.28310679]\n",
            " [ 0.12188996  1.93139968]\n",
            " [ 0.30750918 -1.18537233]\n",
            " [ 1.04998606  0.55282745]\n",
            " [ 0.30750918  0.07332406]\n",
            " [-0.43496771 -1.15540337]\n",
            " [-0.24934849  0.8225481 ]\n",
            " [-0.62058693  0.19319991]\n",
            " [ 0.86436684 -0.5859931 ]]\n"
          ],
          "name": "stdout"
        }
      ]
    },
    {
      "cell_type": "code",
      "metadata": {
        "colab": {
          "base_uri": "https://localhost:8080/"
        },
        "id": "SVBJJxr-h-DP",
        "outputId": "b1951d2d-1a8f-4fdc-d58d-18e041836db9"
      },
      "source": [
        "print(X_test)"
      ],
      "execution_count": 16,
      "outputs": [
        {
          "output_type": "stream",
          "text": [
            "[[ 0.77155723  0.13326198]\n",
            " [ 0.86436684 -1.33521714]\n",
            " [ 1.97808217 -1.21534129]\n",
            " [-1.64149265 -0.61596206]\n",
            " [-0.99182537  0.58279641]\n",
            " [ 0.21469957  0.25313783]\n",
            " [ 1.23560528 -1.39515506]\n",
            " [-1.36306382 -0.64593102]\n",
            " [ 0.58593801 -0.91565167]\n",
            " [-0.99182537 -1.57496883]\n",
            " [ 0.30750918 -0.28630348]\n",
            " [ 0.12188996 -0.82574479]\n",
            " [ 0.77155723  0.55282745]\n",
            " [-0.24934849 -0.49608621]\n",
            " [-1.08463498 -1.12543441]\n",
            " [-1.27025421 -1.51503091]\n",
            " [-0.71339654 -0.61596206]\n",
            " [-1.27025421  0.4329516 ]\n",
            " [-0.06372927  2.02130657]\n",
            " [ 0.21469957 -0.28630348]\n",
            " [-0.52777732  0.49288952]\n",
            " [-0.3421581  -1.33521714]\n",
            " [-0.80620615  0.31307575]\n",
            " [ 0.40031879 -0.13645867]\n",
            " [-0.43496771  1.30205149]\n",
            " [-0.62058693 -0.3462414 ]\n",
            " [ 0.40031879 -0.46611725]\n",
            " [ 1.32841489  2.41090307]\n",
            " [ 0.30750918  0.28310679]\n",
            " [ 0.77155723 -1.39515506]\n",
            " [ 0.58593801  2.08124449]\n",
            " [-0.89901576 -1.12543441]\n",
            " [ 0.40031879  1.03233083]\n",
            " [ 0.77155723  0.79257914]\n",
            " [-0.24934849  0.55282745]\n",
            " [ 0.30750918 -0.52605517]\n",
            " [-0.71339654  1.12223772]\n",
            " [ 0.02908034 -0.25633452]\n",
            " [-0.24934849  0.64273433]\n",
            " [-1.64149265  0.37301368]\n",
            " [ 1.04998606  2.14118241]\n",
            " [-0.99182537  2.02130657]\n",
            " [-0.24934849  2.32099618]\n",
            " [ 0.12188996 -0.82574479]\n",
            " [ 1.04998606 -1.24531025]\n",
            " [ 0.40031879  0.01338614]\n",
            " [-1.73430226 -1.30524818]\n",
            " [ 0.67874762  1.8414928 ]\n",
            " [-0.24934849  0.16323094]\n",
            " [-1.17744459  0.52285848]\n",
            " [-0.89901576 -0.43614829]\n",
            " [-0.80620615  0.16323094]\n",
            " [-0.15653888 -0.28630348]\n",
            " [-0.99182537  0.79257914]\n",
            " [ 0.86436684 -1.18537233]\n",
            " [ 0.30750918  0.52285848]\n",
            " [-1.27025421 -0.43614829]\n",
            " [ 0.86436684  1.06229979]\n",
            " [-0.62058693 -1.63490675]\n",
            " [ 0.21469957 -0.13645867]\n",
            " [-0.71339654 -1.57496883]\n",
            " [ 1.32841489 -0.94562064]\n",
            " [ 0.95717645  2.14118241]\n",
            " [-0.24934849  0.10329302]\n",
            " [-0.24934849 -0.31627244]\n",
            " [-0.06372927  0.28310679]\n",
            " [ 0.86436684 -0.79577583]\n",
            " [ 2.07089178 -0.82574479]\n",
            " [-0.62058693 -0.10648971]\n",
            " [ 1.60684373  1.66167903]\n",
            " [-1.54868304  0.07332406]\n",
            " [ 1.42122451 -1.06549648]\n",
            " [-0.71339654 -0.22636556]\n",
            " [-0.24934849 -1.39515506]\n",
            " [ 0.12188996  0.22316887]\n",
            " [-0.24934849 -0.5859931 ]\n",
            " [-1.08463498  0.31307575]\n",
            " [ 0.21469957 -0.37621037]\n",
            " [-0.52777732 -1.54499987]\n",
            " [-0.89901576  0.58279641]\n",
            " [ 1.42122451  2.20112034]\n",
            " [-0.24934849  0.07332406]\n",
            " [ 0.40031879  2.38093411]\n",
            " [ 0.67874762 -1.42512402]\n",
            " [ 0.86436684 -0.55602413]\n",
            " [ 0.40031879  0.31307575]\n",
            " [ 0.12188996  1.09226876]\n",
            " [ 0.02908034 -0.31627244]\n",
            " [ 0.30750918 -0.1963966 ]\n",
            " [-0.15653888 -0.5859931 ]\n",
            " [-0.52777732  1.42192733]\n",
            " [-1.27025421 -1.12543441]\n",
            " [-1.08463498  0.07332406]\n",
            " [ 0.86436684  2.2310893 ]\n",
            " [ 0.95717645 -1.09546544]\n",
            " [ 0.95717645  1.8414928 ]\n",
            " [-0.71339654  0.31307575]\n",
            " [ 1.97808217  0.19319991]\n",
            " [ 0.77155723 -0.85571375]\n",
            " [-0.99182537 -0.3462414 ]]\n"
          ],
          "name": "stdout"
        }
      ]
    },
    {
      "cell_type": "markdown",
      "metadata": {
        "id": "5eE5XYhwiB2n"
      },
      "source": [
        "**It's visible that all data is converted to standard values.**"
      ]
    },
    {
      "cell_type": "markdown",
      "metadata": {
        "id": "x-MQ4r-li5lq"
      },
      "source": [
        "# Building model"
      ]
    },
    {
      "cell_type": "code",
      "metadata": {
        "colab": {
          "base_uri": "https://localhost:8080/"
        },
        "id": "2P9IrAPJi98A",
        "outputId": "8462df33-7f1b-4ea2-baa4-de84db949997"
      },
      "source": [
        "from sklearn.tree import DecisionTreeClassifier\n",
        "classifier = DecisionTreeClassifier(criterion = 'entropy', random_state = 0)\n",
        "classifier.fit(X_train, y_train)"
      ],
      "execution_count": 17,
      "outputs": [
        {
          "output_type": "execute_result",
          "data": {
            "text/plain": [
              "DecisionTreeClassifier(ccp_alpha=0.0, class_weight=None, criterion='entropy',\n",
              "                       max_depth=None, max_features=None, max_leaf_nodes=None,\n",
              "                       min_impurity_decrease=0.0, min_impurity_split=None,\n",
              "                       min_samples_leaf=1, min_samples_split=2,\n",
              "                       min_weight_fraction_leaf=0.0, presort='deprecated',\n",
              "                       random_state=0, splitter='best')"
            ]
          },
          "metadata": {},
          "execution_count": 17
        }
      ]
    },
    {
      "cell_type": "code",
      "metadata": {
        "colab": {
          "base_uri": "https://localhost:8080/"
        },
        "id": "B--we8lejjaa",
        "outputId": "bbf8f4db-68e7-4ecc-b6c4-95ee638463e0"
      },
      "source": [
        "y_pred = classifier.predict(X_test)\n",
        "y_pred"
      ],
      "execution_count": 18,
      "outputs": [
        {
          "output_type": "execute_result",
          "data": {
            "text/plain": [
              "array([1, 1, 1, 0, 0, 1, 1, 0, 1, 0, 0, 0, 1, 0, 0, 0, 0, 0, 1, 0, 0, 0,\n",
              "       0, 0, 1, 0, 0, 1, 0, 1, 1, 0, 1, 1, 0, 0, 0, 0, 0, 0, 1, 1, 1, 0,\n",
              "       1, 1, 0, 1, 0, 0, 0, 0, 0, 0, 1, 0, 0, 1, 0, 0, 0, 1, 1, 0, 0, 0,\n",
              "       1, 1, 0, 1, 0, 1, 0, 0, 1, 0, 0, 0, 0, 0, 1, 0, 1, 1, 1, 1, 1, 0,\n",
              "       0, 0, 1, 0, 0, 1, 1, 1, 0, 0, 1, 0])"
            ]
          },
          "metadata": {},
          "execution_count": 18
        }
      ]
    },
    {
      "cell_type": "code",
      "metadata": {
        "colab": {
          "base_uri": "https://localhost:8080/"
        },
        "id": "i9bEGgC4kLRp",
        "outputId": "b8e15315-d089-40e4-8bfc-60022f374b89"
      },
      "source": [
        "y_test"
      ],
      "execution_count": 19,
      "outputs": [
        {
          "output_type": "execute_result",
          "data": {
            "text/plain": [
              "376    0\n",
              "16     1\n",
              "365    1\n",
              "82     0\n",
              "107    0\n",
              "      ..\n",
              "324    1\n",
              "80     0\n",
              "271    1\n",
              "395    1\n",
              "5      0\n",
              "Name: Purchased, Length: 100, dtype: int64"
            ]
          },
          "metadata": {},
          "execution_count": 19
        }
      ]
    },
    {
      "cell_type": "code",
      "metadata": {
        "colab": {
          "base_uri": "https://localhost:8080/"
        },
        "id": "WvpPLZfzkoZE",
        "outputId": "66583e32-0415-43d5-a99c-72697f94f7ff"
      },
      "source": [
        "round(np.mean(y_pred), 2)"
      ],
      "execution_count": 20,
      "outputs": [
        {
          "output_type": "execute_result",
          "data": {
            "text/plain": [
              "0.4"
            ]
          },
          "metadata": {},
          "execution_count": 20
        }
      ]
    },
    {
      "cell_type": "markdown",
      "metadata": {
        "id": "htr37gEXqTF3"
      },
      "source": [
        "# Model Evaluation:"
      ]
    },
    {
      "cell_type": "code",
      "metadata": {
        "colab": {
          "base_uri": "https://localhost:8080/"
        },
        "id": "cY5ot4ZKkvQF",
        "outputId": "f2ea400e-bf31-4a62-e1d2-399c61c23cf2"
      },
      "source": [
        "#Checking accuracy on Training set\n",
        "tree_acc = round(classifier.score(X_train, y_train)*100, 3)\n",
        "print(tree_acc,'%')"
      ],
      "execution_count": 34,
      "outputs": [
        {
          "output_type": "stream",
          "text": [
            "100.0 %\n"
          ],
          "name": "stdout"
        }
      ]
    },
    {
      "cell_type": "code",
      "metadata": {
        "colab": {
          "base_uri": "https://localhost:8080/"
        },
        "id": "kTs8AU00lF6M",
        "outputId": "8cece21f-8ec2-4c88-bc4a-e3fa55c7094f"
      },
      "source": [
        "#Checking accuracy of Decision Tree model\n",
        "y_pred=y_pred.reshape(-1,1)\n",
        "\n",
        "tree_acc = round(classifier.score(X_test, y_test)*100, 3)\n",
        "print(tree_acc,'%')"
      ],
      "execution_count": 43,
      "outputs": [
        {
          "output_type": "stream",
          "text": [
            "83.0 %\n"
          ],
          "name": "stdout"
        }
      ]
    },
    {
      "cell_type": "code",
      "metadata": {
        "colab": {
          "base_uri": "https://localhost:8080/"
        },
        "id": "uJ3zs8lmnK2j",
        "outputId": "c6cffcb2-7e84-4e97-f168-55bc99e95272"
      },
      "source": [
        "from sklearn.model_selection import cross_val_score\n",
        "cv_dt = cross_val_score(classifier, x_train, y_train, cv = 5, scoring = 'accuracy').mean()\n",
        "print('For Decision Trees Classifier :', round(cv_dt,3))"
      ],
      "execution_count": 29,
      "outputs": [
        {
          "output_type": "stream",
          "text": [
            "For Decision Trees Classifier : 0.87\n"
          ],
          "name": "stdout"
        }
      ]
    },
    {
      "cell_type": "markdown",
      "metadata": {
        "id": "l-IR-Vs7rBmJ"
      },
      "source": [
        "**We can see, our model is giving, 100% accuracy on training data, whereas on testing data its around 83% which is quite good.**"
      ]
    },
    {
      "cell_type": "markdown",
      "metadata": {
        "id": "7jLLocuVrhx_"
      },
      "source": [
        "# Checking results visually"
      ]
    },
    {
      "cell_type": "code",
      "metadata": {
        "colab": {
          "base_uri": "https://localhost:8080/",
          "height": 349
        },
        "id": "qVNvjoD5l7J4",
        "outputId": "1cec2853-d824-46d5-b3a9-2cda9f7bfa81"
      },
      "source": [
        "from matplotlib.colors import ListedColormap\n",
        "X_set, y_set = sc.inverse_transform(X_train), y_train\n",
        "X1, X2 = np.meshgrid(np.arange(start = X_set[:, 0].min() - 10, stop = X_set[:, 0].max() + 10, step = 0.25),\n",
        "                     np.arange(start = X_set[:, 1].min() - 1000, stop = X_set[:, 1].max() + 1000, step = 0.25))\n",
        "plt.contourf(X1, X2, classifier.predict(sc.transform(np.array([X1.ravel(), X2.ravel()]).T)).reshape(X1.shape),\n",
        "             alpha = 0.75, cmap = ListedColormap(('red', 'green')))\n",
        "plt.xlim(X1.min(), X1.max())\n",
        "plt.ylim(X2.min(), X2.max())\n",
        "for i, j in enumerate(np.unique(y_set)):\n",
        "    plt.scatter(X_set[y_set == j, 0], X_set[y_set == j, 1], c = ListedColormap(('red', 'green'))(i), label = j)\n",
        "plt.title('Decision Tree Classification (Training set)')\n",
        "plt.xlabel('Age')\n",
        "plt.ylabel('Estimated Salary')\n",
        "plt.legend()\n",
        "plt.show()"
      ],
      "execution_count": 30,
      "outputs": [
        {
          "output_type": "stream",
          "text": [
            "*c* argument looks like a single numeric RGB or RGBA sequence, which should be avoided as value-mapping will have precedence in case its length matches with *x* & *y*.  Please use the *color* keyword-argument or provide a 2-D array with a single row if you intend to specify the same RGB or RGBA value for all points.\n",
            "*c* argument looks like a single numeric RGB or RGBA sequence, which should be avoided as value-mapping will have precedence in case its length matches with *x* & *y*.  Please use the *color* keyword-argument or provide a 2-D array with a single row if you intend to specify the same RGB or RGBA value for all points.\n"
          ],
          "name": "stderr"
        },
        {
          "output_type": "display_data",
          "data": {
            "image/png": "[encoded data removed]",
            "text/plain": [
              "<Figure size 432x288 with 1 Axes>"
            ]
          },
          "metadata": {
            "needs_background": "light"
          }
        }
      ]
    },
    {
      "cell_type": "code",
      "metadata": {
        "colab": {
          "base_uri": "https://localhost:8080/",
          "height": 349
        },
        "id": "Qta5bH60mIEm",
        "outputId": "920fb26b-7834-4f45-fc2c-53036b6c2cf0"
      },
      "source": [
        "from matplotlib.colors import ListedColormap\n",
        "X_set, y_set = sc.inverse_transform(X_test), y_test\n",
        "X1, X2 = np.meshgrid(np.arange(start = X_set[:, 0].min() - 10, stop = X_set[:, 0].max() + 10, step = 0.25),\n",
        "                     np.arange(start = X_set[:, 1].min() - 1000, stop = X_set[:, 1].max() + 1000, step = 0.25))\n",
        "plt.contourf(X1, X2, classifier.predict(sc.transform(np.array([X1.ravel(), X2.ravel()]).T)).reshape(X1.shape),\n",
        "             alpha = 0.75, cmap = ListedColormap(('red', 'green')))\n",
        "plt.xlim(X1.min(), X1.max())\n",
        "plt.ylim(X2.min(), X2.max())\n",
        "for i, j in enumerate(np.unique(y_set)):\n",
        "    plt.scatter(X_set[y_set == j, 0], X_set[y_set == j, 1], c = ListedColormap(('red', 'green'))(i), label = j)\n",
        "plt.title('Decision Tree Classification (Test set)')\n",
        "plt.xlabel('Age')\n",
        "plt.ylabel('Estimated Salary')\n",
        "plt.legend()\n",
        "plt.show()"
      ],
      "execution_count": 31,
      "outputs": [
        {
          "output_type": "stream",
          "text": [
            "*c* argument looks like a single numeric RGB or RGBA sequence, which should be avoided as value-mapping will have precedence in case its length matches with *x* & *y*.  Please use the *color* keyword-argument or provide a 2-D array with a single row if you intend to specify the same RGB or RGBA value for all points.\n",
            "*c* argument looks like a single numeric RGB or RGBA sequence, which should be avoided as value-mapping will have precedence in case its length matches with *x* & *y*.  Please use the *color* keyword-argument or provide a 2-D array with a single row if you intend to specify the same RGB or RGBA value for all points.\n"
          ],
          "name": "stderr"
        },
        {
          "output_type": "display_data",
          "data": {
            "image/png": "[encoded data removed]",
            "text/plain": [
              "<Figure size 432x288 with 1 Axes>"
            ]
          },
          "metadata": {
            "needs_background": "light"
          }
        }
      ]
    },
    {
      "cell_type": "code",
      "metadata": {
        "id": "dJiPLsGE8aNX"
      },
      "source": [
        "df = pd.DataFrame(y_pred)\n",
        "df.to_csv(\"submission_values.csv\")\n"
      ],
      "execution_count": 71,
      "outputs": []
    }
  ]
}