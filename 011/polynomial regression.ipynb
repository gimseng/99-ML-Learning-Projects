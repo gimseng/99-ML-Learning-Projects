{
 "cells": [
  {
   "cell_type": "code",
   "execution_count": 89,
   "metadata": {},
   "outputs": [],
   "source": [
    "import pandas as pd\n",
    "import matplotlib.pyplot as plt\n",
    "\n",
    "from sklearn.linear_model import LinearRegression\n",
    "from sklearn.model_selection import train_test_split"
   ]
  },
  {
   "cell_type": "code",
   "execution_count": 90,
   "metadata": {},
   "outputs": [],
   "source": [
    "data = pd.read_csv('winequality-red.csv')\n",
    "MSE_data = pd.DataFrame({'Test_MSE':[], 'Train_MSE':[]})"
   ]
  },
  {
   "cell_type": "code",
   "execution_count": 91,
   "metadata": {},
   "outputs": [
    {
     "data": {
      "text/html": [
       "<div>\n",
       "<style scoped>\n",
       "    .dataframe tbody tr th:only-of-type {\n",
       "        vertical-align: middle;\n",
       "    }\n",
       "\n",
       "    .dataframe tbody tr th {\n",
       "        vertical-align: top;\n",
       "    }\n",
       "\n",
       "    .dataframe thead th {\n",
       "        text-align: right;\n",
       "    }\n",
       "</style>\n",
       "<table border=\"1\" class=\"dataframe\">\n",
       "  <thead>\n",
       "    <tr style=\"text-align: right;\">\n",
       "      <th></th>\n",
       "      <th>fixed acidity</th>\n",
       "      <th>volatile acidity</th>\n",
       "      <th>citric acid</th>\n",
       "      <th>residual sugar</th>\n",
       "      <th>chlorides</th>\n",
       "      <th>free sulfur dioxide</th>\n",
       "      <th>total sulfur dioxide</th>\n",
       "      <th>density</th>\n",
       "      <th>pH</th>\n",
       "      <th>sulphates</th>\n",
       "      <th>alcohol</th>\n",
       "      <th>quality</th>\n",
       "    </tr>\n",
       "  </thead>\n",
       "  <tbody>\n",
       "    <tr>\n",
       "      <th>0</th>\n",
       "      <td>7.4</td>\n",
       "      <td>0.70</td>\n",
       "      <td>0.00</td>\n",
       "      <td>1.9</td>\n",
       "      <td>0.076</td>\n",
       "      <td>11.0</td>\n",
       "      <td>34.0</td>\n",
       "      <td>0.9978</td>\n",
       "      <td>3.51</td>\n",
       "      <td>0.56</td>\n",
       "      <td>9.4</td>\n",
       "      <td>5</td>\n",
       "    </tr>\n",
       "    <tr>\n",
       "      <th>1</th>\n",
       "      <td>7.8</td>\n",
       "      <td>0.88</td>\n",
       "      <td>0.00</td>\n",
       "      <td>2.6</td>\n",
       "      <td>0.098</td>\n",
       "      <td>25.0</td>\n",
       "      <td>67.0</td>\n",
       "      <td>0.9968</td>\n",
       "      <td>3.20</td>\n",
       "      <td>0.68</td>\n",
       "      <td>9.8</td>\n",
       "      <td>5</td>\n",
       "    </tr>\n",
       "    <tr>\n",
       "      <th>2</th>\n",
       "      <td>7.8</td>\n",
       "      <td>0.76</td>\n",
       "      <td>0.04</td>\n",
       "      <td>2.3</td>\n",
       "      <td>0.092</td>\n",
       "      <td>15.0</td>\n",
       "      <td>54.0</td>\n",
       "      <td>0.9970</td>\n",
       "      <td>3.26</td>\n",
       "      <td>0.65</td>\n",
       "      <td>9.8</td>\n",
       "      <td>5</td>\n",
       "    </tr>\n",
       "    <tr>\n",
       "      <th>3</th>\n",
       "      <td>11.2</td>\n",
       "      <td>0.28</td>\n",
       "      <td>0.56</td>\n",
       "      <td>1.9</td>\n",
       "      <td>0.075</td>\n",
       "      <td>17.0</td>\n",
       "      <td>60.0</td>\n",
       "      <td>0.9980</td>\n",
       "      <td>3.16</td>\n",
       "      <td>0.58</td>\n",
       "      <td>9.8</td>\n",
       "      <td>6</td>\n",
       "    </tr>\n",
       "    <tr>\n",
       "      <th>4</th>\n",
       "      <td>7.4</td>\n",
       "      <td>0.70</td>\n",
       "      <td>0.00</td>\n",
       "      <td>1.9</td>\n",
       "      <td>0.076</td>\n",
       "      <td>11.0</td>\n",
       "      <td>34.0</td>\n",
       "      <td>0.9978</td>\n",
       "      <td>3.51</td>\n",
       "      <td>0.56</td>\n",
       "      <td>9.4</td>\n",
       "      <td>5</td>\n",
       "    </tr>\n",
       "  </tbody>\n",
       "</table>\n",
       "</div>"
      ],
      "text/plain": [
       "   fixed acidity  volatile acidity  citric acid  residual sugar  chlorides  \\\n",
       "0            7.4              0.70         0.00             1.9      0.076   \n",
       "1            7.8              0.88         0.00             2.6      0.098   \n",
       "2            7.8              0.76         0.04             2.3      0.092   \n",
       "3           11.2              0.28         0.56             1.9      0.075   \n",
       "4            7.4              0.70         0.00             1.9      0.076   \n",
       "\n",
       "   free sulfur dioxide  total sulfur dioxide  density    pH  sulphates  \\\n",
       "0                 11.0                  34.0   0.9978  3.51       0.56   \n",
       "1                 25.0                  67.0   0.9968  3.20       0.68   \n",
       "2                 15.0                  54.0   0.9970  3.26       0.65   \n",
       "3                 17.0                  60.0   0.9980  3.16       0.58   \n",
       "4                 11.0                  34.0   0.9978  3.51       0.56   \n",
       "\n",
       "   alcohol  quality  \n",
       "0      9.4        5  \n",
       "1      9.8        5  \n",
       "2      9.8        5  \n",
       "3      9.8        6  \n",
       "4      9.4        5  "
      ]
     },
     "execution_count": 91,
     "metadata": {},
     "output_type": "execute_result"
    }
   ],
   "source": [
    "data.head()"
   ]
  },
  {
   "cell_type": "code",
   "execution_count": 92,
   "metadata": {},
   "outputs": [],
   "source": [
    "X = data.iloc[:,:-1]\n",
    "y = data['quality']"
   ]
  },
  {
   "cell_type": "code",
   "execution_count": 93,
   "metadata": {},
   "outputs": [],
   "source": [
    "X_train, X_test, y_train, y_test = train_test_split(X, y, test_size=0.2, random_state=42)"
   ]
  },
  {
   "cell_type": "code",
   "execution_count": 94,
   "metadata": {},
   "outputs": [],
   "source": [
    "lin_reg = LinearRegression().fit(X_train, y_train)"
   ]
  },
  {
   "cell_type": "code",
   "execution_count": 95,
   "metadata": {},
   "outputs": [
    {
     "name": "stdout",
     "output_type": "stream",
     "text": [
      "Test Score: 0.40318034127962266\n",
      "Train Score: 0.347992619352986\n"
     ]
    }
   ],
   "source": [
    "print(\"Test Score:\", lin_reg.score(X_test, y_test))\n",
    "print(\"Train Score:\", lin_reg.score(X_train, y_train))"
   ]
  },
  {
   "cell_type": "markdown",
   "metadata": {},
   "source": [
    "## 2-degree polynomial"
   ]
  },
  {
   "cell_type": "code",
   "execution_count": 96,
   "metadata": {},
   "outputs": [],
   "source": [
    "X_2 = X.copy()\n",
    "\n",
    "X_2[X.columns + '_2'] = X**2"
   ]
  },
  {
   "cell_type": "code",
   "execution_count": 97,
   "metadata": {},
   "outputs": [
    {
     "data": {
      "text/html": [
       "<div>\n",
       "<style scoped>\n",
       "    .dataframe tbody tr th:only-of-type {\n",
       "        vertical-align: middle;\n",
       "    }\n",
       "\n",
       "    .dataframe tbody tr th {\n",
       "        vertical-align: top;\n",
       "    }\n",
       "\n",
       "    .dataframe thead th {\n",
       "        text-align: right;\n",
       "    }\n",
       "</style>\n",
       "<table border=\"1\" class=\"dataframe\">\n",
       "  <thead>\n",
       "    <tr style=\"text-align: right;\">\n",
       "      <th></th>\n",
       "      <th>fixed acidity</th>\n",
       "      <th>volatile acidity</th>\n",
       "      <th>citric acid</th>\n",
       "      <th>residual sugar</th>\n",
       "      <th>chlorides</th>\n",
       "      <th>free sulfur dioxide</th>\n",
       "      <th>total sulfur dioxide</th>\n",
       "      <th>density</th>\n",
       "      <th>pH</th>\n",
       "      <th>sulphates</th>\n",
       "      <th>...</th>\n",
       "      <th>volatile acidity_2</th>\n",
       "      <th>citric acid_2</th>\n",
       "      <th>residual sugar_2</th>\n",
       "      <th>chlorides_2</th>\n",
       "      <th>free sulfur dioxide_2</th>\n",
       "      <th>total sulfur dioxide_2</th>\n",
       "      <th>density_2</th>\n",
       "      <th>pH_2</th>\n",
       "      <th>sulphates_2</th>\n",
       "      <th>alcohol_2</th>\n",
       "    </tr>\n",
       "  </thead>\n",
       "  <tbody>\n",
       "    <tr>\n",
       "      <th>0</th>\n",
       "      <td>7.4</td>\n",
       "      <td>0.70</td>\n",
       "      <td>0.00</td>\n",
       "      <td>1.9</td>\n",
       "      <td>0.076</td>\n",
       "      <td>11.0</td>\n",
       "      <td>34.0</td>\n",
       "      <td>0.9978</td>\n",
       "      <td>3.51</td>\n",
       "      <td>0.56</td>\n",
       "      <td>...</td>\n",
       "      <td>0.4900</td>\n",
       "      <td>0.0000</td>\n",
       "      <td>3.61</td>\n",
       "      <td>0.005776</td>\n",
       "      <td>121.0</td>\n",
       "      <td>1156.0</td>\n",
       "      <td>0.995605</td>\n",
       "      <td>12.3201</td>\n",
       "      <td>0.3136</td>\n",
       "      <td>88.36</td>\n",
       "    </tr>\n",
       "    <tr>\n",
       "      <th>1</th>\n",
       "      <td>7.8</td>\n",
       "      <td>0.88</td>\n",
       "      <td>0.00</td>\n",
       "      <td>2.6</td>\n",
       "      <td>0.098</td>\n",
       "      <td>25.0</td>\n",
       "      <td>67.0</td>\n",
       "      <td>0.9968</td>\n",
       "      <td>3.20</td>\n",
       "      <td>0.68</td>\n",
       "      <td>...</td>\n",
       "      <td>0.7744</td>\n",
       "      <td>0.0000</td>\n",
       "      <td>6.76</td>\n",
       "      <td>0.009604</td>\n",
       "      <td>625.0</td>\n",
       "      <td>4489.0</td>\n",
       "      <td>0.993610</td>\n",
       "      <td>10.2400</td>\n",
       "      <td>0.4624</td>\n",
       "      <td>96.04</td>\n",
       "    </tr>\n",
       "    <tr>\n",
       "      <th>2</th>\n",
       "      <td>7.8</td>\n",
       "      <td>0.76</td>\n",
       "      <td>0.04</td>\n",
       "      <td>2.3</td>\n",
       "      <td>0.092</td>\n",
       "      <td>15.0</td>\n",
       "      <td>54.0</td>\n",
       "      <td>0.9970</td>\n",
       "      <td>3.26</td>\n",
       "      <td>0.65</td>\n",
       "      <td>...</td>\n",
       "      <td>0.5776</td>\n",
       "      <td>0.0016</td>\n",
       "      <td>5.29</td>\n",
       "      <td>0.008464</td>\n",
       "      <td>225.0</td>\n",
       "      <td>2916.0</td>\n",
       "      <td>0.994009</td>\n",
       "      <td>10.6276</td>\n",
       "      <td>0.4225</td>\n",
       "      <td>96.04</td>\n",
       "    </tr>\n",
       "    <tr>\n",
       "      <th>3</th>\n",
       "      <td>11.2</td>\n",
       "      <td>0.28</td>\n",
       "      <td>0.56</td>\n",
       "      <td>1.9</td>\n",
       "      <td>0.075</td>\n",
       "      <td>17.0</td>\n",
       "      <td>60.0</td>\n",
       "      <td>0.9980</td>\n",
       "      <td>3.16</td>\n",
       "      <td>0.58</td>\n",
       "      <td>...</td>\n",
       "      <td>0.0784</td>\n",
       "      <td>0.3136</td>\n",
       "      <td>3.61</td>\n",
       "      <td>0.005625</td>\n",
       "      <td>289.0</td>\n",
       "      <td>3600.0</td>\n",
       "      <td>0.996004</td>\n",
       "      <td>9.9856</td>\n",
       "      <td>0.3364</td>\n",
       "      <td>96.04</td>\n",
       "    </tr>\n",
       "    <tr>\n",
       "      <th>4</th>\n",
       "      <td>7.4</td>\n",
       "      <td>0.70</td>\n",
       "      <td>0.00</td>\n",
       "      <td>1.9</td>\n",
       "      <td>0.076</td>\n",
       "      <td>11.0</td>\n",
       "      <td>34.0</td>\n",
       "      <td>0.9978</td>\n",
       "      <td>3.51</td>\n",
       "      <td>0.56</td>\n",
       "      <td>...</td>\n",
       "      <td>0.4900</td>\n",
       "      <td>0.0000</td>\n",
       "      <td>3.61</td>\n",
       "      <td>0.005776</td>\n",
       "      <td>121.0</td>\n",
       "      <td>1156.0</td>\n",
       "      <td>0.995605</td>\n",
       "      <td>12.3201</td>\n",
       "      <td>0.3136</td>\n",
       "      <td>88.36</td>\n",
       "    </tr>\n",
       "  </tbody>\n",
       "</table>\n",
       "<p>5 rows × 22 columns</p>\n",
       "</div>"
      ],
      "text/plain": [
       "   fixed acidity  volatile acidity  citric acid  residual sugar  chlorides  \\\n",
       "0            7.4              0.70         0.00             1.9      0.076   \n",
       "1            7.8              0.88         0.00             2.6      0.098   \n",
       "2            7.8              0.76         0.04             2.3      0.092   \n",
       "3           11.2              0.28         0.56             1.9      0.075   \n",
       "4            7.4              0.70         0.00             1.9      0.076   \n",
       "\n",
       "   free sulfur dioxide  total sulfur dioxide  density    pH  sulphates  ...  \\\n",
       "0                 11.0                  34.0   0.9978  3.51       0.56  ...   \n",
       "1                 25.0                  67.0   0.9968  3.20       0.68  ...   \n",
       "2                 15.0                  54.0   0.9970  3.26       0.65  ...   \n",
       "3                 17.0                  60.0   0.9980  3.16       0.58  ...   \n",
       "4                 11.0                  34.0   0.9978  3.51       0.56  ...   \n",
       "\n",
       "   volatile acidity_2  citric acid_2  residual sugar_2  chlorides_2  \\\n",
       "0              0.4900         0.0000              3.61     0.005776   \n",
       "1              0.7744         0.0000              6.76     0.009604   \n",
       "2              0.5776         0.0016              5.29     0.008464   \n",
       "3              0.0784         0.3136              3.61     0.005625   \n",
       "4              0.4900         0.0000              3.61     0.005776   \n",
       "\n",
       "   free sulfur dioxide_2  total sulfur dioxide_2  density_2     pH_2  \\\n",
       "0                  121.0                  1156.0   0.995605  12.3201   \n",
       "1                  625.0                  4489.0   0.993610  10.2400   \n",
       "2                  225.0                  2916.0   0.994009  10.6276   \n",
       "3                  289.0                  3600.0   0.996004   9.9856   \n",
       "4                  121.0                  1156.0   0.995605  12.3201   \n",
       "\n",
       "   sulphates_2  alcohol_2  \n",
       "0       0.3136      88.36  \n",
       "1       0.4624      96.04  \n",
       "2       0.4225      96.04  \n",
       "3       0.3364      96.04  \n",
       "4       0.3136      88.36  \n",
       "\n",
       "[5 rows x 22 columns]"
      ]
     },
     "execution_count": 97,
     "metadata": {},
     "output_type": "execute_result"
    }
   ],
   "source": [
    "X_2.head()"
   ]
  },
  {
   "cell_type": "code",
   "execution_count": 98,
   "metadata": {},
   "outputs": [],
   "source": [
    "X_train, X_test, y_train, y_test = train_test_split(X_2, y, test_size=0.2, random_state=42)"
   ]
  },
  {
   "cell_type": "code",
   "execution_count": 99,
   "metadata": {},
   "outputs": [],
   "source": [
    "poly_2 = LinearRegression().fit(X_train, y_train)"
   ]
  },
  {
   "cell_type": "code",
   "execution_count": 100,
   "metadata": {},
   "outputs": [
    {
     "name": "stdout",
     "output_type": "stream",
     "text": [
      "Test Score: 0.4175903681315146\n",
      "Train Score: 0.3763887043535318\n"
     ]
    }
   ],
   "source": [
    "print(\"Test Score:\", poly_2.score(X_test, y_test))\n",
    "print(\"Train Score:\", poly_2.score(X_train, y_train))"
   ]
  },
  {
   "cell_type": "markdown",
   "metadata": {},
   "source": [
    "## 3-degree polynomial"
   ]
  },
  {
   "cell_type": "code",
   "execution_count": 101,
   "metadata": {},
   "outputs": [],
   "source": [
    "X_3 = X_2.copy()\n",
    "\n",
    "X_3[X.columns + '_3'] = X**3"
   ]
  },
  {
   "cell_type": "code",
   "execution_count": 102,
   "metadata": {},
   "outputs": [
    {
     "data": {
      "text/html": [
       "<div>\n",
       "<style scoped>\n",
       "    .dataframe tbody tr th:only-of-type {\n",
       "        vertical-align: middle;\n",
       "    }\n",
       "\n",
       "    .dataframe tbody tr th {\n",
       "        vertical-align: top;\n",
       "    }\n",
       "\n",
       "    .dataframe thead th {\n",
       "        text-align: right;\n",
       "    }\n",
       "</style>\n",
       "<table border=\"1\" class=\"dataframe\">\n",
       "  <thead>\n",
       "    <tr style=\"text-align: right;\">\n",
       "      <th></th>\n",
       "      <th>fixed acidity</th>\n",
       "      <th>volatile acidity</th>\n",
       "      <th>citric acid</th>\n",
       "      <th>residual sugar</th>\n",
       "      <th>chlorides</th>\n",
       "      <th>free sulfur dioxide</th>\n",
       "      <th>total sulfur dioxide</th>\n",
       "      <th>density</th>\n",
       "      <th>pH</th>\n",
       "      <th>sulphates</th>\n",
       "      <th>...</th>\n",
       "      <th>volatile acidity_3</th>\n",
       "      <th>citric acid_3</th>\n",
       "      <th>residual sugar_3</th>\n",
       "      <th>chlorides_3</th>\n",
       "      <th>free sulfur dioxide_3</th>\n",
       "      <th>total sulfur dioxide_3</th>\n",
       "      <th>density_3</th>\n",
       "      <th>pH_3</th>\n",
       "      <th>sulphates_3</th>\n",
       "      <th>alcohol_3</th>\n",
       "    </tr>\n",
       "  </thead>\n",
       "  <tbody>\n",
       "    <tr>\n",
       "      <th>0</th>\n",
       "      <td>7.4</td>\n",
       "      <td>0.70</td>\n",
       "      <td>0.00</td>\n",
       "      <td>1.9</td>\n",
       "      <td>0.076</td>\n",
       "      <td>11.0</td>\n",
       "      <td>34.0</td>\n",
       "      <td>0.9978</td>\n",
       "      <td>3.51</td>\n",
       "      <td>0.56</td>\n",
       "      <td>...</td>\n",
       "      <td>0.343000</td>\n",
       "      <td>0.000000</td>\n",
       "      <td>6.859</td>\n",
       "      <td>0.000439</td>\n",
       "      <td>1331.0</td>\n",
       "      <td>39304.0</td>\n",
       "      <td>0.993415</td>\n",
       "      <td>43.243551</td>\n",
       "      <td>0.175616</td>\n",
       "      <td>830.584</td>\n",
       "    </tr>\n",
       "    <tr>\n",
       "      <th>1</th>\n",
       "      <td>7.8</td>\n",
       "      <td>0.88</td>\n",
       "      <td>0.00</td>\n",
       "      <td>2.6</td>\n",
       "      <td>0.098</td>\n",
       "      <td>25.0</td>\n",
       "      <td>67.0</td>\n",
       "      <td>0.9968</td>\n",
       "      <td>3.20</td>\n",
       "      <td>0.68</td>\n",
       "      <td>...</td>\n",
       "      <td>0.681472</td>\n",
       "      <td>0.000000</td>\n",
       "      <td>17.576</td>\n",
       "      <td>0.000941</td>\n",
       "      <td>15625.0</td>\n",
       "      <td>300763.0</td>\n",
       "      <td>0.990431</td>\n",
       "      <td>32.768000</td>\n",
       "      <td>0.314432</td>\n",
       "      <td>941.192</td>\n",
       "    </tr>\n",
       "    <tr>\n",
       "      <th>2</th>\n",
       "      <td>7.8</td>\n",
       "      <td>0.76</td>\n",
       "      <td>0.04</td>\n",
       "      <td>2.3</td>\n",
       "      <td>0.092</td>\n",
       "      <td>15.0</td>\n",
       "      <td>54.0</td>\n",
       "      <td>0.9970</td>\n",
       "      <td>3.26</td>\n",
       "      <td>0.65</td>\n",
       "      <td>...</td>\n",
       "      <td>0.438976</td>\n",
       "      <td>0.000064</td>\n",
       "      <td>12.167</td>\n",
       "      <td>0.000779</td>\n",
       "      <td>3375.0</td>\n",
       "      <td>157464.0</td>\n",
       "      <td>0.991027</td>\n",
       "      <td>34.645976</td>\n",
       "      <td>0.274625</td>\n",
       "      <td>941.192</td>\n",
       "    </tr>\n",
       "    <tr>\n",
       "      <th>3</th>\n",
       "      <td>11.2</td>\n",
       "      <td>0.28</td>\n",
       "      <td>0.56</td>\n",
       "      <td>1.9</td>\n",
       "      <td>0.075</td>\n",
       "      <td>17.0</td>\n",
       "      <td>60.0</td>\n",
       "      <td>0.9980</td>\n",
       "      <td>3.16</td>\n",
       "      <td>0.58</td>\n",
       "      <td>...</td>\n",
       "      <td>0.021952</td>\n",
       "      <td>0.175616</td>\n",
       "      <td>6.859</td>\n",
       "      <td>0.000422</td>\n",
       "      <td>4913.0</td>\n",
       "      <td>216000.0</td>\n",
       "      <td>0.994012</td>\n",
       "      <td>31.554496</td>\n",
       "      <td>0.195112</td>\n",
       "      <td>941.192</td>\n",
       "    </tr>\n",
       "    <tr>\n",
       "      <th>4</th>\n",
       "      <td>7.4</td>\n",
       "      <td>0.70</td>\n",
       "      <td>0.00</td>\n",
       "      <td>1.9</td>\n",
       "      <td>0.076</td>\n",
       "      <td>11.0</td>\n",
       "      <td>34.0</td>\n",
       "      <td>0.9978</td>\n",
       "      <td>3.51</td>\n",
       "      <td>0.56</td>\n",
       "      <td>...</td>\n",
       "      <td>0.343000</td>\n",
       "      <td>0.000000</td>\n",
       "      <td>6.859</td>\n",
       "      <td>0.000439</td>\n",
       "      <td>1331.0</td>\n",
       "      <td>39304.0</td>\n",
       "      <td>0.993415</td>\n",
       "      <td>43.243551</td>\n",
       "      <td>0.175616</td>\n",
       "      <td>830.584</td>\n",
       "    </tr>\n",
       "  </tbody>\n",
       "</table>\n",
       "<p>5 rows × 33 columns</p>\n",
       "</div>"
      ],
      "text/plain": [
       "   fixed acidity  volatile acidity  citric acid  residual sugar  chlorides  \\\n",
       "0            7.4              0.70         0.00             1.9      0.076   \n",
       "1            7.8              0.88         0.00             2.6      0.098   \n",
       "2            7.8              0.76         0.04             2.3      0.092   \n",
       "3           11.2              0.28         0.56             1.9      0.075   \n",
       "4            7.4              0.70         0.00             1.9      0.076   \n",
       "\n",
       "   free sulfur dioxide  total sulfur dioxide  density    pH  sulphates  ...  \\\n",
       "0                 11.0                  34.0   0.9978  3.51       0.56  ...   \n",
       "1                 25.0                  67.0   0.9968  3.20       0.68  ...   \n",
       "2                 15.0                  54.0   0.9970  3.26       0.65  ...   \n",
       "3                 17.0                  60.0   0.9980  3.16       0.58  ...   \n",
       "4                 11.0                  34.0   0.9978  3.51       0.56  ...   \n",
       "\n",
       "   volatile acidity_3  citric acid_3  residual sugar_3  chlorides_3  \\\n",
       "0            0.343000       0.000000             6.859     0.000439   \n",
       "1            0.681472       0.000000            17.576     0.000941   \n",
       "2            0.438976       0.000064            12.167     0.000779   \n",
       "3            0.021952       0.175616             6.859     0.000422   \n",
       "4            0.343000       0.000000             6.859     0.000439   \n",
       "\n",
       "   free sulfur dioxide_3  total sulfur dioxide_3  density_3       pH_3  \\\n",
       "0                 1331.0                 39304.0   0.993415  43.243551   \n",
       "1                15625.0                300763.0   0.990431  32.768000   \n",
       "2                 3375.0                157464.0   0.991027  34.645976   \n",
       "3                 4913.0                216000.0   0.994012  31.554496   \n",
       "4                 1331.0                 39304.0   0.993415  43.243551   \n",
       "\n",
       "   sulphates_3  alcohol_3  \n",
       "0     0.175616    830.584  \n",
       "1     0.314432    941.192  \n",
       "2     0.274625    941.192  \n",
       "3     0.195112    941.192  \n",
       "4     0.175616    830.584  \n",
       "\n",
       "[5 rows x 33 columns]"
      ]
     },
     "execution_count": 102,
     "metadata": {},
     "output_type": "execute_result"
    }
   ],
   "source": [
    "X_3.head()"
   ]
  },
  {
   "cell_type": "code",
   "execution_count": 103,
   "metadata": {},
   "outputs": [],
   "source": [
    "X_train, X_test, y_train, y_test = train_test_split(X_3, y, test_size=0.2, random_state=42)"
   ]
  },
  {
   "cell_type": "code",
   "execution_count": 104,
   "metadata": {},
   "outputs": [],
   "source": [
    "poly_3 = LinearRegression().fit(X_train, y_train)"
   ]
  },
  {
   "cell_type": "code",
   "execution_count": 105,
   "metadata": {},
   "outputs": [
    {
     "name": "stdout",
     "output_type": "stream",
     "text": [
      "Test Score: 0.43096154576735046\n",
      "Train Score: 0.3949504674976797\n"
     ]
    }
   ],
   "source": [
    "print(\"Test Score:\", poly_3.score(X_test, y_test))\n",
    "print(\"Train Score:\", poly_3.score(X_train, y_train))"
   ]
  },
  {
   "cell_type": "markdown",
   "metadata": {},
   "source": [
    "## 4-degree polynomial"
   ]
  },
  {
   "cell_type": "code",
   "execution_count": 106,
   "metadata": {},
   "outputs": [],
   "source": [
    "X_4 = X_3.copy()\n",
    "\n",
    "X_4[X.columns + '_4'] = X**4"
   ]
  },
  {
   "cell_type": "code",
   "execution_count": 107,
   "metadata": {},
   "outputs": [],
   "source": [
    "X_train, X_test, y_train, y_test = train_test_split(X_4, y, test_size=0.2, random_state=42)"
   ]
  },
  {
   "cell_type": "code",
   "execution_count": 108,
   "metadata": {},
   "outputs": [],
   "source": [
    "poly_4 = LinearRegression().fit(X_train, y_train)"
   ]
  },
  {
   "cell_type": "code",
   "execution_count": 109,
   "metadata": {},
   "outputs": [
    {
     "name": "stdout",
     "output_type": "stream",
     "text": [
      "Test Score: 0.39076818893469145\n",
      "Train Score: 0.4048879875469389\n"
     ]
    }
   ],
   "source": [
    "print(\"Test Score:\", poly_4.score(X_test, y_test))\n",
    "print(\"Train Score:\", poly_4.score(X_train, y_train))"
   ]
  },
  {
   "cell_type": "markdown",
   "metadata": {},
   "source": [
    "## 5-degree polynomial"
   ]
  },
  {
   "cell_type": "code",
   "execution_count": 110,
   "metadata": {},
   "outputs": [],
   "source": [
    "X_5 = X_4.copy()\n",
    "\n",
    "X_5[X.columns + '_5'] = X**5"
   ]
  },
  {
   "cell_type": "code",
   "execution_count": 111,
   "metadata": {},
   "outputs": [],
   "source": [
    "X_train, X_test, y_train, y_test = train_test_split(X_5, y, test_size=0.2, random_state=42)"
   ]
  },
  {
   "cell_type": "code",
   "execution_count": 112,
   "metadata": {},
   "outputs": [],
   "source": [
    "poly_5 = LinearRegression().fit(X_train, y_train)"
   ]
  },
  {
   "cell_type": "code",
   "execution_count": 113,
   "metadata": {},
   "outputs": [
    {
     "name": "stdout",
     "output_type": "stream",
     "text": [
      "Test Score: 0.35250440319645027\n",
      "Train Score: 0.40762837434729515\n"
     ]
    }
   ],
   "source": [
    "print(\"Test Score:\", poly_5.score(X_test, y_test))\n",
    "print(\"Train Score:\", poly_5.score(X_train, y_train))"
   ]
  },
  {
   "cell_type": "markdown",
   "metadata": {},
   "source": [
    "## 6-degree polynimial"
   ]
  },
  {
   "cell_type": "code",
   "execution_count": 114,
   "metadata": {},
   "outputs": [],
   "source": [
    "X_6 = X_5.copy()\n",
    "\n",
    "X_6[X.columns + '_6'] = X**6"
   ]
  },
  {
   "cell_type": "code",
   "execution_count": 115,
   "metadata": {},
   "outputs": [],
   "source": [
    "X_train, X_test, y_train, y_test = train_test_split(X_6, y, test_size=0.2, random_state=42)"
   ]
  },
  {
   "cell_type": "code",
   "execution_count": 116,
   "metadata": {},
   "outputs": [],
   "source": [
    "poly_6 = LinearRegression().fit(X_train, y_train)"
   ]
  },
  {
   "cell_type": "code",
   "execution_count": 117,
   "metadata": {},
   "outputs": [
    {
     "name": "stdout",
     "output_type": "stream",
     "text": [
      "Test Score: -0.15389040738297233\n",
      "Train Score: 0.4086997031773927\n"
     ]
    }
   ],
   "source": [
    "print(\"Test Score:\", poly_6.score(X_test, y_test))\n",
    "print(\"Train Score:\", poly_6.score(X_train, y_train))"
   ]
  },
  {
   "cell_type": "markdown",
   "metadata": {},
   "source": [
    "As the degree of the polynomial increases, the score for the training data increases. For the testing data, the score increases at first, but eventually it decreases at the fourth degree polynonail. "
   ]
  },
  {
   "cell_type": "code",
   "execution_count": null,
   "metadata": {},
   "outputs": [],
   "source": []
  }
 ],
 "metadata": {
  "kernelspec": {
   "display_name": "Python 3",
   "language": "python",
   "name": "python3"
  },
  "language_info": {
   "codemirror_mode": {
    "name": "ipython",
    "version": 3
   },
   "file_extension": ".py",
   "mimetype": "text/x-python",
   "name": "python",
   "nbconvert_exporter": "python",
   "pygments_lexer": "ipython3",
   "version": "3.8.3"
  }
 },
 "nbformat": 4,
 "nbformat_minor": 4
}
