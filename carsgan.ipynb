{
  "nbformat": 4,
  "nbformat_minor": 0,
  "metadata": {
    "colab": {
      "name": "carsgan.ipynb",
      "provenance": [],
      "authorship_tag": "ABX9TyPxlj3+gvfyRFXUVId/E4HE",
      "include_colab_link": true
    },
    "kernelspec": {
      "name": "python3",
      "display_name": "Python 3"
    }
  },
  "cells": [
    {
      "cell_type": "markdown",
      "metadata": {
        "id": "view-in-github",
        "colab_type": "text"
      },
      "source": [
        "<a href=\"https://colab.research.google.com/github/sebaspv/99-ML-Learning-Projects/blob/master/carsgan.ipynb\" target=\"_parent\"><img src=\"https://colab.research.google.com/assets/colab-badge.svg\" alt=\"Open In Colab\"/></a>"
      ]
    },
    {
      "cell_type": "code",
      "metadata": {
        "id": "Bzr_Uc5fnoLj"
      },
      "source": [
        "from tensorflow.keras.datasets import cifar10"
      ],
      "execution_count": 1,
      "outputs": []
    },
    {
      "cell_type": "code",
      "metadata": {
        "id": "8wAqTB_voKSa"
      },
      "source": [
        "import matplotlib.pyplot as plt\n",
        "import numpy as np"
      ],
      "execution_count": 2,
      "outputs": []
    },
    {
      "cell_type": "code",
      "metadata": {
        "id": "VqKaVtVooU_v",
        "outputId": "783b043b-8b16-41bc-f9e6-edabf2d91dc1",
        "colab": {
          "base_uri": "https://localhost:8080/"
        }
      },
      "source": [
        "(X_train,y_train),(X_test,y_test) = cifar10.load_data()\n",
        "#Importaremos el set cifar10 para crear nuevas imágenes en base a ejemplos del mismo"
      ],
      "execution_count": 3,
      "outputs": [
        {
          "output_type": "stream",
          "text": [
            "Downloading data from https://www.cs.toronto.edu/~kriz/cifar-10-python.tar.gz\n",
            "170500096/170498071 [==============================] - 11s 0us/step\n"
          ],
          "name": "stdout"
        }
      ]
    },
    {
      "cell_type": "code",
      "metadata": {
        "id": "8obotSD4oeIO"
      },
      "source": [
        "#crearemos el discriminador para nuestra GAN\n",
        "from tensorflow.keras.models import Sequential\n",
        "from tensorflow.keras.layers import Dense,Conv2D,Flatten,Dropout\n",
        "def discriminator(input_size = (32,32,3)):\n",
        "  model = Sequential()\n",
        "  model.add(Conv2D(64,(4,4),padding='same',input_shape=input_size,activation='relu'))\n",
        "  model.add(Conv2D(128,(4,4),padding='same',strides=(2,2),activation='relu'))\n",
        "  model.add(Conv2D(128,(4,4),padding='same',strides=(2,2),activation='relu'))\n",
        "  model.add(Conv2D(128,(4,4),padding='same',strides=(2,2),activation='relu'))\n",
        "  model.add(Conv2D(256,(4,4),padding='same',strides=(2,2),activation='relu'))\n",
        "  #clasificador del discriminador\n",
        "  model.add(Flatten()) #Aplanamos los datos de 2 dimensiones\n",
        "  model.add(Dropout(0.5))\n",
        "  model.add(Dense(1,activation='sigmoid'))\n",
        "  model.compile(loss='binary_crossentropy',optimizer='adam',metrics=['accuracy'])\n",
        "  return model"
      ],
      "execution_count": 4,
      "outputs": []
    },
    {
      "cell_type": "code",
      "metadata": {
        "id": "3Rz-H2N5_qDy"
      },
      "source": [
        ""
      ],
      "execution_count": null,
      "outputs": []
    }
  ]
}