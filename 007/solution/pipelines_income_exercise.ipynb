{
 "cells": [
  {
   "cell_type": "markdown",
   "metadata": {},
   "source": [
    "<h1>Solution to exercise 2</h1>"
   ]
  },
  {
   "cell_type": "code",
   "execution_count": null,
   "metadata": {},
   "outputs": [],
   "source": [
    "# Importing necessary libraries\n",
    "from sklearn.pipeline import Pipeline\n",
    "from sklearn.tree import DecisionTreeClassifier\n",
    "from sklearn.metrics import accuracy_score\n",
    "from sklearn.metrics import f1_score\n",
    "from sklearn.model_selection import GridSearchCV\n",
    "from sklearn.preprocessing import OneHotEncoder\n",
    "from sklearn.compose import ColumnTransformer\n",
    "from sklearn.preprocessing import MinMaxScaler, StandardScaler\n",
    "from sklearn.impute import SimpleImputer\n",
    "import pandas as pd\n",
    "\n",
    "# Use 42 as Random_Variable to produce the same results\n",
    "RANDOM_VARIABLE = 42"
   ]
  },
  {
   "cell_type": "code",
   "execution_count": null,
   "metadata": {},
   "outputs": [],
   "source": [
    "# Loading train and test set\n",
    "income_train = pd.read_csv(\"income.csv\")\n",
    "income_test = pd.read_csv(\"income_test.csv\")\n",
    "\n",
    "# Droping examples with outlier values\n",
    "# There are only 159 examples with capital-gain>90999, 44 examples with capital-loss>2500, 146 with hours-per-week>85\n",
    "# and 142 with fnlwgt>6*10^5 out of 32561 examples in the train dataset.\n",
    "indexNames = income_train[\n",
    "    (income_train['capital-gain'] > 90999) |\n",
    "    (income_train['capital-loss'] > 2500) |\n",
    "    (income_train['hours-per-week'] > 85) |\n",
    "    (income_train['fnlwgt'] > 6e+5)\n",
    "    ].index\n",
    "income_train.drop(indexNames , inplace=True, axis=0)\n",
    "\n",
    "# Separate the income attribute to y_train and y_test.\n",
    "X_train = income_train.drop(\"income\", axis=1)\n",
    "y_train = income_train[\"income\"]\n",
    "\n",
    "X_test = income_test.drop(\"income\", axis=1)\n",
    "y_test = income_test[\"income\"]"
   ]
  },
  {
   "cell_type": "markdown",
   "metadata": {},
   "source": [
    "<i>In the following cell there is the whole data preprocess with Pipelines, SimpleImputer, StandardScaler, OneHotEncoder, ColumnTransformer so the data will be ready for a DecisionTreeClassifier. </i>"
   ]
  },
  {
   "cell_type": "code",
   "execution_count": null,
   "metadata": {},
   "outputs": [],
   "source": [
    "# Fill the missing numerical attributes with the median value and then scale them. \n",
    "numeric_transformer = Pipeline(steps=[\n",
    "    ('imputer', SimpleImputer(strategy='median')),\n",
    "    ('scaler', StandardScaler())\n",
    "])\n",
    "\n",
    "# Fill the missing categorical attributes with the string \"missing\". Finally, encode the categorical attributes with\n",
    "# OneHotEncoder, so DecisionTreeClassifier can run.\n",
    "categorical_transformer = Pipeline(steps=[\n",
    "    ('imputer', SimpleImputer(strategy='constant', fill_value='missing')),\n",
    "    ('onehot', OneHotEncoder(handle_unknown='ignore', sparse=False))\n",
    "])\n",
    "\n",
    "# Create a ColumnTransformer and assign the two previous transformers to numerical and categorical attributes respectively.\n",
    "preprocessor = ColumnTransformer(\n",
    "    transformers=[\n",
    "        ('num', numeric_transformer, list(X_train.select_dtypes(exclude=\"object\").columns)),\n",
    "        ('cat', categorical_transformer, list(X_train.select_dtypes(include=\"object\").columns)),\n",
    "    ])\n",
    "\n",
    "# Final pipeline for preprocessing the data and use a DecisionTreeClassifier\n",
    "pipe = Pipeline(steps=[\n",
    "    ('preprocessor', preprocessor),\n",
    "    ('decision_tree', DecisionTreeClassifier(random_state = RANDOM_VARIABLE))\n",
    "])"
   ]
  },
  {
   "cell_type": "markdown",
   "metadata": {},
   "source": [
    "<i>Finally, the use of gridsearch is helping us to find the best parameters for the classifier. We check some parameters of DecisionTreeClassifier such as max_depth, min_samples_split, min_samples leaf, then calculate the accuracy their combination has, with cross validation method. With grid_search.best_estimator_ we get the best estimator. Fit data, predict, calculate and predict the scores. "
   ]
  },
  {
   "cell_type": "code",
   "execution_count": null,
   "metadata": {},
   "outputs": [],
   "source": [
    "# We will examine the compination of the following parameters to grid_search in order to find the best_estimator.\n",
    "testing_parameters= [{\n",
    "    'decision_tree__max_depth': [4, 8],\n",
    "    'decision_tree__min_samples_split': [2,4,8],\n",
    "    'decision_tree__min_samples_leaf' : [4, 8, 16],\n",
    "}]\n",
    "\n",
    "grid_search = GridSearchCV(\n",
    "    pipe,\n",
    "    testing_parameters,\n",
    "    cv=3\n",
    ")\n",
    "\n",
    "# Fit the train data to grid_search, find the best_estimator_, fit train data to it, calculate the predictions\n",
    "grid_search.fit(X_train, y_train)\n",
    "best_esti = grid_search.best_estimator_\n",
    "best_esti.fit(X_train,y_train)\n",
    "predictions = best_esti.predict(X_test)\n",
    "\n",
    "#Calculate and print the f1_score and accuracy score that best_estimator achieves.\n",
    "fScore = f1_score(predictions,y_test,average='micro')\n",
    "accScore = accuracy_score(y_test, predictions)\n",
    "print('f1 score: ',fScore)\n",
    "print('accuracy score: ', accScore)"
   ]
  },
  {
   "cell_type": "code",
   "execution_count": null,
   "metadata": {},
   "outputs": [],
   "source": []
  }
 ],
 "metadata": {
  "kernelspec": {
   "display_name": "Python 3",
   "language": "python",
   "name": "python3"
  },
  "language_info": {
   "codemirror_mode": {
    "name": "ipython",
    "version": 3
   },
   "file_extension": ".py",
   "mimetype": "text/x-python",
   "name": "python",
   "nbconvert_exporter": "python",
   "pygments_lexer": "ipython3",
   "version": "3.8.3"
  }
 },
 "nbformat": 4,
 "nbformat_minor": 4
}
